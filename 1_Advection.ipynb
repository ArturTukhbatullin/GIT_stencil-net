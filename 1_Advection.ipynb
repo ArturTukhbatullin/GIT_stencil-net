{
 "cells": [
  {
   "cell_type": "code",
   "execution_count": 1,
   "id": "751648e3-9340-4cf2-9438-8ec47f0a36e7",
   "metadata": {},
   "outputs": [],
   "source": [
    "import warnings\n",
    "warnings.filterwarnings('ignore')\n",
    "\n",
    "import matplotlib.pyplot as plt\n",
    "import numpy as np\n",
    "import pandas as pd\n",
    "import copy\n",
    "from tqdm import tqdm\n",
    "\n",
    "import my_funcs as mf"
   ]
  },
  {
   "cell_type": "markdown",
   "id": "c35579d0-1016-4703-9323-b129d01ca2e5",
   "metadata": {
    "jp-MarkdownHeadingCollapsed": true,
    "tags": []
   },
   "source": [
    "## Upwind vs Fact"
   ]
  },
  {
   "cell_type": "code",
   "execution_count": 2,
   "id": "2efd281d-e1a0-4cf0-9f18-387c0c648954",
   "metadata": {},
   "outputs": [],
   "source": [
    "# n=101\n",
    "# L=1\n",
    "# T=1\n",
    "# kurant=0.5\n",
    "\n",
    "# h=L/(n-1)\n",
    "# tau=kurant*h\n",
    "\n",
    "# b=(n-1)*0.1 #width % of L\n",
    "\n",
    "# l=[i/(n-1) for i in range(0,n)]\n",
    "# v=[1 if i in range(1,int(b)+1) else 0 for i in range(0,n) ]\n",
    "# print('Доля 1:',np.round(100*v.count(1)/len(v),3))\n",
    "\n",
    "# plt.plot(l,v,'-*')\n",
    "# plt.grid()"
   ]
  },
  {
   "cell_type": "code",
   "execution_count": 3,
   "id": "0dd7f43a-1878-4b5e-aabe-2ed435caaa5c",
   "metadata": {},
   "outputs": [],
   "source": [
    "# final_time=0.2\n",
    "# fact_v,_=mf.advection_upwind(v,final_time,1,h,n)\n",
    "# new_v_0_50,_=mf.advection_upwind(v,final_time,0.5,h,n)\n",
    "# new_v_0_75,_=mf.advection_upwind(v,final_time,0.75,h,n)\n",
    "# new_v_0_90,_=mf.advection_upwind(v,final_time,0.90,h,n)\n",
    "# new_v_0_25,_=mf.advection_upwind(v,final_time,0.25,h,n)\n",
    "# plt.figure(figsize=(10,8))\n",
    "# plt.plot(l,fact_v,'--',label='Точное решение : kurant = 1',color='black')\n",
    "# plt.plot(l,new_v_0_90,label=r'Upwind : kurant = 0.9',color='blue')\n",
    "# plt.plot(l,new_v_0_75,label=r'Upwind : kurant = 0.75',color='orange')\n",
    "# plt.plot(l,new_v_0_50,label=r'Upwind : kurant = 0.5',color='red')\n",
    "# plt.plot(l,new_v_0_25,label=r'Upwind : kurant = 0.25',color='cyan')\n",
    "# plt.legend()\n",
    "# plt.title(fr'mesh : {n}')\n",
    "\n",
    "# final_time=0.8\n",
    "# fact_v,_=mf.advection_upwind(v,final_time,1.0,h,n)\n",
    "# new_v_0_50,_=mf.advection_upwind(v,final_time,0.5,h,n)\n",
    "# new_v_0_75,_=mf.advection_upwind(v,final_time,0.75,h,n)\n",
    "# new_v_0_90,_=mf.advection_upwind(v,final_time,0.90,h,n)\n",
    "# new_v_0_25,_=mf.advection_upwind(v,final_time,0.25,h,n)\n",
    "# # plt.figure(figsize=(10,8))\n",
    "# plt.plot(l,fact_v,'--',label='Точное решение : kurant = 1',color='black')\n",
    "# plt.plot(l,new_v_0_90,label=r'Upwind : kurant = 0.9',color='blue')\n",
    "# plt.plot(l,new_v_0_75,label=r'Upwind : kurant = 0.75',color='orange')\n",
    "# plt.plot(l,new_v_0_50,label=r'Upwind : kurant = 0.5',color='red')\n",
    "# plt.plot(l,new_v_0_25,label=r'Upwind : kurant = 0.25',color='cyan')\n",
    "# plt.grid()"
   ]
  },
  {
   "cell_type": "code",
   "execution_count": null,
   "id": "86381c8a-82b1-4d46-b7ed-826defda926e",
   "metadata": {},
   "outputs": [],
   "source": []
  },
  {
   "cell_type": "markdown",
   "id": "d14adb3e-23e9-4465-bdf9-c65fc65b22db",
   "metadata": {},
   "source": [
    "## STENCIL-NET"
   ]
  },
  {
   "cell_type": "code",
   "execution_count": 4,
   "id": "97b009b2-b566-4611-81cc-cb8b18f92de8",
   "metadata": {},
   "outputs": [],
   "source": [
    "import torch\n",
    "import torch.nn as nn\n",
    "\n",
    "from torch.optim import Adam\n",
    "from torch.optim.lr_scheduler import ExponentialLR\n",
    "from stencilnet import MLPConv, forward_rk3_error, backward_rk3_error,backward_rk3_tvd_error,forward_rk3_tvd_error\n",
    "from stencilnet import forward_rk1_error,backward_rk1_error\n",
    "from utils import load_simulation_model"
   ]
  },
  {
   "cell_type": "markdown",
   "id": "f4d80473-1882-401c-9520-633314ec3098",
   "metadata": {
    "tags": []
   },
   "source": [
    "##### 0. Mesh Params"
   ]
  },
  {
   "cell_type": "code",
   "execution_count": 5,
   "id": "6affe7c1-76a6-418a-bd0f-8f1a494ed12d",
   "metadata": {},
   "outputs": [
    {
     "name": "stdout",
     "output_type": "stream",
     "text": [
      "Доля единиц: 9.901\n"
     ]
    }
   ],
   "source": [
    "generate_flg=True # True - генерация, False - чтение уже сгенерированных\n",
    "# generate_flg=False\n",
    "\n",
    "n=101 #число узлов\n",
    "L=1 # длина расчт области\n",
    "T=.8 #конечное время\n",
    "kurant=1\n",
    "\n",
    "h=L/(n-1)\n",
    "b=(n-1)*0.1*L #width % of L (длина участка с v=1, составляет 10% от расчт области)\n",
    "v=[1 if i in range(1,int(b)+1) else 0 for i in range(0,n) ]\n",
    "print('Доля единиц:',np.round(100*v.count(1)/len(v),3))"
   ]
  },
  {
   "cell_type": "code",
   "execution_count": null,
   "id": "14067358-a27f-42b9-a4f8-bf4a4efdf8fa",
   "metadata": {},
   "outputs": [],
   "source": []
  },
  {
   "cell_type": "markdown",
   "id": "6d9db8b2-64a6-4f46-953a-2162a24dc825",
   "metadata": {},
   "source": [
    "##### 1. Study params"
   ]
  },
  {
   "cell_type": "markdown",
   "id": "7f761111-ca45-47a5-a19e-eb7c3e1fc3d1",
   "metadata": {},
   "source": [
    "## NB! Для теста сделал fs=3, neurons=7"
   ]
  },
  {
   "cell_type": "code",
   "execution_count": 6,
   "id": "abd34e99-74f1-4592-903a-bf749131d523",
   "metadata": {},
   "outputs": [],
   "source": [
    "#------------------------MAIN PARAMS-----------------------------\n",
    "# size of filter to be applied\n",
    "fs = 7#7 #???\n",
    "# number of timesteps to be predicted during training \n",
    "m = 4 #4 #???\n",
    "# decaying weights\n",
    "decay_const = 0.9 #???\n",
    "# epoch_number\n",
    "epochs=4000\n",
    "#random_seed\n",
    "seed = 1 \n",
    "#coef для loss функции\n",
    "l_wd= 1e-7 \n",
    "# 'RK3' for runge-kutta solver and 'E1' for euler solver\n",
    "method='RK3' \n",
    "# method='E1'\n",
    "#neurons num in MLPConv\n",
    "neurons=64 #64\n",
    "#learning_rate\n",
    "lr=1e-2\n",
    "#device\n",
    "device = torch.device(\"cuda\" if torch.cuda.is_available() else \"cpu\")"
   ]
  },
  {
   "cell_type": "markdown",
   "id": "b83d9f7f-1a7a-4393-83bc-80110b9c5ff8",
   "metadata": {},
   "source": [
    "##### 2. Generate data"
   ]
  },
  {
   "cell_type": "code",
   "execution_count": 7,
   "id": "06cc004f-a459-4471-b104-a53b6b929450",
   "metadata": {},
   "outputs": [
    {
     "name": "stdout",
     "output_type": "stream",
     "text": [
      "Генерация данных\n"
     ]
    },
    {
     "name": "stderr",
     "output_type": "stream",
     "text": [
      "100%|█████████████████████████████████████████████████████████████████████████████████| 89/89 [00:00<00:00, 566.46it/s]"
     ]
    },
    {
     "name": "stdout",
     "output_type": "stream",
     "text": [
      "89 101\n",
      "101 89\n"
     ]
    },
    {
     "name": "stderr",
     "output_type": "stream",
     "text": [
      "\n"
     ]
    }
   ],
   "source": [
    "CUSTOM_TAU=0.009\n",
    "v_fact,x_lst,tau,time_lst=mf.generate_data(generate_flg,v,T,L,1,h,n,CUSTOM_TAU=CUSTOM_TAU,save_flg=False)"
   ]
  },
  {
   "cell_type": "code",
   "execution_count": 8,
   "id": "10f1d17f-2051-4522-97ca-0684f2948d55",
   "metadata": {},
   "outputs": [
    {
     "name": "stdout",
     "output_type": "stream",
     "text": [
      "h 0.01 0.0001\n",
      "tau 0.009\n"
     ]
    }
   ],
   "source": [
    "print('h',h,h**2)\n",
    "print('tau',tau)\n",
    "assert tau/h<1,'не выполнено ограничение на число Куранта'"
   ]
  },
  {
   "cell_type": "code",
   "execution_count": 9,
   "id": "e583b457-8ced-45b9-a2d3-b8689ea08638",
   "metadata": {},
   "outputs": [
    {
     "data": {
      "text/plain": [
       "Text(0.5, 1.0, 'Фактические данные')"
      ]
     },
     "execution_count": 9,
     "metadata": {},
     "output_type": "execute_result"
    },
    {
     "data": {
      "image/png": "[encoded data removed]",
      "text/plain": [
       "<Figure size 432x288 with 1 Axes>"
      ]
     },
     "metadata": {
      "needs_background": "light"
     },
     "output_type": "display_data"
    }
   ],
   "source": [
    "#view\n",
    "plt.plot(v_fact[:,0])\n",
    "plt.plot(v_fact[:,-1])\n",
    "plt.grid()\n",
    "plt.title('Фактические данные')"
   ]
  },
  {
   "cell_type": "code",
   "execution_count": null,
   "id": "3af14c22-3b62-45f7-a338-a1a73befdc43",
   "metadata": {},
   "outputs": [],
   "source": []
  },
  {
   "cell_type": "markdown",
   "id": "ad9f640f-9092-4c20-b7a3-22227b8be579",
   "metadata": {},
   "source": [
    "##### 3.Subsample Data"
   ]
  },
  {
   "cell_type": "code",
   "execution_count": 10,
   "id": "93567863-8642-4fed-9a0b-f8a34e360660",
   "metadata": {},
   "outputs": [
    {
     "name": "stdout",
     "output_type": "stream",
     "text": [
      "full_sample (26, 9)\n",
      "train (26, 6)\n",
      "test (26, 3)\n"
     ]
    }
   ],
   "source": [
    "t_factor = 10  # time subsample factor \n",
    "s_factor = 4   # space subsample factor\n",
    "Tsim=len(v_fact[0])\n",
    "dxc,dtc,coarse_t,coarse_x,v_coarse,Lxc,\\\n",
    "Ltc,v_coarse_train,v_coarse_test=mf.subsampling(s_factor,t_factor,h,tau,Tsim,n,v_fact,train_split=0.7)"
   ]
  },
  {
   "cell_type": "code",
   "execution_count": 11,
   "id": "83b5973b-c5f9-4d25-b374-fdecb9361ba5",
   "metadata": {},
   "outputs": [
    {
     "data": {
      "image/png": "[encoded data removed]",
      "text/plain": [
       "<Figure size 432x288 with 1 Axes>"
      ]
     },
     "metadata": {
      "needs_background": "light"
     },
     "output_type": "display_data"
    }
   ],
   "source": [
    "plt.figure()\n",
    "time=0 #first time\n",
    "plt.plot(x_lst[coarse_x],v_coarse[:,time],'*',color='red',label=str(s_factor) + 'x FACT')\n",
    "plt.plot(x_lst,v_fact[:,t_factor*time],'.',color='blue',label='FACT')\n",
    "time=v_coarse.shape[1]-1 #last time\n",
    "plt.plot(x_lst[coarse_x],v_coarse[:,time],'*',color='red',label=str(s_factor) + 'x FACT')\n",
    "plt.plot(x_lst,v_fact[:,t_factor*time],'.',color='blue',label='FACT')\n",
    "plt.legend()\n",
    "plt.title(\" Time slice at t=0 and t = \" + str(time))\n",
    "plt.show()"
   ]
  },
  {
   "cell_type": "code",
   "execution_count": null,
   "id": "676f0548-a97d-4aa6-9438-91fa532f237a",
   "metadata": {},
   "outputs": [],
   "source": []
  },
  {
   "cell_type": "markdown",
   "id": "0cea4115-47b0-400b-a48a-0c0a9b2f3f23",
   "metadata": {},
   "source": [
    "##### 4. Trainig model"
   ]
  },
  {
   "cell_type": "code",
   "execution_count": 12,
   "id": "c20d6878-aa79-45bc-b063-acda9d83bde3",
   "metadata": {},
   "outputs": [
    {
     "name": "stdout",
     "output_type": "stream",
     "text": [
      "input 7 output 64\n",
      "input 64 output 64\n",
      "input 64 output 64\n",
      "input 64 output 1\n",
      "#parameters: 8897\n"
     ]
    },
    {
     "name": "stderr",
     "output_type": "stream",
     "text": [
      "100%|████████████████████████████████████████████████████████████████████| 4000/4000 [07:04<00:00,  9.42it/s, loss=121]\n"
     ]
    }
   ],
   "source": [
    "v_train = torch.tensor(v_coarse_train.T, requires_grad=True, dtype=torch.float, device=device)\n",
    "\n",
    "np.random.seed(seed)\n",
    "torch.manual_seed(seed)\n",
    "\n",
    "torch.backends.cudnn.deterministic = True\n",
    "torch.backends.cudnn.benchmark = False\n",
    "\n",
    "\n",
    "# 64, 64,\n",
    "net       = MLPConv([fs,neurons,neurons, neurons, 1], seed=seed, fs=fs, \n",
    "                    activation=nn.ELU()).to(device)\n",
    "                    # activation=nn.Sigmoid()).to(device)\n",
    "                    # activation=nn.ReLU()).to(device)\n",
    "params    = [{'params': net.parameters(), 'lr': lr}]\n",
    "optimizer = Adam(params)\n",
    "scheduler = ExponentialLR(optimizer, .9998)\n",
    "\n",
    "print(\"#parameters:\", sum(p.numel() for p in net.parameters() if p.requires_grad))\n",
    "\n",
    "# decaying weights for accumulating prediction error\n",
    "output_weights = [decay_const**j for j in range(m+1)] \n",
    "wd = torch.tensor(output_weights, dtype=torch.float32, device=device)\n",
    "\n",
    "loss_lst=[]\n",
    "pbar = tqdm(range(epochs))\n",
    "for epoch in pbar:\n",
    "    optimizer.zero_grad()\n",
    "    \n",
    "    # compute forward and backward prediction errors\n",
    "    if method=='RK3':\n",
    "        fwd = forward_rk3_error(net, v_train, dtc, m, wd)\n",
    "        bwd = backward_rk3_error(net, v_train, dtc, m, wd)\n",
    "        # bwd=torch.zeros(1)[0]\n",
    "    elif method=='E1':\n",
    "        #my_add rk1\n",
    "        fwd = forward_rk1_error(net, v_train, dtc, m, wd)\n",
    "        bwd = backward_rk1_error(net, v_train, dtc, m, wd)\n",
    "        # bwd=torch.zeros(1)[0]\n",
    "    else:\n",
    "        raise 'method error'\n",
    "    \n",
    "    # compute norm of weights\n",
    "    res_w = 0\n",
    "    for i in range(len(net.layer)):\n",
    "        W = net.layer[i].weight\n",
    "        W = W.view(W.shape[0]*W.shape[1], -1)\n",
    "        res_w = res_w + (torch.norm(W, p=2, dim=0)**2)\n",
    "        \n",
    "    loss =  fwd + bwd + l_wd*res_w\n",
    "    loss_lst.append([fwd.cpu().data.numpy(),bwd.cpu().data.numpy(),\n",
    "                     l_wd*res_w.cpu().data.numpy()[0],loss.cpu().data.numpy()[0]])\n",
    "    \n",
    "    loss.backward()\n",
    "    optimizer.step()\n",
    "    \n",
    "    if epoch > 15_000:\n",
    "        scheduler.step()\n",
    "        \n",
    "    pbar.set_postfix(loss=round(loss.item(), 7))\n",
    "    "
   ]
  },
  {
   "cell_type": "code",
   "execution_count": 13,
   "id": "516bd065-87b3-478e-a875-e185d78a9a53",
   "metadata": {},
   "outputs": [],
   "source": [
    "# for j in net.layer:\n",
    "#     print(fr'-----{j}------')\n",
    "#     print(j.weight)"
   ]
  },
  {
   "cell_type": "code",
   "execution_count": 14,
   "id": "453fc0d7-28a4-46db-8e21-f58ec1bab579",
   "metadata": {},
   "outputs": [],
   "source": [
    "# W.view(W.shape[0]*W.shape[1], -1)"
   ]
  },
  {
   "cell_type": "code",
   "execution_count": 15,
   "id": "cd502c15-87df-4e7a-8824-db4d2bee5339",
   "metadata": {},
   "outputs": [],
   "source": [
    "# plt.plot(W.cpu().data.numpy()[:,0])"
   ]
  },
  {
   "cell_type": "code",
   "execution_count": 16,
   "id": "42a97b09-427b-4ba9-a5bf-ef2b8691be63",
   "metadata": {},
   "outputs": [
    {
     "data": {
      "image/png": "[encoded data removed]",
      "text/plain": [
       "<Figure size 432x288 with 1 Axes>"
      ]
     },
     "metadata": {
      "needs_background": "light"
     },
     "output_type": "display_data"
    },
    {
     "data": {
      "image/png": "[encoded data removed]",
      "text/plain": [
       "<Figure size 432x288 with 1 Axes>"
      ]
     },
     "metadata": {
      "needs_background": "light"
     },
     "output_type": "display_data"
    },
    {
     "data": {
      "image/png": "[encoded data removed]",
      "text/plain": [
       "<Figure size 432x288 with 1 Axes>"
      ]
     },
     "metadata": {
      "needs_background": "light"
     },
     "output_type": "display_data"
    },
    {
     "data": {
      "image/png": "[encoded data removed]",
      "text/plain": [
       "<Figure size 432x288 with 1 Axes>"
      ]
     },
     "metadata": {
      "needs_background": "light"
     },
     "output_type": "display_data"
    }
   ],
   "source": [
    "mf.plot_err_and_components_of_err(np.array(loss_lst))"
   ]
  },
  {
   "cell_type": "markdown",
   "id": "5d6a70e2-5e40-430f-a25d-e21653f7fa3e",
   "metadata": {},
   "source": [
    "##### 5. save_model"
   ]
  },
  {
   "cell_type": "code",
   "execution_count": 17,
   "id": "5c51d6d2-2d0f-4699-917b-72a2dd8f485b",
   "metadata": {},
   "outputs": [],
   "source": [
    "# torch.save(net, './models/model_advection_n=' +str(n)+'_'+ str(fs) + \"_\"+str(t_factor) +'L_' + str(neurons) + '_ep_' + str(epochs)  + '_' + \"elu\" + '_m' + str(m) + '_Lxc' +  str(s_factor) + \"_Ltc\" + str(t_factor) +  '_lwd' + str(l_wd) +fr'_WDact{method}_seed_'+ str(seed)  + '.pth')"
   ]
  },
  {
   "cell_type": "code",
   "execution_count": null,
   "id": "4ea6e964-4b37-4799-bfbb-6a1dc1dfdfe2",
   "metadata": {},
   "outputs": [],
   "source": []
  },
  {
   "cell_type": "markdown",
   "id": "44262bab-6258-4677-ad09-0e7d3c953b9a",
   "metadata": {},
   "source": [
    "##### 6. load_model"
   ]
  },
  {
   "cell_type": "code",
   "execution_count": 18,
   "id": "992180bd-96b0-4cc6-bb28-dbc729158155",
   "metadata": {},
   "outputs": [],
   "source": [
    "# neurons = 64\n",
    "# fs=7\n",
    "# epochs=100\n",
    "# m=4\n",
    "# l_wd=0#1e-3\n",
    "# seed=1\n",
    "#method='E1'\n",
    "\n",
    "# net = load_simulation_model(s_factor, t_factor, neurons, device)\n",
    "\n",
    "# net=torch.load('./models/model_advection_n=' +str(n)+'_' + str(fs) + \"_\"+str(t_factor) +'L_' + str(neurons) + '_ep_' + str(epochs)  + '_' + \"elu\" + '_m' + str(m) + '_Lxc' +  str(s_factor) + \"_Ltc\" + str(t_factor) +  '_lwd' + str(l_wd) +fr'_WDact{method}_seed_'+ str(seed)  + '.pth')"
   ]
  },
  {
   "cell_type": "code",
   "execution_count": null,
   "id": "37b0caa4-15a7-4ddd-a674-8c0fa800bffa",
   "metadata": {},
   "outputs": [],
   "source": []
  },
  {
   "cell_type": "markdown",
   "id": "8ad80bf4-c499-4b68-b115-5d54b291f759",
   "metadata": {},
   "source": [
    "##### 7. Simulation"
   ]
  },
  {
   "cell_type": "code",
   "execution_count": 19,
   "id": "30076c86-15bd-4e3f-833a-2963ad8bc877",
   "metadata": {},
   "outputs": [
    {
     "name": "stderr",
     "output_type": "stream",
     "text": [
      "100%|███████████████████████████████████████████████████████████████████████████████████| 8/8 [00:00<00:00, 211.58it/s]\n"
     ]
    }
   ],
   "source": [
    "# Lx_sim = int(n/s_factor)\n",
    "Lx_sim=v_coarse.shape[0]\n",
    "x_sim  = np.linspace(0,L,Lx_sim)\n",
    "dxs    = x_sim[1] - x_sim[0]\n",
    "dts    = dtc\n",
    "T_sim=v_coarse.shape[1]\n",
    "\n",
    "NN_sim   = np.zeros((Lx_sim,T_sim))\n",
    "phase_NN=np.zeros((Lx_sim,T_sim))\n",
    "\n",
    "# NN_sim[:,0] = np.exp(-(x_sim-3)**2)\n",
    "NN_sim[:,0]=v_coarse[:,0]\n",
    "\n",
    "zf   = 0\n",
    "time = 0\n",
    "for j in tqdm(range(0,T_sim-1)):\n",
    "    if method=='RK3':\n",
    "        tensor = NN_sim[:,j].reshape(1,Lxc)\n",
    "        torch_tensor = torch.tensor(tensor,dtype=torch.float,device=device)\n",
    "\n",
    "        phase_NN[:,j] = net(torch_tensor).cpu().data.numpy()\n",
    "        k1   =  dts*phase_NN[:,j] #+ dts*forcing\n",
    "        temp =  NN_sim[:,j] + 0.5*k1 \n",
    "\n",
    "        tensor = temp.reshape(1,Lxc)\n",
    "        torch_tensor = torch.tensor(tensor,dtype=torch.float,device=device)\n",
    "\n",
    "\n",
    "        k2   =  dts*net(torch_tensor).cpu().data.numpy() #+ dts*forcing\n",
    "        temp =  NN_sim[:,j] - k1 + 2.0*k2\n",
    "\n",
    "        tensor = temp.reshape(1,Lxc)\n",
    "        torch_tensor = torch.tensor(tensor,dtype=torch.float,device=device)\n",
    "\n",
    "        k3   =  dts*net(torch_tensor).cpu().data.numpy() #+ dts*forcing\n",
    "\n",
    "        NN_sim[:,j+1] = NN_sim[:,j] + (1./6.)*(k1 + 4.0*k2 + k3)\n",
    "\n",
    "        time = time + dts\n",
    "    \n",
    "    elif method=='E1':\n",
    "        tensor = NN_sim[:,j].reshape(1,Lxc)\n",
    "        torch_tensor = torch.tensor(tensor,dtype=torch.float,device=device)\n",
    "\n",
    "        NN_sim[:,j+1] = NN_sim[:,j]+dts*net(torch_tensor).cpu().data.numpy()\n",
    "\n",
    "        time = time + dts\n",
    "        \n",
    "    else:\n",
    "        raise 'method error'"
   ]
  },
  {
   "cell_type": "code",
   "execution_count": 20,
   "id": "c8f02729-941e-4d93-9e09-dbf49198cb32",
   "metadata": {},
   "outputs": [
    {
     "data": {
      "text/plain": [
       "ELU(alpha=1.0)"
      ]
     },
     "execution_count": 20,
     "metadata": {},
     "output_type": "execute_result"
    }
   ],
   "source": [
    "net.sig"
   ]
  },
  {
   "cell_type": "code",
   "execution_count": null,
   "id": "c073358a-f0b8-4e53-9940-11e75cd5d20c",
   "metadata": {},
   "outputs": [],
   "source": []
  },
  {
   "cell_type": "markdown",
   "id": "e566555b-94cf-481f-a431-804eb65878d9",
   "metadata": {},
   "source": [
    "##### 8. view_results"
   ]
  },
  {
   "cell_type": "code",
   "execution_count": 21,
   "id": "0a719466-7073-4a54-8358-39a0b7ff5a65",
   "metadata": {},
   "outputs": [
    {
     "data": {
      "image/png": "[encoded data removed]",
      "text/plain": [
       "<Figure size 432x288 with 1 Axes>"
      ]
     },
     "metadata": {
      "needs_background": "light"
     },
     "output_type": "display_data"
    }
   ],
   "source": [
    "mf.view_train_test_graph(x_sim,v_coarse_train,v_coarse_test)"
   ]
  },
  {
   "cell_type": "code",
   "execution_count": 22,
   "id": "e780aedf-e9d9-48fa-9005-7c68b09d9b24",
   "metadata": {},
   "outputs": [
    {
     "data": {
      "text/plain": [
       "(5, 9)"
      ]
     },
     "execution_count": 22,
     "metadata": {},
     "output_type": "execute_result"
    }
   ],
   "source": [
    "len([int(i) for i in np.linspace(0,T_sim-1,5)]),T_sim\n"
   ]
  },
  {
   "cell_type": "code",
   "execution_count": 23,
   "id": "d0b238d9-fe14-414d-9699-45eb60fbd146",
   "metadata": {},
   "outputs": [
    {
     "data": {
      "image/png": "[encoded data removed]",
      "text/plain": [
       "<Figure size 288x216 with 1 Axes>"
      ]
     },
     "metadata": {
      "needs_background": "light"
     },
     "output_type": "display_data"
    },
    {
     "data": {
      "image/png": "[encoded data removed]",
      "text/plain": [
       "<Figure size 288x216 with 1 Axes>"
      ]
     },
     "metadata": {
      "needs_background": "light"
     },
     "output_type": "display_data"
    },
    {
     "data": {
      "image/png": "[encoded data removed]",
      "text/plain": [
       "<Figure size 288x216 with 1 Axes>"
      ]
     },
     "metadata": {
      "needs_background": "light"
     },
     "output_type": "display_data"
    },
    {
     "data": {
      "image/png": "[encoded data removed]",
      "text/plain": [
       "<Figure size 288x216 with 1 Axes>"
      ]
     },
     "metadata": {
      "needs_background": "light"
     },
     "output_type": "display_data"
    },
    {
     "data": {
      "image/png": "[encoded data removed]",
      "text/plain": [
       "<Figure size 288x216 with 1 Axes>"
      ]
     },
     "metadata": {
      "needs_background": "light"
     },
     "output_type": "display_data"
    }
   ],
   "source": [
    "mf.view_results(T_sim,x_sim,NN_sim,v_coarse)"
   ]
  },
  {
   "cell_type": "code",
   "execution_count": null,
   "id": "eaa64435-405b-4026-ac3c-38822d5b8d42",
   "metadata": {},
   "outputs": [],
   "source": []
  },
  {
   "cell_type": "code",
   "execution_count": null,
   "id": "2ae74d32-03a5-4051-afc2-2031e12cdb5a",
   "metadata": {},
   "outputs": [],
   "source": []
  },
  {
   "cell_type": "code",
   "execution_count": null,
   "id": "06bd0f3b-6de9-42f8-bb6c-233e61b75047",
   "metadata": {},
   "outputs": [],
   "source": []
  },
  {
   "cell_type": "code",
   "execution_count": null,
   "id": "28b7b504-b898-4c2b-ad3c-c04e31027012",
   "metadata": {},
   "outputs": [],
   "source": []
  }
 ],
 "metadata": {
  "kernelspec": {
   "display_name": "Python 3 (ipykernel)",
   "language": "python",
   "name": "python3"
  },
  "language_info": {
   "codemirror_mode": {
    "name": "ipython",
    "version": 3
   },
   "file_extension": ".py",
   "mimetype": "text/x-python",
   "name": "python",
   "nbconvert_exporter": "python",
   "pygments_lexer": "ipython3",
   "version": "3.9.12"
  }
 },
 "nbformat": 4,
 "nbformat_minor": 5
}
