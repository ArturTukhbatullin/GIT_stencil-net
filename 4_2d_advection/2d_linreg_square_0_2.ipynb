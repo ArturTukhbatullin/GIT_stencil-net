{
 "cells": [
  {
   "cell_type": "code",
   "execution_count": 1,
   "id": "6650b68f",
   "metadata": {},
   "outputs": [],
   "source": [
    "import pandas as pd\n",
    "import numpy as np\n",
    "\n",
    "from sklearn.metrics import mean_squared_error\n",
    "import matplotlib.pyplot as plt\n",
    "from statsmodels.api import OLS"
   ]
  },
  {
   "cell_type": "markdown",
   "id": "e134d6ea",
   "metadata": {},
   "source": [
    "### Чтение данных"
   ]
  },
  {
   "cell_type": "code",
   "execution_count": 2,
   "id": "bcd31902",
   "metadata": {},
   "outputs": [],
   "source": [
    "import pickle\n",
    "# v_fact=pickle.load(open('2d_advection_fact.pkl','rb'))\n",
    "# v_fact=pickle.load(open('2d_advection_fact_2var.pkl','rb'))\n",
    "\n",
    "path=fr'D:\\myProjects\\diplom_2\\GIT_stencil-net\\Experiments\\Experiment_2d_advection_square_0_2/'\n",
    "v_fact=pickle.load(open(path+'data.pkl','rb'))"
   ]
  },
  {
   "cell_type": "code",
   "execution_count": 3,
   "id": "319d8199",
   "metadata": {},
   "outputs": [],
   "source": [
    "h=0.05\n",
    "tau=0.05"
   ]
  },
  {
   "cell_type": "code",
   "execution_count": 4,
   "id": "5cc7a8c1",
   "metadata": {},
   "outputs": [
    {
     "data": {
      "text/plain": [
       "<matplotlib.image.AxesImage at 0x2412718d410>"
      ]
     },
     "execution_count": 4,
     "metadata": {},
     "output_type": "execute_result"
    },
    {
     "data": {
      "image/png": "[encoded data removed]",
      "text/plain": [
       "<Figure size 640x480 with 1 Axes>"
      ]
     },
     "metadata": {},
     "output_type": "display_data"
    }
   ],
   "source": [
    "plt.imshow(v_fact[0,:,:])"
   ]
  },
  {
   "cell_type": "code",
   "execution_count": 5,
   "id": "72b47b33",
   "metadata": {},
   "outputs": [
    {
     "data": {
      "text/plain": [
       "(17, 21, 21)"
      ]
     },
     "execution_count": 5,
     "metadata": {},
     "output_type": "execute_result"
    }
   ],
   "source": [
    "v_fact.shape"
   ]
  },
  {
   "cell_type": "markdown",
   "id": "7d346a63",
   "metadata": {},
   "source": [
    "### Линеаризация"
   ]
  },
  {
   "cell_type": "code",
   "execution_count": 6,
   "id": "7a89700f",
   "metadata": {},
   "outputs": [],
   "source": [
    "def linearization(v_fact):\n",
    "\n",
    "    n=len(v_fact)\n",
    "    A=np.zeros((n*n))\n",
    "\n",
    "    for i in range(n):\n",
    "        for j in range(n):\n",
    "            A[i+n*j]=v_fact[i,j]\n",
    "\n",
    "    return A\n",
    "\n",
    "def get_value(A,i,j):\n",
    "\n",
    "    n=int(np.sqrt(len(A)))\n",
    "    \n",
    "    if i>=n and j>=n:\n",
    "        value = A[i-n+n*j-n]\n",
    "    elif i>=n:\n",
    "        value = A[i-n+n*j]\n",
    "    elif j>=n:\n",
    "        value = A[i+(n*j)-n]\n",
    "    else:\n",
    "        value = A[i+n*j]\n",
    "\n",
    "    return value\n",
    "\n",
    "def get_value(A, i, j):\n",
    "    # Handle periodic boundary conditions\n",
    "    n=int(np.sqrt(len(A)))\n",
    "    i = i % n  # Wrap around if i is outside [0, n-1]\n",
    "    j = j % n  # Wrap around if j is outside [0, n-1]\n",
    "    return A[i + n * j]"
   ]
  },
  {
   "cell_type": "code",
   "execution_count": 7,
   "id": "55c9e269",
   "metadata": {},
   "outputs": [],
   "source": [
    "def linearization_inverse(v_fact):\n",
    "\n",
    "    n=int(np.sqrt(len(v_fact)))\n",
    "    v_fact_mat=np.zeros((n,n))\n",
    "\n",
    "    for i in range(n):\n",
    "        for j in range(n):\n",
    "            v_fact_mat[i,j]=get_value(v_fact,i,j)\n",
    "\n",
    "\n",
    "    return v_fact_mat"
   ]
  },
  {
   "cell_type": "code",
   "execution_count": 8,
   "id": "9897cbb2",
   "metadata": {},
   "outputs": [],
   "source": [
    "### test\n",
    "test_matrix=np.zeros((5,5))\n",
    "for i in range(5):\n",
    "    for j in range(5):\n",
    "        if i==0 or j==0 or i==4 or j==4:\n",
    "            test_matrix[i,j]=-999\n",
    "            # test_matrix[i,j]=i+j*4\n",
    "        else:\n",
    "            test_matrix[i,j]=i+j*4\n",
    "\n",
    "test_output=linearization(test_matrix)\n",
    "\n",
    "for i in range(5):\n",
    "    for j in range(5):\n",
    "        assert test_matrix[i,j]==get_value(test_output,i,j),fr'{i},{j} не совпадает'\n"
   ]
  },
  {
   "cell_type": "code",
   "execution_count": 9,
   "id": "36cc854f",
   "metadata": {},
   "outputs": [
    {
     "data": {
      "text/plain": [
       "array([[-999., -999., -999., -999., -999.],\n",
       "       [-999.,    5.,    9.,   13., -999.],\n",
       "       [-999.,    6.,   10.,   14., -999.],\n",
       "       [-999.,    7.,   11.,   15., -999.],\n",
       "       [-999., -999., -999., -999., -999.]])"
      ]
     },
     "execution_count": 9,
     "metadata": {},
     "output_type": "execute_result"
    }
   ],
   "source": [
    "test_matrix"
   ]
  },
  {
   "cell_type": "code",
   "execution_count": 10,
   "id": "64da659a",
   "metadata": {},
   "outputs": [
    {
     "data": {
      "text/plain": [
       "array([-999., -999., -999., -999., -999., -999.,    5.,    6.,    7.,\n",
       "       -999., -999.,    9.,   10.,   11., -999., -999.,   13.,   14.,\n",
       "         15., -999., -999., -999., -999., -999., -999.])"
      ]
     },
     "execution_count": 10,
     "metadata": {},
     "output_type": "execute_result"
    }
   ],
   "source": [
    "test_output"
   ]
  },
  {
   "cell_type": "code",
   "execution_count": 11,
   "id": "da06febd",
   "metadata": {},
   "outputs": [
    {
     "data": {
      "text/plain": [
       "array([[-999., -999., -999., -999., -999.],\n",
       "       [-999.,    5.,    9.,   13., -999.],\n",
       "       [-999.,    6.,   10.,   14., -999.],\n",
       "       [-999.,    7.,   11.,   15., -999.],\n",
       "       [-999., -999., -999., -999., -999.]])"
      ]
     },
     "execution_count": 11,
     "metadata": {},
     "output_type": "execute_result"
    }
   ],
   "source": [
    "linearization_inverse(test_output)"
   ]
  },
  {
   "cell_type": "code",
   "execution_count": 12,
   "id": "38cd6dc1",
   "metadata": {},
   "outputs": [
    {
     "data": {
      "text/plain": [
       "np.float64(-999.0)"
      ]
     },
     "execution_count": 12,
     "metadata": {},
     "output_type": "execute_result"
    }
   ],
   "source": [
    "get_value(test_output,4,4)"
   ]
  },
  {
   "cell_type": "code",
   "execution_count": 13,
   "id": "255571bf",
   "metadata": {},
   "outputs": [],
   "source": [
    "# #ниже определяю функцию\n",
    "# A=make_A(test_output,5)\n",
    "# A.shape"
   ]
  },
  {
   "cell_type": "code",
   "execution_count": 14,
   "id": "68fca646",
   "metadata": {},
   "outputs": [],
   "source": [
    "# from sklearn.preprocessing import PolynomialFeatures\n",
    "\n",
    "# poly = PolynomialFeatures(degree=4, include_bias=True)\n",
    "# X_poly = poly.fit_transform(A)\n",
    "# X_poly.shape"
   ]
  },
  {
   "cell_type": "code",
   "execution_count": 15,
   "id": "8904c783",
   "metadata": {},
   "outputs": [],
   "source": [
    "# drop_boundary_points(A)"
   ]
  },
  {
   "cell_type": "code",
   "execution_count": 16,
   "id": "59c89a3a",
   "metadata": {},
   "outputs": [],
   "source": [
    "# filtered_arr = np.delete(A, drop_boundary_points(A), axis=0)  # axis=0 — удаляем строки\n",
    "# filtered_arr"
   ]
  },
  {
   "cell_type": "code",
   "execution_count": 17,
   "id": "ae6a5ab0",
   "metadata": {},
   "outputs": [],
   "source": [
    "# B_mat=make_B(test_output,5)\n",
    "# B_mat = poly.fit_transform(B_mat)\n",
    "# B_mat.shape"
   ]
  },
  {
   "cell_type": "code",
   "execution_count": 18,
   "id": "ffc382dd",
   "metadata": {},
   "outputs": [],
   "source": [
    "# np.concatenate([A,B_mat],axis=1).shape"
   ]
  },
  {
   "cell_type": "markdown",
   "id": "3f23ed40",
   "metadata": {},
   "source": [
    "### ПреПроцесс конечно-разн аналогии"
   ]
  },
  {
   "cell_type": "code",
   "execution_count": 19,
   "id": "09ca886d",
   "metadata": {},
   "outputs": [],
   "source": [
    "# [-1.00000000e+03, -5.49116308e-13,  8.16013923e-13, -1.79700699e-12,\n",
    "#        -2.90700797e-12, -8.81072992e-13,  1.00000000e+03])\n",
    "\n",
    "#     if self.fs % 2 != 0:\n",
    "#             n = int(np.sqrt(x.shape[1]))\n",
    "#             px = self.make_px(x, 0, 0, n)\n",
    "#             for i in range(1, int(self.fs/2)+1):\n",
    "#                 l = self.make_px(x, -i, 0, n)\n",
    "#                 r = self.make_px(x, i, 0, n)\n",
    "#                 l2 = self.make_px(x, 0, -i, n)\n",
    "#                 r2 = self.make_px(x, 0, i, n)\n",
    "#                 rl = self.make_px(x, i, i, n)\n",
    "#                 rl2 = self.make_px(x, -i, -i, n)\n",
    "#                 px = torch.cat([l, l2, px, r, r2,rl,rl2], -1)"
   ]
  },
  {
   "cell_type": "code",
   "execution_count": 20,
   "id": "585eaa58",
   "metadata": {},
   "outputs": [],
   "source": [
    "def make_A(u_0,n):\n",
    "\n",
    "    n2=5\n",
    "    # n2=9\n",
    "\n",
    "    A=np.zeros((n*n,n2))\n",
    "    # conv coeffs\n",
    "    for i in range(0,n):\n",
    "        for j in range(0,n):\n",
    "            ind=i+j*(n)\n",
    "            \n",
    "            # Величины 1-й степени\n",
    "            A[ind][0]=get_value(u_0,i,j)\n",
    "            A[ind][1]=get_value(u_0,i,j-1)\n",
    "            A[ind][2]=get_value(u_0,i,j+1)\n",
    "            A[ind][3]=get_value(u_0,i-1,j)\n",
    "            A[ind][4]=get_value(u_0,i+1,j)\n",
    "\n",
    "            # A[ind][5]=get_value(u_0,i,j-2)\n",
    "            # A[ind][6]=get_value(u_0,i-2,j)\n",
    "            # A[ind][7]=get_value(u_0,i,j+2)\n",
    "            # A[ind][8]=get_value(u_0,i+2,j)\n",
    "\n",
    "    return A\n",
    "\n",
    "def make_B(u_0,n):\n",
    "\n",
    "    n2=2\n",
    "    # n2=4\n",
    "\n",
    "    A=np.zeros((n*n,n2))\n",
    "    # conv coeffs\n",
    "    for i in range(0,n):\n",
    "        for j in range(0,n):\n",
    "            ind=i+j*(n)\n",
    "            \n",
    "            # Величины 1-й степени\n",
    "            A[ind][0]=get_value(u_0,i+1,j+1)\n",
    "            A[ind][1]=get_value(u_0,i-1,j-1)\n",
    "\n",
    "            # A[ind][0]=get_value(u_0,i+2,j+2)\n",
    "            # A[ind][2]=get_value(u_0,i-2,j-2)\n",
    "\n",
    "    return A\n",
    "\n",
    "def drop_boundary_points(A_mat):\n",
    "\n",
    "    A=A_mat.copy()\n",
    "\n",
    "    n=int(np.sqrt(len(A)))\n",
    "    \n",
    "    boundary_id=[i+j*n for i in range(n) for j in range(n) if i==0 or j==0 or i==n-1 or j==n-1]\n",
    "\n",
    "    return sorted(boundary_id)\n",
    "\n",
    "def make_rhs(t_0,t_1,n,tau):\n",
    "    \n",
    "    rhs=np.zeros((n*n,1))\n",
    "    \n",
    "    for i in range(0,n):\n",
    "        for j in range(0,n):\n",
    "            rhs[i+j*n][0]=(get_value(t_1,i,j)-get_value(t_0,i,j))/tau\n",
    "\n",
    "    return rhs"
   ]
  },
  {
   "cell_type": "markdown",
   "id": "23c0c037",
   "metadata": {},
   "source": [
    "### Конечно-разн аналогия"
   ]
  },
  {
   "cell_type": "code",
   "execution_count": 21,
   "id": "65953723",
   "metadata": {},
   "outputs": [
    {
     "data": {
      "text/plain": [
       "17"
      ]
     },
     "execution_count": 21,
     "metadata": {},
     "output_type": "execute_result"
    }
   ],
   "source": [
    "v_fact.shape[0]"
   ]
  },
  {
   "cell_type": "code",
   "execution_count": 22,
   "id": "e8065422",
   "metadata": {},
   "outputs": [
    {
     "name": "stdout",
     "output_type": "stream",
     "text": [
      "(441, 7) (441, 1)\n",
      "(361, 7) (361, 1)\n",
      "(441, 7) (441, 1)\n",
      "(361, 7) (361, 1)\n",
      "(441, 7) (441, 1)\n",
      "(361, 7) (361, 1)\n",
      "(441, 7) (441, 1)\n",
      "(361, 7) (361, 1)\n",
      "(441, 7) (441, 1)\n",
      "(361, 7) (361, 1)\n",
      "(441, 7) (441, 1)\n",
      "(361, 7) (361, 1)\n",
      "(441, 7) (441, 1)\n",
      "(361, 7) (361, 1)\n",
      "(441, 7) (441, 1)\n",
      "(361, 7) (361, 1)\n",
      "(441, 7) (441, 1)\n",
      "(361, 7) (361, 1)\n",
      "(441, 7) (441, 1)\n",
      "(361, 7) (361, 1)\n",
      "(441, 7) (441, 1)\n",
      "(361, 7) (361, 1)\n",
      "(441, 7) (441, 1)\n",
      "(361, 7) (361, 1)\n",
      "(441, 7) (441, 1)\n",
      "(361, 7) (361, 1)\n",
      "(441, 7) (441, 1)\n",
      "(361, 7) (361, 1)\n",
      "(441, 7) (441, 1)\n",
      "(361, 7) (361, 1)\n"
     ]
    }
   ],
   "source": [
    "# n_cycle = v_fact.shape[0]-1\n",
    "# n_cycle=100\n",
    "# n_cycle=17\n",
    "# n_cycle=8\n",
    "n_cycle=15\n",
    "\n",
    "coeffs_lst=[]\n",
    "mse_lst=[]\n",
    "for j in range(n_cycle):\n",
    "    \n",
    "    u_0=v_fact[j,:,:]\n",
    "    u_1=v_fact[j+1,:,:]\n",
    "    n=21\n",
    "\n",
    "    u_0=linearization(u_0) # начальное состояние\n",
    "    u_1=linearization(u_1) # следующее состояние\n",
    "\n",
    "    A_mat=make_A(u_0,n)\n",
    "    # poly = PolynomialFeatures(degree=2, include_bias=True)\n",
    "    # A_mat = poly.fit_transform(A_mat)\n",
    "\n",
    "    B_mat=make_B(u_0,n)\n",
    "    # poly = PolynomialFeatures(degree=2, include_bias=False)\n",
    "    # B_mat = poly.fit_transform(B_mat)\n",
    "\n",
    "    A_mat=np.concatenate([A_mat,B_mat],axis=1)\n",
    "\n",
    "    rhs=make_rhs(u_0,u_1,n,tau=tau)\n",
    "\n",
    "    print(A_mat.shape,rhs.shape)\n",
    "\n",
    "    S = A_mat\n",
    "    rhs = rhs\n",
    "    S=np.delete(A_mat, drop_boundary_points(A_mat), axis=0) \n",
    "    rhs=np.delete(rhs,drop_boundary_points(rhs), axis=0)\n",
    "\n",
    "    print(S.shape,rhs.shape)\n",
    "    \n",
    "    model_sm=OLS(rhs,S,hasconst=True)\n",
    "    results_sm=model_sm.fit()\n",
    "    \n",
    "    mse=mean_squared_error(rhs,results_sm.predict(S))\n",
    "    # print(\"MSE :\",mse)\n",
    "    \n",
    "    # print('COEFFICIENT',results_sm.params)\n",
    "    mse_lst.append(mse)\n",
    "    coeffs_lst.append(results_sm.params)\n",
    "    \n",
    "mse_lst=np.array(mse_lst)\n",
    "coeffs_lst=np.array(coeffs_lst)"
   ]
  },
  {
   "cell_type": "code",
   "execution_count": 23,
   "id": "b5acd246",
   "metadata": {},
   "outputs": [
    {
     "data": {
      "text/html": [
       "<table class=\"simpletable\">\n",
       "<caption>OLS Regression Results</caption>\n",
       "<tr>\n",
       "  <th>Dep. Variable:</th>            <td>y</td>        <th>  R-squared:         </th>  <td>   1.000</td> \n",
       "</tr>\n",
       "<tr>\n",
       "  <th>Model:</th>                   <td>OLS</td>       <th>  Adj. R-squared:    </th>  <td>   1.000</td> \n",
       "</tr>\n",
       "<tr>\n",
       "  <th>Method:</th>             <td>Least Squares</td>  <th>  F-statistic:       </th>  <td>2.296e+32</td>\n",
       "</tr>\n",
       "<tr>\n",
       "  <th>Date:</th>             <td>Sun, 25 May 2025</td> <th>  Prob (F-statistic):</th>   <td>  0.00</td>  \n",
       "</tr>\n",
       "<tr>\n",
       "  <th>Time:</th>                 <td>13:15:01</td>     <th>  Log-Likelihood:    </th>  <td>  11860.</td> \n",
       "</tr>\n",
       "<tr>\n",
       "  <th>No. Observations:</th>      <td>   361</td>      <th>  AIC:               </th> <td>-2.371e+04</td>\n",
       "</tr>\n",
       "<tr>\n",
       "  <th>Df Residuals:</th>          <td>   354</td>      <th>  BIC:               </th> <td>-2.368e+04</td>\n",
       "</tr>\n",
       "<tr>\n",
       "  <th>Df Model:</th>              <td>     6</td>      <th>                     </th>      <td> </td>    \n",
       "</tr>\n",
       "<tr>\n",
       "  <th>Covariance Type:</th>      <td>nonrobust</td>    <th>                     </th>      <td> </td>    \n",
       "</tr>\n",
       "</table>\n",
       "<table class=\"simpletable\">\n",
       "<tr>\n",
       "   <td></td>     <th>coef</th>     <th>std err</th>      <th>t</th>      <th>P>|t|</th>  <th>[0.025</th>    <th>0.975]</th>  \n",
       "</tr>\n",
       "<tr>\n",
       "  <th>x1</th> <td>  -20.0000</td> <td> 1.18e-15</td> <td>-1.69e+16</td> <td> 0.000</td> <td>  -20.000</td> <td>  -20.000</td>\n",
       "</tr>\n",
       "<tr>\n",
       "  <th>x2</th> <td> 1.665e-15</td> <td> 9.21e-16</td> <td>    1.807</td> <td> 0.072</td> <td>-1.47e-16</td> <td> 3.48e-15</td>\n",
       "</tr>\n",
       "<tr>\n",
       "  <th>x3</th> <td>-6.217e-15</td> <td> 9.21e-16</td> <td>   -6.747</td> <td> 0.000</td> <td>-8.03e-15</td> <td> -4.4e-15</td>\n",
       "</tr>\n",
       "<tr>\n",
       "  <th>x4</th> <td>-8.882e-16</td> <td> 9.21e-16</td> <td>   -0.964</td> <td> 0.336</td> <td> -2.7e-15</td> <td> 9.24e-16</td>\n",
       "</tr>\n",
       "<tr>\n",
       "  <th>x5</th> <td> 2.442e-15</td> <td> 9.21e-16</td> <td>    2.651</td> <td> 0.008</td> <td>  6.3e-16</td> <td> 4.25e-15</td>\n",
       "</tr>\n",
       "<tr>\n",
       "  <th>x6</th> <td> -2.22e-15</td> <td> 8.85e-16</td> <td>   -2.508</td> <td> 0.013</td> <td>-3.96e-15</td> <td>-4.79e-16</td>\n",
       "</tr>\n",
       "<tr>\n",
       "  <th>x7</th> <td>   20.0000</td> <td> 8.85e-16</td> <td> 2.26e+16</td> <td> 0.000</td> <td>   20.000</td> <td>   20.000</td>\n",
       "</tr>\n",
       "</table>\n",
       "<table class=\"simpletable\">\n",
       "<tr>\n",
       "  <th>Omnibus:</th>       <td>479.757</td> <th>  Durbin-Watson:     </th> <td>   1.007</td> \n",
       "</tr>\n",
       "<tr>\n",
       "  <th>Prob(Omnibus):</th> <td> 0.000</td>  <th>  Jarque-Bera (JB):  </th> <td>33753.530</td>\n",
       "</tr>\n",
       "<tr>\n",
       "  <th>Skew:</th>          <td> 6.657</td>  <th>  Prob(JB):          </th> <td>    0.00</td> \n",
       "</tr>\n",
       "<tr>\n",
       "  <th>Kurtosis:</th>      <td>48.461</td>  <th>  Cond. No.          </th> <td>    3.90</td> \n",
       "</tr>\n",
       "</table><br/><br/>Notes:<br/>[1] Standard Errors assume that the covariance matrix of the errors is correctly specified."
      ],
      "text/latex": [
       "\\begin{center}\n",
       "\\begin{tabular}{lclc}\n",
       "\\toprule\n",
       "\\textbf{Dep. Variable:}    &        y         & \\textbf{  R-squared:         } &     1.000   \\\\\n",
       "\\textbf{Model:}            &       OLS        & \\textbf{  Adj. R-squared:    } &     1.000   \\\\\n",
       "\\textbf{Method:}           &  Least Squares   & \\textbf{  F-statistic:       } & 2.296e+32   \\\\\n",
       "\\textbf{Date:}             & Sun, 25 May 2025 & \\textbf{  Prob (F-statistic):} &     0.00    \\\\\n",
       "\\textbf{Time:}             &     13:15:01     & \\textbf{  Log-Likelihood:    } &    11860.   \\\\\n",
       "\\textbf{No. Observations:} &         361      & \\textbf{  AIC:               } & -2.371e+04  \\\\\n",
       "\\textbf{Df Residuals:}     &         354      & \\textbf{  BIC:               } & -2.368e+04  \\\\\n",
       "\\textbf{Df Model:}         &           6      & \\textbf{                     } &             \\\\\n",
       "\\textbf{Covariance Type:}  &    nonrobust     & \\textbf{                     } &             \\\\\n",
       "\\bottomrule\n",
       "\\end{tabular}\n",
       "\\begin{tabular}{lcccccc}\n",
       "            & \\textbf{coef} & \\textbf{std err} & \\textbf{t} & \\textbf{P$> |$t$|$} & \\textbf{[0.025} & \\textbf{0.975]}  \\\\\n",
       "\\midrule\n",
       "\\textbf{x1} &     -20.0000  &     1.18e-15     & -1.69e+16  &         0.000        &      -20.000    &      -20.000     \\\\\n",
       "\\textbf{x2} &    1.665e-15  &     9.21e-16     &     1.807  &         0.072        &    -1.47e-16    &     3.48e-15     \\\\\n",
       "\\textbf{x3} &   -6.217e-15  &     9.21e-16     &    -6.747  &         0.000        &    -8.03e-15    &     -4.4e-15     \\\\\n",
       "\\textbf{x4} &   -8.882e-16  &     9.21e-16     &    -0.964  &         0.336        &     -2.7e-15    &     9.24e-16     \\\\\n",
       "\\textbf{x5} &    2.442e-15  &     9.21e-16     &     2.651  &         0.008        &      6.3e-16    &     4.25e-15     \\\\\n",
       "\\textbf{x6} &    -2.22e-15  &     8.85e-16     &    -2.508  &         0.013        &    -3.96e-15    &    -4.79e-16     \\\\\n",
       "\\textbf{x7} &      20.0000  &     8.85e-16     &  2.26e+16  &         0.000        &       20.000    &       20.000     \\\\\n",
       "\\bottomrule\n",
       "\\end{tabular}\n",
       "\\begin{tabular}{lclc}\n",
       "\\textbf{Omnibus:}       & 479.757 & \\textbf{  Durbin-Watson:     } &     1.007  \\\\\n",
       "\\textbf{Prob(Omnibus):} &   0.000 & \\textbf{  Jarque-Bera (JB):  } & 33753.530  \\\\\n",
       "\\textbf{Skew:}          &   6.657 & \\textbf{  Prob(JB):          } &      0.00  \\\\\n",
       "\\textbf{Kurtosis:}      &  48.461 & \\textbf{  Cond. No.          } &      3.90  \\\\\n",
       "\\bottomrule\n",
       "\\end{tabular}\n",
       "%\\caption{OLS Regression Results}\n",
       "\\end{center}\n",
       "\n",
       "Notes: \\newline\n",
       " [1] Standard Errors assume that the covariance matrix of the errors is correctly specified."
      ],
      "text/plain": [
       "<class 'statsmodels.iolib.summary.Summary'>\n",
       "\"\"\"\n",
       "                            OLS Regression Results                            \n",
       "==============================================================================\n",
       "Dep. Variable:                      y   R-squared:                       1.000\n",
       "Model:                            OLS   Adj. R-squared:                  1.000\n",
       "Method:                 Least Squares   F-statistic:                 2.296e+32\n",
       "Date:                Sun, 25 May 2025   Prob (F-statistic):               0.00\n",
       "Time:                        13:15:01   Log-Likelihood:                 11860.\n",
       "No. Observations:                 361   AIC:                        -2.371e+04\n",
       "Df Residuals:                     354   BIC:                        -2.368e+04\n",
       "Df Model:                           6                                         \n",
       "Covariance Type:            nonrobust                                         \n",
       "==============================================================================\n",
       "                 coef    std err          t      P>|t|      [0.025      0.975]\n",
       "------------------------------------------------------------------------------\n",
       "x1           -20.0000   1.18e-15  -1.69e+16      0.000     -20.000     -20.000\n",
       "x2          1.665e-15   9.21e-16      1.807      0.072   -1.47e-16    3.48e-15\n",
       "x3         -6.217e-15   9.21e-16     -6.747      0.000   -8.03e-15    -4.4e-15\n",
       "x4         -8.882e-16   9.21e-16     -0.964      0.336    -2.7e-15    9.24e-16\n",
       "x5          2.442e-15   9.21e-16      2.651      0.008     6.3e-16    4.25e-15\n",
       "x6          -2.22e-15   8.85e-16     -2.508      0.013   -3.96e-15   -4.79e-16\n",
       "x7            20.0000   8.85e-16   2.26e+16      0.000      20.000      20.000\n",
       "==============================================================================\n",
       "Omnibus:                      479.757   Durbin-Watson:                   1.007\n",
       "Prob(Omnibus):                  0.000   Jarque-Bera (JB):            33753.530\n",
       "Skew:                           6.657   Prob(JB):                         0.00\n",
       "Kurtosis:                      48.461   Cond. No.                         3.90\n",
       "==============================================================================\n",
       "\n",
       "Notes:\n",
       "[1] Standard Errors assume that the covariance matrix of the errors is correctly specified.\n",
       "\"\"\""
      ]
     },
     "execution_count": 23,
     "metadata": {},
     "output_type": "execute_result"
    }
   ],
   "source": [
    "results_sm.summary()"
   ]
  },
  {
   "cell_type": "code",
   "execution_count": 24,
   "id": "12263676",
   "metadata": {},
   "outputs": [
    {
     "data": {
      "text/plain": [
       "array([-2.00000000e+01,  1.66533454e-15, -6.21724894e-15, -8.88178420e-16,\n",
       "        2.44249065e-15, -2.22044605e-15,  2.00000000e+01])"
      ]
     },
     "execution_count": 24,
     "metadata": {},
     "output_type": "execute_result"
    }
   ],
   "source": [
    "coeffs_lst[-1]"
   ]
  },
  {
   "cell_type": "code",
   "execution_count": 25,
   "id": "6c38ddcf",
   "metadata": {},
   "outputs": [
    {
     "data": {
      "text/plain": [
       "[<matplotlib.lines.Line2D at 0x241271eea10>]"
      ]
     },
     "execution_count": 25,
     "metadata": {},
     "output_type": "execute_result"
    },
    {
     "data": {
      "image/png": "[encoded data removed]",
      "text/plain": [
       "<Figure size 640x480 with 1 Axes>"
      ]
     },
     "metadata": {},
     "output_type": "display_data"
    }
   ],
   "source": [
    "plt.plot(mse_lst,'-*')\n",
    "# plt.ylim([-1,1])"
   ]
  },
  {
   "cell_type": "code",
   "execution_count": 26,
   "id": "55b279d0",
   "metadata": {},
   "outputs": [
    {
     "data": {
      "text/plain": [
       "((441, 7), (441, 2))"
      ]
     },
     "execution_count": 26,
     "metadata": {},
     "output_type": "execute_result"
    }
   ],
   "source": [
    "A_mat.shape,B_mat.shape"
   ]
  },
  {
   "cell_type": "code",
   "execution_count": 27,
   "id": "0040ff0c",
   "metadata": {},
   "outputs": [
    {
     "data": {
      "image/png": "[encoded data removed]",
      "text/plain": [
       "<Figure size 1500x600 with 1 Axes>"
      ]
     },
     "metadata": {},
     "output_type": "display_data"
    }
   ],
   "source": [
    "plt.figure(figsize=(15,6))\n",
    "for j in range(len(coeffs_lst[0,:])):\n",
    "    plt.plot(coeffs_lst[:,j],'--*',label=fr'coef_{j}')\n",
    "# plt.ylim([-2000,2000])\n",
    "plt.title('COEFFS')\n",
    "plt.legend()\n",
    "plt.grid()"
   ]
  },
  {
   "cell_type": "code",
   "execution_count": 28,
   "id": "45c462a5",
   "metadata": {},
   "outputs": [
    {
     "data": {
      "text/plain": [
       "array([-2.00000000e+01,  1.66533454e-15, -6.21724894e-15, -8.88178420e-16,\n",
       "        2.44249065e-15, -2.22044605e-15,  2.00000000e+01])"
      ]
     },
     "execution_count": 28,
     "metadata": {},
     "output_type": "execute_result"
    }
   ],
   "source": [
    "coeffs_lst[-1]"
   ]
  },
  {
   "cell_type": "code",
   "execution_count": 29,
   "id": "2712f7ad",
   "metadata": {},
   "outputs": [
    {
     "data": {
      "text/plain": [
       "10.0"
      ]
     },
     "execution_count": 29,
     "metadata": {},
     "output_type": "execute_result"
    }
   ],
   "source": [
    "1/2/h"
   ]
  },
  {
   "cell_type": "code",
   "execution_count": 30,
   "id": "834e8423",
   "metadata": {},
   "outputs": [
    {
     "data": {
      "image/png": "[encoded data removed]",
      "text/plain": [
       "<Figure size 640x480 with 1 Axes>"
      ]
     },
     "metadata": {},
     "output_type": "display_data"
    }
   ],
   "source": [
    "plt.plot(pd.Series(coeffs_lst[-1]).sort_values(),'*')\n",
    "plt.grid()"
   ]
  },
  {
   "cell_type": "code",
   "execution_count": 31,
   "id": "2b7c7baa",
   "metadata": {},
   "outputs": [
    {
     "data": {
      "text/plain": [
       "15"
      ]
     },
     "execution_count": 31,
     "metadata": {},
     "output_type": "execute_result"
    }
   ],
   "source": [
    "len(coeffs_lst)"
   ]
  },
  {
   "cell_type": "code",
   "execution_count": 32,
   "id": "721500bd",
   "metadata": {},
   "outputs": [
    {
     "name": "stdout",
     "output_type": "stream",
     "text": [
      "0 1\n",
      "-----------------TIME INDEX = 0----------------\n",
      "[-2.00000000e+01  1.66533454e-15 -6.21724894e-15 -8.88178420e-16\n",
      "  2.44249065e-15 -2.22044605e-15  2.00000000e+01]\n"
     ]
    },
    {
     "data": {
      "image/png": "[encoded data removed]",
      "text/plain": [
       "<Figure size 700x200 with 6 Axes>"
      ]
     },
     "metadata": {},
     "output_type": "display_data"
    },
    {
     "name": "stdout",
     "output_type": "stream",
     "text": [
      "5 6\n",
      "-----------------TIME INDEX = 5----------------\n",
      "[-2.00000000e+01  1.66533454e-15 -6.21724894e-15 -8.88178420e-16\n",
      "  2.44249065e-15 -2.22044605e-15  2.00000000e+01]\n"
     ]
    },
    {
     "data": {
      "image/png": "[encoded data removed]",
      "text/plain": [
       "<Figure size 700x200 with 6 Axes>"
      ]
     },
     "metadata": {},
     "output_type": "display_data"
    },
    {
     "name": "stdout",
     "output_type": "stream",
     "text": [
      "10 11\n",
      "-----------------TIME INDEX = 10----------------\n",
      "[-2.00000000e+01  1.66533454e-15 -6.21724894e-15 -8.88178420e-16\n",
      "  2.44249065e-15 -2.22044605e-15  2.00000000e+01]\n"
     ]
    },
    {
     "data": {
      "image/png": "[encoded data removed]",
      "text/plain": [
       "<Figure size 700x200 with 6 Axes>"
      ]
     },
     "metadata": {},
     "output_type": "display_data"
    }
   ],
   "source": [
    "for j in range(0,n_cycle,5):\n",
    "    \n",
    "    print(j,j+1)\n",
    "    u_0=v_fact[j,:,:]\n",
    "    u_1=v_fact[j+1,:,:]\n",
    "    n=21\n",
    "    \n",
    "    # plt.imshow(u_1-u_0)\n",
    "    # plt.colorbar()\n",
    "    # plt.show()\n",
    "\n",
    "    u_0=linearization(u_0) # начальное состояние\n",
    "    u_1=linearization(u_1) # следующее состояние\n",
    "\n",
    "\n",
    "    A_mat=make_A(u_0,n)\n",
    "    # poly = PolynomialFeatures(degree=2, include_bias=True)\n",
    "    # A_mat = poly.fit_transform(A_mat)\n",
    "\n",
    "    B_mat=make_B(u_0,n)\n",
    "    # poly = PolynomialFeatures(degree=2, include_bias=False)\n",
    "    # B_mat = poly.fit_transform(B_mat)\n",
    "\n",
    "    A_mat=np.concatenate([A_mat,B_mat],axis=1)\n",
    "    \n",
    "    rhs=make_rhs(u_0,u_1,n,tau=tau)\n",
    "\n",
    "    print(fr'-----------------TIME INDEX = {j}----------------')\n",
    "    # print(A_mat.shape,rhs.shape)\n",
    "\n",
    "    S = A_mat\n",
    "    rhs = rhs\n",
    "\n",
    "    print(coeffs_lst[-3])\n",
    "    logit_sol=np.dot(S,coeffs_lst[-3])*tau\n",
    "    logit_sol[drop_boundary_points(logit_sol)]=0\n",
    "\n",
    "    vmin=-1.5\n",
    "    vmax=1.5\n",
    "\n",
    "    plt.figure(figsize=(7, 2))\n",
    "    plt.subplot(1,3,1)\n",
    "    img1=plt.imshow(linearization_inverse(logit_sol+u_0),vmin=vmin,vmax=vmax,\n",
    "               label='logit_sol',\n",
    "               cmap='coolwarm')\n",
    "    plt.title('Мое')\n",
    "    cbar=plt.colorbar(img1,aspect=5)\n",
    "\n",
    "    plt.subplot(1,3,2)\n",
    "    img2=plt.imshow(linearization_inverse(u_1),vmin=vmin,vmax=vmax,\n",
    "               label='logit_sol',\n",
    "               cmap='coolwarm')\n",
    "    plt.title('Точное')\n",
    "    plt.colorbar(img2,aspect=5)\n",
    "\n",
    "    plt.subplot(1,3,3)\n",
    "    img3=plt.imshow(linearization_inverse(u_1)-linearization_inverse(logit_sol+u_0),\n",
    "                    vmin=-1.5,vmax=1.5,\n",
    "               label='logit_sol',\n",
    "               cmap='coolwarm')\n",
    "    plt.title('Разность')\n",
    "    plt.colorbar(img3,aspect=5)\n",
    "\n",
    "    plt.tight_layout()  # Чтобы избежать наложения подписей\n",
    "\n",
    "    # plt.savefig(fr'')\n",
    "\n",
    "    plt.show()"
   ]
  },
  {
   "cell_type": "code",
   "execution_count": 33,
   "id": "d5d99989",
   "metadata": {},
   "outputs": [
    {
     "data": {
      "text/plain": [
       "(0.05, 0.05, 20.0, -20.0)"
      ]
     },
     "execution_count": 33,
     "metadata": {},
     "output_type": "execute_result"
    }
   ],
   "source": [
    "h,tau,1/h,-1/h"
   ]
  },
  {
   "cell_type": "code",
   "execution_count": 34,
   "id": "93ccebcb",
   "metadata": {},
   "outputs": [
    {
     "data": {
      "text/plain": [
       "80"
      ]
     },
     "execution_count": 34,
     "metadata": {},
     "output_type": "execute_result"
    }
   ],
   "source": [
    "len(drop_boundary_points(logit_sol))"
   ]
  },
  {
   "cell_type": "code",
   "execution_count": 35,
   "id": "f1b2c062",
   "metadata": {},
   "outputs": [
    {
     "data": {
      "text/plain": [
       "((17, 21, 21), 441)"
      ]
     },
     "execution_count": 35,
     "metadata": {},
     "output_type": "execute_result"
    }
   ],
   "source": [
    "v_fact.shape,21*21"
   ]
  },
  {
   "cell_type": "code",
   "execution_count": 36,
   "id": "a112a27f",
   "metadata": {},
   "outputs": [
    {
     "data": {
      "text/plain": [
       "<matplotlib.image.AxesImage at 0x24129402f10>"
      ]
     },
     "execution_count": 36,
     "metadata": {},
     "output_type": "execute_result"
    },
    {
     "data": {
      "image/png": "[encoded data removed]",
      "text/plain": [
       "<Figure size 200x300 with 1 Axes>"
      ]
     },
     "metadata": {},
     "output_type": "display_data"
    }
   ],
   "source": [
    "plt.figure(figsize=(2,3))\n",
    "plt.imshow(linearization_inverse(u_0))"
   ]
  },
  {
   "cell_type": "code",
   "execution_count": 37,
   "id": "dd05f43a",
   "metadata": {},
   "outputs": [
    {
     "data": {
      "text/plain": [
       "<matplotlib.image.AxesImage at 0x24129367b10>"
      ]
     },
     "execution_count": 37,
     "metadata": {},
     "output_type": "execute_result"
    },
    {
     "data": {
      "image/png": "[encoded data removed]",
      "text/plain": [
       "<Figure size 200x300 with 1 Axes>"
      ]
     },
     "metadata": {},
     "output_type": "display_data"
    }
   ],
   "source": [
    "plt.figure(figsize=(2,3))\n",
    "plt.imshow(linearization_inverse(np.dot(S,coeffs_lst[-3])*tau+u_0))"
   ]
  },
  {
   "cell_type": "code",
   "execution_count": 38,
   "id": "79ae73b5",
   "metadata": {},
   "outputs": [
    {
     "data": {
      "text/plain": [
       "array([[0., 0., 0., 0., 0., 0., 0., 0., 0., 0., 0., 0., 0., 0., 0., 0.,\n",
       "        0., 0., 0., 0., 0.],\n",
       "       [0., 0., 0., 0., 0., 0., 0., 0., 0., 0., 0., 0., 0., 0., 0., 0.,\n",
       "        0., 0., 0., 0., 0.],\n",
       "       [0., 0., 0., 0., 0., 0., 0., 0., 0., 0., 0., 0., 0., 0., 0., 0.,\n",
       "        0., 0., 0., 0., 0.],\n",
       "       [0., 0., 0., 0., 0., 0., 0., 0., 0., 0., 0., 0., 0., 0., 0., 0.,\n",
       "        0., 0., 0., 0., 0.],\n",
       "       [0., 0., 0., 0., 0., 0., 0., 0., 0., 0., 0., 0., 0., 0., 0., 0.,\n",
       "        0., 0., 0., 0., 0.],\n",
       "       [0., 0., 0., 0., 0., 0., 0., 0., 0., 0., 0., 0., 0., 0., 0., 0.,\n",
       "        0., 0., 0., 0., 0.],\n",
       "       [0., 0., 0., 0., 0., 0., 0., 0., 0., 0., 0., 0., 0., 0., 0., 0.,\n",
       "        0., 0., 0., 0., 0.],\n",
       "       [0., 0., 0., 0., 0., 0., 0., 0., 0., 0., 0., 0., 0., 0., 0., 0.,\n",
       "        0., 0., 0., 0., 0.],\n",
       "       [0., 0., 0., 0., 0., 0., 0., 0., 0., 0., 0., 0., 0., 0., 0., 0.,\n",
       "        0., 0., 0., 0., 0.],\n",
       "       [0., 0., 0., 0., 0., 0., 0., 0., 0., 0., 0., 0., 0., 0., 0., 0.,\n",
       "        0., 0., 0., 0., 0.],\n",
       "       [0., 0., 0., 0., 0., 0., 0., 0., 0., 0., 0., 0., 0., 0., 0., 0.,\n",
       "        0., 0., 0., 0., 0.],\n",
       "       [0., 0., 0., 0., 0., 0., 0., 0., 0., 0., 0., 0., 0., 0., 0., 0.,\n",
       "        0., 0., 0., 0., 0.],\n",
       "       [0., 0., 0., 0., 0., 0., 0., 0., 0., 0., 0., 0., 1., 1., 0., 0.,\n",
       "        0., 0., 0., 0., 0.],\n",
       "       [0., 0., 0., 0., 0., 0., 0., 0., 0., 0., 0., 0., 1., 1., 0., 0.,\n",
       "        0., 0., 0., 0., 0.],\n",
       "       [0., 0., 0., 0., 0., 0., 0., 0., 0., 0., 0., 0., 0., 0., 0., 0.,\n",
       "        0., 0., 0., 0., 0.],\n",
       "       [0., 0., 0., 0., 0., 0., 0., 0., 0., 0., 0., 0., 0., 0., 0., 0.,\n",
       "        0., 0., 0., 0., 0.],\n",
       "       [0., 0., 0., 0., 0., 0., 0., 0., 0., 0., 0., 0., 0., 0., 0., 0.,\n",
       "        0., 0., 0., 0., 0.],\n",
       "       [0., 0., 0., 0., 0., 0., 0., 0., 0., 0., 0., 0., 0., 0., 0., 0.,\n",
       "        0., 0., 0., 0., 0.],\n",
       "       [0., 0., 0., 0., 0., 0., 0., 0., 0., 0., 0., 0., 0., 0., 0., 0.,\n",
       "        0., 0., 0., 0., 0.],\n",
       "       [0., 0., 0., 0., 0., 0., 0., 0., 0., 0., 0., 0., 0., 0., 0., 0.,\n",
       "        0., 0., 0., 0., 0.],\n",
       "       [0., 0., 0., 0., 0., 0., 0., 0., 0., 0., 0., 0., 0., 0., 0., 0.,\n",
       "        0., 0., 0., 0., 0.]])"
      ]
     },
     "execution_count": 38,
     "metadata": {},
     "output_type": "execute_result"
    }
   ],
   "source": [
    "linearization_inverse(u_0)"
   ]
  },
  {
   "cell_type": "code",
   "execution_count": 39,
   "id": "1f5fda6a",
   "metadata": {},
   "outputs": [
    {
     "data": {
      "text/plain": [
       "array([[ 0.00000000e+00,  0.00000000e+00,  0.00000000e+00,\n",
       "         0.00000000e+00,  0.00000000e+00,  0.00000000e+00,\n",
       "         0.00000000e+00,  0.00000000e+00,  0.00000000e+00,\n",
       "         0.00000000e+00,  0.00000000e+00,  0.00000000e+00,\n",
       "         0.00000000e+00,  0.00000000e+00,  0.00000000e+00,\n",
       "         0.00000000e+00,  0.00000000e+00,  0.00000000e+00,\n",
       "         0.00000000e+00,  0.00000000e+00,  0.00000000e+00],\n",
       "       [ 0.00000000e+00,  0.00000000e+00,  0.00000000e+00,\n",
       "         0.00000000e+00,  0.00000000e+00,  0.00000000e+00,\n",
       "         0.00000000e+00,  0.00000000e+00,  0.00000000e+00,\n",
       "         0.00000000e+00,  0.00000000e+00,  0.00000000e+00,\n",
       "         0.00000000e+00,  0.00000000e+00,  0.00000000e+00,\n",
       "         0.00000000e+00,  0.00000000e+00,  0.00000000e+00,\n",
       "         0.00000000e+00,  0.00000000e+00,  0.00000000e+00],\n",
       "       [ 0.00000000e+00,  0.00000000e+00,  0.00000000e+00,\n",
       "         0.00000000e+00,  0.00000000e+00,  0.00000000e+00,\n",
       "         0.00000000e+00,  0.00000000e+00,  0.00000000e+00,\n",
       "         0.00000000e+00,  0.00000000e+00,  0.00000000e+00,\n",
       "         0.00000000e+00,  0.00000000e+00,  0.00000000e+00,\n",
       "         0.00000000e+00,  0.00000000e+00,  0.00000000e+00,\n",
       "         0.00000000e+00,  0.00000000e+00,  0.00000000e+00],\n",
       "       [ 0.00000000e+00,  0.00000000e+00,  0.00000000e+00,\n",
       "         0.00000000e+00,  0.00000000e+00,  0.00000000e+00,\n",
       "         0.00000000e+00,  0.00000000e+00,  0.00000000e+00,\n",
       "         0.00000000e+00,  0.00000000e+00,  0.00000000e+00,\n",
       "         0.00000000e+00,  0.00000000e+00,  0.00000000e+00,\n",
       "         0.00000000e+00,  0.00000000e+00,  0.00000000e+00,\n",
       "         0.00000000e+00,  0.00000000e+00,  0.00000000e+00],\n",
       "       [ 0.00000000e+00,  0.00000000e+00,  0.00000000e+00,\n",
       "         0.00000000e+00,  0.00000000e+00,  0.00000000e+00,\n",
       "         0.00000000e+00,  0.00000000e+00,  0.00000000e+00,\n",
       "         0.00000000e+00,  0.00000000e+00,  0.00000000e+00,\n",
       "         0.00000000e+00,  0.00000000e+00,  0.00000000e+00,\n",
       "         0.00000000e+00,  0.00000000e+00,  0.00000000e+00,\n",
       "         0.00000000e+00,  0.00000000e+00,  0.00000000e+00],\n",
       "       [ 0.00000000e+00,  0.00000000e+00,  0.00000000e+00,\n",
       "         0.00000000e+00,  0.00000000e+00,  0.00000000e+00,\n",
       "         0.00000000e+00,  0.00000000e+00,  0.00000000e+00,\n",
       "         0.00000000e+00,  0.00000000e+00,  0.00000000e+00,\n",
       "         0.00000000e+00,  0.00000000e+00,  0.00000000e+00,\n",
       "         0.00000000e+00,  0.00000000e+00,  0.00000000e+00,\n",
       "         0.00000000e+00,  0.00000000e+00,  0.00000000e+00],\n",
       "       [ 0.00000000e+00,  0.00000000e+00,  0.00000000e+00,\n",
       "         0.00000000e+00,  0.00000000e+00,  0.00000000e+00,\n",
       "         0.00000000e+00,  0.00000000e+00,  0.00000000e+00,\n",
       "         0.00000000e+00,  0.00000000e+00,  0.00000000e+00,\n",
       "         0.00000000e+00,  0.00000000e+00,  0.00000000e+00,\n",
       "         0.00000000e+00,  0.00000000e+00,  0.00000000e+00,\n",
       "         0.00000000e+00,  0.00000000e+00,  0.00000000e+00],\n",
       "       [ 0.00000000e+00,  0.00000000e+00,  0.00000000e+00,\n",
       "         0.00000000e+00,  0.00000000e+00,  0.00000000e+00,\n",
       "         0.00000000e+00,  0.00000000e+00,  0.00000000e+00,\n",
       "         0.00000000e+00,  0.00000000e+00,  0.00000000e+00,\n",
       "         0.00000000e+00,  0.00000000e+00,  0.00000000e+00,\n",
       "         0.00000000e+00,  0.00000000e+00,  0.00000000e+00,\n",
       "         0.00000000e+00,  0.00000000e+00,  0.00000000e+00],\n",
       "       [ 0.00000000e+00,  0.00000000e+00,  0.00000000e+00,\n",
       "         0.00000000e+00,  0.00000000e+00,  0.00000000e+00,\n",
       "         0.00000000e+00,  0.00000000e+00,  0.00000000e+00,\n",
       "         0.00000000e+00,  0.00000000e+00,  0.00000000e+00,\n",
       "         0.00000000e+00,  0.00000000e+00,  0.00000000e+00,\n",
       "         0.00000000e+00,  0.00000000e+00,  0.00000000e+00,\n",
       "         0.00000000e+00,  0.00000000e+00,  0.00000000e+00],\n",
       "       [ 0.00000000e+00,  0.00000000e+00,  0.00000000e+00,\n",
       "         0.00000000e+00,  0.00000000e+00,  0.00000000e+00,\n",
       "         0.00000000e+00,  0.00000000e+00,  0.00000000e+00,\n",
       "         0.00000000e+00,  0.00000000e+00,  0.00000000e+00,\n",
       "         0.00000000e+00,  0.00000000e+00,  0.00000000e+00,\n",
       "         0.00000000e+00,  0.00000000e+00,  0.00000000e+00,\n",
       "         0.00000000e+00,  0.00000000e+00,  0.00000000e+00],\n",
       "       [ 0.00000000e+00,  0.00000000e+00,  0.00000000e+00,\n",
       "         0.00000000e+00,  0.00000000e+00,  0.00000000e+00,\n",
       "         0.00000000e+00,  0.00000000e+00,  0.00000000e+00,\n",
       "         0.00000000e+00,  0.00000000e+00,  0.00000000e+00,\n",
       "         0.00000000e+00,  0.00000000e+00,  0.00000000e+00,\n",
       "         0.00000000e+00,  0.00000000e+00,  0.00000000e+00,\n",
       "         0.00000000e+00,  0.00000000e+00,  0.00000000e+00],\n",
       "       [ 0.00000000e+00,  0.00000000e+00,  0.00000000e+00,\n",
       "         0.00000000e+00,  0.00000000e+00,  0.00000000e+00,\n",
       "         0.00000000e+00,  0.00000000e+00,  0.00000000e+00,\n",
       "         0.00000000e+00,  0.00000000e+00, -1.11022302e-16,\n",
       "         1.11022302e-17,  1.22124533e-16,  0.00000000e+00,\n",
       "         0.00000000e+00,  0.00000000e+00,  0.00000000e+00,\n",
       "         0.00000000e+00,  0.00000000e+00,  0.00000000e+00],\n",
       "       [ 0.00000000e+00,  0.00000000e+00,  0.00000000e+00,\n",
       "         0.00000000e+00,  0.00000000e+00,  0.00000000e+00,\n",
       "         0.00000000e+00,  0.00000000e+00,  0.00000000e+00,\n",
       "         0.00000000e+00,  0.00000000e+00, -4.21884749e-16,\n",
       "        -6.66133815e-16,  0.00000000e+00,  8.32667268e-17,\n",
       "         0.00000000e+00,  0.00000000e+00,  0.00000000e+00,\n",
       "         0.00000000e+00,  0.00000000e+00,  0.00000000e+00],\n",
       "       [ 0.00000000e+00,  0.00000000e+00,  0.00000000e+00,\n",
       "         0.00000000e+00,  0.00000000e+00,  0.00000000e+00,\n",
       "         0.00000000e+00,  0.00000000e+00,  0.00000000e+00,\n",
       "         0.00000000e+00,  0.00000000e+00, -3.10862447e-16,\n",
       "        -6.66133815e-16,  1.00000000e+00,  1.00000000e+00,\n",
       "         0.00000000e+00,  0.00000000e+00,  0.00000000e+00,\n",
       "         0.00000000e+00,  0.00000000e+00,  0.00000000e+00],\n",
       "       [ 0.00000000e+00,  0.00000000e+00,  0.00000000e+00,\n",
       "         0.00000000e+00,  0.00000000e+00,  0.00000000e+00,\n",
       "         0.00000000e+00,  0.00000000e+00,  0.00000000e+00,\n",
       "         0.00000000e+00,  0.00000000e+00,  0.00000000e+00,\n",
       "        -4.44089210e-17,  1.00000000e+00,  1.00000000e+00,\n",
       "         0.00000000e+00,  0.00000000e+00,  0.00000000e+00,\n",
       "         0.00000000e+00,  0.00000000e+00,  0.00000000e+00],\n",
       "       [ 0.00000000e+00,  0.00000000e+00,  0.00000000e+00,\n",
       "         0.00000000e+00,  0.00000000e+00,  0.00000000e+00,\n",
       "         0.00000000e+00,  0.00000000e+00,  0.00000000e+00,\n",
       "         0.00000000e+00,  0.00000000e+00,  0.00000000e+00,\n",
       "         0.00000000e+00,  0.00000000e+00,  0.00000000e+00,\n",
       "         0.00000000e+00,  0.00000000e+00,  0.00000000e+00,\n",
       "         0.00000000e+00,  0.00000000e+00,  0.00000000e+00],\n",
       "       [ 0.00000000e+00,  0.00000000e+00,  0.00000000e+00,\n",
       "         0.00000000e+00,  0.00000000e+00,  0.00000000e+00,\n",
       "         0.00000000e+00,  0.00000000e+00,  0.00000000e+00,\n",
       "         0.00000000e+00,  0.00000000e+00,  0.00000000e+00,\n",
       "         0.00000000e+00,  0.00000000e+00,  0.00000000e+00,\n",
       "         0.00000000e+00,  0.00000000e+00,  0.00000000e+00,\n",
       "         0.00000000e+00,  0.00000000e+00,  0.00000000e+00],\n",
       "       [ 0.00000000e+00,  0.00000000e+00,  0.00000000e+00,\n",
       "         0.00000000e+00,  0.00000000e+00,  0.00000000e+00,\n",
       "         0.00000000e+00,  0.00000000e+00,  0.00000000e+00,\n",
       "         0.00000000e+00,  0.00000000e+00,  0.00000000e+00,\n",
       "         0.00000000e+00,  0.00000000e+00,  0.00000000e+00,\n",
       "         0.00000000e+00,  0.00000000e+00,  0.00000000e+00,\n",
       "         0.00000000e+00,  0.00000000e+00,  0.00000000e+00],\n",
       "       [ 0.00000000e+00,  0.00000000e+00,  0.00000000e+00,\n",
       "         0.00000000e+00,  0.00000000e+00,  0.00000000e+00,\n",
       "         0.00000000e+00,  0.00000000e+00,  0.00000000e+00,\n",
       "         0.00000000e+00,  0.00000000e+00,  0.00000000e+00,\n",
       "         0.00000000e+00,  0.00000000e+00,  0.00000000e+00,\n",
       "         0.00000000e+00,  0.00000000e+00,  0.00000000e+00,\n",
       "         0.00000000e+00,  0.00000000e+00,  0.00000000e+00],\n",
       "       [ 0.00000000e+00,  0.00000000e+00,  0.00000000e+00,\n",
       "         0.00000000e+00,  0.00000000e+00,  0.00000000e+00,\n",
       "         0.00000000e+00,  0.00000000e+00,  0.00000000e+00,\n",
       "         0.00000000e+00,  0.00000000e+00,  0.00000000e+00,\n",
       "         0.00000000e+00,  0.00000000e+00,  0.00000000e+00,\n",
       "         0.00000000e+00,  0.00000000e+00,  0.00000000e+00,\n",
       "         0.00000000e+00,  0.00000000e+00,  0.00000000e+00],\n",
       "       [ 0.00000000e+00,  0.00000000e+00,  0.00000000e+00,\n",
       "         0.00000000e+00,  0.00000000e+00,  0.00000000e+00,\n",
       "         0.00000000e+00,  0.00000000e+00,  0.00000000e+00,\n",
       "         0.00000000e+00,  0.00000000e+00,  0.00000000e+00,\n",
       "         0.00000000e+00,  0.00000000e+00,  0.00000000e+00,\n",
       "         0.00000000e+00,  0.00000000e+00,  0.00000000e+00,\n",
       "         0.00000000e+00,  0.00000000e+00,  0.00000000e+00]])"
      ]
     },
     "execution_count": 39,
     "metadata": {},
     "output_type": "execute_result"
    }
   ],
   "source": [
    "linearization_inverse(np.dot(S,coeffs_lst[-3])*tau+u_0)"
   ]
  },
  {
   "cell_type": "code",
   "execution_count": null,
   "id": "133e9f6a",
   "metadata": {},
   "outputs": [],
   "source": []
  }
 ],
 "metadata": {
  "kernelspec": {
   "display_name": "Python 3",
   "language": "python",
   "name": "python3"
  },
  "language_info": {
   "codemirror_mode": {
    "name": "ipython",
    "version": 3
   },
   "file_extension": ".py",
   "mimetype": "text/x-python",
   "name": "python",
   "nbconvert_exporter": "python",
   "pygments_lexer": "ipython3",
   "version": "3.11.9"
  }
 },
 "nbformat": 4,
 "nbformat_minor": 5
}
