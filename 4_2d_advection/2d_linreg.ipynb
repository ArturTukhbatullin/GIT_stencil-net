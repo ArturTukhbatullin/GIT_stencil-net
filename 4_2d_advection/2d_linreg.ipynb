{
 "cells": [
  {
   "cell_type": "code",
   "execution_count": 1,
   "id": "6650b68f",
   "metadata": {},
   "outputs": [],
   "source": [
    "import pandas as pd\n",
    "import numpy as np\n",
    "\n",
    "from sklearn.metrics import mean_squared_error\n",
    "import matplotlib.pyplot as plt\n",
    "from statsmodels.api import OLS"
   ]
  },
  {
   "cell_type": "markdown",
   "id": "e134d6ea",
   "metadata": {},
   "source": [
    "### Чтение данных"
   ]
  },
  {
   "cell_type": "code",
   "execution_count": 2,
   "id": "bcd31902",
   "metadata": {},
   "outputs": [],
   "source": [
    "import pickle\n",
    "# v_fact=pickle.load(open('2d_advection_fact.pkl','rb'))\n",
    "# v_fact=pickle.load(open('2d_advection_fact_2var.pkl','rb'))\n",
    "\n",
    "path=fr'D:\\myProjects\\diplom_2\\GIT_stencil-net\\Experiments\\Experiment_2d_advection/'\n",
    "v_fact=pickle.load(open(path+'data.pkl','rb'))"
   ]
  },
  {
   "cell_type": "code",
   "execution_count": 3,
   "id": "319d8199",
   "metadata": {},
   "outputs": [],
   "source": [
    "h=0.05\n",
    "tau=0.05\n",
    "# tau=0.025\n",
    "# tau=0.1"
   ]
  },
  {
   "cell_type": "code",
   "execution_count": 4,
   "id": "5cc7a8c1",
   "metadata": {},
   "outputs": [
    {
     "data": {
      "text/plain": [
       "<matplotlib.image.AxesImage at 0x19264d2b2d0>"
      ]
     },
     "execution_count": 4,
     "metadata": {},
     "output_type": "execute_result"
    },
    {
     "data": {
      "image/png": "[encoded data removed]",
      "text/plain": [
       "<Figure size 640x480 with 1 Axes>"
      ]
     },
     "metadata": {},
     "output_type": "display_data"
    }
   ],
   "source": [
    "plt.imshow(v_fact[0,:,:])"
   ]
  },
  {
   "cell_type": "code",
   "execution_count": 5,
   "id": "72b47b33",
   "metadata": {},
   "outputs": [
    {
     "data": {
      "text/plain": [
       "(18, 21, 21)"
      ]
     },
     "execution_count": 5,
     "metadata": {},
     "output_type": "execute_result"
    }
   ],
   "source": [
    "v_fact.shape"
   ]
  },
  {
   "cell_type": "markdown",
   "id": "7d346a63",
   "metadata": {},
   "source": [
    "### Линеаризация"
   ]
  },
  {
   "cell_type": "code",
   "execution_count": 6,
   "id": "7a89700f",
   "metadata": {},
   "outputs": [],
   "source": [
    "def linearization(v_fact):\n",
    "\n",
    "    n=len(v_fact)\n",
    "    A=np.zeros((n*n))\n",
    "\n",
    "    for i in range(n):\n",
    "        for j in range(n):\n",
    "            A[i+n*j]=v_fact[i,j]\n",
    "\n",
    "    return A\n",
    "\n",
    "def get_value(A,i,j):\n",
    "\n",
    "    n=int(np.sqrt(len(A)))\n",
    "    \n",
    "    if i>=n and j>=n:\n",
    "        value = A[i-n+n*j-n]\n",
    "    elif i>=n:\n",
    "        value = A[i-n+n*j]\n",
    "    elif j>=n:\n",
    "        value = A[i+(n*j)-n]\n",
    "    else:\n",
    "        value = A[i+n*j]\n",
    "\n",
    "    return value\n",
    "\n",
    "def get_value(A, i, j):\n",
    "    # Handle periodic boundary conditions\n",
    "    n=int(np.sqrt(len(A)))\n",
    "    i = i % n  # Wrap around if i is outside [0, n-1]\n",
    "    j = j % n  # Wrap around if j is outside [0, n-1]\n",
    "    return A[i + n * j]"
   ]
  },
  {
   "cell_type": "code",
   "execution_count": 7,
   "id": "55c9e269",
   "metadata": {},
   "outputs": [],
   "source": [
    "def linearization_inverse(v_fact):\n",
    "\n",
    "    n=int(np.sqrt(len(v_fact)))\n",
    "    v_fact_mat=np.zeros((n,n))\n",
    "\n",
    "    for i in range(n):\n",
    "        for j in range(n):\n",
    "            v_fact_mat[i,j]=get_value(v_fact,i,j)\n",
    "\n",
    "\n",
    "    return v_fact_mat"
   ]
  },
  {
   "cell_type": "code",
   "execution_count": 8,
   "id": "9897cbb2",
   "metadata": {},
   "outputs": [],
   "source": [
    "### test\n",
    "test_matrix=np.zeros((5,5))\n",
    "for i in range(5):\n",
    "    for j in range(5):\n",
    "        if i==0 or j==0 or i==4 or j==4:\n",
    "            test_matrix[i,j]=-999\n",
    "            # test_matrix[i,j]=i+j*4\n",
    "        else:\n",
    "            test_matrix[i,j]=i+j*4\n",
    "\n",
    "test_output=linearization(test_matrix)\n",
    "\n",
    "for i in range(5):\n",
    "    for j in range(5):\n",
    "        assert test_matrix[i,j]==get_value(test_output,i,j),fr'{i},{j} не совпадает'\n"
   ]
  },
  {
   "cell_type": "code",
   "execution_count": 9,
   "id": "36cc854f",
   "metadata": {},
   "outputs": [
    {
     "data": {
      "text/plain": [
       "array([[-999., -999., -999., -999., -999.],\n",
       "       [-999.,    5.,    9.,   13., -999.],\n",
       "       [-999.,    6.,   10.,   14., -999.],\n",
       "       [-999.,    7.,   11.,   15., -999.],\n",
       "       [-999., -999., -999., -999., -999.]])"
      ]
     },
     "execution_count": 9,
     "metadata": {},
     "output_type": "execute_result"
    }
   ],
   "source": [
    "test_matrix"
   ]
  },
  {
   "cell_type": "code",
   "execution_count": 10,
   "id": "64da659a",
   "metadata": {},
   "outputs": [
    {
     "data": {
      "text/plain": [
       "array([-999., -999., -999., -999., -999., -999.,    5.,    6.,    7.,\n",
       "       -999., -999.,    9.,   10.,   11., -999., -999.,   13.,   14.,\n",
       "         15., -999., -999., -999., -999., -999., -999.])"
      ]
     },
     "execution_count": 10,
     "metadata": {},
     "output_type": "execute_result"
    }
   ],
   "source": [
    "test_output"
   ]
  },
  {
   "cell_type": "code",
   "execution_count": 11,
   "id": "da06febd",
   "metadata": {},
   "outputs": [
    {
     "data": {
      "text/plain": [
       "array([[-999., -999., -999., -999., -999.],\n",
       "       [-999.,    5.,    9.,   13., -999.],\n",
       "       [-999.,    6.,   10.,   14., -999.],\n",
       "       [-999.,    7.,   11.,   15., -999.],\n",
       "       [-999., -999., -999., -999., -999.]])"
      ]
     },
     "execution_count": 11,
     "metadata": {},
     "output_type": "execute_result"
    }
   ],
   "source": [
    "linearization_inverse(test_output)"
   ]
  },
  {
   "cell_type": "code",
   "execution_count": 12,
   "id": "38cd6dc1",
   "metadata": {},
   "outputs": [
    {
     "data": {
      "text/plain": [
       "np.float64(-999.0)"
      ]
     },
     "execution_count": 12,
     "metadata": {},
     "output_type": "execute_result"
    }
   ],
   "source": [
    "get_value(test_output,4,4)"
   ]
  },
  {
   "cell_type": "code",
   "execution_count": 13,
   "id": "255571bf",
   "metadata": {},
   "outputs": [],
   "source": [
    "# #ниже определяю функцию\n",
    "# A=make_A(test_output,5)\n",
    "# A.shape"
   ]
  },
  {
   "cell_type": "code",
   "execution_count": 14,
   "id": "68fca646",
   "metadata": {},
   "outputs": [],
   "source": [
    "# from sklearn.preprocessing import PolynomialFeatures\n",
    "\n",
    "# poly = PolynomialFeatures(degree=4, include_bias=True)\n",
    "# X_poly = poly.fit_transform(A)\n",
    "# X_poly.shape"
   ]
  },
  {
   "cell_type": "code",
   "execution_count": 15,
   "id": "8904c783",
   "metadata": {},
   "outputs": [],
   "source": [
    "# drop_boundary_points(A)"
   ]
  },
  {
   "cell_type": "code",
   "execution_count": 16,
   "id": "59c89a3a",
   "metadata": {},
   "outputs": [],
   "source": [
    "# filtered_arr = np.delete(A, drop_boundary_points(A), axis=0)  # axis=0 — удаляем строки\n",
    "# filtered_arr"
   ]
  },
  {
   "cell_type": "code",
   "execution_count": 17,
   "id": "ae6a5ab0",
   "metadata": {},
   "outputs": [],
   "source": [
    "# B_mat=make_B(test_output,5)\n",
    "# B_mat = poly.fit_transform(B_mat)\n",
    "# B_mat.shape"
   ]
  },
  {
   "cell_type": "code",
   "execution_count": 18,
   "id": "ffc382dd",
   "metadata": {},
   "outputs": [],
   "source": [
    "# np.concatenate([A,B_mat],axis=1).shape"
   ]
  },
  {
   "cell_type": "markdown",
   "id": "3f23ed40",
   "metadata": {},
   "source": [
    "### ПреПроцесс конечно-разн аналогии"
   ]
  },
  {
   "cell_type": "code",
   "execution_count": 19,
   "id": "09ca886d",
   "metadata": {},
   "outputs": [],
   "source": [
    "# [-1.00000000e+03, -5.49116308e-13,  8.16013923e-13, -1.79700699e-12,\n",
    "#        -2.90700797e-12, -8.81072992e-13,  1.00000000e+03])\n",
    "\n",
    "#     if self.fs % 2 != 0:\n",
    "#             n = int(np.sqrt(x.shape[1]))\n",
    "#             px = self.make_px(x, 0, 0, n)\n",
    "#             for i in range(1, int(self.fs/2)+1):\n",
    "#                 l = self.make_px(x, -i, 0, n)\n",
    "#                 r = self.make_px(x, i, 0, n)\n",
    "#                 l2 = self.make_px(x, 0, -i, n)\n",
    "#                 r2 = self.make_px(x, 0, i, n)\n",
    "#                 rl = self.make_px(x, i, i, n)\n",
    "#                 rl2 = self.make_px(x, -i, -i, n)\n",
    "#                 px = torch.cat([l, l2, px, r, r2,rl,rl2], -1)"
   ]
  },
  {
   "cell_type": "code",
   "execution_count": 20,
   "id": "585eaa58",
   "metadata": {},
   "outputs": [],
   "source": [
    "def make_A(u_0,n):\n",
    "\n",
    "    # n2=5\n",
    "    n2=9\n",
    "\n",
    "    A=np.zeros((n*n,n2))\n",
    "    # conv coeffs\n",
    "    for i in range(0,n):\n",
    "        for j in range(0,n):\n",
    "            ind=i+j*(n)\n",
    "            \n",
    "            # Величины 1-й степени\n",
    "            A[ind][0]=get_value(u_0,i,j)\n",
    "            A[ind][1]=get_value(u_0,i,j-1)\n",
    "            A[ind][2]=get_value(u_0,i,j+1)\n",
    "            A[ind][3]=get_value(u_0,i-1,j)\n",
    "            A[ind][4]=get_value(u_0,i+1,j)\n",
    "\n",
    "            A[ind][5]=get_value(u_0,i,j-2)\n",
    "            A[ind][6]=get_value(u_0,i-2,j)\n",
    "            A[ind][7]=get_value(u_0,i,j+2)\n",
    "            A[ind][8]=get_value(u_0,i+2,j)\n",
    "\n",
    "    return A\n",
    "\n",
    "def make_B(u_0,n):\n",
    "\n",
    "    # n2=2\n",
    "    n2=4\n",
    "\n",
    "    A=np.zeros((n*n,n2))\n",
    "    # conv coeffs\n",
    "    for i in range(0,n):\n",
    "        for j in range(0,n):\n",
    "            ind=i+j*(n)\n",
    "            \n",
    "            # Величины 1-й степени\n",
    "            A[ind][0]=get_value(u_0,i+1,j+1)\n",
    "            A[ind][1]=get_value(u_0,i-1,j-1)\n",
    "\n",
    "            A[ind][0]=get_value(u_0,i+2,j+2)\n",
    "            A[ind][2]=get_value(u_0,i-2,j-2)\n",
    "\n",
    "    return A\n",
    "\n",
    "def drop_boundary_points(A_mat):\n",
    "\n",
    "    A=A_mat.copy()\n",
    "\n",
    "    n=int(np.sqrt(len(A)))\n",
    "    \n",
    "    boundary_id=[i+j*n for i in range(n) for j in range(n) if i==0 or j==0 or i==n-1 or j==n-1]\n",
    "\n",
    "    return sorted(boundary_id)\n",
    "\n",
    "def make_rhs(t_0,t_1,n,tau):\n",
    "    \n",
    "    rhs=np.zeros((n*n,1))\n",
    "    \n",
    "    for i in range(0,n):\n",
    "        for j in range(0,n):\n",
    "            rhs[i+j*n][0]=(get_value(t_1,i,j)-get_value(t_0,i,j))/tau\n",
    "\n",
    "    return rhs"
   ]
  },
  {
   "cell_type": "markdown",
   "id": "23c0c037",
   "metadata": {},
   "source": [
    "### Конечно-разн аналогия"
   ]
  },
  {
   "cell_type": "code",
   "execution_count": 21,
   "id": "65953723",
   "metadata": {},
   "outputs": [
    {
     "data": {
      "text/plain": [
       "18"
      ]
     },
     "execution_count": 21,
     "metadata": {},
     "output_type": "execute_result"
    }
   ],
   "source": [
    "v_fact.shape[0]"
   ]
  },
  {
   "cell_type": "code",
   "execution_count": 22,
   "id": "e8065422",
   "metadata": {},
   "outputs": [
    {
     "name": "stdout",
     "output_type": "stream",
     "text": [
      "(441, 13) (441, 1)\n",
      "(361, 13) (361, 1)\n",
      "(441, 13) (441, 1)\n",
      "(361, 13) (361, 1)\n",
      "(441, 13) (441, 1)\n",
      "(361, 13) (361, 1)\n",
      "(441, 13) (441, 1)\n",
      "(361, 13) (361, 1)\n",
      "(441, 13) (441, 1)\n",
      "(361, 13) (361, 1)\n",
      "(441, 13) (441, 1)\n",
      "(361, 13) (361, 1)\n",
      "(441, 13) (441, 1)\n",
      "(361, 13) (361, 1)\n",
      "(441, 13) (441, 1)\n",
      "(361, 13) (361, 1)\n"
     ]
    }
   ],
   "source": [
    "# n_cycle = v_fact.shape[0]-1\n",
    "# n_cycle=100\n",
    "# n_cycle=17\n",
    "n_cycle=8\n",
    "\n",
    "coeffs_lst=[]\n",
    "mse_lst=[]\n",
    "for j in range(n_cycle):\n",
    "    \n",
    "    u_0=v_fact[j,:,:]\n",
    "    u_1=v_fact[j+1,:,:]\n",
    "    n=21\n",
    "\n",
    "    u_0=linearization(u_0) # начальное состояние\n",
    "    u_1=linearization(u_1) # следующее состояние\n",
    "\n",
    "    A_mat=make_A(u_0,n)\n",
    "    # poly = PolynomialFeatures(degree=2, include_bias=True)\n",
    "    # A_mat = poly.fit_transform(A_mat)\n",
    "\n",
    "    B_mat=make_B(u_0,n)\n",
    "    # poly = PolynomialFeatures(degree=2, include_bias=False)\n",
    "    # B_mat = poly.fit_transform(B_mat)\n",
    "\n",
    "    A_mat=np.concatenate([A_mat,B_mat],axis=1)\n",
    "\n",
    "    rhs=make_rhs(u_0,u_1,n,tau=tau)\n",
    "\n",
    "    print(A_mat.shape,rhs.shape)\n",
    "\n",
    "    S = A_mat\n",
    "    rhs = rhs\n",
    "    S=np.delete(A_mat, drop_boundary_points(A_mat), axis=0) \n",
    "    rhs=np.delete(rhs,drop_boundary_points(rhs), axis=0)\n",
    "\n",
    "    print(S.shape,rhs.shape)\n",
    "    \n",
    "    model_sm=OLS(rhs,S,hasconst=True)\n",
    "    results_sm=model_sm.fit()\n",
    "    \n",
    "    mse=mean_squared_error(rhs,results_sm.predict(S))\n",
    "    # print(\"MSE :\",mse)\n",
    "    \n",
    "    # print('COEFFICIENT',results_sm.params)\n",
    "    mse_lst.append(mse)\n",
    "    coeffs_lst.append(results_sm.params)\n",
    "    \n",
    "mse_lst=np.array(mse_lst)\n",
    "coeffs_lst=np.array(coeffs_lst)"
   ]
  },
  {
   "cell_type": "code",
   "execution_count": 23,
   "id": "b5acd246",
   "metadata": {},
   "outputs": [
    {
     "name": "stderr",
     "output_type": "stream",
     "text": [
      "C:\\Users\\tyxba\\AppData\\Local\\Packages\\PythonSoftwareFoundation.Python.3.11_qbz5n2kfra8p0\\LocalCache\\local-packages\\Python311\\site-packages\\statsmodels\\regression\\linear_model.py:1966: RuntimeWarning: divide by zero encountered in scalar divide\n",
      "  return np.sqrt(eigvals[0]/eigvals[-1])\n",
      "C:\\Users\\tyxba\\AppData\\Local\\Packages\\PythonSoftwareFoundation.Python.3.11_qbz5n2kfra8p0\\LocalCache\\local-packages\\Python311\\site-packages\\statsmodels\\regression\\linear_model.py:1871: RuntimeWarning: divide by zero encountered in scalar divide\n",
      "  return self.mse_model/self.mse_resid\n",
      "C:\\Users\\tyxba\\AppData\\Local\\Packages\\PythonSoftwareFoundation.Python.3.11_qbz5n2kfra8p0\\LocalCache\\local-packages\\Python311\\site-packages\\statsmodels\\regression\\linear_model.py:955: RuntimeWarning: divide by zero encountered in log\n",
      "  llf = -nobs2*np.log(2*np.pi) - nobs2*np.log(ssr / nobs) - nobs2\n",
      "C:\\Users\\tyxba\\AppData\\Local\\Packages\\PythonSoftwareFoundation.Python.3.11_qbz5n2kfra8p0\\LocalCache\\local-packages\\Python311\\site-packages\\statsmodels\\stats\\stattools.py:50: RuntimeWarning: invalid value encountered in scalar divide\n",
      "  dw = np.sum(diff_resids**2, axis=axis) / np.sum(resids**2, axis=axis)\n"
     ]
    },
    {
     "data": {
      "text/html": [
       "<table class=\"simpletable\">\n",
       "<caption>OLS Regression Results</caption>\n",
       "<tr>\n",
       "  <th>Dep. Variable:</th>            <td>y</td>        <th>  R-squared:         </th> <td>   1.000</td>\n",
       "</tr>\n",
       "<tr>\n",
       "  <th>Model:</th>                   <td>OLS</td>       <th>  Adj. R-squared:    </th> <td>   1.000</td>\n",
       "</tr>\n",
       "<tr>\n",
       "  <th>Method:</th>             <td>Least Squares</td>  <th>  F-statistic:       </th> <td>     inf</td>\n",
       "</tr>\n",
       "<tr>\n",
       "  <th>Date:</th>             <td>Sun, 11 May 2025</td> <th>  Prob (F-statistic):</th>  <td>  0.00</td> \n",
       "</tr>\n",
       "<tr>\n",
       "  <th>Time:</th>                 <td>16:31:13</td>     <th>  Log-Likelihood:    </th> <td>     inf</td>\n",
       "</tr>\n",
       "<tr>\n",
       "  <th>No. Observations:</th>      <td>   361</td>      <th>  AIC:               </th> <td>    -inf</td>\n",
       "</tr>\n",
       "<tr>\n",
       "  <th>Df Residuals:</th>          <td>   349</td>      <th>  BIC:               </th> <td>    -inf</td>\n",
       "</tr>\n",
       "<tr>\n",
       "  <th>Df Model:</th>              <td>    11</td>      <th>                     </th>     <td> </td>   \n",
       "</tr>\n",
       "<tr>\n",
       "  <th>Covariance Type:</th>      <td>nonrobust</td>    <th>                     </th>     <td> </td>   \n",
       "</tr>\n",
       "</table>\n",
       "<table class=\"simpletable\">\n",
       "<tr>\n",
       "    <td></td>       <th>coef</th>     <th>std err</th>      <th>t</th>      <th>P>|t|</th>  <th>[0.025</th>    <th>0.975]</th>  \n",
       "</tr>\n",
       "<tr>\n",
       "  <th>x1</th>    <td>  -20.0000</td> <td>        0</td> <td>     -inf</td> <td> 0.000</td> <td>  -20.000</td> <td>  -20.000</td>\n",
       "</tr>\n",
       "<tr>\n",
       "  <th>x2</th>    <td>         0</td> <td>        0</td> <td>      nan</td> <td>   nan</td> <td>        0</td> <td>        0</td>\n",
       "</tr>\n",
       "<tr>\n",
       "  <th>x3</th>    <td>         0</td> <td>        0</td> <td>      nan</td> <td>   nan</td> <td>        0</td> <td>        0</td>\n",
       "</tr>\n",
       "<tr>\n",
       "  <th>x4</th>    <td>         0</td> <td>        0</td> <td>      nan</td> <td>   nan</td> <td>        0</td> <td>        0</td>\n",
       "</tr>\n",
       "<tr>\n",
       "  <th>x5</th>    <td>         0</td> <td>        0</td> <td>      nan</td> <td>   nan</td> <td>        0</td> <td>        0</td>\n",
       "</tr>\n",
       "<tr>\n",
       "  <th>x6</th>    <td>         0</td> <td>        0</td> <td>      nan</td> <td>   nan</td> <td>        0</td> <td>        0</td>\n",
       "</tr>\n",
       "<tr>\n",
       "  <th>x7</th>    <td>         0</td> <td>        0</td> <td>      nan</td> <td>   nan</td> <td>        0</td> <td>        0</td>\n",
       "</tr>\n",
       "<tr>\n",
       "  <th>x8</th>    <td>         0</td> <td>        0</td> <td>      nan</td> <td>   nan</td> <td>        0</td> <td>        0</td>\n",
       "</tr>\n",
       "<tr>\n",
       "  <th>x9</th>    <td>         0</td> <td>        0</td> <td>      nan</td> <td>   nan</td> <td>        0</td> <td>        0</td>\n",
       "</tr>\n",
       "<tr>\n",
       "  <th>x10</th>   <td>         0</td> <td>        0</td> <td>      nan</td> <td>   nan</td> <td>        0</td> <td>        0</td>\n",
       "</tr>\n",
       "<tr>\n",
       "  <th>x11</th>   <td>   20.0000</td> <td>        0</td> <td>      inf</td> <td> 0.000</td> <td>   20.000</td> <td>   20.000</td>\n",
       "</tr>\n",
       "<tr>\n",
       "  <th>x12</th>   <td>         0</td> <td>        0</td> <td>      nan</td> <td>   nan</td> <td>        0</td> <td>        0</td>\n",
       "</tr>\n",
       "<tr>\n",
       "  <th>const</th> <td>         0</td> <td>        0</td> <td>      nan</td> <td>   nan</td> <td>        0</td> <td>        0</td>\n",
       "</tr>\n",
       "</table>\n",
       "<table class=\"simpletable\">\n",
       "<tr>\n",
       "  <th>Omnibus:</th>       <td>   nan</td> <th>  Durbin-Watson:     </th> <td>     nan</td>\n",
       "</tr>\n",
       "<tr>\n",
       "  <th>Prob(Omnibus):</th> <td>   nan</td> <th>  Jarque-Bera (JB):  </th> <td>     nan</td>\n",
       "</tr>\n",
       "<tr>\n",
       "  <th>Skew:</th>          <td>   nan</td> <th>  Prob(JB):          </th> <td>     nan</td>\n",
       "</tr>\n",
       "<tr>\n",
       "  <th>Kurtosis:</th>      <td>   nan</td> <th>  Cond. No.          </th> <td>     inf</td>\n",
       "</tr>\n",
       "</table><br/><br/>Notes:<br/>[1] Standard Errors assume that the covariance matrix of the errors is correctly specified.<br/>[2] The smallest eigenvalue is      0. This might indicate that there are<br/>strong multicollinearity problems or that the design matrix is singular."
      ],
      "text/latex": [
       "\\begin{center}\n",
       "\\begin{tabular}{lclc}\n",
       "\\toprule\n",
       "\\textbf{Dep. Variable:}    &        y         & \\textbf{  R-squared:         } &     1.000   \\\\\n",
       "\\textbf{Model:}            &       OLS        & \\textbf{  Adj. R-squared:    } &     1.000   \\\\\n",
       "\\textbf{Method:}           &  Least Squares   & \\textbf{  F-statistic:       } &       inf   \\\\\n",
       "\\textbf{Date:}             & Sun, 11 May 2025 & \\textbf{  Prob (F-statistic):} &     0.00    \\\\\n",
       "\\textbf{Time:}             &     16:31:13     & \\textbf{  Log-Likelihood:    } &       inf   \\\\\n",
       "\\textbf{No. Observations:} &         361      & \\textbf{  AIC:               } &      -inf   \\\\\n",
       "\\textbf{Df Residuals:}     &         349      & \\textbf{  BIC:               } &      -inf   \\\\\n",
       "\\textbf{Df Model:}         &          11      & \\textbf{                     } &             \\\\\n",
       "\\textbf{Covariance Type:}  &    nonrobust     & \\textbf{                     } &             \\\\\n",
       "\\bottomrule\n",
       "\\end{tabular}\n",
       "\\begin{tabular}{lcccccc}\n",
       "               & \\textbf{coef} & \\textbf{std err} & \\textbf{t} & \\textbf{P$> |$t$|$} & \\textbf{[0.025} & \\textbf{0.975]}  \\\\\n",
       "\\midrule\n",
       "\\textbf{x1}    &     -20.0000  &            0     &      -inf  &         0.000        &      -20.000    &      -20.000     \\\\\n",
       "\\textbf{x2}    &            0  &            0     &       nan  &           nan        &            0    &            0     \\\\\n",
       "\\textbf{x3}    &            0  &            0     &       nan  &           nan        &            0    &            0     \\\\\n",
       "\\textbf{x4}    &            0  &            0     &       nan  &           nan        &            0    &            0     \\\\\n",
       "\\textbf{x5}    &            0  &            0     &       nan  &           nan        &            0    &            0     \\\\\n",
       "\\textbf{x6}    &            0  &            0     &       nan  &           nan        &            0    &            0     \\\\\n",
       "\\textbf{x7}    &            0  &            0     &       nan  &           nan        &            0    &            0     \\\\\n",
       "\\textbf{x8}    &            0  &            0     &       nan  &           nan        &            0    &            0     \\\\\n",
       "\\textbf{x9}    &            0  &            0     &       nan  &           nan        &            0    &            0     \\\\\n",
       "\\textbf{x10}   &            0  &            0     &       nan  &           nan        &            0    &            0     \\\\\n",
       "\\textbf{x11}   &      20.0000  &            0     &       inf  &         0.000        &       20.000    &       20.000     \\\\\n",
       "\\textbf{x12}   &            0  &            0     &       nan  &           nan        &            0    &            0     \\\\\n",
       "\\textbf{const} &            0  &            0     &       nan  &           nan        &            0    &            0     \\\\\n",
       "\\bottomrule\n",
       "\\end{tabular}\n",
       "\\begin{tabular}{lclc}\n",
       "\\textbf{Omnibus:}       &    nan & \\textbf{  Durbin-Watson:     } &      nan  \\\\\n",
       "\\textbf{Prob(Omnibus):} &    nan & \\textbf{  Jarque-Bera (JB):  } &      nan  \\\\\n",
       "\\textbf{Skew:}          &    nan & \\textbf{  Prob(JB):          } &      nan  \\\\\n",
       "\\textbf{Kurtosis:}      &    nan & \\textbf{  Cond. No.          } &      inf  \\\\\n",
       "\\bottomrule\n",
       "\\end{tabular}\n",
       "%\\caption{OLS Regression Results}\n",
       "\\end{center}\n",
       "\n",
       "Notes: \\newline\n",
       " [1] Standard Errors assume that the covariance matrix of the errors is correctly specified. \\newline\n",
       " [2] The smallest eigenvalue is      0. This might indicate that there are \\newline\n",
       " strong multicollinearity problems or that the design matrix is singular."
      ],
      "text/plain": [
       "<class 'statsmodels.iolib.summary.Summary'>\n",
       "\"\"\"\n",
       "                            OLS Regression Results                            \n",
       "==============================================================================\n",
       "Dep. Variable:                      y   R-squared:                       1.000\n",
       "Model:                            OLS   Adj. R-squared:                  1.000\n",
       "Method:                 Least Squares   F-statistic:                       inf\n",
       "Date:                Sun, 11 May 2025   Prob (F-statistic):               0.00\n",
       "Time:                        16:31:13   Log-Likelihood:                    inf\n",
       "No. Observations:                 361   AIC:                              -inf\n",
       "Df Residuals:                     349   BIC:                              -inf\n",
       "Df Model:                          11                                         \n",
       "Covariance Type:            nonrobust                                         \n",
       "==============================================================================\n",
       "                 coef    std err          t      P>|t|      [0.025      0.975]\n",
       "------------------------------------------------------------------------------\n",
       "x1           -20.0000          0       -inf      0.000     -20.000     -20.000\n",
       "x2                  0          0        nan        nan           0           0\n",
       "x3                  0          0        nan        nan           0           0\n",
       "x4                  0          0        nan        nan           0           0\n",
       "x5                  0          0        nan        nan           0           0\n",
       "x6                  0          0        nan        nan           0           0\n",
       "x7                  0          0        nan        nan           0           0\n",
       "x8                  0          0        nan        nan           0           0\n",
       "x9                  0          0        nan        nan           0           0\n",
       "x10                 0          0        nan        nan           0           0\n",
       "x11           20.0000          0        inf      0.000      20.000      20.000\n",
       "x12                 0          0        nan        nan           0           0\n",
       "const               0          0        nan        nan           0           0\n",
       "==============================================================================\n",
       "Omnibus:                          nan   Durbin-Watson:                     nan\n",
       "Prob(Omnibus):                    nan   Jarque-Bera (JB):                  nan\n",
       "Skew:                             nan   Prob(JB):                          nan\n",
       "Kurtosis:                         nan   Cond. No.                          inf\n",
       "==============================================================================\n",
       "\n",
       "Notes:\n",
       "[1] Standard Errors assume that the covariance matrix of the errors is correctly specified.\n",
       "[2] The smallest eigenvalue is      0. This might indicate that there are\n",
       "strong multicollinearity problems or that the design matrix is singular.\n",
       "\"\"\""
      ]
     },
     "execution_count": 23,
     "metadata": {},
     "output_type": "execute_result"
    }
   ],
   "source": [
    "results_sm.summary()"
   ]
  },
  {
   "cell_type": "code",
   "execution_count": 24,
   "id": "12263676",
   "metadata": {},
   "outputs": [
    {
     "data": {
      "text/plain": [
       "array([-20.,   0.,   0.,   0.,   0.,   0.,   0.,   0.,   0.,   0.,  20.,\n",
       "         0.,   0.])"
      ]
     },
     "execution_count": 24,
     "metadata": {},
     "output_type": "execute_result"
    }
   ],
   "source": [
    "coeffs_lst[-1]"
   ]
  },
  {
   "cell_type": "code",
   "execution_count": 25,
   "id": "6c38ddcf",
   "metadata": {},
   "outputs": [
    {
     "data": {
      "text/plain": [
       "[<matplotlib.lines.Line2D at 0x19266e85390>]"
      ]
     },
     "execution_count": 25,
     "metadata": {},
     "output_type": "execute_result"
    },
    {
     "data": {
      "image/png": "[encoded data removed]",
      "text/plain": [
       "<Figure size 640x480 with 1 Axes>"
      ]
     },
     "metadata": {},
     "output_type": "display_data"
    }
   ],
   "source": [
    "plt.plot(mse_lst,'-*')\n",
    "# plt.ylim([-1,1])"
   ]
  },
  {
   "cell_type": "code",
   "execution_count": 26,
   "id": "55b279d0",
   "metadata": {},
   "outputs": [
    {
     "data": {
      "text/plain": [
       "((441, 13), (441, 4))"
      ]
     },
     "execution_count": 26,
     "metadata": {},
     "output_type": "execute_result"
    }
   ],
   "source": [
    "A_mat.shape,B_mat.shape"
   ]
  },
  {
   "cell_type": "code",
   "execution_count": 27,
   "id": "0040ff0c",
   "metadata": {},
   "outputs": [
    {
     "data": {
      "image/png": "[encoded data removed]",
      "text/plain": [
       "<Figure size 1500x600 with 1 Axes>"
      ]
     },
     "metadata": {},
     "output_type": "display_data"
    }
   ],
   "source": [
    "plt.figure(figsize=(15,6))\n",
    "for j in range(len(coeffs_lst[0,:])):\n",
    "    plt.plot(coeffs_lst[:,j],'--*',label=fr'coef_{j}')\n",
    "# plt.ylim([-2000,2000])\n",
    "plt.title('COEFFS')\n",
    "plt.legend()\n",
    "plt.grid()"
   ]
  },
  {
   "cell_type": "code",
   "execution_count": 28,
   "id": "45c462a5",
   "metadata": {},
   "outputs": [
    {
     "data": {
      "text/plain": [
       "array([-20.,   0.,   0.,   0.,   0.,   0.,   0.,   0.,   0.,   0.,  20.,\n",
       "         0.,   0.])"
      ]
     },
     "execution_count": 28,
     "metadata": {},
     "output_type": "execute_result"
    }
   ],
   "source": [
    "coeffs_lst[-1]"
   ]
  },
  {
   "cell_type": "code",
   "execution_count": 29,
   "id": "2712f7ad",
   "metadata": {},
   "outputs": [
    {
     "data": {
      "text/plain": [
       "10.0"
      ]
     },
     "execution_count": 29,
     "metadata": {},
     "output_type": "execute_result"
    }
   ],
   "source": [
    "1/2/h"
   ]
  },
  {
   "cell_type": "code",
   "execution_count": 30,
   "id": "834e8423",
   "metadata": {},
   "outputs": [
    {
     "data": {
      "image/png": "[encoded data removed]",
      "text/plain": [
       "<Figure size 640x480 with 1 Axes>"
      ]
     },
     "metadata": {},
     "output_type": "display_data"
    }
   ],
   "source": [
    "plt.plot(pd.Series(coeffs_lst[-1]).sort_values(),'*')\n",
    "plt.grid()"
   ]
  },
  {
   "cell_type": "code",
   "execution_count": 31,
   "id": "2b7c7baa",
   "metadata": {},
   "outputs": [
    {
     "data": {
      "text/plain": [
       "8"
      ]
     },
     "execution_count": 31,
     "metadata": {},
     "output_type": "execute_result"
    }
   ],
   "source": [
    "len(coeffs_lst)"
   ]
  },
  {
   "cell_type": "code",
   "execution_count": 32,
   "id": "721500bd",
   "metadata": {},
   "outputs": [
    {
     "name": "stdout",
     "output_type": "stream",
     "text": [
      "0 1\n"
     ]
    },
    {
     "data": {
      "image/png": "[encoded data removed]",
      "text/plain": [
       "<Figure size 640x480 with 2 Axes>"
      ]
     },
     "metadata": {},
     "output_type": "display_data"
    },
    {
     "name": "stdout",
     "output_type": "stream",
     "text": [
      "-----------------TIME INDEX = 0----------------\n",
      "[-20.   0.   0.   0.   0.   0.   0.   0.   0.   0.  20.   0.   0.]\n"
     ]
    },
    {
     "data": {
      "image/png": "[encoded data removed]",
      "text/plain": [
       "<Figure size 700x200 with 6 Axes>"
      ]
     },
     "metadata": {},
     "output_type": "display_data"
    },
    {
     "name": "stdout",
     "output_type": "stream",
     "text": [
      "5 6\n"
     ]
    },
    {
     "data": {
      "image/png": "[encoded data removed]",
      "text/plain": [
       "<Figure size 640x480 with 2 Axes>"
      ]
     },
     "metadata": {},
     "output_type": "display_data"
    },
    {
     "name": "stdout",
     "output_type": "stream",
     "text": [
      "-----------------TIME INDEX = 5----------------\n",
      "[-20.   0.   0.   0.   0.   0.   0.   0.   0.   0.  20.   0.   0.]\n"
     ]
    },
    {
     "data": {
      "image/png": "[encoded data removed]",
      "text/plain": [
       "<Figure size 700x200 with 6 Axes>"
      ]
     },
     "metadata": {},
     "output_type": "display_data"
    }
   ],
   "source": [
    "for j in range(0,n_cycle,5):\n",
    "    \n",
    "    print(j,j+1)\n",
    "    u_0=v_fact[j,:,:]\n",
    "    u_1=v_fact[j+1,:,:]\n",
    "    n=21\n",
    "    \n",
    "    plt.imshow(u_1-u_0)\n",
    "    plt.colorbar()\n",
    "    plt.show()\n",
    "\n",
    "    u_0=linearization(u_0) # начальное состояние\n",
    "    u_1=linearization(u_1) # следующее состояние\n",
    "\n",
    "\n",
    "    A_mat=make_A(u_0,n)\n",
    "    # poly = PolynomialFeatures(degree=2, include_bias=True)\n",
    "    # A_mat = poly.fit_transform(A_mat)\n",
    "\n",
    "    B_mat=make_B(u_0,n)\n",
    "    # poly = PolynomialFeatures(degree=2, include_bias=False)\n",
    "    # B_mat = poly.fit_transform(B_mat)\n",
    "\n",
    "    A_mat=np.concatenate([A_mat,B_mat],axis=1)\n",
    "    \n",
    "    rhs=make_rhs(u_0,u_1,n,tau=tau)\n",
    "\n",
    "    print(fr'-----------------TIME INDEX = {j}----------------')\n",
    "    # print(A_mat.shape,rhs.shape)\n",
    "\n",
    "    S = A_mat\n",
    "    rhs = rhs\n",
    "\n",
    "    print(coeffs_lst[-3])\n",
    "    logit_sol=np.dot(S,coeffs_lst[-3])*tau\n",
    "    logit_sol[drop_boundary_points(logit_sol)]=0\n",
    "\n",
    "    vmin=-1.5\n",
    "    vmax=1.5\n",
    "\n",
    "    plt.figure(figsize=(7, 2))\n",
    "    plt.subplot(1,3,1)\n",
    "    img1=plt.imshow(linearization_inverse(logit_sol+u_0),vmin=vmin,vmax=vmax,\n",
    "               label='logit_sol',\n",
    "               cmap='coolwarm')\n",
    "    plt.title('Мое')\n",
    "    cbar=plt.colorbar(img1,aspect=5)\n",
    "\n",
    "    plt.subplot(1,3,2)\n",
    "    img2=plt.imshow(linearization_inverse(u_1),vmin=vmin,vmax=vmax,\n",
    "               label='logit_sol',\n",
    "               cmap='coolwarm')\n",
    "    plt.title('Точное')\n",
    "    plt.colorbar(img2,aspect=5)\n",
    "\n",
    "    plt.subplot(1,3,3)\n",
    "    img3=plt.imshow(linearization_inverse(u_1)-linearization_inverse(logit_sol+u_0),\n",
    "                    vmin=-1.5,vmax=1.5,\n",
    "               label='logit_sol',\n",
    "               cmap='coolwarm')\n",
    "    plt.title('Разность')\n",
    "    plt.colorbar(img3,aspect=5)\n",
    "\n",
    "    plt.tight_layout()  # Чтобы избежать наложения подписей\n",
    "\n",
    "    # plt.savefig(fr'')\n",
    "\n",
    "    plt.show()"
   ]
  },
  {
   "cell_type": "code",
   "execution_count": 33,
   "id": "d5d99989",
   "metadata": {},
   "outputs": [
    {
     "data": {
      "text/plain": [
       "(0.05, 0.05, 20.0, -20.0)"
      ]
     },
     "execution_count": 33,
     "metadata": {},
     "output_type": "execute_result"
    }
   ],
   "source": [
    "h,tau,1/h,-1/h"
   ]
  },
  {
   "cell_type": "code",
   "execution_count": 34,
   "id": "93ccebcb",
   "metadata": {},
   "outputs": [
    {
     "data": {
      "text/plain": [
       "80"
      ]
     },
     "execution_count": 34,
     "metadata": {},
     "output_type": "execute_result"
    }
   ],
   "source": [
    "len(drop_boundary_points(logit_sol))"
   ]
  },
  {
   "cell_type": "code",
   "execution_count": 35,
   "id": "f1b2c062",
   "metadata": {},
   "outputs": [
    {
     "data": {
      "text/plain": [
       "((18, 21, 21), 441)"
      ]
     },
     "execution_count": 35,
     "metadata": {},
     "output_type": "execute_result"
    }
   ],
   "source": [
    "v_fact.shape,21*21"
   ]
  },
  {
   "cell_type": "code",
   "execution_count": 36,
   "id": "a112a27f",
   "metadata": {},
   "outputs": [
    {
     "data": {
      "text/plain": [
       "<matplotlib.image.AxesImage at 0x1926a18af10>"
      ]
     },
     "execution_count": 36,
     "metadata": {},
     "output_type": "execute_result"
    },
    {
     "data": {
      "image/png": "[encoded data removed]",
      "text/plain": [
       "<Figure size 200x300 with 1 Axes>"
      ]
     },
     "metadata": {},
     "output_type": "display_data"
    }
   ],
   "source": [
    "plt.figure(figsize=(2,3))\n",
    "plt.imshow(linearization_inverse(u_0))"
   ]
  },
  {
   "cell_type": "code",
   "execution_count": 37,
   "id": "dd05f43a",
   "metadata": {},
   "outputs": [
    {
     "data": {
      "text/plain": [
       "<matplotlib.image.AxesImage at 0x1926a5628d0>"
      ]
     },
     "execution_count": 37,
     "metadata": {},
     "output_type": "execute_result"
    },
    {
     "data": {
      "image/png": "[encoded data removed]",
      "text/plain": [
       "<Figure size 200x300 with 1 Axes>"
      ]
     },
     "metadata": {},
     "output_type": "display_data"
    }
   ],
   "source": [
    "plt.figure(figsize=(2,3))\n",
    "plt.imshow(linearization_inverse(np.dot(S,coeffs_lst[-3])*tau+u_0))"
   ]
  },
  {
   "cell_type": "code",
   "execution_count": 38,
   "id": "79ae73b5",
   "metadata": {},
   "outputs": [
    {
     "data": {
      "text/plain": [
       "array([[0., 0., 0., 0., 0., 0., 0., 0., 0., 0., 0., 0., 0., 0., 0., 0.,\n",
       "        0., 0., 0., 0., 0.],\n",
       "       [0., 0., 0., 0., 0., 0., 0., 0., 0., 0., 0., 0., 0., 0., 0., 0.,\n",
       "        0., 0., 0., 0., 0.],\n",
       "       [0., 0., 0., 0., 0., 0., 0., 0., 0., 0., 0., 0., 0., 0., 0., 0.,\n",
       "        0., 0., 0., 0., 0.],\n",
       "       [0., 0., 0., 0., 0., 0., 0., 0., 0., 0., 0., 0., 0., 0., 0., 0.,\n",
       "        0., 0., 0., 0., 0.],\n",
       "       [0., 0., 0., 0., 0., 0., 0., 0., 0., 0., 0., 0., 0., 0., 0., 0.,\n",
       "        0., 0., 0., 0., 0.],\n",
       "       [0., 0., 0., 0., 0., 0., 0., 0., 0., 0., 0., 0., 0., 0., 0., 0.,\n",
       "        0., 0., 0., 0., 0.],\n",
       "       [0., 0., 0., 0., 0., 0., 0., 0., 0., 0., 0., 0., 0., 0., 0., 0.,\n",
       "        0., 0., 0., 0., 0.],\n",
       "       [0., 0., 0., 0., 0., 0., 0., 1., 0., 0., 0., 0., 0., 0., 0., 0.,\n",
       "        0., 0., 0., 0., 0.],\n",
       "       [0., 0., 0., 0., 0., 0., 0., 0., 0., 0., 0., 0., 0., 0., 0., 0.,\n",
       "        0., 0., 0., 0., 0.],\n",
       "       [0., 0., 0., 0., 0., 0., 0., 0., 0., 0., 0., 0., 0., 0., 0., 0.,\n",
       "        0., 0., 0., 0., 0.],\n",
       "       [0., 0., 0., 0., 0., 0., 0., 0., 0., 0., 0., 0., 0., 0., 0., 0.,\n",
       "        0., 0., 0., 0., 0.],\n",
       "       [0., 0., 0., 0., 0., 0., 0., 0., 0., 0., 0., 0., 0., 0., 0., 0.,\n",
       "        0., 0., 0., 0., 0.],\n",
       "       [0., 0., 0., 0., 0., 0., 0., 0., 0., 0., 0., 0., 0., 0., 0., 0.,\n",
       "        0., 0., 0., 0., 0.],\n",
       "       [0., 0., 0., 0., 0., 0., 0., 0., 0., 0., 0., 0., 0., 0., 0., 0.,\n",
       "        0., 0., 0., 0., 0.],\n",
       "       [0., 0., 0., 0., 0., 0., 0., 0., 0., 0., 0., 0., 0., 0., 0., 0.,\n",
       "        0., 0., 0., 0., 0.],\n",
       "       [0., 0., 0., 0., 0., 0., 0., 0., 0., 0., 0., 0., 0., 0., 0., 0.,\n",
       "        0., 0., 0., 0., 0.],\n",
       "       [0., 0., 0., 0., 0., 0., 0., 0., 0., 0., 0., 0., 0., 0., 0., 0.,\n",
       "        0., 0., 0., 0., 0.],\n",
       "       [0., 0., 0., 0., 0., 0., 0., 0., 0., 0., 0., 0., 0., 0., 0., 0.,\n",
       "        0., 0., 0., 0., 0.],\n",
       "       [0., 0., 0., 0., 0., 0., 0., 0., 0., 0., 0., 0., 0., 0., 0., 0.,\n",
       "        0., 0., 0., 0., 0.],\n",
       "       [0., 0., 0., 0., 0., 0., 0., 0., 0., 0., 0., 0., 0., 0., 0., 0.,\n",
       "        0., 0., 0., 0., 0.],\n",
       "       [0., 0., 0., 0., 0., 0., 0., 0., 0., 0., 0., 0., 0., 0., 0., 0.,\n",
       "        0., 0., 0., 0., 0.]])"
      ]
     },
     "execution_count": 38,
     "metadata": {},
     "output_type": "execute_result"
    }
   ],
   "source": [
    "linearization_inverse(u_0)"
   ]
  },
  {
   "cell_type": "code",
   "execution_count": 39,
   "id": "1f5fda6a",
   "metadata": {},
   "outputs": [
    {
     "data": {
      "text/plain": [
       "array([[0., 0., 0., 0., 0., 0., 0., 0., 0., 0., 0., 0., 0., 0., 0., 0.,\n",
       "        0., 0., 0., 0., 0.],\n",
       "       [0., 0., 0., 0., 0., 0., 0., 0., 0., 0., 0., 0., 0., 0., 0., 0.,\n",
       "        0., 0., 0., 0., 0.],\n",
       "       [0., 0., 0., 0., 0., 0., 0., 0., 0., 0., 0., 0., 0., 0., 0., 0.,\n",
       "        0., 0., 0., 0., 0.],\n",
       "       [0., 0., 0., 0., 0., 0., 0., 0., 0., 0., 0., 0., 0., 0., 0., 0.,\n",
       "        0., 0., 0., 0., 0.],\n",
       "       [0., 0., 0., 0., 0., 0., 0., 0., 0., 0., 0., 0., 0., 0., 0., 0.,\n",
       "        0., 0., 0., 0., 0.],\n",
       "       [0., 0., 0., 0., 0., 0., 0., 0., 0., 0., 0., 0., 0., 0., 0., 0.,\n",
       "        0., 0., 0., 0., 0.],\n",
       "       [0., 0., 0., 0., 0., 0., 0., 0., 0., 0., 0., 0., 0., 0., 0., 0.,\n",
       "        0., 0., 0., 0., 0.],\n",
       "       [0., 0., 0., 0., 0., 0., 0., 0., 0., 0., 0., 0., 0., 0., 0., 0.,\n",
       "        0., 0., 0., 0., 0.],\n",
       "       [0., 0., 0., 0., 0., 0., 0., 0., 1., 0., 0., 0., 0., 0., 0., 0.,\n",
       "        0., 0., 0., 0., 0.],\n",
       "       [0., 0., 0., 0., 0., 0., 0., 0., 0., 0., 0., 0., 0., 0., 0., 0.,\n",
       "        0., 0., 0., 0., 0.],\n",
       "       [0., 0., 0., 0., 0., 0., 0., 0., 0., 0., 0., 0., 0., 0., 0., 0.,\n",
       "        0., 0., 0., 0., 0.],\n",
       "       [0., 0., 0., 0., 0., 0., 0., 0., 0., 0., 0., 0., 0., 0., 0., 0.,\n",
       "        0., 0., 0., 0., 0.],\n",
       "       [0., 0., 0., 0., 0., 0., 0., 0., 0., 0., 0., 0., 0., 0., 0., 0.,\n",
       "        0., 0., 0., 0., 0.],\n",
       "       [0., 0., 0., 0., 0., 0., 0., 0., 0., 0., 0., 0., 0., 0., 0., 0.,\n",
       "        0., 0., 0., 0., 0.],\n",
       "       [0., 0., 0., 0., 0., 0., 0., 0., 0., 0., 0., 0., 0., 0., 0., 0.,\n",
       "        0., 0., 0., 0., 0.],\n",
       "       [0., 0., 0., 0., 0., 0., 0., 0., 0., 0., 0., 0., 0., 0., 0., 0.,\n",
       "        0., 0., 0., 0., 0.],\n",
       "       [0., 0., 0., 0., 0., 0., 0., 0., 0., 0., 0., 0., 0., 0., 0., 0.,\n",
       "        0., 0., 0., 0., 0.],\n",
       "       [0., 0., 0., 0., 0., 0., 0., 0., 0., 0., 0., 0., 0., 0., 0., 0.,\n",
       "        0., 0., 0., 0., 0.],\n",
       "       [0., 0., 0., 0., 0., 0., 0., 0., 0., 0., 0., 0., 0., 0., 0., 0.,\n",
       "        0., 0., 0., 0., 0.],\n",
       "       [0., 0., 0., 0., 0., 0., 0., 0., 0., 0., 0., 0., 0., 0., 0., 0.,\n",
       "        0., 0., 0., 0., 0.],\n",
       "       [0., 0., 0., 0., 0., 0., 0., 0., 0., 0., 0., 0., 0., 0., 0., 0.,\n",
       "        0., 0., 0., 0., 0.]])"
      ]
     },
     "execution_count": 39,
     "metadata": {},
     "output_type": "execute_result"
    }
   ],
   "source": [
    "linearization_inverse(np.dot(S,coeffs_lst[-3])*tau+u_0)"
   ]
  },
  {
   "cell_type": "code",
   "execution_count": null,
   "id": "133e9f6a",
   "metadata": {},
   "outputs": [],
   "source": []
  }
 ],
 "metadata": {
  "kernelspec": {
   "display_name": "Python 3",
   "language": "python",
   "name": "python3"
  },
  "language_info": {
   "codemirror_mode": {
    "name": "ipython",
    "version": 3
   },
   "file_extension": ".py",
   "mimetype": "text/x-python",
   "name": "python",
   "nbconvert_exporter": "python",
   "pygments_lexer": "ipython3",
   "version": "3.11.9"
  }
 },
 "nbformat": 4,
 "nbformat_minor": 5
}
