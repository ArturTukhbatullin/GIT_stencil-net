{
 "cells": [
  {
   "cell_type": "code",
   "execution_count": 1,
   "id": "751648e3-9340-4cf2-9438-8ec47f0a36e7",
   "metadata": {},
   "outputs": [],
   "source": [
    "import warnings\n",
    "warnings.filterwarnings('ignore')\n",
    "\n",
    "import matplotlib.pyplot as plt\n",
    "import numpy as np\n",
    "import pandas as pd\n",
    "import copy\n",
    "from tqdm import tqdm\n",
    "\n",
    "import sys\n",
    "sys.path.append('D:\\diplom_2\\my_test')\n",
    "import my_funcs as mf\n",
    "import my_advection_funcs as maf"
   ]
  },
  {
   "cell_type": "markdown",
   "id": "c35579d0-1016-4703-9323-b129d01ca2e5",
   "metadata": {
    "tags": []
   },
   "source": [
    "## Upwind vs Fact"
   ]
  },
  {
   "cell_type": "code",
   "execution_count": 2,
   "id": "2efd281d-e1a0-4cf0-9f18-387c0c648954",
   "metadata": {},
   "outputs": [],
   "source": [
    "# n=101\n",
    "# L=1\n",
    "# T=1\n",
    "# kurant=0.5\n",
    "\n",
    "# h=L/(n-1)\n",
    "# tau=kurant*h\n",
    "\n",
    "# b=(n-1)*0.1 #width % of L\n",
    "\n",
    "# l=[i/(n-1) for i in range(0,n)]\n",
    "# v=[1 if i in range(1,int(b)+1) else 0 for i in range(0,n) ]\n",
    "# print('Доля 1:',np.round(100*v.count(1)/len(v),3))\n",
    "\n",
    "# plt.plot(l,v,'-*')\n",
    "# plt.grid()"
   ]
  },
  {
   "cell_type": "code",
   "execution_count": 3,
   "id": "0dd7f43a-1878-4b5e-aabe-2ed435caaa5c",
   "metadata": {},
   "outputs": [],
   "source": [
    "# final_time=0.2\n",
    "# fact_v,_=mf.advection_upwind(v,final_time,1,h,n)\n",
    "# new_v_0_50,_=mf.advection_upwind(v,final_time,0.5,h,n)\n",
    "# new_v_0_75,_=mf.advection_upwind(v,final_time,0.75,h,n)\n",
    "# new_v_0_90,_=mf.advection_upwind(v,final_time,0.90,h,n)\n",
    "# new_v_0_25,_=mf.advection_upwind(v,final_time,0.25,h,n)\n",
    "# plt.figure(figsize=(10,8))\n",
    "# plt.plot(l,fact_v,'--',label='Точное решение : kurant = 1',color='black')\n",
    "# plt.plot(l,new_v_0_90,label=r'Upwind : kurant = 0.9',color='blue')\n",
    "# plt.plot(l,new_v_0_75,label=r'Upwind : kurant = 0.75',color='orange')\n",
    "# plt.plot(l,new_v_0_50,label=r'Upwind : kurant = 0.5',color='red')\n",
    "# plt.plot(l,new_v_0_25,label=r'Upwind : kurant = 0.25',color='cyan')\n",
    "# plt.legend()\n",
    "# plt.title(fr'mesh : {n}')\n",
    "\n",
    "# final_time=0.8\n",
    "# fact_v,_=mf.advection_upwind(v,final_time,1.0,h,n)\n",
    "# new_v_0_50,_=mf.advection_upwind(v,final_time,0.5,h,n)\n",
    "# new_v_0_75,_=mf.advection_upwind(v,final_time,0.75,h,n)\n",
    "# new_v_0_90,_=mf.advection_upwind(v,final_time,0.90,h,n)\n",
    "# new_v_0_25,_=mf.advection_upwind(v,final_time,0.25,h,n)\n",
    "# # plt.figure(figsize=(10,8))\n",
    "# plt.plot(l,fact_v,'--',label='Точное решение : kurant = 1',color='black')\n",
    "# plt.plot(l,new_v_0_90,label=r'Upwind : kurant = 0.9',color='blue')\n",
    "# plt.plot(l,new_v_0_75,label=r'Upwind : kurant = 0.75',color='orange')\n",
    "# plt.plot(l,new_v_0_50,label=r'Upwind : kurant = 0.5',color='red')\n",
    "# plt.plot(l,new_v_0_25,label=r'Upwind : kurant = 0.25',color='cyan')\n",
    "# plt.grid()"
   ]
  },
  {
   "cell_type": "code",
   "execution_count": null,
   "id": "af67613e-2eff-4137-b3a5-c8285876188b",
   "metadata": {},
   "outputs": [],
   "source": []
  },
  {
   "cell_type": "markdown",
   "id": "d14adb3e-23e9-4465-bdf9-c65fc65b22db",
   "metadata": {},
   "source": [
    "## STENCIL-NET"
   ]
  },
  {
   "cell_type": "code",
   "execution_count": 4,
   "id": "97b009b2-b566-4611-81cc-cb8b18f92de8",
   "metadata": {},
   "outputs": [],
   "source": [
    "import torch\n",
    "import torch.nn as nn\n",
    "\n",
    "from torch.optim import Adam,SGD\n",
    "from torch.optim.lr_scheduler import ExponentialLR\n",
    "from stencilnet import MLPConv, forward_rk3_error, backward_rk3_error,backward_rk3_tvd_error,forward_rk3_tvd_error\n",
    "from stencilnet import forward_rk1_error,backward_rk1_error\n",
    "from utils import load_simulation_model"
   ]
  },
  {
   "cell_type": "markdown",
   "id": "f4d80473-1882-401c-9520-633314ec3098",
   "metadata": {
    "tags": []
   },
   "source": [
    "##### 0. Mesh Params"
   ]
  },
  {
   "cell_type": "code",
   "execution_count": 5,
   "id": "6affe7c1-76a6-418a-bd0f-8f1a494ed12d",
   "metadata": {},
   "outputs": [
    {
     "name": "stdout",
     "output_type": "stream",
     "text": [
      "Доля единиц: 9.901\n"
     ]
    }
   ],
   "source": [
    "generate_flg=True # True - генерация, False - чтение уже сгенерированных\n",
    "# generate_flg=False\n",
    "\n",
    "n=101 #число узлов\n",
    "L=1 # длина расчт области\n",
    "T=.8 #конечное время\n",
    "kurant=1\n",
    "\n",
    "h=L/(n-1)\n",
    "b=(n-1)*0.1*L #width % of L (длина участка с v=1, составляет 10% от расчт области)\n",
    "v=[1 if i in range(1,int(b)+1) else 0 for i in range(0,n) ]\n",
    "print('Доля единиц:',np.round(100*v.count(1)/len(v),3))"
   ]
  },
  {
   "cell_type": "code",
   "execution_count": null,
   "id": "14067358-a27f-42b9-a4f8-bf4a4efdf8fa",
   "metadata": {},
   "outputs": [],
   "source": []
  },
  {
   "cell_type": "markdown",
   "id": "6d9db8b2-64a6-4f46-953a-2162a24dc825",
   "metadata": {},
   "source": [
    "##### 1. Study params"
   ]
  },
  {
   "cell_type": "markdown",
   "id": "7f761111-ca45-47a5-a19e-eb7c3e1fc3d1",
   "metadata": {},
   "source": [
    "## NB! Для теста сделал fs=3, neurons=7"
   ]
  },
  {
   "cell_type": "code",
   "execution_count": 6,
   "id": "abd34e99-74f1-4592-903a-bf749131d523",
   "metadata": {},
   "outputs": [],
   "source": [
    "#------------------------MAIN PARAMS-----------------------------\n",
    "# size of filter to be applied\n",
    "fs = 3#7 #???\n",
    "# number of timesteps to be predicted during training \n",
    "m = 4 #4 #???\n",
    "# decaying weights\n",
    "decay_const = 0.9 #???\n",
    "# epoch_number\n",
    "epochs=1\n",
    "#random_seed\n",
    "seed = 1 \n",
    "#coef для loss функции\n",
    "l_wd= 1e-7 \n",
    "# 'RK3' for runge-kutta solver and 'E1' for euler solver\n",
    "method='RK3' \n",
    "# method='E1'\n",
    "#neurons num in MLPConv\n",
    "neurons=4 #64\n",
    "#learning_rate\n",
    "lr=1e-2\n",
    "#device\n",
    "device = torch.device(\"cuda\" if torch.cuda.is_available() else \"cpu\")"
   ]
  },
  {
   "cell_type": "markdown",
   "id": "b83d9f7f-1a7a-4393-83bc-80110b9c5ff8",
   "metadata": {},
   "source": [
    "##### 2. Generate data"
   ]
  },
  {
   "cell_type": "code",
   "execution_count": 7,
   "id": "06cc004f-a459-4471-b104-a53b6b929450",
   "metadata": {},
   "outputs": [
    {
     "name": "stdout",
     "output_type": "stream",
     "text": [
      "Генерация данных\n"
     ]
    },
    {
     "name": "stderr",
     "output_type": "stream",
     "text": [
      "100%|█████████████████████████████████████████████████████████████████████████████████| 89/89 [00:00<00:00, 306.60it/s]"
     ]
    },
    {
     "name": "stdout",
     "output_type": "stream",
     "text": [
      "89 101\n",
      "101 89\n"
     ]
    },
    {
     "name": "stderr",
     "output_type": "stream",
     "text": [
      "\n"
     ]
    }
   ],
   "source": [
    "CUSTOM_TAU=0.009\n",
    "v_fact,x_lst,tau,time_lst=maf.generate_data(generate_flg,v,T,L,1,h,n,CUSTOM_TAU=CUSTOM_TAU,save_flg=False)"
   ]
  },
  {
   "cell_type": "code",
   "execution_count": 8,
   "id": "10f1d17f-2051-4522-97ca-0684f2948d55",
   "metadata": {},
   "outputs": [
    {
     "name": "stdout",
     "output_type": "stream",
     "text": [
      "h 0.01 0.0001\n",
      "tau 0.009\n"
     ]
    }
   ],
   "source": [
    "print('h',h,h**2)\n",
    "print('tau',tau)\n",
    "assert tau/h<=1,'не выполнено ограничение на число Куранта'"
   ]
  },
  {
   "cell_type": "code",
   "execution_count": 9,
   "id": "e583b457-8ced-45b9-a2d3-b8689ea08638",
   "metadata": {},
   "outputs": [
    {
     "data": {
      "text/plain": [
       "Text(0.5, 1.0, 'Фактические данные')"
      ]
     },
     "execution_count": 9,
     "metadata": {},
     "output_type": "execute_result"
    },
    {
     "data": {
      "image/png": "[encoded data removed]",
      "text/plain": [
       "<Figure size 432x288 with 1 Axes>"
      ]
     },
     "metadata": {
      "needs_background": "light"
     },
     "output_type": "display_data"
    }
   ],
   "source": [
    "#view\n",
    "plt.plot(v_fact[:,0],'o')\n",
    "plt.plot(v_fact[:,-1],'.')\n",
    "plt.grid()\n",
    "plt.title('Фактические данные')"
   ]
  },
  {
   "cell_type": "code",
   "execution_count": null,
   "id": "3af14c22-3b62-45f7-a338-a1a73befdc43",
   "metadata": {},
   "outputs": [],
   "source": []
  },
  {
   "cell_type": "markdown",
   "id": "ad9f640f-9092-4c20-b7a3-22227b8be579",
   "metadata": {},
   "source": [
    "##### 3.Subsample Data"
   ]
  },
  {
   "cell_type": "code",
   "execution_count": 10,
   "id": "93567863-8642-4fed-9a0b-f8a34e360660",
   "metadata": {},
   "outputs": [
    {
     "name": "stdout",
     "output_type": "stream",
     "text": [
      "full_sample (26, 9)\n",
      "train (26, 6)\n",
      "test (26, 3)\n"
     ]
    }
   ],
   "source": [
    "t_factor = 10  # time subsample factor \n",
    "s_factor = 4   # space subsample factor\n",
    "Tsim=len(v_fact[0])\n",
    "dxc,dtc,coarse_t,coarse_x,v_coarse,Lxc,\\\n",
    "Ltc,v_coarse_train,v_coarse_test=mf.subsampling(s_factor,t_factor,h,tau,Tsim,n,v_fact,train_split=0.7)"
   ]
  },
  {
   "cell_type": "code",
   "execution_count": 11,
   "id": "83b5973b-c5f9-4d25-b374-fdecb9361ba5",
   "metadata": {},
   "outputs": [
    {
     "data": {
      "image/png": "[encoded data removed]",
      "text/plain": [
       "<Figure size 432x288 with 1 Axes>"
      ]
     },
     "metadata": {
      "needs_background": "light"
     },
     "output_type": "display_data"
    }
   ],
   "source": [
    "plt.figure()\n",
    "time=0 #first time\n",
    "plt.plot(x_lst[coarse_x],v_coarse[:,time],'*',color='red',label=str(s_factor) + 'x FACT')\n",
    "plt.plot(x_lst,v_fact[:,t_factor*time],'.',color='blue',label='FACT')\n",
    "time=v_coarse.shape[1]-1 #last time\n",
    "plt.plot(x_lst[coarse_x],v_coarse[:,time],'*',color='red',label=str(s_factor) + 'x FACT')\n",
    "plt.plot(x_lst,v_fact[:,t_factor*time],'.',color='blue',label='FACT')\n",
    "plt.legend()\n",
    "plt.title(\" Time slice at t=0 and t = \" + str(time))\n",
    "plt.show()"
   ]
  },
  {
   "cell_type": "code",
   "execution_count": null,
   "id": "676f0548-a97d-4aa6-9438-91fa532f237a",
   "metadata": {},
   "outputs": [],
   "source": []
  },
  {
   "cell_type": "markdown",
   "id": "0cea4115-47b0-400b-a48a-0c0a9b2f3f23",
   "metadata": {},
   "source": [
    "##### 4. Trainig model"
   ]
  },
  {
   "cell_type": "code",
   "execution_count": 12,
   "id": "d7b65be3-14a2-4eb5-ac28-ea6f6e6552b5",
   "metadata": {},
   "outputs": [
    {
     "name": "stdout",
     "output_type": "stream",
     "text": [
      "input 3 output 4\n",
      "input 4 output 4\n",
      "input 4 output 4\n",
      "input 4 output 1\n",
      "#parameters: 61\n"
     ]
    }
   ],
   "source": [
    "v_train = torch.tensor(v_coarse_train.T, requires_grad=True, dtype=torch.float, device=device)\n",
    "\n",
    "np.random.seed(seed)\n",
    "torch.manual_seed(seed)\n",
    "\n",
    "torch.backends.cudnn.deterministic = True\n",
    "torch.backends.cudnn.benchmark = False\n",
    "\n",
    "\n",
    "# 64, 64,\n",
    "net       = MLPConv([fs,neurons,neurons, neurons, 1], seed=seed, fs=fs, \n",
    "                    activation=nn.ELU()).to(device)\n",
    "                    # activation=nn.Sigmoid()).to(device)\n",
    "                    # activation=nn.ReLU()).to(device)\n",
    "        \n",
    "params    = [{'params': net.parameters(), 'lr': lr}]\n",
    "optimizer = Adam(params)\n",
    "scheduler = ExponentialLR(optimizer, .9998)\n",
    "\n",
    "print(\"#parameters:\", sum(p.numel() for p in net.parameters() if p.requires_grad))\n",
    "\n",
    "# decaying weights for accumulating prediction error\n",
    "output_weights = [decay_const**j for j in range(m+1)] \n",
    "wd = torch.tensor(output_weights, dtype=torch.float32, device=device)"
   ]
  },
  {
   "cell_type": "code",
   "execution_count": null,
   "id": "930c1e1d-b4e3-4724-8604-66d78118aed4",
   "metadata": {},
   "outputs": [],
   "source": []
  },
  {
   "cell_type": "markdown",
   "id": "89e707de-c504-410d-a354-aa7a7bfbafa0",
   "metadata": {},
   "source": [
    "#### ВЕСА и ПАРАМЕТРЫ после ИНИЦИАЛИЗАЦИИ"
   ]
  },
  {
   "cell_type": "code",
   "execution_count": 13,
   "id": "09efe6af-cf27-4e9b-a842-510b40cba76c",
   "metadata": {},
   "outputs": [
    {
     "name": "stdout",
     "output_type": "stream",
     "text": [
      "WEIGHTS:\n",
      "4\n",
      "-----Linear(in_features=3, out_features=4, bias=True)------\n",
      "w_111 -0.5493 \tw_112 -0.301 \tw_113 -0.4769 \t\n",
      "w_121 -0.0311 \tw_122 -0.1045 \tw_123 -0.5162 \t\n",
      "w_131 0.2258 \tw_132 0.1429 \tw_133 -0.2251 \t\n",
      "w_141 -0.273 \tw_142 -0.8406 \tw_143 -0.0659 \t\n",
      "-----Linear(in_features=4, out_features=4, bias=True)------\n",
      "w_211 0.2266 \tw_212 0.5711 \tw_213 0.1243 \tw_214 -0.8877 \t\n",
      "w_221 -0.0128 \tw_222 -0.5117 \tw_223 -0.2981 \tw_224 -0.5028 \t\n",
      "w_231 0.2143 \tw_232 0.738 \tw_233 -0.8934 \tw_234 0.8052 \t\n",
      "w_241 -0.352 \tw_242 -0.0926 \tw_243 -0.4981 \tw_244 -0.4156 \t\n",
      "-----Linear(in_features=4, out_features=4, bias=True)------\n",
      "w_311 0.3307 \tw_312 0.595 \tw_313 0.4083 \tw_314 -0.4568 \t\n",
      "w_321 0.6926 \tw_322 -0.4069 \tw_323 -0.4638 \tw_324 0.556 \t\n",
      "w_331 0.6676 \tw_332 0.3021 \tw_333 -0.0517 \tw_334 -0.0756 \t\n",
      "w_341 -1.051 \tw_342 -0.31 \tw_343 -0.7391 \tw_344 -0.5667 \t\n",
      "-----Linear(in_features=4, out_features=1, bias=True)------\n",
      "w_411 -0.3178 \tw_412 0.0301 \tw_413 -0.7161 \tw_414 -0.0113 \t\n",
      "\n",
      "BIES:\n",
      "Parameter containing:\n",
      "tensor([0., 0., 0., 0.], requires_grad=True)\n",
      "Parameter containing:\n",
      "tensor([0., 0., 0., 0.], requires_grad=True)\n",
      "Parameter containing:\n",
      "tensor([0., 0., 0., 0.], requires_grad=True)\n",
      "Parameter containing:\n",
      "tensor([0.], requires_grad=True)\n",
      "\n",
      "PREDICT\n",
      "tensor([ 0.0938, -0.1366, -0.2340, -0.0335,  0.0000,  0.0000,  0.0000,  0.0000,\n",
      "         0.0000,  0.0000,  0.0000,  0.0000,  0.0000,  0.0000,  0.0000,  0.0000,\n",
      "         0.0000,  0.0000,  0.0000,  0.0000,  0.0000,  0.0000,  0.0000,  0.0000,\n",
      "         0.0000,  0.0000], grad_fn=<SqueezeBackward0>)\n",
      "\n",
      "PARAMS\n",
      "[{'params': [Parameter containing:\n",
      "tensor([[-0.5493, -0.3010, -0.4769],\n",
      "        [-0.0311, -0.1045, -0.5162],\n",
      "        [ 0.2258,  0.1429, -0.2251],\n",
      "        [-0.2730, -0.8406, -0.0659]], requires_grad=True), Parameter containing:\n",
      "tensor([0., 0., 0., 0.], requires_grad=True), Parameter containing:\n",
      "tensor([[ 0.2266,  0.5711,  0.1243, -0.8877],\n",
      "        [-0.0128, -0.5117, -0.2981, -0.5028],\n",
      "        [ 0.2143,  0.7380, -0.8934,  0.8052],\n",
      "        [-0.3520, -0.0926, -0.4981, -0.4156]], requires_grad=True), Parameter containing:\n",
      "tensor([0., 0., 0., 0.], requires_grad=True), Parameter containing:\n",
      "tensor([[ 0.3307,  0.5950,  0.4083, -0.4568],\n",
      "        [ 0.6926, -0.4069, -0.4638,  0.5560],\n",
      "        [ 0.6676,  0.3021, -0.0517, -0.0756],\n",
      "        [-1.0510, -0.3100, -0.7391, -0.5667]], requires_grad=True), Parameter containing:\n",
      "tensor([0., 0., 0., 0.], requires_grad=True), Parameter containing:\n",
      "tensor([[-0.3178,  0.0301, -0.7161, -0.0113]], requires_grad=True), Parameter containing:\n",
      "tensor([0.], requires_grad=True)], 'lr': 0.01, 'betas': (0.9, 0.999), 'eps': 1e-08, 'weight_decay': 0, 'amsgrad': False, 'maximize': False, 'foreach': None, 'capturable': False, 'differentiable': False, 'fused': None, 'initial_lr': 0.01}]\n"
     ]
    }
   ],
   "source": [
    "print('WEIGHTS:')\n",
    "mf.view_weights(net)\n",
    "\n",
    "print()\n",
    "print('BIES:')\n",
    "for lay in net.layer:\n",
    "            print(lay.bias)\n",
    "        \n",
    "print()        \n",
    "print('PREDICT')\n",
    "print(net(v_train[:1]))\n",
    "\n",
    "print()\n",
    "print('PARAMS')\n",
    "print(params)"
   ]
  },
  {
   "cell_type": "code",
   "execution_count": 14,
   "id": "8ee12d66-944f-4c08-a64d-41b51c586cbf",
   "metadata": {},
   "outputs": [],
   "source": [
    "def forward(x):\n",
    "        x = _preprocess(x)\n",
    "        for i, layer in enumerate(net.layer):\n",
    "            x = layer(x)\n",
    "            # print('x',x)\n",
    "            if i < len(net.layer) - 1: #до 2\n",
    "                # print(i)\n",
    "                # print(x)\n",
    "                x = net.sig(x)\n",
    "                # print('x_sig',x)\n",
    "        \n",
    "        return x.squeeze()\n",
    "    \n",
    "def _preprocess( x):\n",
    "        \"\"\"Prepares filters for forward pass.\"\"\"\n",
    "        # print(x.shape)\n",
    "        x  = x.unsqueeze(-1)\n",
    "        # print(x.shape)\n",
    "        # print('x')\n",
    "        # print(x)\n",
    "        px = x.clone()\n",
    "        \n",
    "        for i in range(1, int(fs/2)+1):\n",
    "            r = torch.roll(x, (-1)*i, 1)\n",
    "            l = torch.roll(x, i, 1)\n",
    "            # print('r',r)\n",
    "            # print('l',l)\n",
    "            px = torch.cat([l, px, r], -1)\n",
    "            # print('px',px)\n",
    "        \n",
    "        return px\n",
    "\n",
    "\n",
    "import copy\n",
    "def get_u(x): #net results without act_func\n",
    "        '''\n",
    "        Info\n",
    "        return all_u[i][j][k]\n",
    "        i - layer\n",
    "        j - time\n",
    "        k - x (location)\n",
    "        '''\n",
    "        x = _preprocess(x)\n",
    "        all_u=[]\n",
    "        all_f=[]\n",
    "        for i, layer in enumerate(net.layer):\n",
    "            x = layer(x) \n",
    "            u = copy.copy(x)\n",
    "            \n",
    "            # u.append(x.squeeze())\n",
    "            if i < len(net.layer) - 1: #до 2\n",
    "                # print('done')\n",
    "                x = net.sig(x)\n",
    "            \n",
    "            all_u.append(u)\n",
    "            all_f.append(x)\n",
    "            \n",
    "            # print(u)\n",
    "            # print(x)\n",
    "            \n",
    "        return all_u,all_f"
   ]
  },
  {
   "cell_type": "code",
   "execution_count": 15,
   "id": "71da1e3e-0f8f-4644-a411-427be71a7235",
   "metadata": {},
   "outputs": [],
   "source": [
    "# print('_preprocess(x)')\n",
    "# print(_preprocess(v_train[:1]))\n",
    "# print()\n",
    "# print('forward(x)')\n",
    "# print(forward(v_train[:1]))\n",
    "# print()\n",
    "# print('net(x)')\n",
    "# print(net(v_train[:1]))\n",
    "# print()\n",
    "# print('get(u) (результаты возможно совпали т.к. v_train содержит неотрицательные значения)')\n",
    "# all_u,all_f=get_u(v_train[:2])\n",
    "# print(all_u[-1])\n",
    "# print(all_f[-1])"
   ]
  },
  {
   "cell_type": "markdown",
   "id": "a511860a-d52d-4756-bbe8-0d43c16da1e3",
   "metadata": {},
   "source": [
    "### Обучение MLPConv и Параметры после 1 эпохи"
   ]
  },
  {
   "cell_type": "code",
   "execution_count": 16,
   "id": "c20d6878-aa79-45bc-b063-acda9d83bde3",
   "metadata": {},
   "outputs": [
    {
     "name": "stderr",
     "output_type": "stream",
     "text": [
      " 50%|██████████████████████████████████████████                                          | 1/2 [00:00<00:00,  9.53it/s]"
     ]
    },
    {
     "name": "stdout",
     "output_type": "stream",
     "text": [
      "========================fwd========================\n",
      "4\n",
      "-----Linear(in_features=3, out_features=4, bias=True)------\n",
      "w_111 -0.5493 \tw_112 -0.301 \tw_113 -0.4769 \t\n",
      "w_121 -0.0311 \tw_122 -0.1045 \tw_123 -0.5162 \t\n",
      "w_131 0.2258 \tw_132 0.1429 \tw_133 -0.2251 \t\n",
      "w_141 -0.273 \tw_142 -0.8406 \tw_143 -0.0659 \t\n",
      "-----Linear(in_features=4, out_features=4, bias=True)------\n",
      "w_211 0.2266 \tw_212 0.5711 \tw_213 0.1243 \tw_214 -0.8877 \t\n",
      "w_221 -0.0128 \tw_222 -0.5117 \tw_223 -0.2981 \tw_224 -0.5028 \t\n",
      "w_231 0.2143 \tw_232 0.738 \tw_233 -0.8934 \tw_234 0.8052 \t\n",
      "w_241 -0.352 \tw_242 -0.0926 \tw_243 -0.4981 \tw_244 -0.4156 \t\n",
      "-----Linear(in_features=4, out_features=4, bias=True)------\n",
      "w_311 0.3307 \tw_312 0.595 \tw_313 0.4083 \tw_314 -0.4568 \t\n",
      "w_321 0.6926 \tw_322 -0.4069 \tw_323 -0.4638 \tw_324 0.556 \t\n",
      "w_331 0.6676 \tw_332 0.3021 \tw_333 -0.0517 \tw_334 -0.0756 \t\n",
      "w_341 -1.051 \tw_342 -0.31 \tw_343 -0.7391 \tw_344 -0.5667 \t\n",
      "-----Linear(in_features=4, out_features=1, bias=True)------\n",
      "w_411 -0.3178 \tw_412 0.0301 \tw_413 -0.7161 \tw_414 -0.0113 \t\n",
      "\n",
      "========================bwd========================\n",
      "4\n",
      "-----Linear(in_features=3, out_features=4, bias=True)------\n",
      "w_111 -0.5493 \tw_112 -0.301 \tw_113 -0.4769 \t\n",
      "w_121 -0.0311 \tw_122 -0.1045 \tw_123 -0.5162 \t\n",
      "w_131 0.2258 \tw_132 0.1429 \tw_133 -0.2251 \t\n",
      "w_141 -0.273 \tw_142 -0.8406 \tw_143 -0.0659 \t\n",
      "-----Linear(in_features=4, out_features=4, bias=True)------\n",
      "w_211 0.2266 \tw_212 0.5711 \tw_213 0.1243 \tw_214 -0.8877 \t\n",
      "w_221 -0.0128 \tw_222 -0.5117 \tw_223 -0.2981 \tw_224 -0.5028 \t\n",
      "w_231 0.2143 \tw_232 0.738 \tw_233 -0.8934 \tw_234 0.8052 \t\n",
      "w_241 -0.352 \tw_242 -0.0926 \tw_243 -0.4981 \tw_244 -0.4156 \t\n",
      "-----Linear(in_features=4, out_features=4, bias=True)------\n",
      "w_311 0.3307 \tw_312 0.595 \tw_313 0.4083 \tw_314 -0.4568 \t\n",
      "w_321 0.6926 \tw_322 -0.4069 \tw_323 -0.4638 \tw_324 0.556 \t\n",
      "w_331 0.6676 \tw_332 0.3021 \tw_333 -0.0517 \tw_334 -0.0756 \t\n",
      "w_341 -1.051 \tw_342 -0.31 \tw_343 -0.7391 \tw_344 -0.5667 \t\n",
      "-----Linear(in_features=4, out_features=1, bias=True)------\n",
      "w_411 -0.3178 \tw_412 0.0301 \tw_413 -0.7161 \tw_414 -0.0113 \t\n",
      "\n",
      "========================BIES:========================\n",
      "Parameter containing:\n",
      "tensor([0., 0., 0., 0.], requires_grad=True)\n",
      "Parameter containing:\n",
      "tensor([0., 0., 0., 0.], requires_grad=True)\n",
      "Parameter containing:\n",
      "tensor([0., 0., 0., 0.], requires_grad=True)\n",
      "Parameter containing:\n",
      "tensor([0.], requires_grad=True)\n",
      "\n",
      "\n",
      "4 4\n",
      "torch.Size([6, 26, 4]) torch.Size([6, 26, 4])\n",
      "========================U_vector========================\n",
      "tensor([[ 0.0000,  0.0000,  0.0000,  0.0000],\n",
      "        [ 0.0000,  0.0000,  0.0000,  0.0000],\n",
      "        [ 0.0000,  0.0000,  0.0000,  0.0000],\n",
      "        [ 0.0000,  0.0000,  0.0000,  0.0000],\n",
      "        [ 0.0000,  0.0000,  0.0000,  0.0000],\n",
      "        [ 0.0000,  0.0000,  0.0000,  0.0000],\n",
      "        [ 0.0000,  0.0000,  0.0000,  0.0000],\n",
      "        [ 0.0000,  0.0000,  0.0000,  0.0000],\n",
      "        [ 0.0000,  0.0000,  0.0000,  0.0000],\n",
      "        [ 0.0000,  0.0000,  0.0000,  0.0000],\n",
      "        [ 0.0000,  0.0000,  0.0000,  0.0000],\n",
      "        [-0.1278, -0.0268, -0.0848,  0.1611],\n",
      "        [-0.0932,  0.4193,  0.2505, -0.1816],\n",
      "        [-0.0876,  0.6615,  0.3952, -0.2405],\n",
      "        [-0.1398,  0.3193,  0.1171,  0.0594],\n",
      "        [ 0.0000,  0.0000,  0.0000,  0.0000],\n",
      "        [ 0.0000,  0.0000,  0.0000,  0.0000],\n",
      "        [ 0.0000,  0.0000,  0.0000,  0.0000],\n",
      "        [ 0.0000,  0.0000,  0.0000,  0.0000],\n",
      "        [ 0.0000,  0.0000,  0.0000,  0.0000],\n",
      "        [ 0.0000,  0.0000,  0.0000,  0.0000],\n",
      "        [ 0.0000,  0.0000,  0.0000,  0.0000],\n",
      "        [ 0.0000,  0.0000,  0.0000,  0.0000],\n",
      "        [ 0.0000,  0.0000,  0.0000,  0.0000],\n",
      "        [ 0.0000,  0.0000,  0.0000,  0.0000],\n",
      "        [ 0.0000,  0.0000,  0.0000,  0.0000]], grad_fn=<SelectBackward0>)\n",
      "tensor([[ 0.0000],\n",
      "        [ 0.0000],\n",
      "        [ 0.0000],\n",
      "        [ 0.0000],\n",
      "        [ 0.0000],\n",
      "        [ 0.0000],\n",
      "        [ 0.0000],\n",
      "        [ 0.0000],\n",
      "        [ 0.0000],\n",
      "        [ 0.0000],\n",
      "        [ 0.0000],\n",
      "        [ 0.0938],\n",
      "        [-0.1366],\n",
      "        [-0.2340],\n",
      "        [-0.0335],\n",
      "        [ 0.0000],\n",
      "        [ 0.0000],\n",
      "        [ 0.0000],\n",
      "        [ 0.0000],\n",
      "        [ 0.0000],\n",
      "        [ 0.0000],\n",
      "        [ 0.0000],\n",
      "        [ 0.0000],\n",
      "        [ 0.0000],\n",
      "        [ 0.0000],\n",
      "        [ 0.0000]], grad_fn=<SelectBackward0>)\n",
      "========================F_vector========================\n",
      "tensor([[ 0.0000,  0.0000,  0.0000,  0.0000],\n",
      "        [ 0.0000,  0.0000,  0.0000,  0.0000],\n",
      "        [ 0.0000,  0.0000,  0.0000,  0.0000],\n",
      "        [ 0.0000,  0.0000,  0.0000,  0.0000],\n",
      "        [ 0.0000,  0.0000,  0.0000,  0.0000],\n",
      "        [ 0.0000,  0.0000,  0.0000,  0.0000],\n",
      "        [ 0.0000,  0.0000,  0.0000,  0.0000],\n",
      "        [ 0.0000,  0.0000,  0.0000,  0.0000],\n",
      "        [ 0.0000,  0.0000,  0.0000,  0.0000],\n",
      "        [ 0.0000,  0.0000,  0.0000,  0.0000],\n",
      "        [ 0.0000,  0.0000,  0.0000,  0.0000],\n",
      "        [-0.1200, -0.0265, -0.0813,  0.1611],\n",
      "        [-0.0890,  0.4193,  0.2505, -0.1661],\n",
      "        [-0.0839,  0.6615,  0.3952, -0.2138],\n",
      "        [-0.1304,  0.3193,  0.1171,  0.0594],\n",
      "        [ 0.0000,  0.0000,  0.0000,  0.0000],\n",
      "        [ 0.0000,  0.0000,  0.0000,  0.0000],\n",
      "        [ 0.0000,  0.0000,  0.0000,  0.0000],\n",
      "        [ 0.0000,  0.0000,  0.0000,  0.0000],\n",
      "        [ 0.0000,  0.0000,  0.0000,  0.0000],\n",
      "        [ 0.0000,  0.0000,  0.0000,  0.0000],\n",
      "        [ 0.0000,  0.0000,  0.0000,  0.0000],\n",
      "        [ 0.0000,  0.0000,  0.0000,  0.0000],\n",
      "        [ 0.0000,  0.0000,  0.0000,  0.0000],\n",
      "        [ 0.0000,  0.0000,  0.0000,  0.0000],\n",
      "        [ 0.0000,  0.0000,  0.0000,  0.0000]], grad_fn=<SelectBackward0>)\n",
      "tensor([[ 0.0000],\n",
      "        [ 0.0000],\n",
      "        [ 0.0000],\n",
      "        [ 0.0000],\n",
      "        [ 0.0000],\n",
      "        [ 0.0000],\n",
      "        [ 0.0000],\n",
      "        [ 0.0000],\n",
      "        [ 0.0000],\n",
      "        [ 0.0000],\n",
      "        [ 0.0000],\n",
      "        [ 0.0938],\n",
      "        [-0.1366],\n",
      "        [-0.2340],\n",
      "        [-0.0335],\n",
      "        [ 0.0000],\n",
      "        [ 0.0000],\n",
      "        [ 0.0000],\n",
      "        [ 0.0000],\n",
      "        [ 0.0000],\n",
      "        [ 0.0000],\n",
      "        [ 0.0000],\n",
      "        [ 0.0000],\n",
      "        [ 0.0000],\n",
      "        [ 0.0000],\n",
      "        [ 0.0000]], grad_fn=<SelectBackward0>)\n",
      "========================fwd========================\n",
      "4\n",
      "-----Linear(in_features=3, out_features=4, bias=True)------\n",
      "w_111 -0.5493 \tw_112 -0.301 \tw_113 -0.4769 \t\n",
      "w_121 -0.0311 \tw_122 -0.1045 \tw_123 -0.5162 \t\n",
      "w_131 0.2258 \tw_132 0.1429 \tw_133 -0.2251 \t\n",
      "w_141 -0.273 \tw_142 -0.8406 \tw_143 -0.0659 \t\n",
      "-----Linear(in_features=4, out_features=4, bias=True)------\n",
      "w_211 0.2266 \tw_212 0.5711 \tw_213 0.1243 \tw_214 -0.8877 \t\n",
      "w_221 -0.0128 \tw_222 -0.5117 \tw_223 -0.2981 \tw_224 -0.5028 \t\n",
      "w_231 0.2143 \tw_232 0.738 \tw_233 -0.8934 \tw_234 0.8052 \t\n",
      "w_241 -0.352 \tw_242 -0.0926 \tw_243 -0.4981 \tw_244 -0.4156 \t\n",
      "-----Linear(in_features=4, out_features=4, bias=True)------\n",
      "w_311 0.3307 \tw_312 0.595 \tw_313 0.4083 \tw_314 -0.4568 \t\n",
      "w_321 0.6926 \tw_322 -0.4069 \tw_323 -0.4638 \tw_324 0.556 \t\n",
      "w_331 0.6676 \tw_332 0.3021 \tw_333 -0.0517 \tw_334 -0.0756 \t\n",
      "w_341 -1.051 \tw_342 -0.31 \tw_343 -0.7391 \tw_344 -0.5667 \t\n",
      "-----Linear(in_features=4, out_features=1, bias=True)------\n",
      "w_411 -0.3178 \tw_412 0.0301 \tw_413 -0.7161 \tw_414 -0.0113 \t\n",
      "\n",
      "========================bwd========================\n",
      "4\n",
      "-----Linear(in_features=3, out_features=4, bias=True)------\n",
      "w_111 -0.5493 \tw_112 -0.301 \tw_113 -0.4769 \t\n",
      "w_121 -0.0311 \tw_122 -0.1045 \tw_123 -0.5162 \t\n",
      "w_131 0.2258 \tw_132 0.1429 \tw_133 -0.2251 \t\n",
      "w_141 -0.273 \tw_142 -0.8406 \tw_143 -0.0659 \t\n",
      "-----Linear(in_features=4, out_features=4, bias=True)------\n",
      "w_211 0.2266 \tw_212 0.5711 \tw_213 0.1243 \tw_214 -0.8877 \t\n",
      "w_221 -0.0128 \tw_222 -0.5117 \tw_223 -0.2981 \tw_224 -0.5028 \t\n",
      "w_231 0.2143 \tw_232 0.738 \tw_233 -0.8934 \tw_234 0.8052 \t\n",
      "w_241 -0.352 \tw_242 -0.0926 \tw_243 -0.4981 \tw_244 -0.4156 \t\n",
      "-----Linear(in_features=4, out_features=4, bias=True)------\n",
      "w_311 0.3307 \tw_312 0.595 \tw_313 0.4083 \tw_314 -0.4568 \t\n",
      "w_321 0.6926 \tw_322 -0.4069 \tw_323 -0.4638 \tw_324 0.556 \t\n",
      "w_331 0.6676 \tw_332 0.3021 \tw_333 -0.0517 \tw_334 -0.0756 \t\n",
      "w_341 -1.051 \tw_342 -0.31 \tw_343 -0.7391 \tw_344 -0.5667 \t\n",
      "-----Linear(in_features=4, out_features=1, bias=True)------\n",
      "w_411 -0.3178 \tw_412 0.0301 \tw_413 -0.7161 \tw_414 -0.0113 \t\n",
      "\n",
      "========================BIES:========================\n",
      "Parameter containing:\n",
      "tensor([0., 0., 0., 0.], requires_grad=True)\n",
      "Parameter containing:\n",
      "tensor([0., 0., 0., 0.], requires_grad=True)\n",
      "Parameter containing:\n",
      "tensor([0., 0., 0., 0.], requires_grad=True)\n",
      "Parameter containing:\n",
      "tensor([0.], requires_grad=True)\n",
      "\n",
      "\n"
     ]
    },
    {
     "name": "stderr",
     "output_type": "stream",
     "text": [
      "100%|████████████████████████████████████████████████████████████████████████████████████| 2/2 [00:00<00:00,  5.47it/s]"
     ]
    },
    {
     "name": "stdout",
     "output_type": "stream",
     "text": [
      "4 4\n",
      "torch.Size([6, 26, 4]) torch.Size([6, 26, 4])\n",
      "========================U_vector========================\n",
      "tensor([[ 0.0000,  0.0000,  0.0000,  0.0000],\n",
      "        [ 0.0000,  0.0000,  0.0000,  0.0000],\n",
      "        [ 0.0000,  0.0000,  0.0000,  0.0000],\n",
      "        [ 0.0000,  0.0000,  0.0000,  0.0000],\n",
      "        [ 0.0000,  0.0000,  0.0000,  0.0000],\n",
      "        [ 0.0000,  0.0000,  0.0000,  0.0000],\n",
      "        [ 0.0000,  0.0000,  0.0000,  0.0000],\n",
      "        [ 0.0000,  0.0000,  0.0000,  0.0000],\n",
      "        [ 0.0000,  0.0000,  0.0000,  0.0000],\n",
      "        [ 0.0000,  0.0000,  0.0000,  0.0000],\n",
      "        [ 0.0000,  0.0000,  0.0000,  0.0000],\n",
      "        [-0.1278, -0.0268, -0.0848,  0.1611],\n",
      "        [-0.0932,  0.4193,  0.2505, -0.1816],\n",
      "        [-0.0876,  0.6615,  0.3952, -0.2405],\n",
      "        [-0.1398,  0.3193,  0.1171,  0.0594],\n",
      "        [ 0.0000,  0.0000,  0.0000,  0.0000],\n",
      "        [ 0.0000,  0.0000,  0.0000,  0.0000],\n",
      "        [ 0.0000,  0.0000,  0.0000,  0.0000],\n",
      "        [ 0.0000,  0.0000,  0.0000,  0.0000],\n",
      "        [ 0.0000,  0.0000,  0.0000,  0.0000],\n",
      "        [ 0.0000,  0.0000,  0.0000,  0.0000],\n",
      "        [ 0.0000,  0.0000,  0.0000,  0.0000],\n",
      "        [ 0.0000,  0.0000,  0.0000,  0.0000],\n",
      "        [ 0.0000,  0.0000,  0.0000,  0.0000],\n",
      "        [ 0.0000,  0.0000,  0.0000,  0.0000],\n",
      "        [ 0.0000,  0.0000,  0.0000,  0.0000]], grad_fn=<SelectBackward0>)\n",
      "tensor([[ 0.0000],\n",
      "        [ 0.0000],\n",
      "        [ 0.0000],\n",
      "        [ 0.0000],\n",
      "        [ 0.0000],\n",
      "        [ 0.0000],\n",
      "        [ 0.0000],\n",
      "        [ 0.0000],\n",
      "        [ 0.0000],\n",
      "        [ 0.0000],\n",
      "        [ 0.0000],\n",
      "        [ 0.0938],\n",
      "        [-0.1366],\n",
      "        [-0.2340],\n",
      "        [-0.0335],\n",
      "        [ 0.0000],\n",
      "        [ 0.0000],\n",
      "        [ 0.0000],\n",
      "        [ 0.0000],\n",
      "        [ 0.0000],\n",
      "        [ 0.0000],\n",
      "        [ 0.0000],\n",
      "        [ 0.0000],\n",
      "        [ 0.0000],\n",
      "        [ 0.0000],\n",
      "        [ 0.0000]], grad_fn=<SelectBackward0>)\n",
      "========================F_vector========================\n",
      "tensor([[ 0.0000,  0.0000,  0.0000,  0.0000],\n",
      "        [ 0.0000,  0.0000,  0.0000,  0.0000],\n",
      "        [ 0.0000,  0.0000,  0.0000,  0.0000],\n",
      "        [ 0.0000,  0.0000,  0.0000,  0.0000],\n",
      "        [ 0.0000,  0.0000,  0.0000,  0.0000],\n",
      "        [ 0.0000,  0.0000,  0.0000,  0.0000],\n",
      "        [ 0.0000,  0.0000,  0.0000,  0.0000],\n",
      "        [ 0.0000,  0.0000,  0.0000,  0.0000],\n",
      "        [ 0.0000,  0.0000,  0.0000,  0.0000],\n",
      "        [ 0.0000,  0.0000,  0.0000,  0.0000],\n",
      "        [ 0.0000,  0.0000,  0.0000,  0.0000],\n",
      "        [-0.1200, -0.0265, -0.0813,  0.1611],\n",
      "        [-0.0890,  0.4193,  0.2505, -0.1661],\n",
      "        [-0.0839,  0.6615,  0.3952, -0.2138],\n",
      "        [-0.1304,  0.3193,  0.1171,  0.0594],\n",
      "        [ 0.0000,  0.0000,  0.0000,  0.0000],\n",
      "        [ 0.0000,  0.0000,  0.0000,  0.0000],\n",
      "        [ 0.0000,  0.0000,  0.0000,  0.0000],\n",
      "        [ 0.0000,  0.0000,  0.0000,  0.0000],\n",
      "        [ 0.0000,  0.0000,  0.0000,  0.0000],\n",
      "        [ 0.0000,  0.0000,  0.0000,  0.0000],\n",
      "        [ 0.0000,  0.0000,  0.0000,  0.0000],\n",
      "        [ 0.0000,  0.0000,  0.0000,  0.0000],\n",
      "        [ 0.0000,  0.0000,  0.0000,  0.0000],\n",
      "        [ 0.0000,  0.0000,  0.0000,  0.0000],\n",
      "        [ 0.0000,  0.0000,  0.0000,  0.0000]], grad_fn=<SelectBackward0>)\n",
      "tensor([[ 0.0000],\n",
      "        [ 0.0000],\n",
      "        [ 0.0000],\n",
      "        [ 0.0000],\n",
      "        [ 0.0000],\n",
      "        [ 0.0000],\n",
      "        [ 0.0000],\n",
      "        [ 0.0000],\n",
      "        [ 0.0000],\n",
      "        [ 0.0000],\n",
      "        [ 0.0000],\n",
      "        [ 0.0938],\n",
      "        [-0.1366],\n",
      "        [-0.2340],\n",
      "        [-0.0335],\n",
      "        [ 0.0000],\n",
      "        [ 0.0000],\n",
      "        [ 0.0000],\n",
      "        [ 0.0000],\n",
      "        [ 0.0000],\n",
      "        [ 0.0000],\n",
      "        [ 0.0000],\n",
      "        [ 0.0000],\n",
      "        [ 0.0000],\n",
      "        [ 0.0000],\n",
      "        [ 0.0000]], grad_fn=<SelectBackward0>)\n"
     ]
    },
    {
     "name": "stderr",
     "output_type": "stream",
     "text": [
      "\n"
     ]
    },
    {
     "data": {
      "image/png": "[encoded data removed]",
      "text/plain": [
       "<Figure size 432x288 with 1 Axes>"
      ]
     },
     "metadata": {
      "needs_background": "light"
     },
     "output_type": "display_data"
    },
    {
     "data": {
      "image/png": "[encoded data removed]",
      "text/plain": [
       "<Figure size 432x288 with 1 Axes>"
      ]
     },
     "metadata": {
      "needs_background": "light"
     },
     "output_type": "display_data"
    },
    {
     "data": {
      "image/png": "[encoded data removed]",
      "text/plain": [
       "<Figure size 432x288 with 1 Axes>"
      ]
     },
     "metadata": {
      "needs_background": "light"
     },
     "output_type": "display_data"
    },
    {
     "data": {
      "image/png": "[encoded data removed]",
      "text/plain": [
       "<Figure size 432x288 with 1 Axes>"
      ]
     },
     "metadata": {
      "needs_background": "light"
     },
     "output_type": "display_data"
    }
   ],
   "source": [
    "loss_lst=[]\n",
    "pbar = tqdm(range(epochs+1))\n",
    "for epoch in pbar:\n",
    "    optimizer.zero_grad()\n",
    "    \n",
    "    # compute forward and backward prediction errors\n",
    "    if method=='RK3':\n",
    "        print('========================fwd========================')\n",
    "        fwd = forward_rk3_error(net, v_train, dtc, m, wd)\n",
    "        mf.view_weights(net)\n",
    "        print()\n",
    "        \n",
    "        print('========================bwd========================')\n",
    "        bwd = backward_rk3_error(net, v_train, dtc, m, wd)\n",
    "        mf.view_weights(net)\n",
    "        print()\n",
    "        \n",
    "        print('========================BIES:========================')\n",
    "        for lay in net.layer:\n",
    "            print(lay.bias)\n",
    "        print()    \n",
    "    \n",
    "    \n",
    "#     # compute norm of weights\n",
    "    res_w = 0\n",
    "    for i in range(len(net.layer)):\n",
    "        W = net.layer[i].weight\n",
    "        # mf.view_tensor(W)\n",
    "        W = W.view(W.shape[0]*W.shape[1], -1)\n",
    "        # mf.view_tensor(W)\n",
    "        # print('res_w_pre',(torch.norm(W, p=2, dim=0)**2))\n",
    "        res_w = res_w + (torch.norm(W, p=2, dim=0)**2)\n",
    "        # print('res_w',res_w)\n",
    "        \n",
    "    loss =  fwd + bwd + l_wd*res_w\n",
    "    \n",
    "    loss.retain_grad()\n",
    "    # loss_lst.append([fwd.cpu().data.numpy(),bwd.cpu().data.numpy(),\n",
    "                     # l_wd*res_w.cpu().data.numpy()[0],loss.cpu().data.numpy()[0]])\n",
    "        \n",
    "    print()\n",
    "    all_u,all_f=get_u(v_train)\n",
    "    print(len(all_u),len(all_f))\n",
    "    print(all_u[0].shape,all_f[0].shape)\n",
    "    print('========================U_vector========================')\n",
    "    print(all_u[-2][-1])\n",
    "    print(all_u[-1][-1])\n",
    "    \n",
    "    print('========================F_vector========================')\n",
    "    print(all_f[-2][-1])\n",
    "    print(all_f[-1][-1])\n",
    "    \n",
    "    plt.figure()\n",
    "    plt.plot(all_u[-1][1].data.numpy())\n",
    "    plt.plot(all_u[-1][-1].data.numpy())\n",
    "    plt.figure()\n",
    "    plt.plot(all_f[-1][1].data.numpy())\n",
    "    plt.plot(all_f[-1][-1].data.numpy())\n",
    "\n",
    "\n",
    "#     loss.backward()\n",
    "#     print()\n",
    "#     print('========================После loss.backward========================')\n",
    "#     mf.view_weights(net)\n",
    "\n",
    "\n",
    "#     optimizer.step()\n",
    "#     print()\n",
    "#     print('========================После optimizer.step========================')\n",
    "#     mf.view_weights(net)\n",
    "\n",
    "#     print()\n",
    "#     print('========================BIES:========================')\n",
    "#     for lay in net.layer:\n",
    "#         print(lay.bias)\n",
    "\n",
    "#     print()\n",
    "#     print('========================PREDICT========================')\n",
    "#     print(mf.view_tensor(net(v_train)))\n",
    "    \n",
    "    \n",
    "    \n",
    "#     if epoch > 15_000:\n",
    "#         scheduler.step()"
   ]
  },
  {
   "cell_type": "code",
   "execution_count": 17,
   "id": "f6b75491-a3c7-4eb3-a1f1-8f9d360aadae",
   "metadata": {},
   "outputs": [
    {
     "name": "stdout",
     "output_type": "stream",
     "text": [
      "None\n"
     ]
    }
   ],
   "source": [
    "print(loss.grad)"
   ]
  },
  {
   "cell_type": "code",
   "execution_count": 18,
   "id": "b6badeaf-cfb8-4b97-b741-c455c51794fb",
   "metadata": {},
   "outputs": [],
   "source": [
    "def ELU_derrivative(v_out):\n",
    "    '''\n",
    "    !1 v_out should be preprocessed (convert torch to numpy)\n",
    "    !2 didn't work wiht some v_out shapes (v_out should be (26,1) like shape)\n",
    "    '''\n",
    "    # FLAG=True\n",
    "    # shapes=v_out.shape\n",
    "    # if shapes[0]==1:\n",
    "    #     FLAG=False\n",
    "    #     v_out=v_out.T\n",
    "    \n",
    "    act = nn.ELU()\n",
    "    \n",
    "    new_x = []\n",
    "    \n",
    "    for x in v_out:\n",
    "        if x>0:\n",
    "            new_x.append(1)\n",
    "        else:\n",
    "            new_x.append(act(x).data.numpy()[0]+1)\n",
    "    \n",
    "    result=torch.tensor(new_x)\n",
    "    \n",
    "    # if FLAG==False:\n",
    "    #     result=result.T\n",
    "        \n",
    "    return torch.reshape(result,v_out.shape)\n",
    "\n",
    "# print(v_out.shape)\n",
    "# print(v_out)\n",
    "# act=nn.ELU()\n",
    "# print(act(v_out))\n",
    "# print(ELU_derrivative(v_out))"
   ]
  },
  {
   "cell_type": "code",
   "execution_count": 19,
   "id": "7dfc7d92-70ac-4e39-8783-61f77217b399",
   "metadata": {},
   "outputs": [],
   "source": [
    "# net.layer[-1].weight@all_f[-2][0].T"
   ]
  },
  {
   "cell_type": "code",
   "execution_count": 20,
   "id": "a7f2e0d7-2836-4427-bbcd-79dcb5ff424a",
   "metadata": {},
   "outputs": [],
   "source": [
    "def my_part_of_back_propogation(net,v_train,all_u,all_f,):\n",
    "    '''\n",
    "    # Info: (gradient descent)\n",
    "    # d - all_f[-1][0].data.numpy()\n",
    "    # y - v_train[0].data.numpy()\n",
    "    # e= y-d\n",
    "    # v_out - all_u[-1][0].data.numpy()\n",
    "    # w_4 (w_4_1_1,w_4_1_2,w_4_1_4,w_4_1_4) - net.layer[-1].weight\n",
    "    # f - nn.ELU()\n",
    "    # f' - def ELU_derrivative()\n",
    "    # f_4_1_1 = all_f[-2][0][:,0]\n",
    "    '''\n",
    "    e=v_train-net(v_train) \n",
    "    e=e[0] # first time\n",
    "    print('e',e)\n",
    "\n",
    "    v_out=all_u[-1][0] # last layer, first time\n",
    "    print('v_out',v_out)\n",
    "\n",
    "    print('ELU_deriv(v_out)',ELU_derrivative(v_out))\n",
    "\n",
    "    delta = (e*ELU_derrivative(v_out).T)#.data.numpy()[0]\n",
    "    print('delta',delta,delta.shape)\n",
    "\n",
    "    print('correct_term',delta@all_f[-2][0][:,:1])\n",
    "    \n",
    "    return e,v_out,delta"
   ]
  },
  {
   "cell_type": "code",
   "execution_count": 21,
   "id": "1fc2d49e-067f-4de8-9cb4-14c807aad972",
   "metadata": {},
   "outputs": [],
   "source": [
    "# e,v_out,delta=my_part_of_back_propogation(net,v_train,all_u,all_f,)"
   ]
  },
  {
   "cell_type": "code",
   "execution_count": 22,
   "id": "18345a0f-d1d9-41f7-9439-5564a1100960",
   "metadata": {},
   "outputs": [
    {
     "data": {
      "text/plain": [
       "[{'params': [Parameter containing:\n",
       "   tensor([[-0.5493, -0.3010, -0.4769],\n",
       "           [-0.0311, -0.1045, -0.5162],\n",
       "           [ 0.2258,  0.1429, -0.2251],\n",
       "           [-0.2730, -0.8406, -0.0659]], requires_grad=True),\n",
       "   Parameter containing:\n",
       "   tensor([0., 0., 0., 0.], requires_grad=True),\n",
       "   Parameter containing:\n",
       "   tensor([[ 0.2266,  0.5711,  0.1243, -0.8877],\n",
       "           [-0.0128, -0.5117, -0.2981, -0.5028],\n",
       "           [ 0.2143,  0.7380, -0.8934,  0.8052],\n",
       "           [-0.3520, -0.0926, -0.4981, -0.4156]], requires_grad=True),\n",
       "   Parameter containing:\n",
       "   tensor([0., 0., 0., 0.], requires_grad=True),\n",
       "   Parameter containing:\n",
       "   tensor([[ 0.3307,  0.5950,  0.4083, -0.4568],\n",
       "           [ 0.6926, -0.4069, -0.4638,  0.5560],\n",
       "           [ 0.6676,  0.3021, -0.0517, -0.0756],\n",
       "           [-1.0510, -0.3100, -0.7391, -0.5667]], requires_grad=True),\n",
       "   Parameter containing:\n",
       "   tensor([0., 0., 0., 0.], requires_grad=True),\n",
       "   Parameter containing:\n",
       "   tensor([[-0.3178,  0.0301, -0.7161, -0.0113]], requires_grad=True),\n",
       "   Parameter containing:\n",
       "   tensor([0.], requires_grad=True)],\n",
       "  'lr': 0.01,\n",
       "  'betas': (0.9, 0.999),\n",
       "  'eps': 1e-08,\n",
       "  'weight_decay': 0,\n",
       "  'amsgrad': False,\n",
       "  'maximize': False,\n",
       "  'foreach': None,\n",
       "  'capturable': False,\n",
       "  'differentiable': False,\n",
       "  'fused': None,\n",
       "  'initial_lr': 0.01}]"
      ]
     },
     "execution_count": 22,
     "metadata": {},
     "output_type": "execute_result"
    }
   ],
   "source": [
    "params"
   ]
  },
  {
   "cell_type": "code",
   "execution_count": 23,
   "id": "0736c2a3-ed9f-40bb-a88d-493f4a29012e",
   "metadata": {},
   "outputs": [],
   "source": [
    "# Define Adam optimizer\n",
    "\n",
    "#---------params---------\n",
    "#'amsgrad': False,\n",
    "#'maximize': False\n",
    "#----------end-----------\n",
    "\n",
    "def adam_update(param, grad, learning_rate, beta1, beta2, t):\n",
    "  \"\"\"\n",
    "  Adam update algorithm is an optimization method used for training machine\n",
    "  learning models, particularly neural networks.\n",
    "\n",
    "  Intuition:\n",
    "  Adam combines the benefits of two other popular optimization algorithms:\n",
    "  AdaGrad and RMSProp.\n",
    "\n",
    "  1. AdaGrad adapts the learning rate to parameters, performing larger updates\n",
    "     for infrequent parameters and smaller updates for frequent ones. However,\n",
    "     its continuously accumulating squared gradients can lead to an overly\n",
    "     aggressive and monotonically decreasing learning rate.\n",
    "\n",
    "  2. RMSProp modifies AdaGrad by using a moving average of squared gradients to\n",
    "     adapt the learning rate, which resolves the radical diminishing learning\n",
    "     rates of AdaGrad.\n",
    "\n",
    "  Adam takes this a step further by:\n",
    "  - Calculating an exponentially moving average of the gradients (m) to smooth\n",
    "    out the gradient descent path, addressing the issue of noisy gradients.\n",
    "  - Computing an exponentially moving average of the squared gradients (v),\n",
    "    which scales the learning rate inversely proportional to the square root of\n",
    "    the second moments of the gradients. This helps in adaptive learning rate\n",
    "    adjustments.\n",
    "  - Implementing bias corrections to the first (m_hat) and second (v_hat) moment\n",
    "    estimates to account for their initialization at the origin, leading to more\n",
    "    accurate updates at the beginning of the training.\n",
    "\n",
    "  This results in an optimization algorithm that can handle sparse gradients on\n",
    "  noisy problems, which is efficient for large datasets and high-dimensional\n",
    "  parameter spaces.\n",
    "\n",
    "  Note: The function requires initialization or previous values of m_prev,\n",
    "  v_prev, and epsilon (a small number to prevent division by zero).\n",
    "  \"\"\"\n",
    "\n",
    "  # Update biased first moment estimate.\n",
    "  # m is the exponentially moving average of the gradients.\n",
    "  # beta1 is the decay rate for the first moment.\n",
    "  m = beta1 * m_prev + (1 - beta1) * grad\n",
    "\n",
    "  # Update biased second raw moment estimate.\n",
    "  # v is the exponentially moving average of the squared gradients.\n",
    "  # beta2 is the decay rate for the second moment.\n",
    "  v = beta2 * v_prev + (1 - beta2) * grad**2\n",
    "\n",
    "  # Compute bias-corrected first moment estimate.\n",
    "  # This corrects the bias in the first moment caused by initialization at origin.\n",
    "  m_hat = m / (1 - beta1**(t + 1))#????????????? ->t (может как раз чтоб на 0 не умножать)\n",
    "\n",
    "  # Compute bias-corrected second raw moment estimate.\n",
    "  # This corrects the bias in the second moment caused by initialization at origin.\n",
    "  v_hat = v / (1 - beta2**(t + 1))#????????????? ->t\n",
    "\n",
    "  # Update parameters.\n",
    "  # Parameters are adjusted based on the learning rate, corrected first moment,\n",
    "  # and the square root of the corrected second moment.\n",
    "  # epsilon is a small number to avoid division by zero.\n",
    "  # param -= learning_rate * m_hat / (np.sqrt(v_hat) + epsilon)\n",
    "  param2=param.clone()\n",
    "  # v_hat2=v_hat.detach().numpy()\n",
    "  # print(np.sqrt(v_hat2))\n",
    "  param2 = param - learning_rate * m_hat / (np.sqrt(v_hat.detach().numpy()) + epsilon)\n",
    "  # param2 = param.detach().numpy() - np.sqrt(v_hat2)\n",
    "  # param2=torch.tensor(param2)\n",
    "  param=param2.clone()\n",
    "    \n",
    "  # biases=learning_rate * m_hat / (np.sqrt(v_hat) + epsilon)\n",
    "    \n",
    "  # print('смещения = ',biases.reshape(-1,).data.numpy().sum())\n",
    "  \n",
    "  print(param)\n",
    "  # Return the updated parameters, as well as the first and second moment estimates.\n",
    "  return param, m, v"
   ]
  },
  {
   "cell_type": "code",
   "execution_count": 24,
   "id": "833c4aac-c9ad-439d-89e6-a316c60a559a",
   "metadata": {},
   "outputs": [
    {
     "data": {
      "text/plain": [
       "0.9"
      ]
     },
     "execution_count": 24,
     "metadata": {},
     "output_type": "execute_result"
    }
   ],
   "source": [
    "decay_const"
   ]
  },
  {
   "cell_type": "code",
   "execution_count": 25,
   "id": "b8383ddc-65d1-4902-986b-7615874119ec",
   "metadata": {},
   "outputs": [],
   "source": [
    "# Для 1 итерации посчитаю (t=0) :\n",
    "\n",
    "# m = [0,...,0]\n",
    "# v = [0,...,0]\n",
    "\n",
    "# m = 0.1*grad\n",
    "# v = (0.001)*grad**2\n",
    "\n",
    "#m_hat = m / (0.1) = grad \n",
    "#v_hat = v/(0.001)  = grad**2"
   ]
  },
  {
   "cell_type": "code",
   "execution_count": null,
   "id": "522cf04f-b183-4c5e-beeb-f84dfeb41a37",
   "metadata": {},
   "outputs": [],
   "source": [
    "0.1/0.001"
   ]
  },
  {
   "cell_type": "code",
   "execution_count": 26,
   "id": "8361cedb-61b1-4fc9-8e70-ec7d245e6443",
   "metadata": {},
   "outputs": [
    {
     "data": {
      "text/plain": [
       "tensor([1.0000, 0.8723, 0.7914, 0.9671, 1.0000, 1.0000, 1.0000, 1.0000, 1.0000,\n",
       "        1.0000, 1.0000, 1.0000, 1.0000, 1.0000, 1.0000, 1.0000, 1.0000, 1.0000,\n",
       "        1.0000, 1.0000, 1.0000, 1.0000, 1.0000, 1.0000, 1.0000, 1.0000],\n",
       "       dtype=torch.float64)"
      ]
     },
     "execution_count": 26,
     "metadata": {},
     "output_type": "execute_result"
    }
   ],
   "source": [
    "e=v_train-net(v_train)\n",
    "ELU_derrivative(torch.reshape(net(v_train)[0],(26,1))).reshape(1,26)[0]\n"
   ]
  },
  {
   "cell_type": "code",
   "execution_count": 27,
   "id": "c8518829-2003-4973-9f68-665765408500",
   "metadata": {},
   "outputs": [
    {
     "data": {
      "text/plain": [
       "tensor(1.9066, grad_fn=<DotBackward0>)"
      ]
     },
     "execution_count": 27,
     "metadata": {},
     "output_type": "execute_result"
    }
   ],
   "source": [
    "e[0].to(torch.float)@ELU_derrivative(torch.reshape(net(v_train)[0],(26,1))).reshape(1,26)[0].to(torch.float)"
   ]
  },
  {
   "cell_type": "code",
   "execution_count": 31,
   "id": "f5a39f57-da65-4ede-aa37-0566ba7af8ee",
   "metadata": {},
   "outputs": [
    {
     "name": "stdout",
     "output_type": "stream",
     "text": [
      "tensor([[-0.3278],\n",
      "        [ 0.0201],\n",
      "        [-0.7261],\n",
      "        [-0.0213]], grad_fn=<CloneBackward0>)\n"
     ]
    }
   ],
   "source": [
    "x = net.layer[-1].weight.T\n",
    "e=v_train-net(v_train)\n",
    "\n",
    "# x= net(v_train)[0]\n",
    "beta1=0.9\n",
    "beta2=0.999\n",
    "m_prev = np.zeros_like(x.shape[0])\n",
    "v_prev = np.zeros_like(x.shape[0])\n",
    "epsilon = 1e-8\n",
    "# param, m, v=adam_update(x, ELU_derrivative(x), 0.01, beta1, beta2, 0)\n",
    "\n",
    "grad=e[0].to(torch.float)@ELU_derrivative(torch.reshape(net(v_train)[0],(26,1))).reshape(1,26)[0].to(torch.float)\n",
    "# param, m, v=adam_update(x, grad, 0.01, beta1, beta2, 0)\n",
    "param, m, v=adam_update(x, torch.tensor([0.01]), 0.01, beta1, beta2, 0)\n",
    "# param, m, v=adam_update(x, torch.tensor([0.0865000]), 0.01, beta1, beta2, 0)"
   ]
  },
  {
   "cell_type": "code",
   "execution_count": null,
   "id": "c654efb0-c10d-4f8e-945a-096c000ee14d",
   "metadata": {},
   "outputs": [],
   "source": [
    "x"
   ]
  },
  {
   "cell_type": "code",
   "execution_count": null,
   "id": "e1d49fd8-adb6-4ed0-a8e9-8922a1ee3a9a",
   "metadata": {},
   "outputs": [],
   "source": [
    "x.reshape(-1)"
   ]
  },
  {
   "cell_type": "code",
   "execution_count": null,
   "id": "f122004c-b73c-4926-a781-faff52c5ebfc",
   "metadata": {},
   "outputs": [],
   "source": [
    "torch.transpose(x,0,1)"
   ]
  },
  {
   "cell_type": "code",
   "execution_count": null,
   "id": "4249e126-fbc7-434d-a583-6da3fe1477fe",
   "metadata": {},
   "outputs": [],
   "source": [
    "torch.tensor([decay_const])@torch.transpose(x,0,1)"
   ]
  },
  {
   "cell_type": "code",
   "execution_count": null,
   "id": "0f98cc6f-39f2-4058-94c1-c7f83ca6ccc8",
   "metadata": {},
   "outputs": [],
   "source": [
    "torch.sum(torch.tensor([decay_const])@torch.transpose(x,0,1))"
   ]
  },
  {
   "cell_type": "code",
   "execution_count": null,
   "id": "ee650fff-87ac-45d8-9268-ed4b941e031c",
   "metadata": {},
   "outputs": [],
   "source": [
    "1-0.9135"
   ]
  },
  {
   "cell_type": "code",
   "execution_count": null,
   "id": "da667e52-b2bb-428e-8f95-7d44476d49ab",
   "metadata": {},
   "outputs": [],
   "source": []
  },
  {
   "cell_type": "code",
   "execution_count": null,
   "id": "8f245624-6f1c-4f8d-b908-d7c237fc7162",
   "metadata": {},
   "outputs": [],
   "source": [
    "net.layer[-1].weight.T"
   ]
  },
  {
   "cell_type": "code",
   "execution_count": null,
   "id": "68503f84-bf0f-4df8-9438-46fbde983de9",
   "metadata": {},
   "outputs": [],
   "source": [
    "ELU_derrivative(x)"
   ]
  },
  {
   "cell_type": "code",
   "execution_count": null,
   "id": "9649cf6b-39a5-412d-b8c3-a1092461ebb2",
   "metadata": {},
   "outputs": [],
   "source": [
    "adam_update(x, delta.data, 0.01, beta1, beta2, 0)"
   ]
  },
  {
   "cell_type": "code",
   "execution_count": null,
   "id": "9d496704-ed01-4ba9-a198-bd9466dab4bf",
   "metadata": {},
   "outputs": [],
   "source": [
    "np.sqrt(delta.detach().numpy())"
   ]
  },
  {
   "cell_type": "code",
   "execution_count": null,
   "id": "c6ac7d24-ec46-45e2-9529-3e73043ee3d2",
   "metadata": {},
   "outputs": [],
   "source": []
  },
  {
   "cell_type": "code",
   "execution_count": null,
   "id": "bef08004-8ca8-4b35-b42c-121d91b6e6e6",
   "metadata": {},
   "outputs": [],
   "source": [
    "# ## КВАДРАТ НОРМЫ\n",
    "# w=net.layer[1].weight\n",
    "# temp=w.view(w.shape[0]*w.shape[1],-1)\n",
    "# temp\n",
    "\n",
    "# s=0\n",
    "# for i in list(temp.data.numpy()):\n",
    "#     s+=i**2\n",
    "#     print(i)\n",
    "# print(s,np.sqrt(s))"
   ]
  },
  {
   "cell_type": "code",
   "execution_count": null,
   "id": "8d37cd1d-6919-4f5f-888f-9098cee59341",
   "metadata": {},
   "outputs": [],
   "source": [
    "net.retain_grad()"
   ]
  },
  {
   "cell_type": "code",
   "execution_count": null,
   "id": "4808d496-ed3d-466a-b3c9-4e14add992c3",
   "metadata": {},
   "outputs": [],
   "source": [
    "w=net.layer[0].weight\n",
    "\n",
    "w.view(w.shape[0]*w.shape[1],-1)"
   ]
  },
  {
   "cell_type": "code",
   "execution_count": null,
   "id": "a7ef847b-a78e-461b-ace0-4655e301119c",
   "metadata": {},
   "outputs": [],
   "source": [
    "mf.view_tensor(w)"
   ]
  },
  {
   "cell_type": "code",
   "execution_count": null,
   "id": "08e0ee88-5b26-4d9e-b7c8-c2c798409cd0",
   "metadata": {},
   "outputs": [],
   "source": [
    "plt.plot(v_train[0,:].data)\n",
    "plt.plot(v_train[-1,:].data)"
   ]
  },
  {
   "cell_type": "code",
   "execution_count": null,
   "id": "516bd065-87b3-478e-a875-e185d78a9a53",
   "metadata": {},
   "outputs": [],
   "source": [
    "# for j in net.layer:\n",
    "#     print(fr'-----{j}------')\n",
    "#     print(j.weight)"
   ]
  },
  {
   "cell_type": "code",
   "execution_count": null,
   "id": "453fc0d7-28a4-46db-8e21-f58ec1bab579",
   "metadata": {},
   "outputs": [],
   "source": [
    "# W.view(W.shape[0]*W.shape[1], -1)"
   ]
  },
  {
   "cell_type": "code",
   "execution_count": null,
   "id": "cd502c15-87df-4e7a-8824-db4d2bee5339",
   "metadata": {},
   "outputs": [],
   "source": [
    "# plt.plot(W.cpu().data.numpy()[:,0])"
   ]
  },
  {
   "cell_type": "code",
   "execution_count": null,
   "id": "42a97b09-427b-4ba9-a5bf-ef2b8691be63",
   "metadata": {},
   "outputs": [],
   "source": [
    "mf.plot_err_and_components_of_err(np.array(loss_lst))"
   ]
  },
  {
   "cell_type": "markdown",
   "id": "5d6a70e2-5e40-430f-a25d-e21653f7fa3e",
   "metadata": {},
   "source": [
    "##### 5. save_model"
   ]
  },
  {
   "cell_type": "code",
   "execution_count": null,
   "id": "5c51d6d2-2d0f-4699-917b-72a2dd8f485b",
   "metadata": {},
   "outputs": [],
   "source": [
    "# torch.save(net, './models/model_advection_n=' +str(n)+'_'+ str(fs) + \"_\"+str(t_factor) +'L_' + str(neurons) + '_ep_' + str(epochs)  + '_' + \"elu\" + '_m' + str(m) + '_Lxc' +  str(s_factor) + \"_Ltc\" + str(t_factor) +  '_lwd' + str(l_wd) +fr'_WDact{method}_seed_'+ str(seed)  + '.pth')"
   ]
  },
  {
   "cell_type": "code",
   "execution_count": null,
   "id": "4ea6e964-4b37-4799-bfbb-6a1dc1dfdfe2",
   "metadata": {},
   "outputs": [],
   "source": []
  },
  {
   "cell_type": "markdown",
   "id": "44262bab-6258-4677-ad09-0e7d3c953b9a",
   "metadata": {},
   "source": [
    "##### 6. load_model"
   ]
  },
  {
   "cell_type": "code",
   "execution_count": null,
   "id": "992180bd-96b0-4cc6-bb28-dbc729158155",
   "metadata": {},
   "outputs": [],
   "source": [
    "# neurons = 64\n",
    "# fs=7\n",
    "# epochs=100\n",
    "# m=4\n",
    "# l_wd=0#1e-3\n",
    "# seed=1\n",
    "#method='E1'\n",
    "\n",
    "# net = load_simulation_model(s_factor, t_factor, neurons, device)\n",
    "\n",
    "# net=torch.load('./models/model_advection_n=' +str(n)+'_' + str(fs) + \"_\"+str(t_factor) +'L_' + str(neurons) + '_ep_' + str(epochs)  + '_' + \"elu\" + '_m' + str(m) + '_Lxc' +  str(s_factor) + \"_Ltc\" + str(t_factor) +  '_lwd' + str(l_wd) +fr'_WDact{method}_seed_'+ str(seed)  + '.pth')"
   ]
  },
  {
   "cell_type": "code",
   "execution_count": null,
   "id": "37b0caa4-15a7-4ddd-a674-8c0fa800bffa",
   "metadata": {},
   "outputs": [],
   "source": []
  },
  {
   "cell_type": "markdown",
   "id": "8ad80bf4-c499-4b68-b115-5d54b291f759",
   "metadata": {},
   "source": [
    "##### 7. Simulation"
   ]
  },
  {
   "cell_type": "code",
   "execution_count": null,
   "id": "30076c86-15bd-4e3f-833a-2963ad8bc877",
   "metadata": {},
   "outputs": [],
   "source": [
    "# Lx_sim = int(n/s_factor)\n",
    "Lx_sim=v_coarse.shape[0]\n",
    "x_sim  = np.linspace(0,L,Lx_sim)\n",
    "dxs    = x_sim[1] - x_sim[0]\n",
    "dts    = dtc\n",
    "T_sim=v_coarse.shape[1]\n",
    "\n",
    "NN_sim   = np.zeros((Lx_sim,T_sim))\n",
    "phase_NN=np.zeros((Lx_sim,T_sim))\n",
    "\n",
    "# NN_sim[:,0] = np.exp(-(x_sim-3)**2)\n",
    "NN_sim[:,0]=v_coarse[:,0]\n",
    "\n",
    "zf   = 0\n",
    "time = 0\n",
    "for j in tqdm(range(0,T_sim-1)):\n",
    "    if method=='RK3':\n",
    "        tensor = NN_sim[:,j].reshape(1,Lxc)\n",
    "        torch_tensor = torch.tensor(tensor,dtype=torch.float,device=device)\n",
    "\n",
    "        phase_NN[:,j] = net(torch_tensor).cpu().data.numpy()\n",
    "        k1   =  dts*phase_NN[:,j] #+ dts*forcing\n",
    "        temp =  NN_sim[:,j] + 0.5*k1 \n",
    "\n",
    "        tensor = temp.reshape(1,Lxc)\n",
    "        torch_tensor = torch.tensor(tensor,dtype=torch.float,device=device)\n",
    "\n",
    "\n",
    "        k2   =  dts*net(torch_tensor).cpu().data.numpy() #+ dts*forcing\n",
    "        temp =  NN_sim[:,j] - k1 + 2.0*k2\n",
    "\n",
    "        tensor = temp.reshape(1,Lxc)\n",
    "        torch_tensor = torch.tensor(tensor,dtype=torch.float,device=device)\n",
    "\n",
    "        k3   =  dts*net(torch_tensor).cpu().data.numpy() #+ dts*forcing\n",
    "\n",
    "        NN_sim[:,j+1] = NN_sim[:,j] + (1./6.)*(k1 + 4.0*k2 + k3)\n",
    "\n",
    "        time = time + dts\n",
    "    \n",
    "    elif method=='E1':\n",
    "        tensor = NN_sim[:,j].reshape(1,Lxc)\n",
    "        torch_tensor = torch.tensor(tensor,dtype=torch.float,device=device)\n",
    "\n",
    "        NN_sim[:,j+1] = NN_sim[:,j]+dts*net(torch_tensor).cpu().data.numpy()\n",
    "\n",
    "        time = time + dts\n",
    "        \n",
    "    else:\n",
    "        raise 'method error'"
   ]
  },
  {
   "cell_type": "code",
   "execution_count": null,
   "id": "c073358a-f0b8-4e53-9940-11e75cd5d20c",
   "metadata": {},
   "outputs": [],
   "source": []
  },
  {
   "cell_type": "markdown",
   "id": "e566555b-94cf-481f-a431-804eb65878d9",
   "metadata": {},
   "source": [
    "##### 8. view_results"
   ]
  },
  {
   "cell_type": "code",
   "execution_count": null,
   "id": "0a719466-7073-4a54-8358-39a0b7ff5a65",
   "metadata": {},
   "outputs": [],
   "source": [
    "mf.view_train_test_graph(x_sim,v_coarse_train,v_coarse_test)"
   ]
  },
  {
   "cell_type": "code",
   "execution_count": null,
   "id": "e780aedf-e9d9-48fa-9005-7c68b09d9b24",
   "metadata": {},
   "outputs": [],
   "source": [
    "len([int(i) for i in np.linspace(0,T_sim-1,5)]),T_sim\n"
   ]
  },
  {
   "cell_type": "code",
   "execution_count": null,
   "id": "d0b238d9-fe14-414d-9699-45eb60fbd146",
   "metadata": {},
   "outputs": [],
   "source": [
    "mf.view_results(T_sim,x_sim,NN_sim,v_coarse)"
   ]
  },
  {
   "cell_type": "code",
   "execution_count": null,
   "id": "eaa64435-405b-4026-ac3c-38822d5b8d42",
   "metadata": {},
   "outputs": [],
   "source": []
  },
  {
   "cell_type": "code",
   "execution_count": null,
   "id": "2ae74d32-03a5-4051-afc2-2031e12cdb5a",
   "metadata": {},
   "outputs": [],
   "source": []
  },
  {
   "cell_type": "code",
   "execution_count": null,
   "id": "06bd0f3b-6de9-42f8-bb6c-233e61b75047",
   "metadata": {},
   "outputs": [],
   "source": []
  },
  {
   "cell_type": "code",
   "execution_count": null,
   "id": "28b7b504-b898-4c2b-ad3c-c04e31027012",
   "metadata": {},
   "outputs": [],
   "source": []
  }
 ],
 "metadata": {
  "kernelspec": {
   "display_name": "Python 3 (ipykernel)",
   "language": "python",
   "name": "python3"
  },
  "language_info": {
   "codemirror_mode": {
    "name": "ipython",
    "version": 3
   },
   "file_extension": ".py",
   "mimetype": "text/x-python",
   "name": "python",
   "nbconvert_exporter": "python",
   "pygments_lexer": "ipython3",
   "version": "3.9.12"
  }
 },
 "nbformat": 4,
 "nbformat_minor": 5
}
