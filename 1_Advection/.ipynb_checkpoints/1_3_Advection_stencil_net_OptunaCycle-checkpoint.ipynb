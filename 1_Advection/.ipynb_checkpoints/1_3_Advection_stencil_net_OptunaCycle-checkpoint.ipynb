{
 "cells": [
  {
   "cell_type": "code",
   "execution_count": 1,
   "id": "751648e3-9340-4cf2-9438-8ec47f0a36e7",
   "metadata": {},
   "outputs": [],
   "source": [
    "import warnings\n",
    "warnings.filterwarnings('ignore')\n",
    "\n",
    "import matplotlib.pyplot as plt\n",
    "import numpy as np\n",
    "import pandas as pd\n",
    "import copy\n",
    "from tqdm import tqdm\n",
    "\n",
    "import sys\n",
    "sys.path.append('D:\\diplom_2\\my_test')\n",
    "import my_funcs as mf\n",
    "\n",
    "\n",
    "import my_advection_funcs as maf"
   ]
  },
  {
   "cell_type": "code",
   "execution_count": null,
   "id": "86381c8a-82b1-4d46-b7ed-826defda926e",
   "metadata": {},
   "outputs": [],
   "source": []
  },
  {
   "cell_type": "markdown",
   "id": "d14adb3e-23e9-4465-bdf9-c65fc65b22db",
   "metadata": {},
   "source": [
    "## STENCIL-NET"
   ]
  },
  {
   "cell_type": "code",
   "execution_count": 2,
   "id": "97b009b2-b566-4611-81cc-cb8b18f92de8",
   "metadata": {},
   "outputs": [],
   "source": [
    "import torch\n",
    "import torch.nn as nn\n",
    "\n",
    "from torch.optim import Adam\n",
    "from torch.optim.lr_scheduler import ExponentialLR\n",
    "from stencilnet import MLPConv, forward_rk3_error, backward_rk3_error#,backward_rk3_tvd_error,forward_rk3_tvd_error\n",
    "# from stencilnet import forward_rk1_error,backward_rk1_error\n",
    "from utils import load_simulation_model"
   ]
  },
  {
   "cell_type": "markdown",
   "id": "f4d80473-1882-401c-9520-633314ec3098",
   "metadata": {
    "tags": []
   },
   "source": [
    "##### 0. Mesh Params"
   ]
  },
  {
   "cell_type": "code",
   "execution_count": 3,
   "id": "6affe7c1-76a6-418a-bd0f-8f1a494ed12d",
   "metadata": {},
   "outputs": [
    {
     "name": "stdout",
     "output_type": "stream",
     "text": [
      "Доля единиц: 9.877\n"
     ]
    }
   ],
   "source": [
    "generate_flg=True # True - генерация, False - чтение уже сгенерированных\n",
    "# generate_flg=False\n",
    "\n",
    "n=81 #число узлов\n",
    "L=1 # длина расчт области\n",
    "T=.9 #конечное время\n",
    "kurant=1\n",
    "\n",
    "h=L/(n-1)\n",
    "b=(n-1)*0.1*L #width % of L (длина участка с v=1, составляет 10% от расчт области)\n",
    "v=[1 if i in range(1,int(b)+1) else 0 for i in range(0,n) ]\n",
    "print('Доля единиц:',np.round(100*v.count(1)/len(v),3))"
   ]
  },
  {
   "cell_type": "markdown",
   "id": "6d9db8b2-64a6-4f46-953a-2162a24dc825",
   "metadata": {},
   "source": [
    "##### 1. Study params"
   ]
  },
  {
   "cell_type": "code",
   "execution_count": 4,
   "id": "21d9d7e3-1a81-425a-95d1-f28c8c4da307",
   "metadata": {},
   "outputs": [
    {
     "data": {
      "text/html": [
       "<div>\n",
       "<style scoped>\n",
       "    .dataframe tbody tr th:only-of-type {\n",
       "        vertical-align: middle;\n",
       "    }\n",
       "\n",
       "    .dataframe tbody tr th {\n",
       "        vertical-align: top;\n",
       "    }\n",
       "\n",
       "    .dataframe thead th {\n",
       "        text-align: right;\n",
       "    }\n",
       "</style>\n",
       "<table border=\"1\" class=\"dataframe\">\n",
       "  <thead>\n",
       "    <tr style=\"text-align: right;\">\n",
       "      <th></th>\n",
       "      <th>value</th>\n",
       "    </tr>\n",
       "    <tr>\n",
       "      <th>param</th>\n",
       "      <th></th>\n",
       "    </tr>\n",
       "  </thead>\n",
       "  <tbody>\n",
       "    <tr>\n",
       "      <th>seed</th>\n",
       "      <td>1</td>\n",
       "    </tr>\n",
       "    <tr>\n",
       "      <th>method</th>\n",
       "      <td>RK3</td>\n",
       "    </tr>\n",
       "    <tr>\n",
       "      <th>decay_const</th>\n",
       "      <td>0.9</td>\n",
       "    </tr>\n",
       "    <tr>\n",
       "      <th>train_split</th>\n",
       "      <td>0.7</td>\n",
       "    </tr>\n",
       "    <tr>\n",
       "      <th>m</th>\n",
       "      <td>4</td>\n",
       "    </tr>\n",
       "    <tr>\n",
       "      <th>epochs</th>\n",
       "      <td>50</td>\n",
       "    </tr>\n",
       "    <tr>\n",
       "      <th>l_wd</th>\n",
       "      <td>0.0</td>\n",
       "    </tr>\n",
       "    <tr>\n",
       "      <th>fs</th>\n",
       "      <td>7</td>\n",
       "    </tr>\n",
       "    <tr>\n",
       "      <th>neurons</th>\n",
       "      <td>64</td>\n",
       "    </tr>\n",
       "    <tr>\n",
       "      <th>lr</th>\n",
       "      <td>0.01</td>\n",
       "    </tr>\n",
       "    <tr>\n",
       "      <th>has_backward</th>\n",
       "      <td>False</td>\n",
       "    </tr>\n",
       "    <tr>\n",
       "      <th>hidden_layers_num</th>\n",
       "      <td>3</td>\n",
       "    </tr>\n",
       "    <tr>\n",
       "      <th>N_TRIALS</th>\n",
       "      <td>50</td>\n",
       "    </tr>\n",
       "  </tbody>\n",
       "</table>\n",
       "</div>"
      ],
      "text/plain": [
       "                   value\n",
       "param                   \n",
       "seed                   1\n",
       "method               RK3\n",
       "decay_const          0.9\n",
       "train_split          0.7\n",
       "m                      4\n",
       "epochs                50\n",
       "l_wd                 0.0\n",
       "fs                     7\n",
       "neurons               64\n",
       "lr                  0.01\n",
       "has_backward       False\n",
       "hidden_layers_num      3\n",
       "N_TRIALS              50"
      ]
     },
     "metadata": {},
     "output_type": "display_data"
    }
   ],
   "source": [
    "main_params=pd.read_excel('init_params.xlsx',dtype={'has_backward':bool})\n",
    "main_params=main_params.set_index('param')\n",
    "display(main_params)"
   ]
  },
  {
   "cell_type": "code",
   "execution_count": 5,
   "id": "5dae52d3-c7e1-468c-95f1-2561f3649362",
   "metadata": {},
   "outputs": [],
   "source": [
    "#------------------------MAIN PARAMS-----------------------------\n",
    "# size of filter to be applied\n",
    "fs = int(main_params.loc['fs'])\n",
    "\n",
    "# number of timesteps to be predicted during training \n",
    "m = int(main_params.loc['m'])\n",
    "\n",
    "# decaying weights\n",
    "decay_const = float(main_params.loc['decay_const'])\n",
    "\n",
    "# epoch_number\n",
    "epochs=int(main_params.loc['epochs'])\n",
    "\n",
    "#random_seed\n",
    "seed = int(main_params.loc['seed'])\n",
    "\n",
    "#coef для loss функции\n",
    "l_wd= float(main_params.loc['l_wd'])\n",
    "\n",
    "# 'RK3' for runge-kutta solver and 'E1' for euler solver\n",
    "method=str(main_params.loc['method'].values[0]) \n",
    "\n",
    "#neurons num in MLPConv\n",
    "neurons=int(main_params.loc['neurons'])\n",
    "\n",
    "#learning_rate\n",
    "lr=float(main_params.loc['lr'])\n",
    "\n",
    "#train_size\n",
    "train_split=float(main_params.loc['train_split'])\n",
    "\n",
    "# on/off bwd\n",
    "has_backward=eval(main_params.loc['has_backward'].values[0])\n",
    "\n",
    "#hidden_layers_num\n",
    "hidden_layers_num=int(main_params.loc['hidden_layers_num'])\n",
    "\n",
    "#device\n",
    "device = torch.device(\"cuda\" if torch.cuda.is_available() else \"cpu\")\n",
    "\n",
    "#optuna n_trials\n",
    "N_TRIALS=int(main_params.loc['N_TRIALS'])"
   ]
  },
  {
   "cell_type": "code",
   "execution_count": null,
   "id": "6aa10b95-e631-44c3-9a2b-220835505138",
   "metadata": {},
   "outputs": [],
   "source": []
  },
  {
   "cell_type": "markdown",
   "id": "b83d9f7f-1a7a-4393-83bc-80110b9c5ff8",
   "metadata": {},
   "source": [
    "##### 2. Generate data"
   ]
  },
  {
   "cell_type": "code",
   "execution_count": 6,
   "id": "06cc004f-a459-4471-b104-a53b6b929450",
   "metadata": {},
   "outputs": [
    {
     "name": "stdout",
     "output_type": "stream",
     "text": [
      "0.011250000000000001\n",
      "Генерация данных\n"
     ]
    },
    {
     "name": "stderr",
     "output_type": "stream",
     "text": [
      "100%|████████████████████████████████████████████████████████████████████████████████| 80/80 [00:00<00:00, 1537.93it/s]"
     ]
    },
    {
     "name": "stdout",
     "output_type": "stream",
     "text": [
      "80 81\n",
      "81 80\n"
     ]
    },
    {
     "name": "stderr",
     "output_type": "stream",
     "text": [
      "\n"
     ]
    }
   ],
   "source": [
    "CUSTOM_TAU=np.round(1/(n-1)-1/(n-1)/10,100)\n",
    "# CUSTOM_TAU=kurant*h**2\n",
    "print(CUSTOM_TAU)\n",
    "v_fact,x_lst,tau,time_lst=maf.generate_data(generate_flg,v,T,L,1,h,n,CUSTOM_TAU=CUSTOM_TAU,save_flg=True)"
   ]
  },
  {
   "cell_type": "code",
   "execution_count": 7,
   "id": "7e53ce19-6879-41c7-ae48-4b4c47bc95af",
   "metadata": {},
   "outputs": [
    {
     "data": {
      "image/png": "[encoded data removed]",
      "text/plain": [
       "<Figure size 432x288 with 1 Axes>"
      ]
     },
     "metadata": {
      "needs_background": "light"
     },
     "output_type": "display_data"
    }
   ],
   "source": [
    "for j in range(0,len(v_fact[0,:]),10):\n",
    "# for j in range(0,2,1):\n",
    "    plt.plot(v_fact[:,j])"
   ]
  },
  {
   "cell_type": "code",
   "execution_count": 8,
   "id": "10f1d17f-2051-4522-97ca-0684f2948d55",
   "metadata": {},
   "outputs": [
    {
     "name": "stdout",
     "output_type": "stream",
     "text": [
      "h 0.0125 0.00015625000000000003\n",
      "tau 0.011250000000000001\n"
     ]
    }
   ],
   "source": [
    "print('h',h,h**2)\n",
    "print('tau',tau)\n",
    "assert tau/h<=1,'не выполнено ограничение на число Куранта'"
   ]
  },
  {
   "cell_type": "code",
   "execution_count": null,
   "id": "3af14c22-3b62-45f7-a338-a1a73befdc43",
   "metadata": {},
   "outputs": [],
   "source": []
  },
  {
   "cell_type": "markdown",
   "id": "ad9f640f-9092-4c20-b7a3-22227b8be579",
   "metadata": {},
   "source": [
    "##### 3.Subsample Data"
   ]
  },
  {
   "cell_type": "code",
   "execution_count": 9,
   "id": "93567863-8642-4fed-9a0b-f8a34e360660",
   "metadata": {},
   "outputs": [
    {
     "name": "stdout",
     "output_type": "stream",
     "text": [
      "full_sample (21, 8)\n",
      "train (21, 5)\n",
      "test (21, 3)\n"
     ]
    }
   ],
   "source": [
    "t_factor = 10  # time subsample factor \n",
    "s_factor = 4   # space subsample factor\n",
    "Tsim=len(v_fact[0])\n",
    "dxc,dtc,coarse_t,coarse_x,v_coarse,Lxc,\\\n",
    "Ltc,v_coarse_train,v_coarse_test=mf.subsampling(s_factor,t_factor,h,tau,Tsim,n,v_fact,train_split=0.7)"
   ]
  },
  {
   "cell_type": "code",
   "execution_count": 10,
   "id": "83b5973b-c5f9-4d25-b374-fdecb9361ba5",
   "metadata": {},
   "outputs": [
    {
     "data": {
      "image/png": "[encoded data removed]",
      "text/plain": [
       "<Figure size 432x288 with 1 Axes>"
      ]
     },
     "metadata": {
      "needs_background": "light"
     },
     "output_type": "display_data"
    }
   ],
   "source": [
    "plt.figure()\n",
    "time=0 #first time\n",
    "plt.plot(x_lst[coarse_x],v_coarse[:,time],'*',color='red',label=str(s_factor) + 'x FACT')\n",
    "plt.plot(x_lst,v_fact[:,t_factor*time],'.',color='blue',label='FACT')\n",
    "time=v_coarse.shape[1]-1 #last time\n",
    "plt.plot(x_lst[coarse_x],v_coarse[:,time],'*',color='red',label=str(s_factor) + 'x FACT')\n",
    "plt.plot(x_lst,v_fact[:,t_factor*time],'.',color='blue',label='FACT')\n",
    "plt.legend()\n",
    "plt.title(\" Time slice at t=0 and t = \" + str(time))\n",
    "plt.show()"
   ]
  },
  {
   "cell_type": "code",
   "execution_count": 11,
   "id": "676f0548-a97d-4aa6-9438-91fa532f237a",
   "metadata": {},
   "outputs": [
    {
     "data": {
      "image/png": "[encoded data removed]",
      "text/plain": [
       "<Figure size 432x288 with 1 Axes>"
      ]
     },
     "metadata": {
      "needs_background": "light"
     },
     "output_type": "display_data"
    }
   ],
   "source": [
    "for j in range(0,len(v_coarse[0,:]),1):\n",
    "    plt.plot(v_coarse[:,j])\n",
    "plt.grid()\n",
    "plt.show()"
   ]
  },
  {
   "cell_type": "markdown",
   "id": "0cea4115-47b0-400b-a48a-0c0a9b2f3f23",
   "metadata": {},
   "source": [
    "##### 4. Trainig model"
   ]
  },
  {
   "cell_type": "code",
   "execution_count": 12,
   "id": "f5c3521c-b777-4a22-8aa9-0d25dac5398a",
   "metadata": {},
   "outputs": [],
   "source": [
    "import optuna"
   ]
  },
  {
   "cell_type": "code",
   "execution_count": 13,
   "id": "4ef6d27e-5184-47eb-8461-22f82d185d56",
   "metadata": {},
   "outputs": [],
   "source": [
    "def objective_mplconv(trial):\n",
    "    my_doc_params={\n",
    "    'fs' : trial.suggest_categorical('fs',[1,3,5,9]),   \n",
    "    'neurons' : trial.suggest_categorical('neurons',[16,32,64]) ,\n",
    "    'hidden_layers_num': trial.suggest_categorical('hidden_layers_num',[0,1,2,3,4]),\n",
    "    'lr': trial.suggest_categorical('lr',[1e-02,1e-03]),\n",
    "    'm' : trial.suggest_categorical('m',[2,4]) ,  \n",
    "    'has_backward' : trial.suggest_categorical('has_backward',[False])   \n",
    "    }\n",
    "    \n",
    "    metric=mf.train_net(mf.MLPConv,v_coarse_train,mf.epochs,dtc,\n",
    "                        **my_doc_params)[2]\n",
    "    return metric"
   ]
  },
  {
   "cell_type": "code",
   "execution_count": 14,
   "id": "6253441d-aa6c-46fa-9f62-d9333020e67d",
   "metadata": {},
   "outputs": [
    {
     "name": "stderr",
     "output_type": "stream",
     "text": [
      "[I 2024-10-28 21:38:31,911] A new study created in memory with name: no-name-5fee8b27-ad15-464b-9f31-f446b4c7ffd0\n"
     ]
    },
    {
     "name": "stdout",
     "output_type": "stream",
     "text": [
      "input 5 output 32\n",
      "input 32 output 32\n",
      "input 32 output 32\n",
      "input 32 output 32\n",
      "input 32 output 1\n",
      "#parameters: 3393\n"
     ]
    },
    {
     "name": "stderr",
     "output_type": "stream",
     "text": [
      "100%|██████████████████████████████████████████████████████████████████████| 50/50 [00:00<00:00, 60.41it/s, loss=0.289]\n",
      "[I 2024-10-28 21:38:34,111] Trial 0 finished with value: 0.2894659638404846 and parameters: {'fs': 5, 'neurons': 32, 'hidden_layers_num': 4, 'lr': 0.001, 'm': 4, 'has_backward': False}. Best is trial 0 with value: 0.2894659638404846.\n"
     ]
    },
    {
     "name": "stdout",
     "output_type": "stream",
     "text": [
      "input 1 output 32\n",
      "input 32 output 32\n",
      "input 32 output 32\n",
      "input 32 output 32\n",
      "input 32 output 1\n",
      "#parameters: 3265\n"
     ]
    },
    {
     "name": "stderr",
     "output_type": "stream",
     "text": [
      "100%|██████████████████████████████████████████████████████████████████████| 50/50 [00:01<00:00, 38.46it/s, loss=0.267]\n",
      "[I 2024-10-28 21:38:35,439] Trial 1 finished with value: 0.26693195104599 and parameters: {'fs': 1, 'neurons': 32, 'hidden_layers_num': 4, 'lr': 0.01, 'm': 4, 'has_backward': False}. Best is trial 1 with value: 0.26693195104599.\n"
     ]
    },
    {
     "name": "stdout",
     "output_type": "stream",
     "text": [
      "input 1 output 32\n",
      "input 32 output 32\n",
      "input 32 output 32\n",
      "input 32 output 32\n",
      "input 32 output 1\n",
      "#parameters: 3265\n"
     ]
    },
    {
     "name": "stderr",
     "output_type": "stream",
     "text": [
      "100%|██████████████████████████████████████████████████████████████████████| 50/50 [00:01<00:00, 41.82it/s, loss=0.168]\n",
      "[I 2024-10-28 21:38:36,667] Trial 2 finished with value: 0.16809365153312683 and parameters: {'fs': 1, 'neurons': 32, 'hidden_layers_num': 4, 'lr': 0.001, 'm': 2, 'has_backward': False}. Best is trial 2 with value: 0.16809365153312683.\n"
     ]
    },
    {
     "name": "stdout",
     "output_type": "stream",
     "text": [
      "input 9 output 64\n",
      "input 64 output 64\n",
      "input 64 output 64\n",
      "input 64 output 64\n",
      "input 64 output 1\n",
      "#parameters: 13185\n"
     ]
    },
    {
     "name": "stderr",
     "output_type": "stream",
     "text": [
      "100%|██████████████████████████████████████████████████████████████████████| 50/50 [00:01<00:00, 30.25it/s, loss=0.102]\n",
      "[I 2024-10-28 21:38:38,354] Trial 3 finished with value: 0.10177072137594223 and parameters: {'fs': 9, 'neurons': 64, 'hidden_layers_num': 4, 'lr': 0.001, 'm': 2, 'has_backward': False}. Best is trial 3 with value: 0.10177072137594223.\n"
     ]
    },
    {
     "name": "stdout",
     "output_type": "stream",
     "text": [
      "input 3 output 1\n",
      "#parameters: 4\n"
     ]
    },
    {
     "name": "stderr",
     "output_type": "stream",
     "text": [
      "100%|█████████████████████████████████████████████████████████████████████| 50/50 [00:00<00:00, 173.02it/s, loss=0.338]\n",
      "[I 2024-10-28 21:38:38,661] Trial 4 finished with value: 0.337593138217926 and parameters: {'fs': 3, 'neurons': 32, 'hidden_layers_num': 0, 'lr': 0.001, 'm': 2, 'has_backward': False}. Best is trial 3 with value: 0.10177072137594223.\n"
     ]
    },
    {
     "name": "stdout",
     "output_type": "stream",
     "text": [
      "input 5 output 64\n",
      "input 64 output 64\n",
      "input 64 output 1\n",
      "#parameters: 4609\n"
     ]
    },
    {
     "name": "stderr",
     "output_type": "stream",
     "text": [
      "100%|███████████████████████████████████████████████████████████████████████| 50/50 [00:01<00:00, 37.53it/s, loss=0.29]\n",
      "[I 2024-10-28 21:38:40,003] Trial 5 finished with value: 0.2898283302783966 and parameters: {'fs': 5, 'neurons': 64, 'hidden_layers_num': 2, 'lr': 0.001, 'm': 4, 'has_backward': False}. Best is trial 3 with value: 0.10177072137594223.\n"
     ]
    },
    {
     "name": "stdout",
     "output_type": "stream",
     "text": [
      "input 5 output 1\n",
      "#parameters: 6\n"
     ]
    },
    {
     "name": "stderr",
     "output_type": "stream",
     "text": [
      "100%|██████████████████████████████████████████████████████████████████████| 50/50 [00:00<00:00, 88.15it/s, loss=0.373]\n",
      "[I 2024-10-28 21:38:40,601] Trial 6 finished with value: 0.37333792448043823 and parameters: {'fs': 5, 'neurons': 16, 'hidden_layers_num': 0, 'lr': 0.001, 'm': 2, 'has_backward': False}. Best is trial 3 with value: 0.10177072137594223.\n"
     ]
    },
    {
     "name": "stdout",
     "output_type": "stream",
     "text": [
      "input 3 output 64\n",
      "input 64 output 1\n",
      "#parameters: 321\n"
     ]
    },
    {
     "name": "stderr",
     "output_type": "stream",
     "text": [
      "100%|██████████████████████████████████████████████████████████████████████| 50/50 [00:00<00:00, 55.55it/s, loss=0.276]\n",
      "[I 2024-10-28 21:38:41,531] Trial 7 finished with value: 0.2755308151245117 and parameters: {'fs': 3, 'neurons': 64, 'hidden_layers_num': 1, 'lr': 0.01, 'm': 4, 'has_backward': False}. Best is trial 3 with value: 0.10177072137594223.\n"
     ]
    },
    {
     "name": "stdout",
     "output_type": "stream",
     "text": [
      "input 9 output 32\n",
      "input 32 output 32\n",
      "input 32 output 1\n",
      "#parameters: 1409\n"
     ]
    },
    {
     "name": "stderr",
     "output_type": "stream",
     "text": [
      "100%|█████████████████████████████████████████████████████████████████████| 50/50 [00:01<00:00, 43.29it/s, loss=0.0291]\n",
      "[I 2024-10-28 21:38:42,696] Trial 8 finished with value: 0.02907261997461319 and parameters: {'fs': 9, 'neurons': 32, 'hidden_layers_num': 2, 'lr': 0.01, 'm': 2, 'has_backward': False}. Best is trial 8 with value: 0.02907261997461319.\n"
     ]
    },
    {
     "name": "stdout",
     "output_type": "stream",
     "text": [
      "input 9 output 64\n",
      "input 64 output 64\n",
      "input 64 output 64\n",
      "input 64 output 1\n",
      "#parameters: 9025\n"
     ]
    },
    {
     "name": "stderr",
     "output_type": "stream",
     "text": [
      "100%|██████████████████████████████████████████████████████████████████████| 50/50 [00:01<00:00, 38.64it/s, loss=0.114]\n",
      "[I 2024-10-28 21:38:44,023] Trial 9 finished with value: 0.11404933035373688 and parameters: {'fs': 9, 'neurons': 64, 'hidden_layers_num': 3, 'lr': 0.001, 'm': 2, 'has_backward': False}. Best is trial 8 with value: 0.02907261997461319.\n"
     ]
    },
    {
     "name": "stdout",
     "output_type": "stream",
     "text": [
      "input 9 output 16\n",
      "input 16 output 16\n",
      "input 16 output 1\n",
      "#parameters: 449\n"
     ]
    },
    {
     "name": "stderr",
     "output_type": "stream",
     "text": [
      "100%|█████████████████████████████████████████████████████████████████████| 50/50 [00:00<00:00, 65.12it/s, loss=0.0647]\n",
      "[I 2024-10-28 21:38:44,821] Trial 10 finished with value: 0.06468140333890915 and parameters: {'fs': 9, 'neurons': 16, 'hidden_layers_num': 2, 'lr': 0.01, 'm': 2, 'has_backward': False}. Best is trial 8 with value: 0.02907261997461319.\n"
     ]
    },
    {
     "name": "stdout",
     "output_type": "stream",
     "text": [
      "input 9 output 16\n",
      "input 16 output 16\n",
      "input 16 output 1\n",
      "#parameters: 449\n"
     ]
    },
    {
     "name": "stderr",
     "output_type": "stream",
     "text": [
      "100%|█████████████████████████████████████████████████████████████████████| 50/50 [00:00<00:00, 59.52it/s, loss=0.0647]\n",
      "[I 2024-10-28 21:38:45,691] Trial 11 finished with value: 0.06468140333890915 and parameters: {'fs': 9, 'neurons': 16, 'hidden_layers_num': 2, 'lr': 0.01, 'm': 2, 'has_backward': False}. Best is trial 8 with value: 0.02907261997461319.\n"
     ]
    },
    {
     "name": "stdout",
     "output_type": "stream",
     "text": [
      "input 9 output 16\n",
      "input 16 output 16\n",
      "input 16 output 1\n",
      "#parameters: 449\n"
     ]
    },
    {
     "name": "stderr",
     "output_type": "stream",
     "text": [
      "100%|█████████████████████████████████████████████████████████████████████| 50/50 [00:00<00:00, 59.53it/s, loss=0.0647]\n",
      "[I 2024-10-28 21:38:46,561] Trial 12 finished with value: 0.06468140333890915 and parameters: {'fs': 9, 'neurons': 16, 'hidden_layers_num': 2, 'lr': 0.01, 'm': 2, 'has_backward': False}. Best is trial 8 with value: 0.02907261997461319.\n"
     ]
    },
    {
     "name": "stdout",
     "output_type": "stream",
     "text": [
      "input 9 output 16\n",
      "input 16 output 16\n",
      "input 16 output 1\n",
      "#parameters: 449\n"
     ]
    },
    {
     "name": "stderr",
     "output_type": "stream",
     "text": [
      "100%|█████████████████████████████████████████████████████████████████████| 50/50 [00:00<00:00, 58.47it/s, loss=0.0647]\n",
      "[I 2024-10-28 21:38:47,448] Trial 13 finished with value: 0.06468140333890915 and parameters: {'fs': 9, 'neurons': 16, 'hidden_layers_num': 2, 'lr': 0.01, 'm': 2, 'has_backward': False}. Best is trial 8 with value: 0.02907261997461319.\n"
     ]
    },
    {
     "name": "stdout",
     "output_type": "stream",
     "text": [
      "input 9 output 32\n",
      "input 32 output 32\n",
      "input 32 output 1\n",
      "#parameters: 1409\n"
     ]
    },
    {
     "name": "stderr",
     "output_type": "stream",
     "text": [
      "100%|█████████████████████████████████████████████████████████████████████| 50/50 [00:00<00:00, 76.89it/s, loss=0.0291]\n",
      "[I 2024-10-28 21:38:48,121] Trial 14 finished with value: 0.02907261997461319 and parameters: {'fs': 9, 'neurons': 32, 'hidden_layers_num': 2, 'lr': 0.01, 'm': 2, 'has_backward': False}. Best is trial 8 with value: 0.02907261997461319.\n"
     ]
    },
    {
     "name": "stdout",
     "output_type": "stream",
     "text": [
      "input 9 output 32\n",
      "input 32 output 32\n",
      "input 32 output 32\n",
      "input 32 output 1\n",
      "#parameters: 2465\n"
     ]
    },
    {
     "name": "stderr",
     "output_type": "stream",
     "text": [
      "100%|██████████████████████████████████████████████████████████████████████| 50/50 [00:00<00:00, 81.32it/s, loss=0.094]\n",
      "[I 2024-10-28 21:38:48,771] Trial 15 finished with value: 0.09402833133935928 and parameters: {'fs': 9, 'neurons': 32, 'hidden_layers_num': 3, 'lr': 0.01, 'm': 2, 'has_backward': False}. Best is trial 8 with value: 0.02907261997461319.\n"
     ]
    },
    {
     "name": "stdout",
     "output_type": "stream",
     "text": [
      "input 9 output 32\n",
      "input 32 output 1\n",
      "#parameters: 353\n"
     ]
    },
    {
     "name": "stderr",
     "output_type": "stream",
     "text": [
      "100%|████████████████████████████████████████████████████████████████████| 50/50 [00:00<00:00, 124.98it/s, loss=0.0949]\n",
      "[I 2024-10-28 21:38:49,191] Trial 16 finished with value: 0.09490230679512024 and parameters: {'fs': 9, 'neurons': 32, 'hidden_layers_num': 1, 'lr': 0.01, 'm': 2, 'has_backward': False}. Best is trial 8 with value: 0.02907261997461319.\n"
     ]
    },
    {
     "name": "stdout",
     "output_type": "stream",
     "text": [
      "input 1 output 32\n",
      "input 32 output 32\n",
      "input 32 output 1\n",
      "#parameters: 1153\n"
     ]
    },
    {
     "name": "stderr",
     "output_type": "stream",
     "text": [
      "100%|██████████████████████████████████████████████████████████████████████| 50/50 [00:00<00:00, 121.95it/s, loss=0.15]\n",
      "[I 2024-10-28 21:38:49,621] Trial 17 finished with value: 0.14966164529323578 and parameters: {'fs': 1, 'neurons': 32, 'hidden_layers_num': 2, 'lr': 0.01, 'm': 2, 'has_backward': False}. Best is trial 8 with value: 0.02907261997461319.\n"
     ]
    },
    {
     "name": "stdout",
     "output_type": "stream",
     "text": [
      "input 3 output 32\n",
      "input 32 output 32\n",
      "input 32 output 1\n",
      "#parameters: 1217\n"
     ]
    },
    {
     "name": "stderr",
     "output_type": "stream",
     "text": [
      "100%|██████████████████████████████████████████████████████████████████████| 50/50 [00:00<00:00, 60.24it/s, loss=0.267]\n",
      "[I 2024-10-28 21:38:50,461] Trial 18 finished with value: 0.26655879616737366 and parameters: {'fs': 3, 'neurons': 32, 'hidden_layers_num': 2, 'lr': 0.01, 'm': 4, 'has_backward': False}. Best is trial 8 with value: 0.02907261997461319.\n"
     ]
    },
    {
     "name": "stdout",
     "output_type": "stream",
     "text": [
      "input 9 output 32\n",
      "input 32 output 32\n",
      "input 32 output 1\n",
      "#parameters: 1409\n"
     ]
    },
    {
     "name": "stderr",
     "output_type": "stream",
     "text": [
      "100%|█████████████████████████████████████████████████████████████████████| 50/50 [00:01<00:00, 43.09it/s, loss=0.0291]\n",
      "[I 2024-10-28 21:38:51,661] Trial 19 finished with value: 0.02907261997461319 and parameters: {'fs': 9, 'neurons': 32, 'hidden_layers_num': 2, 'lr': 0.01, 'm': 2, 'has_backward': False}. Best is trial 8 with value: 0.02907261997461319.\n"
     ]
    },
    {
     "name": "stdout",
     "output_type": "stream",
     "text": [
      "input 9 output 32\n",
      "input 32 output 32\n",
      "input 32 output 32\n",
      "input 32 output 1\n",
      "#parameters: 2465\n"
     ]
    },
    {
     "name": "stderr",
     "output_type": "stream",
     "text": [
      "100%|██████████████████████████████████████████████████████████████████████| 50/50 [00:01<00:00, 37.87it/s, loss=0.094]\n",
      "[I 2024-10-28 21:38:53,021] Trial 20 finished with value: 0.09402833133935928 and parameters: {'fs': 9, 'neurons': 32, 'hidden_layers_num': 3, 'lr': 0.01, 'm': 2, 'has_backward': False}. Best is trial 8 with value: 0.02907261997461319.\n"
     ]
    },
    {
     "name": "stdout",
     "output_type": "stream",
     "text": [
      "input 9 output 32\n",
      "input 32 output 32\n",
      "input 32 output 1\n",
      "#parameters: 1409\n"
     ]
    },
    {
     "name": "stderr",
     "output_type": "stream",
     "text": [
      "100%|█████████████████████████████████████████████████████████████████████| 50/50 [00:00<00:00, 69.44it/s, loss=0.0291]\n",
      "[I 2024-10-28 21:38:53,791] Trial 21 finished with value: 0.02907261997461319 and parameters: {'fs': 9, 'neurons': 32, 'hidden_layers_num': 2, 'lr': 0.01, 'm': 2, 'has_backward': False}. Best is trial 8 with value: 0.02907261997461319.\n"
     ]
    },
    {
     "name": "stdout",
     "output_type": "stream",
     "text": [
      "input 9 output 32\n",
      "input 32 output 32\n",
      "input 32 output 1\n",
      "#parameters: 1409\n"
     ]
    },
    {
     "name": "stderr",
     "output_type": "stream",
     "text": [
      "100%|█████████████████████████████████████████████████████████████████████| 50/50 [00:00<00:00, 90.40it/s, loss=0.0291]\n",
      "[I 2024-10-28 21:38:54,354] Trial 22 finished with value: 0.02907261997461319 and parameters: {'fs': 9, 'neurons': 32, 'hidden_layers_num': 2, 'lr': 0.01, 'm': 2, 'has_backward': False}. Best is trial 8 with value: 0.02907261997461319.\n"
     ]
    },
    {
     "name": "stdout",
     "output_type": "stream",
     "text": [
      "input 9 output 32\n",
      "input 32 output 32\n",
      "input 32 output 1\n",
      "#parameters: 1409\n"
     ]
    },
    {
     "name": "stderr",
     "output_type": "stream",
     "text": [
      "100%|█████████████████████████████████████████████████████████████████████| 50/50 [00:01<00:00, 47.86it/s, loss=0.0291]\n",
      "[I 2024-10-28 21:38:55,420] Trial 23 finished with value: 0.02907261997461319 and parameters: {'fs': 9, 'neurons': 32, 'hidden_layers_num': 2, 'lr': 0.01, 'm': 2, 'has_backward': False}. Best is trial 8 with value: 0.02907261997461319.\n"
     ]
    },
    {
     "name": "stdout",
     "output_type": "stream",
     "text": [
      "input 9 output 32\n",
      "input 32 output 1\n",
      "#parameters: 353\n"
     ]
    },
    {
     "name": "stderr",
     "output_type": "stream",
     "text": [
      "100%|█████████████████████████████████████████████████████████████████████| 50/50 [00:00<00:00, 61.70it/s, loss=0.0949]\n",
      "[I 2024-10-28 21:38:56,271] Trial 24 finished with value: 0.09490230679512024 and parameters: {'fs': 9, 'neurons': 32, 'hidden_layers_num': 1, 'lr': 0.01, 'm': 2, 'has_backward': False}. Best is trial 8 with value: 0.02907261997461319.\n"
     ]
    },
    {
     "name": "stdout",
     "output_type": "stream",
     "text": [
      "input 9 output 1\n",
      "#parameters: 10\n"
     ]
    },
    {
     "name": "stderr",
     "output_type": "stream",
     "text": [
      "100%|██████████████████████████████████████████████████████████████████████| 50/50 [00:00<00:00, 79.38it/s, loss=0.238]\n",
      "[I 2024-10-28 21:38:56,931] Trial 25 finished with value: 0.23803849518299103 and parameters: {'fs': 9, 'neurons': 32, 'hidden_layers_num': 0, 'lr': 0.01, 'm': 2, 'has_backward': False}. Best is trial 8 with value: 0.02907261997461319.\n"
     ]
    },
    {
     "name": "stdout",
     "output_type": "stream",
     "text": [
      "input 1 output 32\n",
      "input 32 output 32\n",
      "input 32 output 1\n",
      "#parameters: 1153\n"
     ]
    },
    {
     "name": "stderr",
     "output_type": "stream",
     "text": [
      "100%|██████████████████████████████████████████████████████████████████████| 50/50 [00:00<00:00, 53.19it/s, loss=0.269]\n",
      "[I 2024-10-28 21:38:57,901] Trial 26 finished with value: 0.2693721354007721 and parameters: {'fs': 1, 'neurons': 32, 'hidden_layers_num': 2, 'lr': 0.01, 'm': 4, 'has_backward': False}. Best is trial 8 with value: 0.02907261997461319.\n"
     ]
    },
    {
     "name": "stdout",
     "output_type": "stream",
     "text": [
      "input 3 output 32\n",
      "input 32 output 32\n",
      "input 32 output 1\n",
      "#parameters: 1217\n"
     ]
    },
    {
     "name": "stderr",
     "output_type": "stream",
     "text": [
      "100%|████████████████████████████████████████████████████████████████████| 50/50 [00:00<00:00, 114.96it/s, loss=0.0491]\n",
      "[I 2024-10-28 21:38:58,357] Trial 27 finished with value: 0.049145929515361786 and parameters: {'fs': 3, 'neurons': 32, 'hidden_layers_num': 2, 'lr': 0.01, 'm': 2, 'has_backward': False}. Best is trial 8 with value: 0.02907261997461319.\n"
     ]
    },
    {
     "name": "stdout",
     "output_type": "stream",
     "text": [
      "input 5 output 64\n",
      "input 64 output 64\n",
      "input 64 output 1\n",
      "#parameters: 4609\n"
     ]
    },
    {
     "name": "stderr",
     "output_type": "stream",
     "text": [
      "100%|█████████████████████████████████████████████████████████████████████| 50/50 [00:01<00:00, 48.03it/s, loss=0.0746]\n",
      "[I 2024-10-28 21:38:59,427] Trial 28 finished with value: 0.07455381006002426 and parameters: {'fs': 5, 'neurons': 64, 'hidden_layers_num': 2, 'lr': 0.01, 'm': 2, 'has_backward': False}. Best is trial 8 with value: 0.02907261997461319.\n"
     ]
    },
    {
     "name": "stdout",
     "output_type": "stream",
     "text": [
      "input 5 output 32\n",
      "input 32 output 32\n",
      "input 32 output 1\n",
      "#parameters: 1281\n"
     ]
    },
    {
     "name": "stderr",
     "output_type": "stream",
     "text": [
      "100%|███████████████████████████████████████████████████████████████████████| 50/50 [00:01<00:00, 40.70it/s, loss=0.17]\n",
      "[I 2024-10-28 21:39:00,711] Trial 29 finished with value: 0.17039437592029572 and parameters: {'fs': 5, 'neurons': 32, 'hidden_layers_num': 2, 'lr': 0.01, 'm': 4, 'has_backward': False}. Best is trial 8 with value: 0.02907261997461319.\n"
     ]
    },
    {
     "name": "stdout",
     "output_type": "stream",
     "text": [
      "input 9 output 32\n",
      "input 32 output 1\n",
      "#parameters: 353\n"
     ]
    },
    {
     "name": "stderr",
     "output_type": "stream",
     "text": [
      "100%|█████████████████████████████████████████████████████████████████████| 50/50 [00:00<00:00, 66.70it/s, loss=0.0949]\n",
      "[I 2024-10-28 21:39:01,491] Trial 30 finished with value: 0.09490230679512024 and parameters: {'fs': 9, 'neurons': 32, 'hidden_layers_num': 1, 'lr': 0.01, 'm': 2, 'has_backward': False}. Best is trial 8 with value: 0.02907261997461319.\n"
     ]
    },
    {
     "name": "stdout",
     "output_type": "stream",
     "text": [
      "input 9 output 32\n",
      "input 32 output 32\n",
      "input 32 output 1\n",
      "#parameters: 1409\n"
     ]
    },
    {
     "name": "stderr",
     "output_type": "stream",
     "text": [
      "100%|█████████████████████████████████████████████████████████████████████| 50/50 [00:01<00:00, 47.40it/s, loss=0.0291]\n",
      "[I 2024-10-28 21:39:02,571] Trial 31 finished with value: 0.02907261997461319 and parameters: {'fs': 9, 'neurons': 32, 'hidden_layers_num': 2, 'lr': 0.01, 'm': 2, 'has_backward': False}. Best is trial 8 with value: 0.02907261997461319.\n"
     ]
    },
    {
     "name": "stdout",
     "output_type": "stream",
     "text": [
      "input 9 output 32\n",
      "input 32 output 32\n",
      "input 32 output 1\n",
      "#parameters: 1409\n"
     ]
    },
    {
     "name": "stderr",
     "output_type": "stream",
     "text": [
      "100%|█████████████████████████████████████████████████████████████████████| 50/50 [00:00<00:00, 90.97it/s, loss=0.0291]\n",
      "[I 2024-10-28 21:39:03,146] Trial 32 finished with value: 0.02907261997461319 and parameters: {'fs': 9, 'neurons': 32, 'hidden_layers_num': 2, 'lr': 0.01, 'm': 2, 'has_backward': False}. Best is trial 8 with value: 0.02907261997461319.\n"
     ]
    },
    {
     "name": "stdout",
     "output_type": "stream",
     "text": [
      "input 9 output 32\n",
      "input 32 output 32\n",
      "input 32 output 32\n",
      "input 32 output 32\n",
      "input 32 output 1\n",
      "#parameters: 3521\n"
     ]
    },
    {
     "name": "stderr",
     "output_type": "stream",
     "text": [
      "100%|█████████████████████████████████████████████████████████████████████| 50/50 [00:00<00:00, 50.78it/s, loss=0.0518]\n",
      "[I 2024-10-28 21:39:04,151] Trial 33 finished with value: 0.05184207111597061 and parameters: {'fs': 9, 'neurons': 32, 'hidden_layers_num': 4, 'lr': 0.01, 'm': 2, 'has_backward': False}. Best is trial 8 with value: 0.02907261997461319.\n"
     ]
    },
    {
     "name": "stdout",
     "output_type": "stream",
     "text": [
      "input 1 output 32\n",
      "input 32 output 32\n",
      "input 32 output 32\n",
      "input 32 output 32\n",
      "input 32 output 1\n",
      "#parameters: 3265\n"
     ]
    },
    {
     "name": "stderr",
     "output_type": "stream",
     "text": [
      "100%|██████████████████████████████████████████████████████████████████████| 50/50 [00:01<00:00, 43.49it/s, loss=0.149]\n",
      "[I 2024-10-28 21:39:05,351] Trial 34 finished with value: 0.14878717064857483 and parameters: {'fs': 1, 'neurons': 32, 'hidden_layers_num': 4, 'lr': 0.01, 'm': 2, 'has_backward': False}. Best is trial 8 with value: 0.02907261997461319.\n"
     ]
    },
    {
     "name": "stdout",
     "output_type": "stream",
     "text": [
      "input 9 output 32\n",
      "input 32 output 32\n",
      "input 32 output 1\n",
      "#parameters: 1409\n"
     ]
    },
    {
     "name": "stderr",
     "output_type": "stream",
     "text": [
      "100%|██████████████████████████████████████████████████████████████████████| 50/50 [00:01<00:00, 42.74it/s, loss=0.184]\n",
      "[I 2024-10-28 21:39:06,551] Trial 35 finished with value: 0.18377414345741272 and parameters: {'fs': 9, 'neurons': 32, 'hidden_layers_num': 2, 'lr': 0.001, 'm': 2, 'has_backward': False}. Best is trial 8 with value: 0.02907261997461319.\n"
     ]
    },
    {
     "name": "stdout",
     "output_type": "stream",
     "text": [
      "input 9 output 1\n",
      "#parameters: 10\n"
     ]
    },
    {
     "name": "stderr",
     "output_type": "stream",
     "text": [
      "100%|██████████████████████████████████████████████████████████████████████| 50/50 [00:00<00:00, 68.95it/s, loss=0.407]\n",
      "[I 2024-10-28 21:39:07,311] Trial 36 finished with value: 0.40713122487068176 and parameters: {'fs': 9, 'neurons': 32, 'hidden_layers_num': 0, 'lr': 0.01, 'm': 4, 'has_backward': False}. Best is trial 8 with value: 0.02907261997461319.\n"
     ]
    },
    {
     "name": "stdout",
     "output_type": "stream",
     "text": [
      "input 1 output 32\n",
      "input 32 output 32\n",
      "input 32 output 1\n",
      "#parameters: 1153\n"
     ]
    },
    {
     "name": "stderr",
     "output_type": "stream",
     "text": [
      "100%|█████████████████████████████████████████████████████████████████████| 50/50 [00:00<00:00, 119.39it/s, loss=0.235]\n",
      "[I 2024-10-28 21:39:07,741] Trial 37 finished with value: 0.23544102907180786 and parameters: {'fs': 1, 'neurons': 32, 'hidden_layers_num': 2, 'lr': 0.001, 'm': 2, 'has_backward': False}. Best is trial 8 with value: 0.02907261997461319.\n"
     ]
    },
    {
     "name": "stdout",
     "output_type": "stream",
     "text": [
      "input 3 output 64\n",
      "input 64 output 64\n",
      "input 64 output 64\n",
      "input 64 output 64\n",
      "input 64 output 1\n",
      "#parameters: 12801\n"
     ]
    },
    {
     "name": "stderr",
     "output_type": "stream",
     "text": [
      "100%|██████████████████████████████████████████████████████████████████████| 50/50 [00:01<00:00, 28.42it/s, loss=0.043]\n",
      "[I 2024-10-28 21:39:09,538] Trial 38 finished with value: 0.04301756992936134 and parameters: {'fs': 3, 'neurons': 64, 'hidden_layers_num': 4, 'lr': 0.01, 'm': 2, 'has_backward': False}. Best is trial 8 with value: 0.02907261997461319.\n"
     ]
    },
    {
     "name": "stdout",
     "output_type": "stream",
     "text": [
      "input 5 output 32\n",
      "input 32 output 32\n",
      "input 32 output 32\n",
      "input 32 output 1\n",
      "#parameters: 2337\n"
     ]
    },
    {
     "name": "stderr",
     "output_type": "stream",
     "text": [
      "100%|██████████████████████████████████████████████████████████████████████| 50/50 [00:01<00:00, 36.49it/s, loss=0.321]\n",
      "[I 2024-10-28 21:39:10,980] Trial 39 finished with value: 0.3206630349159241 and parameters: {'fs': 5, 'neurons': 32, 'hidden_layers_num': 3, 'lr': 0.001, 'm': 4, 'has_backward': False}. Best is trial 8 with value: 0.02907261997461319.\n"
     ]
    },
    {
     "name": "stdout",
     "output_type": "stream",
     "text": [
      "input 9 output 64\n",
      "input 64 output 64\n",
      "input 64 output 1\n",
      "#parameters: 4865\n"
     ]
    },
    {
     "name": "stderr",
     "output_type": "stream",
     "text": [
      "100%|█████████████████████████████████████████████████████████████████████| 50/50 [00:01<00:00, 27.03it/s, loss=0.0245]\n",
      "[I 2024-10-28 21:39:12,861] Trial 40 finished with value: 0.02453790046274662 and parameters: {'fs': 9, 'neurons': 64, 'hidden_layers_num': 2, 'lr': 0.01, 'm': 2, 'has_backward': False}. Best is trial 40 with value: 0.02453790046274662.\n"
     ]
    },
    {
     "name": "stdout",
     "output_type": "stream",
     "text": [
      "input 9 output 64\n",
      "input 64 output 64\n",
      "input 64 output 1\n",
      "#parameters: 4865\n"
     ]
    },
    {
     "name": "stderr",
     "output_type": "stream",
     "text": [
      "100%|█████████████████████████████████████████████████████████████████████| 50/50 [00:00<00:00, 54.03it/s, loss=0.0245]\n",
      "[I 2024-10-28 21:39:13,821] Trial 41 finished with value: 0.02453790046274662 and parameters: {'fs': 9, 'neurons': 64, 'hidden_layers_num': 2, 'lr': 0.01, 'm': 2, 'has_backward': False}. Best is trial 40 with value: 0.02453790046274662.\n"
     ]
    },
    {
     "name": "stdout",
     "output_type": "stream",
     "text": [
      "input 9 output 64\n",
      "input 64 output 64\n",
      "input 64 output 1\n",
      "#parameters: 4865\n"
     ]
    },
    {
     "name": "stderr",
     "output_type": "stream",
     "text": [
      "100%|█████████████████████████████████████████████████████████████████████| 50/50 [00:01<00:00, 27.52it/s, loss=0.0245]\n",
      "[I 2024-10-28 21:39:15,671] Trial 42 finished with value: 0.02453790046274662 and parameters: {'fs': 9, 'neurons': 64, 'hidden_layers_num': 2, 'lr': 0.01, 'm': 2, 'has_backward': False}. Best is trial 40 with value: 0.02453790046274662.\n"
     ]
    },
    {
     "name": "stdout",
     "output_type": "stream",
     "text": [
      "input 9 output 64\n",
      "input 64 output 64\n",
      "input 64 output 1\n",
      "#parameters: 4865\n"
     ]
    },
    {
     "name": "stderr",
     "output_type": "stream",
     "text": [
      "100%|█████████████████████████████████████████████████████████████████████| 50/50 [00:01<00:00, 25.95it/s, loss=0.0245]\n",
      "[I 2024-10-28 21:39:17,651] Trial 43 finished with value: 0.02453790046274662 and parameters: {'fs': 9, 'neurons': 64, 'hidden_layers_num': 2, 'lr': 0.01, 'm': 2, 'has_backward': False}. Best is trial 40 with value: 0.02453790046274662.\n"
     ]
    },
    {
     "name": "stdout",
     "output_type": "stream",
     "text": [
      "input 9 output 64\n",
      "input 64 output 64\n",
      "input 64 output 1\n",
      "#parameters: 4865\n"
     ]
    },
    {
     "name": "stderr",
     "output_type": "stream",
     "text": [
      "100%|█████████████████████████████████████████████████████████████████████| 50/50 [00:01<00:00, 25.66it/s, loss=0.0245]\n",
      "[I 2024-10-28 21:39:19,661] Trial 44 finished with value: 0.02453790046274662 and parameters: {'fs': 9, 'neurons': 64, 'hidden_layers_num': 2, 'lr': 0.01, 'm': 2, 'has_backward': False}. Best is trial 40 with value: 0.02453790046274662.\n"
     ]
    },
    {
     "name": "stdout",
     "output_type": "stream",
     "text": [
      "input 9 output 1\n",
      "#parameters: 10\n"
     ]
    },
    {
     "name": "stderr",
     "output_type": "stream",
     "text": [
      "100%|██████████████████████████████████████████████████████████████████████| 50/50 [00:00<00:00, 74.11it/s, loss=0.281]\n",
      "[I 2024-10-28 21:39:20,391] Trial 45 finished with value: 0.28070515394210815 and parameters: {'fs': 9, 'neurons': 64, 'hidden_layers_num': 0, 'lr': 0.001, 'm': 2, 'has_backward': False}. Best is trial 40 with value: 0.02453790046274662.\n"
     ]
    },
    {
     "name": "stdout",
     "output_type": "stream",
     "text": [
      "input 9 output 64\n",
      "input 64 output 64\n",
      "input 64 output 1\n",
      "#parameters: 4865\n"
     ]
    },
    {
     "name": "stderr",
     "output_type": "stream",
     "text": [
      "100%|█████████████████████████████████████████████████████████████████████| 50/50 [00:01<00:00, 25.38it/s, loss=0.0245]\n",
      "[I 2024-10-28 21:39:22,401] Trial 46 finished with value: 0.02453790046274662 and parameters: {'fs': 9, 'neurons': 64, 'hidden_layers_num': 2, 'lr': 0.01, 'm': 2, 'has_backward': False}. Best is trial 40 with value: 0.02453790046274662.\n"
     ]
    },
    {
     "name": "stdout",
     "output_type": "stream",
     "text": [
      "input 9 output 64\n",
      "input 64 output 64\n",
      "input 64 output 1\n",
      "#parameters: 4865\n"
     ]
    },
    {
     "name": "stderr",
     "output_type": "stream",
     "text": [
      "100%|█████████████████████████████████████████████████████████████████████| 50/50 [00:01<00:00, 25.29it/s, loss=0.0245]\n",
      "[I 2024-10-28 21:39:24,441] Trial 47 finished with value: 0.02453790046274662 and parameters: {'fs': 9, 'neurons': 64, 'hidden_layers_num': 2, 'lr': 0.01, 'm': 2, 'has_backward': False}. Best is trial 40 with value: 0.02453790046274662.\n"
     ]
    },
    {
     "name": "stdout",
     "output_type": "stream",
     "text": [
      "input 3 output 64\n",
      "input 64 output 64\n",
      "input 64 output 1\n",
      "#parameters: 4481\n"
     ]
    },
    {
     "name": "stderr",
     "output_type": "stream",
     "text": [
      "100%|██████████████████████████████████████████████████████████████████████| 50/50 [00:01<00:00, 31.39it/s, loss=0.118]\n",
      "[I 2024-10-28 21:39:26,104] Trial 48 finished with value: 0.11776267737150192 and parameters: {'fs': 3, 'neurons': 64, 'hidden_layers_num': 2, 'lr': 0.01, 'm': 2, 'has_backward': False}. Best is trial 40 with value: 0.02453790046274662.\n"
     ]
    },
    {
     "name": "stdout",
     "output_type": "stream",
     "text": [
      "input 9 output 64\n",
      "input 64 output 64\n",
      "input 64 output 1\n",
      "#parameters: 4865\n"
     ]
    },
    {
     "name": "stderr",
     "output_type": "stream",
     "text": [
      "100%|█████████████████████████████████████████████████████████████████████| 50/50 [00:01<00:00, 28.59it/s, loss=0.0245]\n",
      "[I 2024-10-28 21:39:27,916] Trial 49 finished with value: 0.02453790046274662 and parameters: {'fs': 9, 'neurons': 64, 'hidden_layers_num': 2, 'lr': 0.01, 'm': 2, 'has_backward': False}. Best is trial 40 with value: 0.02453790046274662.\n"
     ]
    }
   ],
   "source": [
    "study = optuna.create_study(direction='minimize')\n",
    "study.optimize(objective_mplconv, n_trials=N_TRIALS)"
   ]
  },
  {
   "cell_type": "code",
   "execution_count": 15,
   "id": "a8f68a8b-b382-4352-ac57-43ae8ceef218",
   "metadata": {},
   "outputs": [
    {
     "data": {
      "text/html": [
       "<div>\n",
       "<style scoped>\n",
       "    .dataframe tbody tr th:only-of-type {\n",
       "        vertical-align: middle;\n",
       "    }\n",
       "\n",
       "    .dataframe tbody tr th {\n",
       "        vertical-align: top;\n",
       "    }\n",
       "\n",
       "    .dataframe thead th {\n",
       "        text-align: right;\n",
       "    }\n",
       "</style>\n",
       "<table border=\"1\" class=\"dataframe\">\n",
       "  <thead>\n",
       "    <tr style=\"text-align: right;\">\n",
       "      <th></th>\n",
       "      <th>number</th>\n",
       "      <th>value</th>\n",
       "      <th>datetime_start</th>\n",
       "      <th>datetime_complete</th>\n",
       "      <th>duration</th>\n",
       "      <th>params_fs</th>\n",
       "      <th>params_has_backward</th>\n",
       "      <th>params_hidden_layers_num</th>\n",
       "      <th>params_lr</th>\n",
       "      <th>params_m</th>\n",
       "      <th>params_neurons</th>\n",
       "      <th>state</th>\n",
       "    </tr>\n",
       "  </thead>\n",
       "  <tbody>\n",
       "    <tr>\n",
       "      <th>0</th>\n",
       "      <td>0</td>\n",
       "      <td>0.289466</td>\n",
       "      <td>2024-10-28 21:38:31.911424</td>\n",
       "      <td>2024-10-28 21:38:34.111711</td>\n",
       "      <td>0 days 00:00:02.200287</td>\n",
       "      <td>5</td>\n",
       "      <td>False</td>\n",
       "      <td>4</td>\n",
       "      <td>0.001</td>\n",
       "      <td>4</td>\n",
       "      <td>32</td>\n",
       "      <td>COMPLETE</td>\n",
       "    </tr>\n",
       "    <tr>\n",
       "      <th>1</th>\n",
       "      <td>1</td>\n",
       "      <td>0.266932</td>\n",
       "      <td>2024-10-28 21:38:34.115706</td>\n",
       "      <td>2024-10-28 21:38:35.439718</td>\n",
       "      <td>0 days 00:00:01.324012</td>\n",
       "      <td>1</td>\n",
       "      <td>False</td>\n",
       "      <td>4</td>\n",
       "      <td>0.010</td>\n",
       "      <td>4</td>\n",
       "      <td>32</td>\n",
       "      <td>COMPLETE</td>\n",
       "    </tr>\n",
       "    <tr>\n",
       "      <th>2</th>\n",
       "      <td>2</td>\n",
       "      <td>0.168094</td>\n",
       "      <td>2024-10-28 21:38:35.439718</td>\n",
       "      <td>2024-10-28 21:38:36.663282</td>\n",
       "      <td>0 days 00:00:01.223564</td>\n",
       "      <td>1</td>\n",
       "      <td>False</td>\n",
       "      <td>4</td>\n",
       "      <td>0.001</td>\n",
       "      <td>2</td>\n",
       "      <td>32</td>\n",
       "      <td>COMPLETE</td>\n",
       "    </tr>\n",
       "    <tr>\n",
       "      <th>3</th>\n",
       "      <td>3</td>\n",
       "      <td>0.101771</td>\n",
       "      <td>2024-10-28 21:38:36.667277</td>\n",
       "      <td>2024-10-28 21:38:38.354187</td>\n",
       "      <td>0 days 00:00:01.686910</td>\n",
       "      <td>9</td>\n",
       "      <td>False</td>\n",
       "      <td>4</td>\n",
       "      <td>0.001</td>\n",
       "      <td>2</td>\n",
       "      <td>64</td>\n",
       "      <td>COMPLETE</td>\n",
       "    </tr>\n",
       "    <tr>\n",
       "      <th>4</th>\n",
       "      <td>4</td>\n",
       "      <td>0.337593</td>\n",
       "      <td>2024-10-28 21:38:38.354187</td>\n",
       "      <td>2024-10-28 21:38:38.661294</td>\n",
       "      <td>0 days 00:00:00.307107</td>\n",
       "      <td>3</td>\n",
       "      <td>False</td>\n",
       "      <td>0</td>\n",
       "      <td>0.001</td>\n",
       "      <td>2</td>\n",
       "      <td>32</td>\n",
       "      <td>COMPLETE</td>\n",
       "    </tr>\n",
       "    <tr>\n",
       "      <th>5</th>\n",
       "      <td>5</td>\n",
       "      <td>0.289828</td>\n",
       "      <td>2024-10-28 21:38:38.661294</td>\n",
       "      <td>2024-10-28 21:38:40.003687</td>\n",
       "      <td>0 days 00:00:01.342393</td>\n",
       "      <td>5</td>\n",
       "      <td>False</td>\n",
       "      <td>2</td>\n",
       "      <td>0.001</td>\n",
       "      <td>4</td>\n",
       "      <td>64</td>\n",
       "      <td>COMPLETE</td>\n",
       "    </tr>\n",
       "    <tr>\n",
       "      <th>6</th>\n",
       "      <td>6</td>\n",
       "      <td>0.373338</td>\n",
       "      <td>2024-10-28 21:38:40.011773</td>\n",
       "      <td>2024-10-28 21:38:40.601237</td>\n",
       "      <td>0 days 00:00:00.589464</td>\n",
       "      <td>5</td>\n",
       "      <td>False</td>\n",
       "      <td>0</td>\n",
       "      <td>0.001</td>\n",
       "      <td>2</td>\n",
       "      <td>16</td>\n",
       "      <td>COMPLETE</td>\n",
       "    </tr>\n",
       "    <tr>\n",
       "      <th>7</th>\n",
       "      <td>7</td>\n",
       "      <td>0.275531</td>\n",
       "      <td>2024-10-28 21:38:40.601237</td>\n",
       "      <td>2024-10-28 21:38:41.531116</td>\n",
       "      <td>0 days 00:00:00.929879</td>\n",
       "      <td>3</td>\n",
       "      <td>False</td>\n",
       "      <td>1</td>\n",
       "      <td>0.010</td>\n",
       "      <td>4</td>\n",
       "      <td>64</td>\n",
       "      <td>COMPLETE</td>\n",
       "    </tr>\n",
       "    <tr>\n",
       "      <th>8</th>\n",
       "      <td>8</td>\n",
       "      <td>0.029073</td>\n",
       "      <td>2024-10-28 21:38:41.531116</td>\n",
       "      <td>2024-10-28 21:38:42.696236</td>\n",
       "      <td>0 days 00:00:01.165120</td>\n",
       "      <td>9</td>\n",
       "      <td>False</td>\n",
       "      <td>2</td>\n",
       "      <td>0.010</td>\n",
       "      <td>2</td>\n",
       "      <td>32</td>\n",
       "      <td>COMPLETE</td>\n",
       "    </tr>\n",
       "    <tr>\n",
       "      <th>9</th>\n",
       "      <td>9</td>\n",
       "      <td>0.114049</td>\n",
       "      <td>2024-10-28 21:38:42.701267</td>\n",
       "      <td>2024-10-28 21:38:44.023377</td>\n",
       "      <td>0 days 00:00:01.322110</td>\n",
       "      <td>9</td>\n",
       "      <td>False</td>\n",
       "      <td>3</td>\n",
       "      <td>0.001</td>\n",
       "      <td>2</td>\n",
       "      <td>64</td>\n",
       "      <td>COMPLETE</td>\n",
       "    </tr>\n",
       "    <tr>\n",
       "      <th>10</th>\n",
       "      <td>10</td>\n",
       "      <td>0.064681</td>\n",
       "      <td>2024-10-28 21:38:44.025395</td>\n",
       "      <td>2024-10-28 21:38:44.821325</td>\n",
       "      <td>0 days 00:00:00.795930</td>\n",
       "      <td>9</td>\n",
       "      <td>False</td>\n",
       "      <td>2</td>\n",
       "      <td>0.010</td>\n",
       "      <td>2</td>\n",
       "      <td>16</td>\n",
       "      <td>COMPLETE</td>\n",
       "    </tr>\n",
       "    <tr>\n",
       "      <th>11</th>\n",
       "      <td>11</td>\n",
       "      <td>0.064681</td>\n",
       "      <td>2024-10-28 21:38:44.821325</td>\n",
       "      <td>2024-10-28 21:38:45.691235</td>\n",
       "      <td>0 days 00:00:00.869910</td>\n",
       "      <td>9</td>\n",
       "      <td>False</td>\n",
       "      <td>2</td>\n",
       "      <td>0.010</td>\n",
       "      <td>2</td>\n",
       "      <td>16</td>\n",
       "      <td>COMPLETE</td>\n",
       "    </tr>\n",
       "    <tr>\n",
       "      <th>12</th>\n",
       "      <td>12</td>\n",
       "      <td>0.064681</td>\n",
       "      <td>2024-10-28 21:38:45.691235</td>\n",
       "      <td>2024-10-28 21:38:46.561357</td>\n",
       "      <td>0 days 00:00:00.870122</td>\n",
       "      <td>9</td>\n",
       "      <td>False</td>\n",
       "      <td>2</td>\n",
       "      <td>0.010</td>\n",
       "      <td>2</td>\n",
       "      <td>16</td>\n",
       "      <td>COMPLETE</td>\n",
       "    </tr>\n",
       "    <tr>\n",
       "      <th>13</th>\n",
       "      <td>13</td>\n",
       "      <td>0.064681</td>\n",
       "      <td>2024-10-28 21:38:46.561357</td>\n",
       "      <td>2024-10-28 21:38:47.441400</td>\n",
       "      <td>0 days 00:00:00.880043</td>\n",
       "      <td>9</td>\n",
       "      <td>False</td>\n",
       "      <td>2</td>\n",
       "      <td>0.010</td>\n",
       "      <td>2</td>\n",
       "      <td>16</td>\n",
       "      <td>COMPLETE</td>\n",
       "    </tr>\n",
       "    <tr>\n",
       "      <th>14</th>\n",
       "      <td>14</td>\n",
       "      <td>0.029073</td>\n",
       "      <td>2024-10-28 21:38:47.448978</td>\n",
       "      <td>2024-10-28 21:38:48.121435</td>\n",
       "      <td>0 days 00:00:00.672457</td>\n",
       "      <td>9</td>\n",
       "      <td>False</td>\n",
       "      <td>2</td>\n",
       "      <td>0.010</td>\n",
       "      <td>2</td>\n",
       "      <td>32</td>\n",
       "      <td>COMPLETE</td>\n",
       "    </tr>\n",
       "    <tr>\n",
       "      <th>15</th>\n",
       "      <td>15</td>\n",
       "      <td>0.094028</td>\n",
       "      <td>2024-10-28 21:38:48.131451</td>\n",
       "      <td>2024-10-28 21:38:48.771224</td>\n",
       "      <td>0 days 00:00:00.639773</td>\n",
       "      <td>9</td>\n",
       "      <td>False</td>\n",
       "      <td>3</td>\n",
       "      <td>0.010</td>\n",
       "      <td>2</td>\n",
       "      <td>32</td>\n",
       "      <td>COMPLETE</td>\n",
       "    </tr>\n",
       "    <tr>\n",
       "      <th>16</th>\n",
       "      <td>16</td>\n",
       "      <td>0.094902</td>\n",
       "      <td>2024-10-28 21:38:48.771224</td>\n",
       "      <td>2024-10-28 21:38:49.191284</td>\n",
       "      <td>0 days 00:00:00.420060</td>\n",
       "      <td>9</td>\n",
       "      <td>False</td>\n",
       "      <td>1</td>\n",
       "      <td>0.010</td>\n",
       "      <td>2</td>\n",
       "      <td>32</td>\n",
       "      <td>COMPLETE</td>\n",
       "    </tr>\n",
       "    <tr>\n",
       "      <th>17</th>\n",
       "      <td>17</td>\n",
       "      <td>0.149662</td>\n",
       "      <td>2024-10-28 21:38:49.191284</td>\n",
       "      <td>2024-10-28 21:38:49.621445</td>\n",
       "      <td>0 days 00:00:00.430161</td>\n",
       "      <td>1</td>\n",
       "      <td>False</td>\n",
       "      <td>2</td>\n",
       "      <td>0.010</td>\n",
       "      <td>2</td>\n",
       "      <td>32</td>\n",
       "      <td>COMPLETE</td>\n",
       "    </tr>\n",
       "    <tr>\n",
       "      <th>18</th>\n",
       "      <td>18</td>\n",
       "      <td>0.266559</td>\n",
       "      <td>2024-10-28 21:38:49.621445</td>\n",
       "      <td>2024-10-28 21:38:50.461331</td>\n",
       "      <td>0 days 00:00:00.839886</td>\n",
       "      <td>3</td>\n",
       "      <td>False</td>\n",
       "      <td>2</td>\n",
       "      <td>0.010</td>\n",
       "      <td>4</td>\n",
       "      <td>32</td>\n",
       "      <td>COMPLETE</td>\n",
       "    </tr>\n",
       "    <tr>\n",
       "      <th>19</th>\n",
       "      <td>19</td>\n",
       "      <td>0.029073</td>\n",
       "      <td>2024-10-28 21:38:50.461331</td>\n",
       "      <td>2024-10-28 21:38:51.661421</td>\n",
       "      <td>0 days 00:00:01.200090</td>\n",
       "      <td>9</td>\n",
       "      <td>False</td>\n",
       "      <td>2</td>\n",
       "      <td>0.010</td>\n",
       "      <td>2</td>\n",
       "      <td>32</td>\n",
       "      <td>COMPLETE</td>\n",
       "    </tr>\n",
       "    <tr>\n",
       "      <th>20</th>\n",
       "      <td>20</td>\n",
       "      <td>0.094028</td>\n",
       "      <td>2024-10-28 21:38:51.661421</td>\n",
       "      <td>2024-10-28 21:38:53.021414</td>\n",
       "      <td>0 days 00:00:01.359993</td>\n",
       "      <td>9</td>\n",
       "      <td>False</td>\n",
       "      <td>3</td>\n",
       "      <td>0.010</td>\n",
       "      <td>2</td>\n",
       "      <td>32</td>\n",
       "      <td>COMPLETE</td>\n",
       "    </tr>\n",
       "    <tr>\n",
       "      <th>21</th>\n",
       "      <td>21</td>\n",
       "      <td>0.029073</td>\n",
       "      <td>2024-10-28 21:38:53.031299</td>\n",
       "      <td>2024-10-28 21:38:53.791018</td>\n",
       "      <td>0 days 00:00:00.759719</td>\n",
       "      <td>9</td>\n",
       "      <td>False</td>\n",
       "      <td>2</td>\n",
       "      <td>0.010</td>\n",
       "      <td>2</td>\n",
       "      <td>32</td>\n",
       "      <td>COMPLETE</td>\n",
       "    </tr>\n",
       "    <tr>\n",
       "      <th>22</th>\n",
       "      <td>22</td>\n",
       "      <td>0.029073</td>\n",
       "      <td>2024-10-28 21:38:53.791018</td>\n",
       "      <td>2024-10-28 21:38:54.354234</td>\n",
       "      <td>0 days 00:00:00.563216</td>\n",
       "      <td>9</td>\n",
       "      <td>False</td>\n",
       "      <td>2</td>\n",
       "      <td>0.010</td>\n",
       "      <td>2</td>\n",
       "      <td>32</td>\n",
       "      <td>COMPLETE</td>\n",
       "    </tr>\n",
       "    <tr>\n",
       "      <th>23</th>\n",
       "      <td>23</td>\n",
       "      <td>0.029073</td>\n",
       "      <td>2024-10-28 21:38:54.354234</td>\n",
       "      <td>2024-10-28 21:38:55.420962</td>\n",
       "      <td>0 days 00:00:01.066728</td>\n",
       "      <td>9</td>\n",
       "      <td>False</td>\n",
       "      <td>2</td>\n",
       "      <td>0.010</td>\n",
       "      <td>2</td>\n",
       "      <td>32</td>\n",
       "      <td>COMPLETE</td>\n",
       "    </tr>\n",
       "    <tr>\n",
       "      <th>24</th>\n",
       "      <td>24</td>\n",
       "      <td>0.094902</td>\n",
       "      <td>2024-10-28 21:38:55.420962</td>\n",
       "      <td>2024-10-28 21:38:56.271321</td>\n",
       "      <td>0 days 00:00:00.850359</td>\n",
       "      <td>9</td>\n",
       "      <td>False</td>\n",
       "      <td>1</td>\n",
       "      <td>0.010</td>\n",
       "      <td>2</td>\n",
       "      <td>32</td>\n",
       "      <td>COMPLETE</td>\n",
       "    </tr>\n",
       "    <tr>\n",
       "      <th>25</th>\n",
       "      <td>25</td>\n",
       "      <td>0.238038</td>\n",
       "      <td>2024-10-28 21:38:56.281333</td>\n",
       "      <td>2024-10-28 21:38:56.931183</td>\n",
       "      <td>0 days 00:00:00.649850</td>\n",
       "      <td>9</td>\n",
       "      <td>False</td>\n",
       "      <td>0</td>\n",
       "      <td>0.010</td>\n",
       "      <td>2</td>\n",
       "      <td>32</td>\n",
       "      <td>COMPLETE</td>\n",
       "    </tr>\n",
       "    <tr>\n",
       "      <th>26</th>\n",
       "      <td>26</td>\n",
       "      <td>0.269372</td>\n",
       "      <td>2024-10-28 21:38:56.931183</td>\n",
       "      <td>2024-10-28 21:38:57.901205</td>\n",
       "      <td>0 days 00:00:00.970022</td>\n",
       "      <td>1</td>\n",
       "      <td>False</td>\n",
       "      <td>2</td>\n",
       "      <td>0.010</td>\n",
       "      <td>4</td>\n",
       "      <td>32</td>\n",
       "      <td>COMPLETE</td>\n",
       "    </tr>\n",
       "    <tr>\n",
       "      <th>27</th>\n",
       "      <td>27</td>\n",
       "      <td>0.049146</td>\n",
       "      <td>2024-10-28 21:38:57.911404</td>\n",
       "      <td>2024-10-28 21:38:58.357979</td>\n",
       "      <td>0 days 00:00:00.446575</td>\n",
       "      <td>3</td>\n",
       "      <td>False</td>\n",
       "      <td>2</td>\n",
       "      <td>0.010</td>\n",
       "      <td>2</td>\n",
       "      <td>32</td>\n",
       "      <td>COMPLETE</td>\n",
       "    </tr>\n",
       "    <tr>\n",
       "      <th>28</th>\n",
       "      <td>28</td>\n",
       "      <td>0.074554</td>\n",
       "      <td>2024-10-28 21:38:58.360998</td>\n",
       "      <td>2024-10-28 21:38:59.425145</td>\n",
       "      <td>0 days 00:00:01.064147</td>\n",
       "      <td>5</td>\n",
       "      <td>False</td>\n",
       "      <td>2</td>\n",
       "      <td>0.010</td>\n",
       "      <td>2</td>\n",
       "      <td>64</td>\n",
       "      <td>COMPLETE</td>\n",
       "    </tr>\n",
       "    <tr>\n",
       "      <th>29</th>\n",
       "      <td>29</td>\n",
       "      <td>0.170394</td>\n",
       "      <td>2024-10-28 21:38:59.427173</td>\n",
       "      <td>2024-10-28 21:39:00.711291</td>\n",
       "      <td>0 days 00:00:01.284118</td>\n",
       "      <td>5</td>\n",
       "      <td>False</td>\n",
       "      <td>2</td>\n",
       "      <td>0.010</td>\n",
       "      <td>4</td>\n",
       "      <td>32</td>\n",
       "      <td>COMPLETE</td>\n",
       "    </tr>\n",
       "    <tr>\n",
       "      <th>30</th>\n",
       "      <td>30</td>\n",
       "      <td>0.094902</td>\n",
       "      <td>2024-10-28 21:39:00.711291</td>\n",
       "      <td>2024-10-28 21:39:01.491535</td>\n",
       "      <td>0 days 00:00:00.780244</td>\n",
       "      <td>9</td>\n",
       "      <td>False</td>\n",
       "      <td>1</td>\n",
       "      <td>0.010</td>\n",
       "      <td>2</td>\n",
       "      <td>32</td>\n",
       "      <td>COMPLETE</td>\n",
       "    </tr>\n",
       "    <tr>\n",
       "      <th>31</th>\n",
       "      <td>31</td>\n",
       "      <td>0.029073</td>\n",
       "      <td>2024-10-28 21:39:01.491535</td>\n",
       "      <td>2024-10-28 21:39:02.571379</td>\n",
       "      <td>0 days 00:00:01.079844</td>\n",
       "      <td>9</td>\n",
       "      <td>False</td>\n",
       "      <td>2</td>\n",
       "      <td>0.010</td>\n",
       "      <td>2</td>\n",
       "      <td>32</td>\n",
       "      <td>COMPLETE</td>\n",
       "    </tr>\n",
       "    <tr>\n",
       "      <th>32</th>\n",
       "      <td>32</td>\n",
       "      <td>0.029073</td>\n",
       "      <td>2024-10-28 21:39:02.571379</td>\n",
       "      <td>2024-10-28 21:39:03.146016</td>\n",
       "      <td>0 days 00:00:00.574637</td>\n",
       "      <td>9</td>\n",
       "      <td>False</td>\n",
       "      <td>2</td>\n",
       "      <td>0.010</td>\n",
       "      <td>2</td>\n",
       "      <td>32</td>\n",
       "      <td>COMPLETE</td>\n",
       "    </tr>\n",
       "    <tr>\n",
       "      <th>33</th>\n",
       "      <td>33</td>\n",
       "      <td>0.051842</td>\n",
       "      <td>2024-10-28 21:39:03.146016</td>\n",
       "      <td>2024-10-28 21:39:04.151024</td>\n",
       "      <td>0 days 00:00:01.005008</td>\n",
       "      <td>9</td>\n",
       "      <td>False</td>\n",
       "      <td>4</td>\n",
       "      <td>0.010</td>\n",
       "      <td>2</td>\n",
       "      <td>32</td>\n",
       "      <td>COMPLETE</td>\n",
       "    </tr>\n",
       "    <tr>\n",
       "      <th>34</th>\n",
       "      <td>34</td>\n",
       "      <td>0.148787</td>\n",
       "      <td>2024-10-28 21:39:04.151024</td>\n",
       "      <td>2024-10-28 21:39:05.341118</td>\n",
       "      <td>0 days 00:00:01.190094</td>\n",
       "      <td>1</td>\n",
       "      <td>False</td>\n",
       "      <td>4</td>\n",
       "      <td>0.010</td>\n",
       "      <td>2</td>\n",
       "      <td>32</td>\n",
       "      <td>COMPLETE</td>\n",
       "    </tr>\n",
       "    <tr>\n",
       "      <th>35</th>\n",
       "      <td>35</td>\n",
       "      <td>0.183774</td>\n",
       "      <td>2024-10-28 21:39:05.351337</td>\n",
       "      <td>2024-10-28 21:39:06.551204</td>\n",
       "      <td>0 days 00:00:01.199867</td>\n",
       "      <td>9</td>\n",
       "      <td>False</td>\n",
       "      <td>2</td>\n",
       "      <td>0.001</td>\n",
       "      <td>2</td>\n",
       "      <td>32</td>\n",
       "      <td>COMPLETE</td>\n",
       "    </tr>\n",
       "    <tr>\n",
       "      <th>36</th>\n",
       "      <td>36</td>\n",
       "      <td>0.407131</td>\n",
       "      <td>2024-10-28 21:39:06.551204</td>\n",
       "      <td>2024-10-28 21:39:07.311317</td>\n",
       "      <td>0 days 00:00:00.760113</td>\n",
       "      <td>9</td>\n",
       "      <td>False</td>\n",
       "      <td>0</td>\n",
       "      <td>0.010</td>\n",
       "      <td>4</td>\n",
       "      <td>32</td>\n",
       "      <td>COMPLETE</td>\n",
       "    </tr>\n",
       "    <tr>\n",
       "      <th>37</th>\n",
       "      <td>37</td>\n",
       "      <td>0.235441</td>\n",
       "      <td>2024-10-28 21:39:07.311317</td>\n",
       "      <td>2024-10-28 21:39:07.741586</td>\n",
       "      <td>0 days 00:00:00.430269</td>\n",
       "      <td>1</td>\n",
       "      <td>False</td>\n",
       "      <td>2</td>\n",
       "      <td>0.001</td>\n",
       "      <td>2</td>\n",
       "      <td>32</td>\n",
       "      <td>COMPLETE</td>\n",
       "    </tr>\n",
       "    <tr>\n",
       "      <th>38</th>\n",
       "      <td>38</td>\n",
       "      <td>0.043018</td>\n",
       "      <td>2024-10-28 21:39:07.751368</td>\n",
       "      <td>2024-10-28 21:39:09.538634</td>\n",
       "      <td>0 days 00:00:01.787266</td>\n",
       "      <td>3</td>\n",
       "      <td>False</td>\n",
       "      <td>4</td>\n",
       "      <td>0.010</td>\n",
       "      <td>2</td>\n",
       "      <td>64</td>\n",
       "      <td>COMPLETE</td>\n",
       "    </tr>\n",
       "    <tr>\n",
       "      <th>39</th>\n",
       "      <td>39</td>\n",
       "      <td>0.320663</td>\n",
       "      <td>2024-10-28 21:39:09.541160</td>\n",
       "      <td>2024-10-28 21:39:10.971427</td>\n",
       "      <td>0 days 00:00:01.430267</td>\n",
       "      <td>5</td>\n",
       "      <td>False</td>\n",
       "      <td>3</td>\n",
       "      <td>0.001</td>\n",
       "      <td>4</td>\n",
       "      <td>32</td>\n",
       "      <td>COMPLETE</td>\n",
       "    </tr>\n",
       "    <tr>\n",
       "      <th>40</th>\n",
       "      <td>40</td>\n",
       "      <td>0.024538</td>\n",
       "      <td>2024-10-28 21:39:10.981552</td>\n",
       "      <td>2024-10-28 21:39:12.861202</td>\n",
       "      <td>0 days 00:00:01.879650</td>\n",
       "      <td>9</td>\n",
       "      <td>False</td>\n",
       "      <td>2</td>\n",
       "      <td>0.010</td>\n",
       "      <td>2</td>\n",
       "      <td>64</td>\n",
       "      <td>COMPLETE</td>\n",
       "    </tr>\n",
       "    <tr>\n",
       "      <th>41</th>\n",
       "      <td>41</td>\n",
       "      <td>0.024538</td>\n",
       "      <td>2024-10-28 21:39:12.866232</td>\n",
       "      <td>2024-10-28 21:39:13.821616</td>\n",
       "      <td>0 days 00:00:00.955384</td>\n",
       "      <td>9</td>\n",
       "      <td>False</td>\n",
       "      <td>2</td>\n",
       "      <td>0.010</td>\n",
       "      <td>2</td>\n",
       "      <td>64</td>\n",
       "      <td>COMPLETE</td>\n",
       "    </tr>\n",
       "    <tr>\n",
       "      <th>42</th>\n",
       "      <td>42</td>\n",
       "      <td>0.024538</td>\n",
       "      <td>2024-10-28 21:39:13.823632</td>\n",
       "      <td>2024-10-28 21:39:15.671300</td>\n",
       "      <td>0 days 00:00:01.847668</td>\n",
       "      <td>9</td>\n",
       "      <td>False</td>\n",
       "      <td>2</td>\n",
       "      <td>0.010</td>\n",
       "      <td>2</td>\n",
       "      <td>64</td>\n",
       "      <td>COMPLETE</td>\n",
       "    </tr>\n",
       "    <tr>\n",
       "      <th>43</th>\n",
       "      <td>43</td>\n",
       "      <td>0.024538</td>\n",
       "      <td>2024-10-28 21:39:15.676307</td>\n",
       "      <td>2024-10-28 21:39:17.651024</td>\n",
       "      <td>0 days 00:00:01.974717</td>\n",
       "      <td>9</td>\n",
       "      <td>False</td>\n",
       "      <td>2</td>\n",
       "      <td>0.010</td>\n",
       "      <td>2</td>\n",
       "      <td>64</td>\n",
       "      <td>COMPLETE</td>\n",
       "    </tr>\n",
       "    <tr>\n",
       "      <th>44</th>\n",
       "      <td>44</td>\n",
       "      <td>0.024538</td>\n",
       "      <td>2024-10-28 21:39:17.656035</td>\n",
       "      <td>2024-10-28 21:39:19.661435</td>\n",
       "      <td>0 days 00:00:02.005400</td>\n",
       "      <td>9</td>\n",
       "      <td>False</td>\n",
       "      <td>2</td>\n",
       "      <td>0.010</td>\n",
       "      <td>2</td>\n",
       "      <td>64</td>\n",
       "      <td>COMPLETE</td>\n",
       "    </tr>\n",
       "    <tr>\n",
       "      <th>45</th>\n",
       "      <td>45</td>\n",
       "      <td>0.280705</td>\n",
       "      <td>2024-10-28 21:39:19.666444</td>\n",
       "      <td>2024-10-28 21:39:20.391144</td>\n",
       "      <td>0 days 00:00:00.724700</td>\n",
       "      <td>9</td>\n",
       "      <td>False</td>\n",
       "      <td>0</td>\n",
       "      <td>0.001</td>\n",
       "      <td>2</td>\n",
       "      <td>64</td>\n",
       "      <td>COMPLETE</td>\n",
       "    </tr>\n",
       "    <tr>\n",
       "      <th>46</th>\n",
       "      <td>46</td>\n",
       "      <td>0.024538</td>\n",
       "      <td>2024-10-28 21:39:20.401159</td>\n",
       "      <td>2024-10-28 21:39:22.401005</td>\n",
       "      <td>0 days 00:00:01.999846</td>\n",
       "      <td>9</td>\n",
       "      <td>False</td>\n",
       "      <td>2</td>\n",
       "      <td>0.010</td>\n",
       "      <td>2</td>\n",
       "      <td>64</td>\n",
       "      <td>COMPLETE</td>\n",
       "    </tr>\n",
       "    <tr>\n",
       "      <th>47</th>\n",
       "      <td>47</td>\n",
       "      <td>0.024538</td>\n",
       "      <td>2024-10-28 21:39:22.401005</td>\n",
       "      <td>2024-10-28 21:39:24.441209</td>\n",
       "      <td>0 days 00:00:02.040204</td>\n",
       "      <td>9</td>\n",
       "      <td>False</td>\n",
       "      <td>2</td>\n",
       "      <td>0.010</td>\n",
       "      <td>2</td>\n",
       "      <td>64</td>\n",
       "      <td>COMPLETE</td>\n",
       "    </tr>\n",
       "    <tr>\n",
       "      <th>48</th>\n",
       "      <td>48</td>\n",
       "      <td>0.117763</td>\n",
       "      <td>2024-10-28 21:39:24.448269</td>\n",
       "      <td>2024-10-28 21:39:26.104488</td>\n",
       "      <td>0 days 00:00:01.656219</td>\n",
       "      <td>3</td>\n",
       "      <td>False</td>\n",
       "      <td>2</td>\n",
       "      <td>0.010</td>\n",
       "      <td>2</td>\n",
       "      <td>64</td>\n",
       "      <td>COMPLETE</td>\n",
       "    </tr>\n",
       "    <tr>\n",
       "      <th>49</th>\n",
       "      <td>49</td>\n",
       "      <td>0.024538</td>\n",
       "      <td>2024-10-28 21:39:26.104488</td>\n",
       "      <td>2024-10-28 21:39:27.916281</td>\n",
       "      <td>0 days 00:00:01.811793</td>\n",
       "      <td>9</td>\n",
       "      <td>False</td>\n",
       "      <td>2</td>\n",
       "      <td>0.010</td>\n",
       "      <td>2</td>\n",
       "      <td>64</td>\n",
       "      <td>COMPLETE</td>\n",
       "    </tr>\n",
       "  </tbody>\n",
       "</table>\n",
       "</div>"
      ],
      "text/plain": [
       "    number     value             datetime_start          datetime_complete  \\\n",
       "0        0  0.289466 2024-10-28 21:38:31.911424 2024-10-28 21:38:34.111711   \n",
       "1        1  0.266932 2024-10-28 21:38:34.115706 2024-10-28 21:38:35.439718   \n",
       "2        2  0.168094 2024-10-28 21:38:35.439718 2024-10-28 21:38:36.663282   \n",
       "3        3  0.101771 2024-10-28 21:38:36.667277 2024-10-28 21:38:38.354187   \n",
       "4        4  0.337593 2024-10-28 21:38:38.354187 2024-10-28 21:38:38.661294   \n",
       "5        5  0.289828 2024-10-28 21:38:38.661294 2024-10-28 21:38:40.003687   \n",
       "6        6  0.373338 2024-10-28 21:38:40.011773 2024-10-28 21:38:40.601237   \n",
       "7        7  0.275531 2024-10-28 21:38:40.601237 2024-10-28 21:38:41.531116   \n",
       "8        8  0.029073 2024-10-28 21:38:41.531116 2024-10-28 21:38:42.696236   \n",
       "9        9  0.114049 2024-10-28 21:38:42.701267 2024-10-28 21:38:44.023377   \n",
       "10      10  0.064681 2024-10-28 21:38:44.025395 2024-10-28 21:38:44.821325   \n",
       "11      11  0.064681 2024-10-28 21:38:44.821325 2024-10-28 21:38:45.691235   \n",
       "12      12  0.064681 2024-10-28 21:38:45.691235 2024-10-28 21:38:46.561357   \n",
       "13      13  0.064681 2024-10-28 21:38:46.561357 2024-10-28 21:38:47.441400   \n",
       "14      14  0.029073 2024-10-28 21:38:47.448978 2024-10-28 21:38:48.121435   \n",
       "15      15  0.094028 2024-10-28 21:38:48.131451 2024-10-28 21:38:48.771224   \n",
       "16      16  0.094902 2024-10-28 21:38:48.771224 2024-10-28 21:38:49.191284   \n",
       "17      17  0.149662 2024-10-28 21:38:49.191284 2024-10-28 21:38:49.621445   \n",
       "18      18  0.266559 2024-10-28 21:38:49.621445 2024-10-28 21:38:50.461331   \n",
       "19      19  0.029073 2024-10-28 21:38:50.461331 2024-10-28 21:38:51.661421   \n",
       "20      20  0.094028 2024-10-28 21:38:51.661421 2024-10-28 21:38:53.021414   \n",
       "21      21  0.029073 2024-10-28 21:38:53.031299 2024-10-28 21:38:53.791018   \n",
       "22      22  0.029073 2024-10-28 21:38:53.791018 2024-10-28 21:38:54.354234   \n",
       "23      23  0.029073 2024-10-28 21:38:54.354234 2024-10-28 21:38:55.420962   \n",
       "24      24  0.094902 2024-10-28 21:38:55.420962 2024-10-28 21:38:56.271321   \n",
       "25      25  0.238038 2024-10-28 21:38:56.281333 2024-10-28 21:38:56.931183   \n",
       "26      26  0.269372 2024-10-28 21:38:56.931183 2024-10-28 21:38:57.901205   \n",
       "27      27  0.049146 2024-10-28 21:38:57.911404 2024-10-28 21:38:58.357979   \n",
       "28      28  0.074554 2024-10-28 21:38:58.360998 2024-10-28 21:38:59.425145   \n",
       "29      29  0.170394 2024-10-28 21:38:59.427173 2024-10-28 21:39:00.711291   \n",
       "30      30  0.094902 2024-10-28 21:39:00.711291 2024-10-28 21:39:01.491535   \n",
       "31      31  0.029073 2024-10-28 21:39:01.491535 2024-10-28 21:39:02.571379   \n",
       "32      32  0.029073 2024-10-28 21:39:02.571379 2024-10-28 21:39:03.146016   \n",
       "33      33  0.051842 2024-10-28 21:39:03.146016 2024-10-28 21:39:04.151024   \n",
       "34      34  0.148787 2024-10-28 21:39:04.151024 2024-10-28 21:39:05.341118   \n",
       "35      35  0.183774 2024-10-28 21:39:05.351337 2024-10-28 21:39:06.551204   \n",
       "36      36  0.407131 2024-10-28 21:39:06.551204 2024-10-28 21:39:07.311317   \n",
       "37      37  0.235441 2024-10-28 21:39:07.311317 2024-10-28 21:39:07.741586   \n",
       "38      38  0.043018 2024-10-28 21:39:07.751368 2024-10-28 21:39:09.538634   \n",
       "39      39  0.320663 2024-10-28 21:39:09.541160 2024-10-28 21:39:10.971427   \n",
       "40      40  0.024538 2024-10-28 21:39:10.981552 2024-10-28 21:39:12.861202   \n",
       "41      41  0.024538 2024-10-28 21:39:12.866232 2024-10-28 21:39:13.821616   \n",
       "42      42  0.024538 2024-10-28 21:39:13.823632 2024-10-28 21:39:15.671300   \n",
       "43      43  0.024538 2024-10-28 21:39:15.676307 2024-10-28 21:39:17.651024   \n",
       "44      44  0.024538 2024-10-28 21:39:17.656035 2024-10-28 21:39:19.661435   \n",
       "45      45  0.280705 2024-10-28 21:39:19.666444 2024-10-28 21:39:20.391144   \n",
       "46      46  0.024538 2024-10-28 21:39:20.401159 2024-10-28 21:39:22.401005   \n",
       "47      47  0.024538 2024-10-28 21:39:22.401005 2024-10-28 21:39:24.441209   \n",
       "48      48  0.117763 2024-10-28 21:39:24.448269 2024-10-28 21:39:26.104488   \n",
       "49      49  0.024538 2024-10-28 21:39:26.104488 2024-10-28 21:39:27.916281   \n",
       "\n",
       "                 duration  params_fs  params_has_backward  \\\n",
       "0  0 days 00:00:02.200287          5                False   \n",
       "1  0 days 00:00:01.324012          1                False   \n",
       "2  0 days 00:00:01.223564          1                False   \n",
       "3  0 days 00:00:01.686910          9                False   \n",
       "4  0 days 00:00:00.307107          3                False   \n",
       "5  0 days 00:00:01.342393          5                False   \n",
       "6  0 days 00:00:00.589464          5                False   \n",
       "7  0 days 00:00:00.929879          3                False   \n",
       "8  0 days 00:00:01.165120          9                False   \n",
       "9  0 days 00:00:01.322110          9                False   \n",
       "10 0 days 00:00:00.795930          9                False   \n",
       "11 0 days 00:00:00.869910          9                False   \n",
       "12 0 days 00:00:00.870122          9                False   \n",
       "13 0 days 00:00:00.880043          9                False   \n",
       "14 0 days 00:00:00.672457          9                False   \n",
       "15 0 days 00:00:00.639773          9                False   \n",
       "16 0 days 00:00:00.420060          9                False   \n",
       "17 0 days 00:00:00.430161          1                False   \n",
       "18 0 days 00:00:00.839886          3                False   \n",
       "19 0 days 00:00:01.200090          9                False   \n",
       "20 0 days 00:00:01.359993          9                False   \n",
       "21 0 days 00:00:00.759719          9                False   \n",
       "22 0 days 00:00:00.563216          9                False   \n",
       "23 0 days 00:00:01.066728          9                False   \n",
       "24 0 days 00:00:00.850359          9                False   \n",
       "25 0 days 00:00:00.649850          9                False   \n",
       "26 0 days 00:00:00.970022          1                False   \n",
       "27 0 days 00:00:00.446575          3                False   \n",
       "28 0 days 00:00:01.064147          5                False   \n",
       "29 0 days 00:00:01.284118          5                False   \n",
       "30 0 days 00:00:00.780244          9                False   \n",
       "31 0 days 00:00:01.079844          9                False   \n",
       "32 0 days 00:00:00.574637          9                False   \n",
       "33 0 days 00:00:01.005008          9                False   \n",
       "34 0 days 00:00:01.190094          1                False   \n",
       "35 0 days 00:00:01.199867          9                False   \n",
       "36 0 days 00:00:00.760113          9                False   \n",
       "37 0 days 00:00:00.430269          1                False   \n",
       "38 0 days 00:00:01.787266          3                False   \n",
       "39 0 days 00:00:01.430267          5                False   \n",
       "40 0 days 00:00:01.879650          9                False   \n",
       "41 0 days 00:00:00.955384          9                False   \n",
       "42 0 days 00:00:01.847668          9                False   \n",
       "43 0 days 00:00:01.974717          9                False   \n",
       "44 0 days 00:00:02.005400          9                False   \n",
       "45 0 days 00:00:00.724700          9                False   \n",
       "46 0 days 00:00:01.999846          9                False   \n",
       "47 0 days 00:00:02.040204          9                False   \n",
       "48 0 days 00:00:01.656219          3                False   \n",
       "49 0 days 00:00:01.811793          9                False   \n",
       "\n",
       "    params_hidden_layers_num  params_lr  params_m  params_neurons     state  \n",
       "0                          4      0.001         4              32  COMPLETE  \n",
       "1                          4      0.010         4              32  COMPLETE  \n",
       "2                          4      0.001         2              32  COMPLETE  \n",
       "3                          4      0.001         2              64  COMPLETE  \n",
       "4                          0      0.001         2              32  COMPLETE  \n",
       "5                          2      0.001         4              64  COMPLETE  \n",
       "6                          0      0.001         2              16  COMPLETE  \n",
       "7                          1      0.010         4              64  COMPLETE  \n",
       "8                          2      0.010         2              32  COMPLETE  \n",
       "9                          3      0.001         2              64  COMPLETE  \n",
       "10                         2      0.010         2              16  COMPLETE  \n",
       "11                         2      0.010         2              16  COMPLETE  \n",
       "12                         2      0.010         2              16  COMPLETE  \n",
       "13                         2      0.010         2              16  COMPLETE  \n",
       "14                         2      0.010         2              32  COMPLETE  \n",
       "15                         3      0.010         2              32  COMPLETE  \n",
       "16                         1      0.010         2              32  COMPLETE  \n",
       "17                         2      0.010         2              32  COMPLETE  \n",
       "18                         2      0.010         4              32  COMPLETE  \n",
       "19                         2      0.010         2              32  COMPLETE  \n",
       "20                         3      0.010         2              32  COMPLETE  \n",
       "21                         2      0.010         2              32  COMPLETE  \n",
       "22                         2      0.010         2              32  COMPLETE  \n",
       "23                         2      0.010         2              32  COMPLETE  \n",
       "24                         1      0.010         2              32  COMPLETE  \n",
       "25                         0      0.010         2              32  COMPLETE  \n",
       "26                         2      0.010         4              32  COMPLETE  \n",
       "27                         2      0.010         2              32  COMPLETE  \n",
       "28                         2      0.010         2              64  COMPLETE  \n",
       "29                         2      0.010         4              32  COMPLETE  \n",
       "30                         1      0.010         2              32  COMPLETE  \n",
       "31                         2      0.010         2              32  COMPLETE  \n",
       "32                         2      0.010         2              32  COMPLETE  \n",
       "33                         4      0.010         2              32  COMPLETE  \n",
       "34                         4      0.010         2              32  COMPLETE  \n",
       "35                         2      0.001         2              32  COMPLETE  \n",
       "36                         0      0.010         4              32  COMPLETE  \n",
       "37                         2      0.001         2              32  COMPLETE  \n",
       "38                         4      0.010         2              64  COMPLETE  \n",
       "39                         3      0.001         4              32  COMPLETE  \n",
       "40                         2      0.010         2              64  COMPLETE  \n",
       "41                         2      0.010         2              64  COMPLETE  \n",
       "42                         2      0.010         2              64  COMPLETE  \n",
       "43                         2      0.010         2              64  COMPLETE  \n",
       "44                         2      0.010         2              64  COMPLETE  \n",
       "45                         0      0.001         2              64  COMPLETE  \n",
       "46                         2      0.010         2              64  COMPLETE  \n",
       "47                         2      0.010         2              64  COMPLETE  \n",
       "48                         2      0.010         2              64  COMPLETE  \n",
       "49                         2      0.010         2              64  COMPLETE  "
      ]
     },
     "execution_count": 15,
     "metadata": {},
     "output_type": "execute_result"
    }
   ],
   "source": [
    "study.trials_dataframe()"
   ]
  },
  {
   "cell_type": "code",
   "execution_count": 16,
   "id": "10a3ae7c-383e-4c4f-b102-703b0e833b3f",
   "metadata": {},
   "outputs": [
    {
     "name": "stdout",
     "output_type": "stream",
     "text": [
      "Best hyperparameters: {'fs': 9, 'neurons': 64, 'hidden_layers_num': 2, 'lr': 0.01, 'm': 2, 'has_backward': False}\n",
      "Best RMSE: 0.02453790046274662\n"
     ]
    }
   ],
   "source": [
    "study.trials_dataframe()\n",
    "print('Best hyperparameters:', study.best_params)\n",
    "print('Best RMSE:', study.best_value)"
   ]
  },
  {
   "cell_type": "code",
   "execution_count": 17,
   "id": "9b1f854a-6261-45a6-b9e4-c5761471a126",
   "metadata": {},
   "outputs": [
    {
     "name": "stdout",
     "output_type": "stream",
     "text": [
      "input 9 output 64\n",
      "input 64 output 64\n",
      "input 64 output 1\n",
      "#parameters: 4865\n"
     ]
    },
    {
     "name": "stderr",
     "output_type": "stream",
     "text": [
      "100%|█████████████████████████████████████████████████████████████████████| 50/50 [00:00<00:00, 52.65it/s, loss=0.0245]\n"
     ]
    }
   ],
   "source": [
    "my_doc_params=study.best_params\n",
    "net,loss_lst,loss=mf.train_net(mf.MLPConv,v_coarse_train,mf.epochs,dtc,\n",
    "                               **my_doc_params)"
   ]
  },
  {
   "cell_type": "code",
   "execution_count": 18,
   "id": "42a97b09-427b-4ba9-a5bf-ef2b8691be63",
   "metadata": {},
   "outputs": [
    {
     "data": {
      "image/png": "[encoded data removed]",
      "text/plain": [
       "<Figure size 432x288 with 1 Axes>"
      ]
     },
     "metadata": {
      "needs_background": "light"
     },
     "output_type": "display_data"
    },
    {
     "data": {
      "image/png": "[encoded data removed]",
      "text/plain": [
       "<Figure size 432x288 with 1 Axes>"
      ]
     },
     "metadata": {
      "needs_background": "light"
     },
     "output_type": "display_data"
    },
    {
     "data": {
      "image/png": "[encoded data removed]",
      "text/plain": [
       "<Figure size 432x288 with 1 Axes>"
      ]
     },
     "metadata": {
      "needs_background": "light"
     },
     "output_type": "display_data"
    },
    {
     "data": {
      "image/png": "[encoded data removed]",
      "text/plain": [
       "<Figure size 432x288 with 1 Axes>"
      ]
     },
     "metadata": {
      "needs_background": "light"
     },
     "output_type": "display_data"
    }
   ],
   "source": [
    "mf.plot_err_and_components_of_err(np.array(loss_lst))"
   ]
  },
  {
   "cell_type": "code",
   "execution_count": null,
   "id": "08e616ae-0f4c-4534-bd82-561bb152de8f",
   "metadata": {},
   "outputs": [],
   "source": []
  },
  {
   "cell_type": "markdown",
   "id": "faf8a0a8-ea46-485c-a3d4-2cfc8942bafa",
   "metadata": {},
   "source": [
    "##### 4/2. Re-fit on higher epoch_num "
   ]
  },
  {
   "cell_type": "code",
   "execution_count": 19,
   "id": "d9fb003a-ee1b-4f27-a395-5fedb1571401",
   "metadata": {},
   "outputs": [
    {
     "data": {
      "text/html": [
       "<div>\n",
       "<style scoped>\n",
       "    .dataframe tbody tr th:only-of-type {\n",
       "        vertical-align: middle;\n",
       "    }\n",
       "\n",
       "    .dataframe tbody tr th {\n",
       "        vertical-align: top;\n",
       "    }\n",
       "\n",
       "    .dataframe thead th {\n",
       "        text-align: right;\n",
       "    }\n",
       "</style>\n",
       "<table border=\"1\" class=\"dataframe\">\n",
       "  <thead>\n",
       "    <tr style=\"text-align: right;\">\n",
       "      <th></th>\n",
       "      <th>Parameter</th>\n",
       "      <th>Value</th>\n",
       "    </tr>\n",
       "  </thead>\n",
       "  <tbody>\n",
       "    <tr>\n",
       "      <th>0</th>\n",
       "      <td>fs</td>\n",
       "      <td>9</td>\n",
       "    </tr>\n",
       "    <tr>\n",
       "      <th>1</th>\n",
       "      <td>neurons</td>\n",
       "      <td>64</td>\n",
       "    </tr>\n",
       "    <tr>\n",
       "      <th>2</th>\n",
       "      <td>hidden_layers_num</td>\n",
       "      <td>2</td>\n",
       "    </tr>\n",
       "    <tr>\n",
       "      <th>3</th>\n",
       "      <td>act_func</td>\n",
       "      <td>ELU(alpha=1.0)</td>\n",
       "    </tr>\n",
       "    <tr>\n",
       "      <th>4</th>\n",
       "      <td>epoch</td>\n",
       "      <td>500</td>\n",
       "    </tr>\n",
       "    <tr>\n",
       "      <th>5</th>\n",
       "      <td>lr</td>\n",
       "      <td>0.01</td>\n",
       "    </tr>\n",
       "    <tr>\n",
       "      <th>6</th>\n",
       "      <td>tau</td>\n",
       "      <td>0.01125</td>\n",
       "    </tr>\n",
       "    <tr>\n",
       "      <th>7</th>\n",
       "      <td>h</td>\n",
       "      <td>0.0125</td>\n",
       "    </tr>\n",
       "    <tr>\n",
       "      <th>8</th>\n",
       "      <td>n</td>\n",
       "      <td>81</td>\n",
       "    </tr>\n",
       "    <tr>\n",
       "      <th>9</th>\n",
       "      <td>decay_const</td>\n",
       "      <td>0.9</td>\n",
       "    </tr>\n",
       "    <tr>\n",
       "      <th>10</th>\n",
       "      <td>m</td>\n",
       "      <td>2</td>\n",
       "    </tr>\n",
       "    <tr>\n",
       "      <th>11</th>\n",
       "      <td>t_factor</td>\n",
       "      <td>10</td>\n",
       "    </tr>\n",
       "    <tr>\n",
       "      <th>12</th>\n",
       "      <td>s_factor</td>\n",
       "      <td>4</td>\n",
       "    </tr>\n",
       "    <tr>\n",
       "      <th>13</th>\n",
       "      <td>has_backward</td>\n",
       "      <td>False</td>\n",
       "    </tr>\n",
       "    <tr>\n",
       "      <th>14</th>\n",
       "      <td>train_size</td>\n",
       "      <td>0.7</td>\n",
       "    </tr>\n",
       "    <tr>\n",
       "      <th>15</th>\n",
       "      <td>method</td>\n",
       "      <td>RK3</td>\n",
       "    </tr>\n",
       "    <tr>\n",
       "      <th>16</th>\n",
       "      <td>layers</td>\n",
       "      <td>[Linear(in_features=9, out_features=64, bias=True), Linear(in_features=64, out_features=64, bias=True), Linear(in_features=64, out_features=1, bias=True)]</td>\n",
       "    </tr>\n",
       "  </tbody>\n",
       "</table>\n",
       "</div>"
      ],
      "text/plain": [
       "            Parameter  \\\n",
       "0                  fs   \n",
       "1             neurons   \n",
       "2   hidden_layers_num   \n",
       "3            act_func   \n",
       "4               epoch   \n",
       "5                  lr   \n",
       "6                 tau   \n",
       "7                   h   \n",
       "8                   n   \n",
       "9         decay_const   \n",
       "10                  m   \n",
       "11           t_factor   \n",
       "12           s_factor   \n",
       "13       has_backward   \n",
       "14         train_size   \n",
       "15             method   \n",
       "16             layers   \n",
       "\n",
       "                                                                                                                                                         Value  \n",
       "0                                                                                                                                                            9  \n",
       "1                                                                                                                                                           64  \n",
       "2                                                                                                                                                            2  \n",
       "3                                                                                                                                               ELU(alpha=1.0)  \n",
       "4                                                                                                                                                          500  \n",
       "5                                                                                                                                                         0.01  \n",
       "6                                                                                                                                                      0.01125  \n",
       "7                                                                                                                                                       0.0125  \n",
       "8                                                                                                                                                           81  \n",
       "9                                                                                                                                                          0.9  \n",
       "10                                                                                                                                                           2  \n",
       "11                                                                                                                                                          10  \n",
       "12                                                                                                                                                           4  \n",
       "13                                                                                                                                                       False  \n",
       "14                                                                                                                                                         0.7  \n",
       "15                                                                                                                                                         RK3  \n",
       "16  [Linear(in_features=9, out_features=64, bias=True), Linear(in_features=64, out_features=64, bias=True), Linear(in_features=64, out_features=1, bias=True)]  "
      ]
     },
     "metadata": {},
     "output_type": "display_data"
    }
   ],
   "source": [
    "high_epochs=500\n",
    "my_doc_params=study.best_params\n",
    "my_doc_params.update({'epoch':high_epochs})\n",
    "display(mf.make_param_table(net,my_doc_params,tau,h,n,t_factor,s_factor))"
   ]
  },
  {
   "cell_type": "code",
   "execution_count": 20,
   "id": "422306c5-0bf4-4c23-a2df-7c97a55a98ca",
   "metadata": {},
   "outputs": [
    {
     "name": "stdout",
     "output_type": "stream",
     "text": [
      "input 9 output 64\n",
      "input 64 output 64\n",
      "input 64 output 1\n",
      "#parameters: 4865\n"
     ]
    },
    {
     "name": "stderr",
     "output_type": "stream",
     "text": [
      "100%|███████████████████████████████████████████████████████████████████| 500/500 [00:15<00:00, 33.18it/s, loss=0.0178]\n"
     ]
    }
   ],
   "source": [
    "del my_doc_params['epoch']\n",
    "net,loss_lst,loss=mf.train_net(mf.MLPConv,v_coarse_train,high_epochs,dtc,**my_doc_params)"
   ]
  },
  {
   "cell_type": "code",
   "execution_count": null,
   "id": "6e0ffbad-e2ab-4562-ab27-81dc26b07727",
   "metadata": {},
   "outputs": [],
   "source": []
  },
  {
   "cell_type": "markdown",
   "id": "5d6a70e2-5e40-430f-a25d-e21653f7fa3e",
   "metadata": {},
   "source": [
    "##### 5. save_model"
   ]
  },
  {
   "cell_type": "code",
   "execution_count": 26,
   "id": "6eb1c82d-6ec3-42fa-aa38-b6249a2c6660",
   "metadata": {},
   "outputs": [
    {
     "data": {
      "text/plain": [
       "\"['fs', 'neurons', 'hidden_layers_num', 'lr', 'm', 'has_backward']\""
      ]
     },
     "execution_count": 26,
     "metadata": {},
     "output_type": "execute_result"
    }
   ],
   "source": [
    "str(list(my_doc_params))"
   ]
  },
  {
   "cell_type": "code",
   "execution_count": 27,
   "id": "5c51d6d2-2d0f-4699-917b-72a2dd8f485b",
   "metadata": {},
   "outputs": [],
   "source": [
    "# save model\n",
    "torch.save(net, 'data/models/model_advection_n=' +str(n)+'_'+ str(list(my_doc_params.values()))+fr'_WDact{method}_seed_'+ str(seed)  + '.pth')"
   ]
  },
  {
   "cell_type": "code",
   "execution_count": 28,
   "id": "26d6ca6e-63ff-4d21-8711-9b7538b3719a",
   "metadata": {},
   "outputs": [],
   "source": [
    "# save study history\n",
    "study.trials_dataframe().to_excel(fr'data/models/trials_dataframe_n=' +str(n)+'_'+ str(list(my_doc_params.values()))+'.xlsx',index=False)"
   ]
  },
  {
   "cell_type": "code",
   "execution_count": 29,
   "id": "96daa9b5-eb88-4a5a-ac9d-f3ccc7db327d",
   "metadata": {},
   "outputs": [
    {
     "data": {
      "text/html": [
       "<div>\n",
       "<style scoped>\n",
       "    .dataframe tbody tr th:only-of-type {\n",
       "        vertical-align: middle;\n",
       "    }\n",
       "\n",
       "    .dataframe tbody tr th {\n",
       "        vertical-align: top;\n",
       "    }\n",
       "\n",
       "    .dataframe thead th {\n",
       "        text-align: right;\n",
       "    }\n",
       "</style>\n",
       "<table border=\"1\" class=\"dataframe\">\n",
       "  <thead>\n",
       "    <tr style=\"text-align: right;\">\n",
       "      <th></th>\n",
       "      <th>fs</th>\n",
       "      <th>neurons</th>\n",
       "      <th>hidden_layers_num</th>\n",
       "      <th>lr</th>\n",
       "      <th>m</th>\n",
       "      <th>has_backward</th>\n",
       "    </tr>\n",
       "  </thead>\n",
       "  <tbody>\n",
       "    <tr>\n",
       "      <th>0</th>\n",
       "      <td>9</td>\n",
       "      <td>64</td>\n",
       "      <td>2</td>\n",
       "      <td>0.01</td>\n",
       "      <td>2</td>\n",
       "      <td>False</td>\n",
       "    </tr>\n",
       "  </tbody>\n",
       "</table>\n",
       "</div>"
      ],
      "text/plain": [
       "  fs neurons hidden_layers_num    lr  m has_backward\n",
       "0  9      64                 2  0.01  2        False"
      ]
     },
     "execution_count": 29,
     "metadata": {},
     "output_type": "execute_result"
    }
   ],
   "source": [
    "# save hyperparams\n",
    "my_doc_params['fs']=[my_doc_params['fs']]\n",
    "pd.DataFrame.from_dict(my_doc_params,dtype=str)"
   ]
  },
  {
   "cell_type": "code",
   "execution_count": 30,
   "id": "4ea6e964-4b37-4799-bfbb-6a1dc1dfdfe2",
   "metadata": {},
   "outputs": [],
   "source": [
    "pd.DataFrame.from_dict(my_doc_params,dtype=str).to_excel(fr'data/models/best_params_n=' +str(n)+'_'+str(list(my_doc_params.values()))+'.xlsx',index=False)"
   ]
  },
  {
   "cell_type": "code",
   "execution_count": null,
   "id": "5cd8746e-b2f7-4aac-9c45-2cabf82297fa",
   "metadata": {},
   "outputs": [],
   "source": []
  },
  {
   "cell_type": "markdown",
   "id": "44262bab-6258-4677-ad09-0e7d3c953b9a",
   "metadata": {},
   "source": [
    "##### 6. load_model"
   ]
  },
  {
   "cell_type": "code",
   "execution_count": null,
   "id": "992180bd-96b0-4cc6-bb28-dbc729158155",
   "metadata": {},
   "outputs": [],
   "source": [
    "# neurons = 64\n",
    "# fs=7\n",
    "# epochs=100\n",
    "# m=4\n",
    "# l_wd=0#1e-3\n",
    "# seed=1\n",
    "#method='E1'\n",
    "\n",
    "# net = load_simulation_model(s_factor, t_factor, neurons, device)\n",
    "\n",
    "# net=torch.load('./models/model_advection_n=' +str(n)+'_' + str(fs) + \"_\"+str(t_factor) +'L_' + str(neurons) + '_ep_' + str(epochs)  + '_' + \"elu\" + '_m' + str(m) + '_Lxc' +  str(s_factor) + \"_Ltc\" + str(t_factor) +  '_lwd' + str(l_wd) +fr'_WDact{method}_seed_'+ str(seed)  + '.pth')"
   ]
  },
  {
   "cell_type": "code",
   "execution_count": null,
   "id": "37b0caa4-15a7-4ddd-a674-8c0fa800bffa",
   "metadata": {},
   "outputs": [],
   "source": []
  },
  {
   "cell_type": "markdown",
   "id": "8ad80bf4-c499-4b68-b115-5d54b291f759",
   "metadata": {},
   "source": [
    "##### 7. Simulation"
   ]
  },
  {
   "cell_type": "code",
   "execution_count": 21,
   "id": "c073358a-f0b8-4e53-9940-11e75cd5d20c",
   "metadata": {},
   "outputs": [
    {
     "name": "stderr",
     "output_type": "stream",
     "text": [
      "100%|███████████████████████████████████████████████████████████████████████████████████| 7/7 [00:00<00:00, 348.51it/s]\n"
     ]
    }
   ],
   "source": [
    "NN_sim,T_sim,x_sim=mf.make_simulation(net,v_coarse,L,Lxc,dtc)"
   ]
  },
  {
   "cell_type": "code",
   "execution_count": null,
   "id": "e04b39a3-a051-4207-ab71-c7726e293b57",
   "metadata": {},
   "outputs": [],
   "source": []
  },
  {
   "cell_type": "markdown",
   "id": "e566555b-94cf-481f-a431-804eb65878d9",
   "metadata": {},
   "source": [
    "##### 8. view_results"
   ]
  },
  {
   "cell_type": "code",
   "execution_count": 22,
   "id": "0a719466-7073-4a54-8358-39a0b7ff5a65",
   "metadata": {},
   "outputs": [
    {
     "data": {
      "image/png": "[encoded data removed]",
      "text/plain": [
       "<Figure size 432x288 with 1 Axes>"
      ]
     },
     "metadata": {
      "needs_background": "light"
     },
     "output_type": "display_data"
    }
   ],
   "source": [
    "mf.view_train_test_graph(x_sim,v_coarse_train,v_coarse_test)"
   ]
  },
  {
   "cell_type": "code",
   "execution_count": 23,
   "id": "e780aedf-e9d9-48fa-9005-7c68b09d9b24",
   "metadata": {},
   "outputs": [],
   "source": [
    "# # todo\n",
    "# display(make_param_table(net,my_doc_params))"
   ]
  },
  {
   "cell_type": "code",
   "execution_count": 24,
   "id": "d0b238d9-fe14-414d-9699-45eb60fbd146",
   "metadata": {},
   "outputs": [
    {
     "data": {
      "image/png": "[encoded data removed]",
      "text/plain": [
       "<Figure size 504x432 with 1 Axes>"
      ]
     },
     "metadata": {
      "needs_background": "light"
     },
     "output_type": "display_data"
    },
    {
     "data": {
      "image/png": "[encoded data removed]",
      "text/plain": [
       "<Figure size 504x432 with 1 Axes>"
      ]
     },
     "metadata": {
      "needs_background": "light"
     },
     "output_type": "display_data"
    },
    {
     "data": {
      "image/png": "[encoded data removed]",
      "text/plain": [
       "<Figure size 504x432 with 1 Axes>"
      ]
     },
     "metadata": {
      "needs_background": "light"
     },
     "output_type": "display_data"
    },
    {
     "data": {
      "image/png": "[encoded data removed]",
      "text/plain": [
       "<Figure size 504x432 with 1 Axes>"
      ]
     },
     "metadata": {
      "needs_background": "light"
     },
     "output_type": "display_data"
    },
    {
     "data": {
      "image/png": "[encoded data removed]",
      "text/plain": [
       "<Figure size 504x432 with 1 Axes>"
      ]
     },
     "metadata": {
      "needs_background": "light"
     },
     "output_type": "display_data"
    }
   ],
   "source": [
    "mf.view_results(T_sim,x_sim,NN_sim,v_coarse)"
   ]
  },
  {
   "cell_type": "code",
   "execution_count": 25,
   "id": "ab4caac4-0dd5-44db-80d8-8f8b4a7fe106",
   "metadata": {},
   "outputs": [
    {
     "data": {
      "image/png": "[encoded data removed]",
      "text/plain": [
       "<Figure size 432x288 with 1 Axes>"
      ]
     },
     "metadata": {
      "needs_background": "light"
     },
     "output_type": "display_data"
    },
    {
     "data": {
      "image/png": "[encoded data removed]",
      "text/plain": [
       "<Figure size 432x288 with 1 Axes>"
      ]
     },
     "metadata": {
      "needs_background": "light"
     },
     "output_type": "display_data"
    },
    {
     "data": {
      "image/png": "[encoded data removed]",
      "text/plain": [
       "<Figure size 432x288 with 1 Axes>"
      ]
     },
     "metadata": {
      "needs_background": "light"
     },
     "output_type": "display_data"
    },
    {
     "data": {
      "image/png": "[encoded data removed]",
      "text/plain": [
       "<Figure size 432x288 with 1 Axes>"
      ]
     },
     "metadata": {
      "needs_background": "light"
     },
     "output_type": "display_data"
    }
   ],
   "source": [
    "mf.plot_err_and_components_of_err(np.array(loss_lst))"
   ]
  },
  {
   "cell_type": "code",
   "execution_count": null,
   "id": "f84d64a4-1f92-45b8-84d7-7085bac6c952",
   "metadata": {},
   "outputs": [],
   "source": []
  },
  {
   "cell_type": "code",
   "execution_count": null,
   "id": "06bd0f3b-6de9-42f8-bb6c-233e61b75047",
   "metadata": {},
   "outputs": [],
   "source": []
  },
  {
   "cell_type": "code",
   "execution_count": null,
   "id": "28b7b504-b898-4c2b-ad3c-c04e31027012",
   "metadata": {},
   "outputs": [],
   "source": []
  }
 ],
 "metadata": {
  "kernelspec": {
   "display_name": "Python 3 (ipykernel)",
   "language": "python",
   "name": "python3"
  },
  "language_info": {
   "codemirror_mode": {
    "name": "ipython",
    "version": 3
   },
   "file_extension": ".py",
   "mimetype": "text/x-python",
   "name": "python",
   "nbconvert_exporter": "python",
   "pygments_lexer": "ipython3",
   "version": "3.9.12"
  }
 },
 "nbformat": 4,
 "nbformat_minor": 5
}
