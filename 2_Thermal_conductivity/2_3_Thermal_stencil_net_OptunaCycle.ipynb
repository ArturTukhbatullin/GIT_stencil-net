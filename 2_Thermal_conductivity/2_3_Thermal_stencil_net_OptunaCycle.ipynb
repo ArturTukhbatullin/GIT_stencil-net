{
 "cells": [
  {
   "cell_type": "code",
   "execution_count": 1,
   "id": "1cb7a72a-391d-4dcb-8532-53bd60ea6d5a",
   "metadata": {},
   "outputs": [],
   "source": [
    "import warnings\n",
    "warnings.filterwarnings('ignore')\n",
    "\n",
    "import matplotlib.pyplot as plt\n",
    "import numpy as np\n",
    "import pandas as pd\n",
    "import copy\n",
    "from tqdm import tqdm\n",
    "\n",
    "import sys\n",
    "sys.path.append('D:\\diplom_2\\my_test')\n",
    "import my_funcs as mf\n",
    "\n",
    "import my_thermal_funcs as mtf"
   ]
  },
  {
   "cell_type": "markdown",
   "id": "547a872b-acd0-4447-8875-b423323f5213",
   "metadata": {},
   "source": [
    "## STENCIL-NET"
   ]
  },
  {
   "cell_type": "markdown",
   "id": "88f3310e-200b-4bef-b3b6-b1aab50ca2ff",
   "metadata": {},
   "source": [
    "##### 0. Mesh Params"
   ]
  },
  {
   "cell_type": "code",
   "execution_count": 2,
   "id": "bda59a77-c7bd-4679-bcc9-77b9f4718fd0",
   "metadata": {},
   "outputs": [
    {
     "data": {
      "image/png": "[encoded data removed]",
      "text/plain": [
       "<Figure size 432x288 with 1 Axes>"
      ]
     },
     "metadata": {
      "needs_background": "light"
     },
     "output_type": "display_data"
    }
   ],
   "source": [
    "generate_flg=True # True - генерация, False - чтение уже сгенерированных\n",
    "# generate_flg=False\n",
    "\n",
    "n=81 #число узлов\n",
    "L=1 # длина расчт области\n",
    "T=.3 #конечное время\n",
    "kurant=0.5\n",
    "\n",
    "h=L/(n-1)\n",
    "b=(n-1)*0.1*L #width % of L (длина участка с v=1, составляет 10% от расчт области)\n",
    "# IC\n",
    "v=[0 for i in range(0,n)]\n",
    "# v=[np.sin(6.6*np.pi*i/n) for i in range(0,n)] #sin(6.6x)\n",
    "# BC\n",
    "v[0]=0\n",
    "v[-1]=1\n",
    "\n",
    "plt.plot(v,'-*')\n",
    "plt.grid()"
   ]
  },
  {
   "cell_type": "markdown",
   "id": "6f2b162e-227e-4af6-8b91-6995d6e0939e",
   "metadata": {},
   "source": [
    "##### 1. Study params"
   ]
  },
  {
   "cell_type": "code",
   "execution_count": 3,
   "id": "2e3264df-31b3-49e8-b447-5433b2ff4636",
   "metadata": {},
   "outputs": [
    {
     "data": {
      "text/html": [
       "<div>\n",
       "<style scoped>\n",
       "    .dataframe tbody tr th:only-of-type {\n",
       "        vertical-align: middle;\n",
       "    }\n",
       "\n",
       "    .dataframe tbody tr th {\n",
       "        vertical-align: top;\n",
       "    }\n",
       "\n",
       "    .dataframe thead th {\n",
       "        text-align: right;\n",
       "    }\n",
       "</style>\n",
       "<table border=\"1\" class=\"dataframe\">\n",
       "  <thead>\n",
       "    <tr style=\"text-align: right;\">\n",
       "      <th></th>\n",
       "      <th>value</th>\n",
       "    </tr>\n",
       "    <tr>\n",
       "      <th>param</th>\n",
       "      <th></th>\n",
       "    </tr>\n",
       "  </thead>\n",
       "  <tbody>\n",
       "    <tr>\n",
       "      <th>seed</th>\n",
       "      <td>1</td>\n",
       "    </tr>\n",
       "    <tr>\n",
       "      <th>method</th>\n",
       "      <td>RK3</td>\n",
       "    </tr>\n",
       "    <tr>\n",
       "      <th>decay_const</th>\n",
       "      <td>0.9</td>\n",
       "    </tr>\n",
       "    <tr>\n",
       "      <th>train_split</th>\n",
       "      <td>0.5</td>\n",
       "    </tr>\n",
       "    <tr>\n",
       "      <th>m</th>\n",
       "      <td>4</td>\n",
       "    </tr>\n",
       "    <tr>\n",
       "      <th>epochs</th>\n",
       "      <td>100</td>\n",
       "    </tr>\n",
       "    <tr>\n",
       "      <th>l_wd</th>\n",
       "      <td>0.0</td>\n",
       "    </tr>\n",
       "    <tr>\n",
       "      <th>fs</th>\n",
       "      <td>2</td>\n",
       "    </tr>\n",
       "    <tr>\n",
       "      <th>neurons</th>\n",
       "      <td>64</td>\n",
       "    </tr>\n",
       "    <tr>\n",
       "      <th>lr</th>\n",
       "      <td>0.01</td>\n",
       "    </tr>\n",
       "    <tr>\n",
       "      <th>has_backward</th>\n",
       "      <td>False</td>\n",
       "    </tr>\n",
       "    <tr>\n",
       "      <th>hidden_layers_num</th>\n",
       "      <td>3</td>\n",
       "    </tr>\n",
       "    <tr>\n",
       "      <th>N_TRIALS</th>\n",
       "      <td>50</td>\n",
       "    </tr>\n",
       "  </tbody>\n",
       "</table>\n",
       "</div>"
      ],
      "text/plain": [
       "                   value\n",
       "param                   \n",
       "seed                   1\n",
       "method               RK3\n",
       "decay_const          0.9\n",
       "train_split          0.5\n",
       "m                      4\n",
       "epochs               100\n",
       "l_wd                 0.0\n",
       "fs                     2\n",
       "neurons               64\n",
       "lr                  0.01\n",
       "has_backward       False\n",
       "hidden_layers_num      3\n",
       "N_TRIALS              50"
      ]
     },
     "metadata": {},
     "output_type": "display_data"
    }
   ],
   "source": [
    "main_params=pd.read_excel('init_params.xlsx')\n",
    "main_params=main_params.set_index('param')\n",
    "display(main_params)\n",
    "\n",
    "#------------------------MAIN PARAMS-----------------------------\n",
    "# size of filter to be applied\n",
    "fs = int(main_params.loc['fs'])\n",
    "\n",
    "# number of timesteps to be predicted during training \n",
    "m = int(main_params.loc['m'])\n",
    "\n",
    "# decaying weights\n",
    "decay_const = float(main_params.loc['decay_const'])\n",
    "\n",
    "# epoch_number\n",
    "epochs=int(main_params.loc['epochs'])\n",
    "\n",
    "#random_seed\n",
    "seed = int(main_params.loc['seed'])\n",
    "\n",
    "#coef для loss функции\n",
    "l_wd= float(main_params.loc['l_wd'])\n",
    "\n",
    "# 'RK3' for runge-kutta solver and 'E1' for euler solver\n",
    "method=str(main_params.loc['method'].values[0]) \n",
    "\n",
    "#neurons num in MLPConv\n",
    "neurons=int(main_params.loc['neurons'])\n",
    "\n",
    "#learning_rate\n",
    "lr=float(main_params.loc['lr'])\n",
    "\n",
    "#train_size\n",
    "train_split=float(main_params.loc['train_split'])\n",
    "\n",
    "# on/off bwd\n",
    "has_backward=bool(main_params.loc['has_backward'].values[0])\n",
    "\n",
    "#hidden_layers_num\n",
    "hidden_layers_num=int(main_params.loc['hidden_layers_num'])\n",
    "\n",
    "#device\n",
    "device = mf.torch.device(\"cuda\" if mf.torch.cuda.is_available() else \"cpu\")\n",
    "\n",
    "#optuna n_trials\n",
    "N_TRIALS=int(main_params.loc['N_TRIALS'])"
   ]
  },
  {
   "cell_type": "markdown",
   "id": "fa518db2-db58-4089-86fc-9204229d52f7",
   "metadata": {},
   "source": [
    "##### 2.1 Generate data"
   ]
  },
  {
   "cell_type": "code",
   "execution_count": 4,
   "id": "facda733-f637-4e8c-8acc-90f6ac56d022",
   "metadata": {},
   "outputs": [
    {
     "name": "stdout",
     "output_type": "stream",
     "text": [
      "Генерация данных\n",
      "3841 81\n",
      "81 3841\n",
      "(81, 3841)\n"
     ]
    }
   ],
   "source": [
    "CUSTOM_TAU=kurant*h**2#0.009\n",
    "# CUSTOM_TAU=0.01\n",
    "v_fact,x_lst,tau,time_lst=mtf.generate_data(generate_flg,v,T,L,0.5,h,n,CUSTOM_TAU=CUSTOM_TAU,save_flg=True)\n",
    "print(v_fact.shape)"
   ]
  },
  {
   "cell_type": "markdown",
   "id": "e7ffe7e5-8b91-40a9-a0ba-ab509fa06dfc",
   "metadata": {},
   "source": [
    "##### 2.2 view dynamic of solution"
   ]
  },
  {
   "cell_type": "code",
   "execution_count": 5,
   "id": "24fae365-566b-4f3c-a418-2abaf857319e",
   "metadata": {},
   "outputs": [
    {
     "data": {
      "image/png": "[encoded data removed]",
      "text/plain": [
       "<Figure size 432x288 with 1 Axes>"
      ]
     },
     "metadata": {
      "needs_background": "light"
     },
     "output_type": "display_data"
    }
   ],
   "source": [
    "for j in range(0,len(v_fact[0,:]),50):\n",
    "# for j in range(0,2,1):\n",
    "    plt.plot(v_fact[:,j],label=str(j))\n",
    "plt.legend()\n",
    "plt.grid()"
   ]
  },
  {
   "cell_type": "markdown",
   "id": "5541ed1b-78cb-461b-905e-bd9d5780a46f",
   "metadata": {},
   "source": [
    "##### 3.Subsample Data"
   ]
  },
  {
   "cell_type": "code",
   "execution_count": 6,
   "id": "87802fa0-dfd3-44c6-b9ce-a23cfcd64d00",
   "metadata": {},
   "outputs": [
    {
     "name": "stdout",
     "output_type": "stream",
     "text": [
      "full_sample (21, 385)\n",
      "train (21, 192)\n",
      "test (21, 193)\n"
     ]
    }
   ],
   "source": [
    "t_factor = 10  # time subsample factor \n",
    "s_factor = 4   # space subsample factor\n",
    "Tsim=len(v_fact[0])\n",
    "dxc,dtc,coarse_t,coarse_x,v_coarse,Lxc,\\\n",
    "Ltc,v_coarse_train,v_coarse_test=mf.subsampling(s_factor,t_factor,h,tau,Tsim,n,v_fact,train_split=train_split)"
   ]
  },
  {
   "cell_type": "code",
   "execution_count": 7,
   "id": "eae2089c-4ac8-4261-9c30-0d017b068746",
   "metadata": {},
   "outputs": [
    {
     "data": {
      "image/png": "[encoded data removed]",
      "text/plain": [
       "<Figure size 432x288 with 1 Axes>"
      ]
     },
     "metadata": {
      "needs_background": "light"
     },
     "output_type": "display_data"
    },
    {
     "data": {
      "image/png": "[encoded data removed]",
      "text/plain": [
       "<Figure size 432x288 with 1 Axes>"
      ]
     },
     "metadata": {
      "needs_background": "light"
     },
     "output_type": "display_data"
    },
    {
     "data": {
      "image/png": "[encoded data removed]",
      "text/plain": [
       "<Figure size 432x288 with 1 Axes>"
      ]
     },
     "metadata": {
      "needs_background": "light"
     },
     "output_type": "display_data"
    }
   ],
   "source": [
    "plt.figure()\n",
    "time=0 #first time\n",
    "plt.plot(x_lst[coarse_x],v_coarse[:,time],'*-',color='red',label=str(s_factor) + 'x FACT')\n",
    "plt.plot(x_lst,v_fact[:,t_factor*time],'.',color='blue',label='FACT')\n",
    "plt.legend()\n",
    "plt.title(\" Time slice at t = 0\")\n",
    "plt.grid()\n",
    "plt.show()\n",
    "\n",
    "plt.figure()\n",
    "time=5 #last time\n",
    "plt.plot(x_lst[coarse_x],v_coarse[:,time],'*-',color='red',label=str(s_factor) + 'x FACT')\n",
    "plt.plot(x_lst,v_fact[:,t_factor*time],'.-',color='blue',label='FACT')\n",
    "plt.legend()\n",
    "plt.title(\" Time slice at t = \" + str(time))\n",
    "plt.grid()\n",
    "plt.show()\n",
    "\n",
    "plt.figure()\n",
    "time=v_coarse.shape[1]-1 #last time\n",
    "plt.plot(x_lst[coarse_x],v_coarse[:,time],'*-',color='red',label=str(s_factor) + 'x FACT')\n",
    "plt.plot(x_lst,v_fact[:,t_factor*time],'.-',color='blue',label='FACT')\n",
    "plt.legend()\n",
    "plt.title(\" Time slice at t = \" + str(time))\n",
    "plt.grid()\n",
    "plt.show()\n"
   ]
  },
  {
   "cell_type": "code",
   "execution_count": 8,
   "id": "21ab0d49-76df-47e3-8524-9d20cb4b6320",
   "metadata": {},
   "outputs": [
    {
     "data": {
      "image/png": "[encoded data removed]",
      "text/plain": [
       "<Figure size 432x288 with 1 Axes>"
      ]
     },
     "metadata": {
      "needs_background": "light"
     },
     "output_type": "display_data"
    }
   ],
   "source": [
    "# Last train first test\n",
    "plt.figure()\n",
    "time=v_coarse_train.shape[1]-1 #last time\n",
    "plt.plot(x_lst[coarse_x],v_coarse_train[:,time],'*-',color='blue',label=str(s_factor) + 'x FACT TRAIN')\n",
    "time=0\n",
    "plt.plot(x_lst[coarse_x],v_coarse_test[:,time],'*-',color='red',label=str(s_factor) + 'x FACT TEST')\n",
    "plt.legend()\n",
    "plt.title(\" Last train and First test data at t = \" + str(time))\n",
    "plt.grid()\n",
    "plt.show()"
   ]
  },
  {
   "cell_type": "code",
   "execution_count": null,
   "id": "f110eb8c-9853-483d-b52a-a060b10422b5",
   "metadata": {},
   "outputs": [],
   "source": []
  },
  {
   "cell_type": "markdown",
   "id": "b4573afa-1219-4bd0-821b-199194756ee0",
   "metadata": {},
   "source": [
    "##### 4. Trainig model"
   ]
  },
  {
   "cell_type": "code",
   "execution_count": 9,
   "id": "7de5233b-6a4c-40d1-aad8-bc8bfaef6d4c",
   "metadata": {},
   "outputs": [],
   "source": [
    "import optuna"
   ]
  },
  {
   "cell_type": "code",
   "execution_count": 10,
   "id": "243af12f-fd90-409f-8268-edb26035d357",
   "metadata": {},
   "outputs": [],
   "source": [
    "def objective_mplconv(trial):\n",
    "    my_doc_params={\n",
    "    'fs' : trial.suggest_categorical('fs',[1,2,3,4,5,6,7]#,8,9]),\n",
    "    'neurons' : trial.suggest_categorical('neurons',[8,16,24,32,40,48,64]) ,\n",
    "    'hidden_layers_num': trial.suggest_categorical('hidden_layers_num',[0,1,2,3,4]),\n",
    "    'lr': trial.suggest_categorical('lr',[1e-02,1e-03]),\n",
    "    'm' : trial.suggest_categorical('m',[2,4,6]) ,  \n",
    "    'has_backward' : trial.suggest_categorical('has_backward',[True,False]),  \n",
    "    'method' : trial.suggest_categorical('method',['RK3','E1']),\n",
    "    'decay_const': trial.suggest_categorical('decay_const',[0.2,0.5,0.9])\n",
    "    }\n",
    "    \n",
    "    ## loss на последней эпохе\n",
    "    # metric=mf.train_net(mf.MLPConv,v_coarse_train,mf.epochs,dtc,\n",
    "                        # **my_doc_params)[2]\n",
    "    \n",
    "    ## средние лосс с 10 последних итераций\n",
    "    metric_lst=mf.train_net(mf.MLPConv,v_coarse_train,mf.epochs,dtc,\n",
    "                        **my_doc_params)[1]\n",
    "    \n",
    "    metric_lst=np.array(metric_lst)[:,3][-10:]\n",
    "    metric=np.mean(metric_lst)\n",
    "    \n",
    "    return metric"
   ]
  },
  {
   "cell_type": "code",
   "execution_count": 11,
   "id": "9bafc1ee-3c6e-4ec4-98e4-dd8779149570",
   "metadata": {},
   "outputs": [
    {
     "name": "stderr",
     "output_type": "stream",
     "text": [
      "[I 2024-11-06 16:03:01,094] A new study created in memory with name: no-name-b1e1df1d-baae-4aed-8384-ed4af55fa6f6\n"
     ]
    },
    {
     "name": "stdout",
     "output_type": "stream",
     "text": [
      "input 8 output 48\n",
      "input 48 output 48\n",
      "input 48 output 48\n",
      "input 48 output 48\n",
      "input 48 output 1\n",
      "#parameters: 7537\n"
     ]
    },
    {
     "name": "stderr",
     "output_type": "stream",
     "text": [
      "100%|█████████████████████████████████████████████████| 100/100 [00:37<00:00,  2.66it/s, loss=0.000397]\n",
      "[I 2024-11-06 16:03:41,229] Trial 0 finished with value: 0.0003988525422755629 and parameters: {'fs': 8, 'neurons': 48, 'hidden_layers_num': 4, 'lr': 0.01, 'm': 4, 'has_backward': False, 'method': 'RK3', 'decay_const': 0.9}. Best is trial 0 with value: 0.0003988525422755629.\n"
     ]
    },
    {
     "name": "stdout",
     "output_type": "stream",
     "text": [
      "input 3 output 16\n",
      "input 16 output 16\n",
      "input 16 output 1\n",
      "#parameters: 353\n"
     ]
    },
    {
     "name": "stderr",
     "output_type": "stream",
     "text": [
      "100%|██████████████████████████████████████████████████| 100/100 [00:08<00:00, 11.67it/s, loss=2.05e-5]\n",
      "[I 2024-11-06 16:03:49,854] Trial 1 finished with value: 2.0521422447927763e-05 and parameters: {'fs': 3, 'neurons': 16, 'hidden_layers_num': 2, 'lr': 0.001, 'm': 4, 'has_backward': True, 'method': 'E1', 'decay_const': 0.2}. Best is trial 1 with value: 2.0521422447927763e-05.\n"
     ]
    },
    {
     "name": "stdout",
     "output_type": "stream",
     "text": [
      "input 7 output 32\n",
      "input 32 output 1\n",
      "#parameters: 289\n"
     ]
    },
    {
     "name": "stderr",
     "output_type": "stream",
     "text": [
      "100%|██████████████████████████████████████████████████| 100/100 [00:04<00:00, 22.22it/s, loss=1.28e-5]\n",
      "[I 2024-11-06 16:03:54,430] Trial 2 finished with value: 1.2806187078240327e-05 and parameters: {'fs': 7, 'neurons': 32, 'hidden_layers_num': 1, 'lr': 0.01, 'm': 4, 'has_backward': False, 'method': 'E1', 'decay_const': 0.2}. Best is trial 2 with value: 1.2806187078240327e-05.\n"
     ]
    },
    {
     "name": "stdout",
     "output_type": "stream",
     "text": [
      "input 1 output 24\n",
      "input 24 output 24\n",
      "input 24 output 24\n",
      "input 24 output 1\n",
      "#parameters: 1273\n"
     ]
    },
    {
     "name": "stderr",
     "output_type": "stream",
     "text": [
      "100%|█████████████████████████████████████████████████| 100/100 [00:08<00:00, 11.48it/s, loss=0.000953]\n",
      "[I 2024-11-06 16:04:03,189] Trial 3 finished with value: 0.0009544293396174907 and parameters: {'fs': 1, 'neurons': 24, 'hidden_layers_num': 3, 'lr': 0.001, 'm': 6, 'has_backward': False, 'method': 'E1', 'decay_const': 0.9}. Best is trial 2 with value: 1.2806187078240327e-05.\n"
     ]
    },
    {
     "name": "stdout",
     "output_type": "stream",
     "text": [
      "input 1 output 8\n",
      "input 8 output 1\n",
      "#parameters: 25\n"
     ]
    },
    {
     "name": "stderr",
     "output_type": "stream",
     "text": [
      "100%|███████████████████████████████████████████████████| 100/100 [00:03<00:00, 25.31it/s, loss=8.8e-5]\n",
      "[I 2024-11-06 16:04:07,174] Trial 4 finished with value: 8.818280839477666e-05 and parameters: {'fs': 1, 'neurons': 8, 'hidden_layers_num': 1, 'lr': 0.001, 'm': 2, 'has_backward': True, 'method': 'RK3', 'decay_const': 0.5}. Best is trial 2 with value: 1.2806187078240327e-05.\n"
     ]
    },
    {
     "name": "stdout",
     "output_type": "stream",
     "text": [
      "input 6 output 64\n",
      "input 64 output 64\n",
      "input 64 output 64\n",
      "input 64 output 1\n",
      "#parameters: 8833\n"
     ]
    },
    {
     "name": "stderr",
     "output_type": "stream",
     "text": [
      "100%|██████████████████████████████████████████████████| 100/100 [00:19<00:00,  5.01it/s, loss=1.35e-5]\n",
      "[I 2024-11-06 16:04:27,202] Trial 5 finished with value: 1.3499042233888759e-05 and parameters: {'fs': 6, 'neurons': 64, 'hidden_layers_num': 3, 'lr': 0.01, 'm': 6, 'has_backward': False, 'method': 'E1', 'decay_const': 0.2}. Best is trial 2 with value: 1.2806187078240327e-05.\n"
     ]
    },
    {
     "name": "stdout",
     "output_type": "stream",
     "text": [
      "input 1 output 40\n",
      "input 40 output 40\n",
      "input 40 output 1\n",
      "#parameters: 1761\n"
     ]
    },
    {
     "name": "stderr",
     "output_type": "stream",
     "text": [
      "100%|███████████████████████████████████████████████████| 100/100 [00:15<00:00,  6.66it/s, loss=8.6e-5]\n",
      "[I 2024-11-06 16:04:42,264] Trial 6 finished with value: 8.603635360486806e-05 and parameters: {'fs': 1, 'neurons': 40, 'hidden_layers_num': 2, 'lr': 0.01, 'm': 4, 'has_backward': False, 'method': 'RK3', 'decay_const': 0.5}. Best is trial 2 with value: 1.2806187078240327e-05.\n"
     ]
    },
    {
     "name": "stdout",
     "output_type": "stream",
     "text": [
      "input 1 output 1\n",
      "#parameters: 2\n"
     ]
    },
    {
     "name": "stderr",
     "output_type": "stream",
     "text": [
      "100%|█████████████████████████████████████████████████| 100/100 [00:01<00:00, 71.78it/s, loss=0.000467]\n",
      "[I 2024-11-06 16:04:43,684] Trial 7 finished with value: 0.00046867478522472084 and parameters: {'fs': 1, 'neurons': 64, 'hidden_layers_num': 0, 'lr': 0.01, 'm': 4, 'has_backward': False, 'method': 'E1', 'decay_const': 0.9}. Best is trial 2 with value: 1.2806187078240327e-05.\n"
     ]
    },
    {
     "name": "stdout",
     "output_type": "stream",
     "text": [
      "input 4 output 16\n",
      "input 16 output 1\n",
      "#parameters: 97\n"
     ]
    },
    {
     "name": "stderr",
     "output_type": "stream",
     "text": [
      "100%|█████████████████████████████████████████████████| 100/100 [00:05<00:00, 17.18it/s, loss=0.000101]\n",
      "[I 2024-11-06 16:04:49,544] Trial 8 finished with value: 0.00010074575911858119 and parameters: {'fs': 4, 'neurons': 16, 'hidden_layers_num': 1, 'lr': 0.01, 'm': 6, 'has_backward': False, 'method': 'E1', 'decay_const': 0.5}. Best is trial 2 with value: 1.2806187078240327e-05.\n"
     ]
    },
    {
     "name": "stdout",
     "output_type": "stream",
     "text": [
      "input 8 output 48\n",
      "input 48 output 1\n",
      "#parameters: 481\n"
     ]
    },
    {
     "name": "stderr",
     "output_type": "stream",
     "text": [
      "100%|██████████████████████████████████████████████████| 100/100 [00:06<00:00, 16.50it/s, loss=1.31e-5]\n",
      "[I 2024-11-06 16:04:55,649] Trial 9 finished with value: 1.3056514853815316e-05 and parameters: {'fs': 8, 'neurons': 48, 'hidden_layers_num': 1, 'lr': 0.01, 'm': 4, 'has_backward': False, 'method': 'E1', 'decay_const': 0.2}. Best is trial 2 with value: 1.2806187078240327e-05.\n"
     ]
    },
    {
     "name": "stdout",
     "output_type": "stream",
     "text": [
      "input 7 output 1\n",
      "#parameters: 8\n"
     ]
    },
    {
     "name": "stderr",
     "output_type": "stream",
     "text": [
      "100%|███████████████████████████████████████████████████| 100/100 [00:02<00:00, 42.61it/s, loss=2.3e-5]\n",
      "[I 2024-11-06 16:04:58,069] Trial 10 finished with value: 2.2987116972217335e-05 and parameters: {'fs': 7, 'neurons': 32, 'hidden_layers_num': 0, 'lr': 0.001, 'm': 2, 'has_backward': True, 'method': 'RK3', 'decay_const': 0.2}. Best is trial 2 with value: 1.2806187078240327e-05.\n"
     ]
    },
    {
     "name": "stdout",
     "output_type": "stream",
     "text": [
      "input 7 output 48\n",
      "input 48 output 1\n",
      "#parameters: 433\n"
     ]
    },
    {
     "name": "stderr",
     "output_type": "stream",
     "text": [
      "100%|██████████████████████████████████████████████████| 100/100 [00:04<00:00, 20.32it/s, loss=1.28e-5]\n",
      "[I 2024-11-06 16:05:03,031] Trial 11 finished with value: 1.280388014492928e-05 and parameters: {'fs': 7, 'neurons': 48, 'hidden_layers_num': 1, 'lr': 0.01, 'm': 4, 'has_backward': False, 'method': 'E1', 'decay_const': 0.2}. Best is trial 11 with value: 1.280388014492928e-05.\n"
     ]
    },
    {
     "name": "stdout",
     "output_type": "stream",
     "text": [
      "input 7 output 32\n",
      "input 32 output 1\n",
      "#parameters: 289\n"
     ]
    },
    {
     "name": "stderr",
     "output_type": "stream",
     "text": [
      "100%|██████████████████████████████████████████████████| 100/100 [00:04<00:00, 22.98it/s, loss=1.28e-5]\n",
      "[I 2024-11-06 16:05:07,454] Trial 12 finished with value: 1.2806187078240327e-05 and parameters: {'fs': 7, 'neurons': 32, 'hidden_layers_num': 1, 'lr': 0.01, 'm': 4, 'has_backward': False, 'method': 'E1', 'decay_const': 0.2}. Best is trial 11 with value: 1.280388014492928e-05.\n"
     ]
    },
    {
     "name": "stdout",
     "output_type": "stream",
     "text": [
      "input 7 output 32\n",
      "input 32 output 1\n",
      "#parameters: 289\n"
     ]
    },
    {
     "name": "stderr",
     "output_type": "stream",
     "text": [
      "100%|██████████████████████████████████████████████████| 100/100 [00:04<00:00, 24.01it/s, loss=1.28e-5]\n",
      "[I 2024-11-06 16:05:11,681] Trial 13 finished with value: 1.2806187078240327e-05 and parameters: {'fs': 7, 'neurons': 32, 'hidden_layers_num': 1, 'lr': 0.01, 'm': 4, 'has_backward': False, 'method': 'E1', 'decay_const': 0.2}. Best is trial 11 with value: 1.280388014492928e-05.\n"
     ]
    },
    {
     "name": "stdout",
     "output_type": "stream",
     "text": [
      "input 9 output 48\n",
      "input 48 output 48\n",
      "input 48 output 48\n",
      "input 48 output 48\n",
      "input 48 output 1\n",
      "#parameters: 7585\n"
     ]
    },
    {
     "name": "stderr",
     "output_type": "stream",
     "text": [
      "100%|███████████████████████████████████████████████████| 100/100 [00:25<00:00,  3.89it/s, loss=7.2e-6]\n",
      "[I 2024-11-06 16:05:37,501] Trial 14 finished with value: 7.317314839383471e-06 and parameters: {'fs': 9, 'neurons': 48, 'hidden_layers_num': 4, 'lr': 0.01, 'm': 4, 'has_backward': True, 'method': 'E1', 'decay_const': 0.2}. Best is trial 14 with value: 7.317314839383471e-06.\n"
     ]
    },
    {
     "name": "stdout",
     "output_type": "stream",
     "text": [
      "input 9 output 48\n",
      "input 48 output 48\n",
      "input 48 output 48\n",
      "input 48 output 48\n",
      "input 48 output 1\n",
      "#parameters: 7585\n"
     ]
    },
    {
     "name": "stderr",
     "output_type": "stream",
     "text": [
      "100%|███████████████████████████████████████████████████| 100/100 [00:13<00:00,  7.22it/s, loss=7.4e-6]\n",
      "[I 2024-11-06 16:05:51,429] Trial 15 finished with value: 7.50593280827161e-06 and parameters: {'fs': 9, 'neurons': 48, 'hidden_layers_num': 4, 'lr': 0.01, 'm': 2, 'has_backward': True, 'method': 'E1', 'decay_const': 0.2}. Best is trial 14 with value: 7.317314839383471e-06.\n"
     ]
    },
    {
     "name": "stdout",
     "output_type": "stream",
     "text": [
      "input 9 output 48\n",
      "input 48 output 48\n",
      "input 48 output 48\n",
      "input 48 output 48\n",
      "input 48 output 1\n",
      "#parameters: 7585\n"
     ]
    },
    {
     "name": "stderr",
     "output_type": "stream",
     "text": [
      "100%|███████████████████████████████████████████████████| 100/100 [00:12<00:00,  8.06it/s, loss=7.4e-6]\n",
      "[I 2024-11-06 16:06:03,914] Trial 16 finished with value: 7.50593280827161e-06 and parameters: {'fs': 9, 'neurons': 48, 'hidden_layers_num': 4, 'lr': 0.01, 'm': 2, 'has_backward': True, 'method': 'E1', 'decay_const': 0.2}. Best is trial 14 with value: 7.317314839383471e-06.\n"
     ]
    },
    {
     "name": "stdout",
     "output_type": "stream",
     "text": [
      "input 9 output 48\n",
      "input 48 output 48\n",
      "input 48 output 48\n",
      "input 48 output 48\n",
      "input 48 output 1\n",
      "#parameters: 7585\n"
     ]
    },
    {
     "name": "stderr",
     "output_type": "stream",
     "text": [
      "100%|███████████████████████████████████████████████████| 100/100 [00:13<00:00,  7.53it/s, loss=7.4e-6]\n",
      "[I 2024-11-06 16:06:17,269] Trial 17 finished with value: 7.50593280827161e-06 and parameters: {'fs': 9, 'neurons': 48, 'hidden_layers_num': 4, 'lr': 0.01, 'm': 2, 'has_backward': True, 'method': 'E1', 'decay_const': 0.2}. Best is trial 14 with value: 7.317314839383471e-06.\n"
     ]
    },
    {
     "name": "stdout",
     "output_type": "stream",
     "text": [
      "input 2 output 40\n",
      "input 40 output 40\n",
      "input 40 output 40\n",
      "input 40 output 40\n",
      "input 40 output 1\n",
      "#parameters: 5081\n"
     ]
    },
    {
     "name": "stderr",
     "output_type": "stream",
     "text": [
      "100%|██████████████████████████████████████████████████| 100/100 [00:29<00:00,  3.37it/s, loss=8.22e-5]\n",
      "[I 2024-11-06 16:06:47,004] Trial 18 finished with value: 8.284160139737651e-05 and parameters: {'fs': 2, 'neurons': 40, 'hidden_layers_num': 4, 'lr': 0.001, 'm': 2, 'has_backward': True, 'method': 'RK3', 'decay_const': 0.5}. Best is trial 14 with value: 7.317314839383471e-06.\n"
     ]
    },
    {
     "name": "stdout",
     "output_type": "stream",
     "text": [
      "input 5 output 24\n",
      "input 24 output 24\n",
      "input 24 output 24\n",
      "input 24 output 24\n",
      "input 24 output 1\n",
      "#parameters: 1969\n"
     ]
    },
    {
     "name": "stderr",
     "output_type": "stream",
     "text": [
      "100%|██████████████████████████████████████████████████| 100/100 [00:11<00:00,  8.63it/s, loss=2.25e-5]\n",
      "[I 2024-11-06 16:06:58,669] Trial 19 finished with value: 2.276568775414489e-05 and parameters: {'fs': 5, 'neurons': 24, 'hidden_layers_num': 4, 'lr': 0.01, 'm': 2, 'has_backward': True, 'method': 'E1', 'decay_const': 0.9}. Best is trial 14 with value: 7.317314839383471e-06.\n"
     ]
    },
    {
     "name": "stdout",
     "output_type": "stream",
     "text": [
      "input 9 output 8\n",
      "input 8 output 8\n",
      "input 8 output 8\n",
      "input 8 output 8\n",
      "input 8 output 1\n",
      "#parameters: 305\n"
     ]
    },
    {
     "name": "stderr",
     "output_type": "stream",
     "text": [
      "100%|███████████████████████████████████████████████████| 100/100 [00:06<00:00, 15.08it/s, loss=8.5e-6]\n",
      "[I 2024-11-06 16:07:05,388] Trial 20 finished with value: 9.288416640629293e-06 and parameters: {'fs': 9, 'neurons': 8, 'hidden_layers_num': 4, 'lr': 0.01, 'm': 2, 'has_backward': True, 'method': 'E1', 'decay_const': 0.2}. Best is trial 14 with value: 7.317314839383471e-06.\n"
     ]
    },
    {
     "name": "stdout",
     "output_type": "stream",
     "text": [
      "input 9 output 48\n",
      "input 48 output 48\n",
      "input 48 output 48\n",
      "input 48 output 48\n",
      "input 48 output 1\n",
      "#parameters: 7585\n"
     ]
    },
    {
     "name": "stderr",
     "output_type": "stream",
     "text": [
      "100%|███████████████████████████████████████████████████| 100/100 [00:14<00:00,  7.03it/s, loss=7.4e-6]\n",
      "[I 2024-11-06 16:07:19,691] Trial 21 finished with value: 7.50593280827161e-06 and parameters: {'fs': 9, 'neurons': 48, 'hidden_layers_num': 4, 'lr': 0.01, 'm': 2, 'has_backward': True, 'method': 'E1', 'decay_const': 0.2}. Best is trial 14 with value: 7.317314839383471e-06.\n"
     ]
    },
    {
     "name": "stdout",
     "output_type": "stream",
     "text": [
      "input 9 output 48\n",
      "input 48 output 48\n",
      "input 48 output 48\n",
      "input 48 output 48\n",
      "input 48 output 1\n",
      "#parameters: 7585\n"
     ]
    },
    {
     "name": "stderr",
     "output_type": "stream",
     "text": [
      "100%|███████████████████████████████████████████████████| 100/100 [00:13<00:00,  7.15it/s, loss=7.4e-6]\n",
      "[I 2024-11-06 16:07:33,767] Trial 22 finished with value: 7.50593280827161e-06 and parameters: {'fs': 9, 'neurons': 48, 'hidden_layers_num': 4, 'lr': 0.01, 'm': 2, 'has_backward': True, 'method': 'E1', 'decay_const': 0.2}. Best is trial 14 with value: 7.317314839383471e-06.\n"
     ]
    },
    {
     "name": "stdout",
     "output_type": "stream",
     "text": [
      "input 9 output 48\n",
      "input 48 output 48\n",
      "input 48 output 48\n",
      "input 48 output 48\n",
      "input 48 output 1\n",
      "#parameters: 7585\n"
     ]
    },
    {
     "name": "stderr",
     "output_type": "stream",
     "text": [
      "100%|███████████████████████████████████████████████████| 100/100 [00:13<00:00,  7.32it/s, loss=7.4e-6]\n",
      "[I 2024-11-06 16:07:47,515] Trial 23 finished with value: 7.50593280827161e-06 and parameters: {'fs': 9, 'neurons': 48, 'hidden_layers_num': 4, 'lr': 0.01, 'm': 2, 'has_backward': True, 'method': 'E1', 'decay_const': 0.2}. Best is trial 14 with value: 7.317314839383471e-06.\n"
     ]
    },
    {
     "name": "stdout",
     "output_type": "stream",
     "text": [
      "input 9 output 48\n",
      "input 48 output 48\n",
      "input 48 output 48\n",
      "input 48 output 48\n",
      "input 48 output 1\n",
      "#parameters: 7585\n"
     ]
    },
    {
     "name": "stderr",
     "output_type": "stream",
     "text": [
      "100%|███████████████████████████████████████████████████| 100/100 [00:13<00:00,  7.50it/s, loss=7.4e-6]\n",
      "[I 2024-11-06 16:08:00,934] Trial 24 finished with value: 7.50593280827161e-06 and parameters: {'fs': 9, 'neurons': 48, 'hidden_layers_num': 4, 'lr': 0.01, 'm': 2, 'has_backward': True, 'method': 'E1', 'decay_const': 0.2}. Best is trial 14 with value: 7.317314839383471e-06.\n"
     ]
    },
    {
     "name": "stdout",
     "output_type": "stream",
     "text": [
      "input 9 output 48\n",
      "input 48 output 48\n",
      "input 48 output 48\n",
      "input 48 output 48\n",
      "input 48 output 1\n",
      "#parameters: 7585\n"
     ]
    },
    {
     "name": "stderr",
     "output_type": "stream",
     "text": [
      "100%|███████████████████████████████████████████████████| 100/100 [00:37<00:00,  2.70it/s, loss=7.3e-6]\n",
      "[I 2024-11-06 16:08:38,103] Trial 25 finished with value: 7.389465827145613e-06 and parameters: {'fs': 9, 'neurons': 48, 'hidden_layers_num': 4, 'lr': 0.01, 'm': 6, 'has_backward': True, 'method': 'E1', 'decay_const': 0.2}. Best is trial 14 with value: 7.317314839383471e-06.\n"
     ]
    },
    {
     "name": "stdout",
     "output_type": "stream",
     "text": [
      "input 2 output 1\n",
      "#parameters: 3\n"
     ]
    },
    {
     "name": "stderr",
     "output_type": "stream",
     "text": [
      "100%|██████████████████████████████████████████████████| 100/100 [00:11<00:00,  8.92it/s, loss=2.03e-5]\n",
      "[I 2024-11-06 16:08:49,353] Trial 26 finished with value: 2.0311877233325503e-05 and parameters: {'fs': 2, 'neurons': 48, 'hidden_layers_num': 0, 'lr': 0.001, 'm': 6, 'has_backward': True, 'method': 'RK3', 'decay_const': 0.2}. Best is trial 14 with value: 7.317314839383471e-06.\n"
     ]
    },
    {
     "name": "stdout",
     "output_type": "stream",
     "text": [
      "input 4 output 48\n",
      "input 48 output 48\n",
      "input 48 output 48\n",
      "input 48 output 48\n",
      "input 48 output 1\n",
      "#parameters: 7345\n"
     ]
    },
    {
     "name": "stderr",
     "output_type": "stream",
     "text": [
      "100%|██████████████████████████████████████████████████| 100/100 [00:34<00:00,  2.89it/s, loss=1.45e-5]\n",
      "[I 2024-11-06 16:09:24,045] Trial 27 finished with value: 1.5243062443914824e-05 and parameters: {'fs': 4, 'neurons': 48, 'hidden_layers_num': 4, 'lr': 0.01, 'm': 6, 'has_backward': True, 'method': 'E1', 'decay_const': 0.2}. Best is trial 14 with value: 7.317314839383471e-06.\n"
     ]
    },
    {
     "name": "stdout",
     "output_type": "stream",
     "text": [
      "input 5 output 16\n",
      "input 16 output 16\n",
      "input 16 output 16\n",
      "input 16 output 1\n",
      "#parameters: 657\n"
     ]
    },
    {
     "name": "stderr",
     "output_type": "stream",
     "text": [
      "100%|██████████████████████████████████████████████████| 100/100 [00:18<00:00,  5.36it/s, loss=2.61e-5]\n",
      "[I 2024-11-06 16:09:42,780] Trial 28 finished with value: 2.848764070222387e-05 and parameters: {'fs': 5, 'neurons': 16, 'hidden_layers_num': 3, 'lr': 0.01, 'm': 6, 'has_backward': True, 'method': 'E1', 'decay_const': 0.5}. Best is trial 14 with value: 7.317314839383471e-06.\n"
     ]
    },
    {
     "name": "stdout",
     "output_type": "stream",
     "text": [
      "input 3 output 48\n",
      "input 48 output 48\n",
      "input 48 output 1\n",
      "#parameters: 2593\n"
     ]
    },
    {
     "name": "stderr",
     "output_type": "stream",
     "text": [
      "100%|█████████████████████████████████████████████████| 100/100 [00:56<00:00,  1.77it/s, loss=0.000163]\n",
      "[I 2024-11-06 16:10:39,373] Trial 29 finished with value: 0.0001774480100721121 and parameters: {'fs': 3, 'neurons': 48, 'hidden_layers_num': 2, 'lr': 0.01, 'm': 6, 'has_backward': True, 'method': 'RK3', 'decay_const': 0.9}. Best is trial 14 with value: 7.317314839383471e-06.\n"
     ]
    },
    {
     "name": "stdout",
     "output_type": "stream",
     "text": [
      "input 8 output 8\n",
      "input 8 output 8\n",
      "input 8 output 8\n",
      "input 8 output 8\n",
      "input 8 output 1\n",
      "#parameters: 297\n"
     ]
    },
    {
     "name": "stderr",
     "output_type": "stream",
     "text": [
      "100%|██████████████████████████████████████████████████| 100/100 [00:26<00:00,  3.76it/s, loss=0.00141]\n",
      "[I 2024-11-06 16:11:06,064] Trial 30 finished with value: 0.0014169431757181882 and parameters: {'fs': 8, 'neurons': 8, 'hidden_layers_num': 4, 'lr': 0.01, 'm': 6, 'has_backward': True, 'method': 'E1', 'decay_const': 0.9}. Best is trial 14 with value: 7.317314839383471e-06.\n"
     ]
    },
    {
     "name": "stdout",
     "output_type": "stream",
     "text": [
      "input 9 output 48\n",
      "input 48 output 48\n",
      "input 48 output 48\n",
      "input 48 output 48\n",
      "input 48 output 1\n",
      "#parameters: 7585\n"
     ]
    },
    {
     "name": "stderr",
     "output_type": "stream",
     "text": [
      "100%|███████████████████████████████████████████████████| 100/100 [00:13<00:00,  7.43it/s, loss=7.4e-6]\n",
      "[I 2024-11-06 16:11:19,601] Trial 31 finished with value: 7.50593280827161e-06 and parameters: {'fs': 9, 'neurons': 48, 'hidden_layers_num': 4, 'lr': 0.01, 'm': 2, 'has_backward': True, 'method': 'E1', 'decay_const': 0.2}. Best is trial 14 with value: 7.317314839383471e-06.\n"
     ]
    },
    {
     "name": "stdout",
     "output_type": "stream",
     "text": [
      "input 9 output 48\n",
      "input 48 output 48\n",
      "input 48 output 48\n",
      "input 48 output 48\n",
      "input 48 output 1\n",
      "#parameters: 7585\n"
     ]
    },
    {
     "name": "stderr",
     "output_type": "stream",
     "text": [
      "100%|███████████████████████████████████████████████████| 100/100 [00:13<00:00,  7.49it/s, loss=7.4e-6]\n",
      "[I 2024-11-06 16:11:33,027] Trial 32 finished with value: 7.50593280827161e-06 and parameters: {'fs': 9, 'neurons': 48, 'hidden_layers_num': 4, 'lr': 0.01, 'm': 2, 'has_backward': True, 'method': 'E1', 'decay_const': 0.2}. Best is trial 14 with value: 7.317314839383471e-06.\n"
     ]
    },
    {
     "name": "stdout",
     "output_type": "stream",
     "text": [
      "input 9 output 48\n",
      "input 48 output 48\n",
      "input 48 output 48\n",
      "input 48 output 48\n",
      "input 48 output 1\n",
      "#parameters: 7585\n"
     ]
    },
    {
     "name": "stderr",
     "output_type": "stream",
     "text": [
      "100%|███████████████████████████████████████████████████| 100/100 [00:24<00:00,  4.07it/s, loss=7.2e-6]\n",
      "[I 2024-11-06 16:11:57,669] Trial 33 finished with value: 7.317314839383471e-06 and parameters: {'fs': 9, 'neurons': 48, 'hidden_layers_num': 4, 'lr': 0.01, 'm': 4, 'has_backward': True, 'method': 'E1', 'decay_const': 0.2}. Best is trial 14 with value: 7.317314839383471e-06.\n"
     ]
    },
    {
     "name": "stdout",
     "output_type": "stream",
     "text": [
      "input 6 output 24\n",
      "input 24 output 24\n",
      "input 24 output 24\n",
      "input 24 output 24\n",
      "input 24 output 1\n",
      "#parameters: 1993\n"
     ]
    },
    {
     "name": "stderr",
     "output_type": "stream",
     "text": [
      "100%|██████████████████████████████████████████████████| 100/100 [00:19<00:00,  5.19it/s, loss=2.31e-5]\n",
      "[I 2024-11-06 16:12:17,044] Trial 34 finished with value: 2.3261447677214164e-05 and parameters: {'fs': 6, 'neurons': 24, 'hidden_layers_num': 4, 'lr': 0.001, 'm': 4, 'has_backward': True, 'method': 'E1', 'decay_const': 0.2}. Best is trial 14 with value: 7.317314839383471e-06.\n"
     ]
    },
    {
     "name": "stdout",
     "output_type": "stream",
     "text": [
      "input 9 output 64\n",
      "input 64 output 64\n",
      "input 64 output 1\n",
      "#parameters: 4865\n"
     ]
    },
    {
     "name": "stderr",
     "output_type": "stream",
     "text": [
      "100%|██████████████████████████████████████████████████| 100/100 [00:18<00:00,  5.53it/s, loss=1.68e-5]\n",
      "[I 2024-11-06 16:12:35,217] Trial 35 finished with value: 1.6952930673141962e-05 and parameters: {'fs': 9, 'neurons': 64, 'hidden_layers_num': 2, 'lr': 0.01, 'm': 4, 'has_backward': True, 'method': 'E1', 'decay_const': 0.2}. Best is trial 14 with value: 7.317314839383471e-06.\n"
     ]
    },
    {
     "name": "stdout",
     "output_type": "stream",
     "text": [
      "input 9 output 40\n",
      "input 40 output 40\n",
      "input 40 output 40\n",
      "input 40 output 1\n",
      "#parameters: 3721\n"
     ]
    },
    {
     "name": "stderr",
     "output_type": "stream",
     "text": [
      "100%|███████████████████████████████████████████████████| 100/100 [00:16<00:00,  5.92it/s, loss=9.4e-6]\n",
      "[I 2024-11-06 16:12:52,194] Trial 36 finished with value: 9.575334752298659e-06 and parameters: {'fs': 9, 'neurons': 40, 'hidden_layers_num': 3, 'lr': 0.01, 'm': 4, 'has_backward': True, 'method': 'E1', 'decay_const': 0.2}. Best is trial 14 with value: 7.317314839383471e-06.\n"
     ]
    },
    {
     "name": "stdout",
     "output_type": "stream",
     "text": [
      "input 3 output 48\n",
      "input 48 output 48\n",
      "input 48 output 48\n",
      "input 48 output 48\n",
      "input 48 output 1\n",
      "#parameters: 7297\n"
     ]
    },
    {
     "name": "stderr",
     "output_type": "stream",
     "text": [
      "100%|██████████████████████████████████████████████████| 100/100 [00:23<00:00,  4.34it/s, loss=2.51e-5]\n",
      "[I 2024-11-06 16:13:15,338] Trial 37 finished with value: 2.532546659494983e-05 and parameters: {'fs': 3, 'neurons': 48, 'hidden_layers_num': 4, 'lr': 0.001, 'm': 4, 'has_backward': True, 'method': 'E1', 'decay_const': 0.2}. Best is trial 14 with value: 7.317314839383471e-06.\n"
     ]
    },
    {
     "name": "stdout",
     "output_type": "stream",
     "text": [
      "input 9 output 16\n",
      "input 16 output 16\n",
      "input 16 output 16\n",
      "input 16 output 16\n",
      "input 16 output 1\n",
      "#parameters: 993\n"
     ]
    },
    {
     "name": "stderr",
     "output_type": "stream",
     "text": [
      "100%|██████████████████████████████████████████████████| 100/100 [00:50<00:00,  1.99it/s, loss=1.47e-5]\n",
      "[I 2024-11-06 16:14:05,659] Trial 38 finished with value: 1.5085466020536843e-05 and parameters: {'fs': 9, 'neurons': 16, 'hidden_layers_num': 4, 'lr': 0.01, 'm': 4, 'has_backward': True, 'method': 'RK3', 'decay_const': 0.5}. Best is trial 14 with value: 7.317314839383471e-06.\n"
     ]
    },
    {
     "name": "stdout",
     "output_type": "stream",
     "text": [
      "input 6 output 1\n",
      "#parameters: 7\n"
     ]
    },
    {
     "name": "stderr",
     "output_type": "stream",
     "text": [
      "100%|██████████████████████████████████████████████████| 100/100 [00:05<00:00, 19.49it/s, loss=0.00175]\n",
      "[I 2024-11-06 16:14:10,865] Trial 39 finished with value: 0.0017600514111109078 and parameters: {'fs': 6, 'neurons': 48, 'hidden_layers_num': 0, 'lr': 0.01, 'm': 6, 'has_backward': True, 'method': 'E1', 'decay_const': 0.9}. Best is trial 14 with value: 7.317314839383471e-06.\n"
     ]
    },
    {
     "name": "stdout",
     "output_type": "stream",
     "text": [
      "input 4 output 64\n",
      "input 64 output 64\n",
      "input 64 output 1\n",
      "#parameters: 4545\n"
     ]
    },
    {
     "name": "stderr",
     "output_type": "stream",
     "text": [
      "100%|██████████████████████████████████████████████████| 100/100 [00:17<00:00,  5.67it/s, loss=1.82e-5]\n",
      "[I 2024-11-06 16:14:28,587] Trial 40 finished with value: 1.8201713464804926e-05 and parameters: {'fs': 4, 'neurons': 64, 'hidden_layers_num': 2, 'lr': 0.01, 'm': 4, 'has_backward': True, 'method': 'E1', 'decay_const': 0.2}. Best is trial 14 with value: 7.317314839383471e-06.\n"
     ]
    },
    {
     "name": "stdout",
     "output_type": "stream",
     "text": [
      "input 9 output 48\n",
      "input 48 output 48\n",
      "input 48 output 48\n",
      "input 48 output 48\n",
      "input 48 output 1\n",
      "#parameters: 7585\n"
     ]
    },
    {
     "name": "stderr",
     "output_type": "stream",
     "text": [
      "100%|███████████████████████████████████████████████████| 100/100 [00:13<00:00,  7.28it/s, loss=7.4e-6]\n",
      "[I 2024-11-06 16:14:42,414] Trial 41 finished with value: 7.50593280827161e-06 and parameters: {'fs': 9, 'neurons': 48, 'hidden_layers_num': 4, 'lr': 0.01, 'm': 2, 'has_backward': True, 'method': 'E1', 'decay_const': 0.2}. Best is trial 14 with value: 7.317314839383471e-06.\n"
     ]
    },
    {
     "name": "stdout",
     "output_type": "stream",
     "text": [
      "input 9 output 48\n",
      "input 48 output 48\n",
      "input 48 output 48\n",
      "input 48 output 48\n",
      "input 48 output 1\n",
      "#parameters: 7585\n"
     ]
    },
    {
     "name": "stderr",
     "output_type": "stream",
     "text": [
      "100%|███████████████████████████████████████████████████| 100/100 [00:36<00:00,  2.75it/s, loss=7.3e-6]\n",
      "[I 2024-11-06 16:15:18,913] Trial 42 finished with value: 7.389465827145613e-06 and parameters: {'fs': 9, 'neurons': 48, 'hidden_layers_num': 4, 'lr': 0.01, 'm': 6, 'has_backward': True, 'method': 'E1', 'decay_const': 0.2}. Best is trial 14 with value: 7.317314839383471e-06.\n"
     ]
    },
    {
     "name": "stdout",
     "output_type": "stream",
     "text": [
      "input 9 output 48\n",
      "input 48 output 48\n",
      "input 48 output 48\n",
      "input 48 output 48\n",
      "input 48 output 1\n",
      "#parameters: 7585\n"
     ]
    },
    {
     "name": "stderr",
     "output_type": "stream",
     "text": [
      "100%|███████████████████████████████████████████████████| 100/100 [00:37<00:00,  2.68it/s, loss=7.3e-6]\n",
      "[I 2024-11-06 16:15:56,304] Trial 43 finished with value: 7.389465827145613e-06 and parameters: {'fs': 9, 'neurons': 48, 'hidden_layers_num': 4, 'lr': 0.01, 'm': 6, 'has_backward': True, 'method': 'E1', 'decay_const': 0.2}. Best is trial 14 with value: 7.317314839383471e-06.\n"
     ]
    },
    {
     "name": "stdout",
     "output_type": "stream",
     "text": [
      "input 1 output 48\n",
      "input 48 output 48\n",
      "input 48 output 48\n",
      "input 48 output 1\n",
      "#parameters: 4849\n"
     ]
    },
    {
     "name": "stderr",
     "output_type": "stream",
     "text": [
      "100%|██████████████████████████████████████████████████| 100/100 [00:31<00:00,  3.16it/s, loss=1.73e-5]\n",
      "[I 2024-11-06 16:16:28,072] Trial 44 finished with value: 1.734984944050666e-05 and parameters: {'fs': 1, 'neurons': 48, 'hidden_layers_num': 3, 'lr': 0.01, 'm': 6, 'has_backward': True, 'method': 'E1', 'decay_const': 0.2}. Best is trial 14 with value: 7.317314839383471e-06.\n"
     ]
    },
    {
     "name": "stdout",
     "output_type": "stream",
     "text": [
      "input 8 output 24\n",
      "input 24 output 24\n",
      "input 24 output 24\n",
      "input 24 output 24\n",
      "input 24 output 1\n",
      "#parameters: 2041\n"
     ]
    },
    {
     "name": "stderr",
     "output_type": "stream",
     "text": [
      "100%|███████████████████████████████████████████████████| 100/100 [00:28<00:00,  3.53it/s, loss=1.7e-5]\n",
      "[I 2024-11-06 16:16:56,508] Trial 45 finished with value: 1.7002366985252592e-05 and parameters: {'fs': 8, 'neurons': 24, 'hidden_layers_num': 4, 'lr': 0.01, 'm': 6, 'has_backward': True, 'method': 'E1', 'decay_const': 0.2}. Best is trial 14 with value: 7.317314839383471e-06.\n"
     ]
    },
    {
     "name": "stdout",
     "output_type": "stream",
     "text": [
      "input 9 output 8\n",
      "input 8 output 8\n",
      "input 8 output 8\n",
      "input 8 output 8\n",
      "input 8 output 1\n",
      "#parameters: 305\n"
     ]
    },
    {
     "name": "stderr",
     "output_type": "stream",
     "text": [
      "100%|██████████████████████████████████████████████████| 100/100 [00:20<00:00,  4.95it/s, loss=1.56e-5]\n",
      "[I 2024-11-06 16:17:16,809] Trial 46 finished with value: 1.5669507047277875e-05 and parameters: {'fs': 9, 'neurons': 8, 'hidden_layers_num': 4, 'lr': 0.001, 'm': 6, 'has_backward': False, 'method': 'RK3', 'decay_const': 0.2}. Best is trial 14 with value: 7.317314839383471e-06.\n"
     ]
    },
    {
     "name": "stdout",
     "output_type": "stream",
     "text": [
      "input 9 output 32\n",
      "input 32 output 32\n",
      "input 32 output 32\n",
      "input 32 output 32\n",
      "input 32 output 1\n",
      "#parameters: 3521\n"
     ]
    },
    {
     "name": "stderr",
     "output_type": "stream",
     "text": [
      "100%|███████████████████████████████████████████████████| 100/100 [00:29<00:00,  3.37it/s, loss=7.5e-6]\n",
      "[I 2024-11-06 16:17:46,529] Trial 47 finished with value: 7.931499521873774e-06 and parameters: {'fs': 9, 'neurons': 32, 'hidden_layers_num': 4, 'lr': 0.01, 'm': 6, 'has_backward': True, 'method': 'E1', 'decay_const': 0.2}. Best is trial 14 with value: 7.317314839383471e-06.\n"
     ]
    },
    {
     "name": "stdout",
     "output_type": "stream",
     "text": [
      "input 2 output 1\n",
      "#parameters: 3\n"
     ]
    },
    {
     "name": "stderr",
     "output_type": "stream",
     "text": [
      "100%|█████████████████████████████████████████████████| 100/100 [00:03<00:00, 25.99it/s, loss=0.000165]\n",
      "[I 2024-11-06 16:17:50,460] Trial 48 finished with value: 0.00016534713213331998 and parameters: {'fs': 2, 'neurons': 40, 'hidden_layers_num': 0, 'lr': 0.01, 'm': 6, 'has_backward': True, 'method': 'E1', 'decay_const': 0.5}. Best is trial 14 with value: 7.317314839383471e-06.\n"
     ]
    },
    {
     "name": "stdout",
     "output_type": "stream",
     "text": [
      "input 5 output 48\n",
      "input 48 output 48\n",
      "input 48 output 48\n",
      "input 48 output 48\n",
      "input 48 output 1\n",
      "#parameters: 7393\n"
     ]
    },
    {
     "name": "stderr",
     "output_type": "stream",
     "text": [
      "100%|███████████████████████████████████████████████████| 100/100 [00:19<00:00,  5.18it/s, loss=7.1e-6]\n",
      "[I 2024-11-06 16:18:09,863] Trial 49 finished with value: 7.2333403750235444e-06 and parameters: {'fs': 5, 'neurons': 48, 'hidden_layers_num': 4, 'lr': 0.01, 'm': 6, 'has_backward': False, 'method': 'E1', 'decay_const': 0.2}. Best is trial 49 with value: 7.2333403750235444e-06.\n"
     ]
    }
   ],
   "source": [
    "study = optuna.create_study(direction='minimize')\n",
    "study.optimize(objective_mplconv, n_trials=N_TRIALS)"
   ]
  },
  {
   "cell_type": "code",
   "execution_count": 12,
   "id": "0bd4fe4d-3e85-48db-8b5c-49417d99fdb8",
   "metadata": {},
   "outputs": [
    {
     "name": "stdout",
     "output_type": "stream",
     "text": [
      "Best hyperparameters: {'fs': 5, 'neurons': 48, 'hidden_layers_num': 4, 'lr': 0.01, 'm': 6, 'has_backward': False, 'method': 'E1', 'decay_const': 0.2}\n",
      "Best RMSE: 7.2333403750235444e-06\n"
     ]
    }
   ],
   "source": [
    "study.trials_dataframe()\n",
    "print('Best hyperparameters:', study.best_params)\n",
    "print('Best RMSE:', study.best_value)"
   ]
  },
  {
   "cell_type": "code",
   "execution_count": 13,
   "id": "43314254-5225-4500-b44c-f1f2608649af",
   "metadata": {},
   "outputs": [
    {
     "name": "stdout",
     "output_type": "stream",
     "text": [
      "input 5 output 48\n",
      "input 48 output 48\n",
      "input 48 output 48\n",
      "input 48 output 48\n",
      "input 48 output 1\n",
      "#parameters: 7393\n"
     ]
    },
    {
     "name": "stderr",
     "output_type": "stream",
     "text": [
      "100%|███████████████████████████████████████████████████| 100/100 [00:18<00:00,  5.32it/s, loss=7.1e-6]\n"
     ]
    }
   ],
   "source": [
    "my_doc_params=study.best_params\n",
    "net,loss_lst,loss=mf.train_net(mf.MLPConv,v_coarse_train,mf.epochs,dtc,\n",
    "                               **my_doc_params)"
   ]
  },
  {
   "cell_type": "code",
   "execution_count": 14,
   "id": "e5e6e23e-94d5-464d-8df3-579b87309ab2",
   "metadata": {},
   "outputs": [
    {
     "data": {
      "image/png": "[encoded data removed]",
      "text/plain": [
       "<Figure size 432x288 with 1 Axes>"
      ]
     },
     "metadata": {
      "needs_background": "light"
     },
     "output_type": "display_data"
    },
    {
     "data": {
      "image/png": "[encoded data removed]",
      "text/plain": [
       "<Figure size 432x288 with 1 Axes>"
      ]
     },
     "metadata": {
      "needs_background": "light"
     },
     "output_type": "display_data"
    },
    {
     "data": {
      "image/png": "[encoded data removed]",
      "text/plain": [
       "<Figure size 432x288 with 1 Axes>"
      ]
     },
     "metadata": {
      "needs_background": "light"
     },
     "output_type": "display_data"
    },
    {
     "data": {
      "image/png": "[encoded data removed]",
      "text/plain": [
       "<Figure size 432x288 with 1 Axes>"
      ]
     },
     "metadata": {
      "needs_background": "light"
     },
     "output_type": "display_data"
    }
   ],
   "source": [
    "mf.plot_err_and_components_of_err(np.array(loss_lst))"
   ]
  },
  {
   "cell_type": "markdown",
   "id": "a8f14051-cb59-4c60-840c-b8f0a0ba7e04",
   "metadata": {},
   "source": [
    "##### 4/2. Re-fit on higher epoch_num "
   ]
  },
  {
   "cell_type": "code",
   "execution_count": 15,
   "id": "4d48792c-fce6-4efe-b99c-6facde1b8e7d",
   "metadata": {},
   "outputs": [
    {
     "data": {
      "text/html": [
       "<div>\n",
       "<style scoped>\n",
       "    .dataframe tbody tr th:only-of-type {\n",
       "        vertical-align: middle;\n",
       "    }\n",
       "\n",
       "    .dataframe tbody tr th {\n",
       "        vertical-align: top;\n",
       "    }\n",
       "\n",
       "    .dataframe thead th {\n",
       "        text-align: right;\n",
       "    }\n",
       "</style>\n",
       "<table border=\"1\" class=\"dataframe\">\n",
       "  <thead>\n",
       "    <tr style=\"text-align: right;\">\n",
       "      <th></th>\n",
       "      <th>Parameter</th>\n",
       "      <th>Value</th>\n",
       "    </tr>\n",
       "  </thead>\n",
       "  <tbody>\n",
       "    <tr>\n",
       "      <th>0</th>\n",
       "      <td>fs</td>\n",
       "      <td>5</td>\n",
       "    </tr>\n",
       "    <tr>\n",
       "      <th>1</th>\n",
       "      <td>neurons</td>\n",
       "      <td>48</td>\n",
       "    </tr>\n",
       "    <tr>\n",
       "      <th>2</th>\n",
       "      <td>hidden_layers_num</td>\n",
       "      <td>4</td>\n",
       "    </tr>\n",
       "    <tr>\n",
       "      <th>3</th>\n",
       "      <td>act_func</td>\n",
       "      <td>ELU(alpha=1.0)</td>\n",
       "    </tr>\n",
       "    <tr>\n",
       "      <th>4</th>\n",
       "      <td>epoch</td>\n",
       "      <td>1000</td>\n",
       "    </tr>\n",
       "    <tr>\n",
       "      <th>5</th>\n",
       "      <td>lr</td>\n",
       "      <td>0.01</td>\n",
       "    </tr>\n",
       "    <tr>\n",
       "      <th>6</th>\n",
       "      <td>tau</td>\n",
       "      <td>0.000078</td>\n",
       "    </tr>\n",
       "    <tr>\n",
       "      <th>7</th>\n",
       "      <td>h</td>\n",
       "      <td>0.0125</td>\n",
       "    </tr>\n",
       "    <tr>\n",
       "      <th>8</th>\n",
       "      <td>n</td>\n",
       "      <td>81</td>\n",
       "    </tr>\n",
       "    <tr>\n",
       "      <th>9</th>\n",
       "      <td>decay_const</td>\n",
       "      <td>0.2</td>\n",
       "    </tr>\n",
       "    <tr>\n",
       "      <th>10</th>\n",
       "      <td>m</td>\n",
       "      <td>6</td>\n",
       "    </tr>\n",
       "    <tr>\n",
       "      <th>11</th>\n",
       "      <td>t_factor</td>\n",
       "      <td>10</td>\n",
       "    </tr>\n",
       "    <tr>\n",
       "      <th>12</th>\n",
       "      <td>s_factor</td>\n",
       "      <td>4</td>\n",
       "    </tr>\n",
       "    <tr>\n",
       "      <th>13</th>\n",
       "      <td>has_backward</td>\n",
       "      <td>False</td>\n",
       "    </tr>\n",
       "    <tr>\n",
       "      <th>14</th>\n",
       "      <td>train_size</td>\n",
       "      <td>0.5</td>\n",
       "    </tr>\n",
       "    <tr>\n",
       "      <th>15</th>\n",
       "      <td>method</td>\n",
       "      <td>E1</td>\n",
       "    </tr>\n",
       "    <tr>\n",
       "      <th>16</th>\n",
       "      <td>layers</td>\n",
       "      <td>[Linear(in_features=5, out_features=48, bias=True), Linear(in_features=48, out_features=48, bias=True), Linear(in_features=48, out_features=48, bias=True), Linear(in_features=48, out_features=48, bias=True), Linear(in_features=48, out_features=1, bias=True)]</td>\n",
       "    </tr>\n",
       "  </tbody>\n",
       "</table>\n",
       "</div>"
      ],
      "text/plain": [
       "            Parameter  \\\n",
       "0                  fs   \n",
       "1             neurons   \n",
       "2   hidden_layers_num   \n",
       "3            act_func   \n",
       "4               epoch   \n",
       "5                  lr   \n",
       "6                 tau   \n",
       "7                   h   \n",
       "8                   n   \n",
       "9         decay_const   \n",
       "10                  m   \n",
       "11           t_factor   \n",
       "12           s_factor   \n",
       "13       has_backward   \n",
       "14         train_size   \n",
       "15             method   \n",
       "16             layers   \n",
       "\n",
       "                                                                                                                                                                                                                                                                 Value  \n",
       "0                                                                                                                                                                                                                                                                    5  \n",
       "1                                                                                                                                                                                                                                                                   48  \n",
       "2                                                                                                                                                                                                                                                                    4  \n",
       "3                                                                                                                                                                                                                                                       ELU(alpha=1.0)  \n",
       "4                                                                                                                                                                                                                                                                 1000  \n",
       "5                                                                                                                                                                                                                                                                 0.01  \n",
       "6                                                                                                                                                                                                                                                             0.000078  \n",
       "7                                                                                                                                                                                                                                                               0.0125  \n",
       "8                                                                                                                                                                                                                                                                   81  \n",
       "9                                                                                                                                                                                                                                                                  0.2  \n",
       "10                                                                                                                                                                                                                                                                   6  \n",
       "11                                                                                                                                                                                                                                                                  10  \n",
       "12                                                                                                                                                                                                                                                                   4  \n",
       "13                                                                                                                                                                                                                                                               False  \n",
       "14                                                                                                                                                                                                                                                                 0.5  \n",
       "15                                                                                                                                                                                                                                                                  E1  \n",
       "16  [Linear(in_features=5, out_features=48, bias=True), Linear(in_features=48, out_features=48, bias=True), Linear(in_features=48, out_features=48, bias=True), Linear(in_features=48, out_features=48, bias=True), Linear(in_features=48, out_features=1, bias=True)]  "
      ]
     },
     "metadata": {},
     "output_type": "display_data"
    }
   ],
   "source": [
    "high_epochs=1000\n",
    "my_doc_params=study.best_params\n",
    "my_doc_params.update({'epoch':high_epochs})\n",
    "display(mf.make_param_table(net,my_doc_params,tau,h,n,t_factor,s_factor))"
   ]
  },
  {
   "cell_type": "code",
   "execution_count": 16,
   "id": "45270cef-92f6-4825-b46e-b826d83c297a",
   "metadata": {},
   "outputs": [],
   "source": [
    "mf.make_param_table(net,my_doc_params,tau,h,n,t_factor,s_factor).to_excel('data/models/all_best_params_n='+str(n)+'_'+str(list(my_doc_params.values()))+'.xlsx',index=False)"
   ]
  },
  {
   "cell_type": "code",
   "execution_count": 17,
   "id": "3633d8d2-9a96-44cb-aae1-674c5736c502",
   "metadata": {},
   "outputs": [
    {
     "data": {
      "text/plain": [
       "{'fs': 5,\n",
       " 'neurons': 48,\n",
       " 'hidden_layers_num': 4,\n",
       " 'lr': 0.01,\n",
       " 'm': 6,\n",
       " 'has_backward': False,\n",
       " 'method': 'E1',\n",
       " 'decay_const': 0.2,\n",
       " 'epoch': 1000}"
      ]
     },
     "execution_count": 17,
     "metadata": {},
     "output_type": "execute_result"
    }
   ],
   "source": [
    "my_doc_params"
   ]
  },
  {
   "cell_type": "code",
   "execution_count": 18,
   "id": "b858bfe9-4374-4839-b034-e1d2110131a0",
   "metadata": {},
   "outputs": [
    {
     "name": "stdout",
     "output_type": "stream",
     "text": [
      "input 5 output 48\n",
      "input 48 output 48\n",
      "input 48 output 48\n",
      "input 48 output 48\n",
      "input 48 output 1\n",
      "#parameters: 7393\n"
     ]
    },
    {
     "name": "stderr",
     "output_type": "stream",
     "text": [
      "100%|█████████████████████████████████████████████████| 1000/1000 [02:58<00:00,  5.61it/s, loss=6.1e-6]\n"
     ]
    }
   ],
   "source": [
    "del my_doc_params['epoch']\n",
    "net,loss_lst,loss=mf.train_net(mf.MLPConv,v_coarse_train,high_epochs,dtc,**my_doc_params)"
   ]
  },
  {
   "cell_type": "code",
   "execution_count": null,
   "id": "4d3b9851-23df-40ec-b74b-9f90225e08fd",
   "metadata": {},
   "outputs": [],
   "source": []
  },
  {
   "cell_type": "markdown",
   "id": "ee02bdc9-4f98-47d3-bba0-f7fd1a319f95",
   "metadata": {},
   "source": [
    "##### 5. save_model"
   ]
  },
  {
   "cell_type": "code",
   "execution_count": 19,
   "id": "feb12f97-60ef-4cf1-8183-5b647f184d9b",
   "metadata": {},
   "outputs": [],
   "source": [
    "# str(list(my_doc_params))"
   ]
  },
  {
   "cell_type": "code",
   "execution_count": 20,
   "id": "c439a04d-1820-4583-a75c-42ecd6529334",
   "metadata": {},
   "outputs": [
    {
     "data": {
      "text/plain": [
       "dict_values([5, 48, 4, 0.01, 6, False, 'E1', 0.2])"
      ]
     },
     "execution_count": 20,
     "metadata": {},
     "output_type": "execute_result"
    }
   ],
   "source": [
    "my_doc_params.values()"
   ]
  },
  {
   "cell_type": "code",
   "execution_count": 21,
   "id": "ffe3633d-6a78-4033-8eaf-fe04f97bd32f",
   "metadata": {},
   "outputs": [],
   "source": [
    "# save model\n",
    "import torch\n",
    "torch.save(net, './data/models/model_thermal_n=' +str(n)+'_'+ str(list(my_doc_params.values())) +fr'_seed_'+ str(seed)  + '.pth')"
   ]
  },
  {
   "cell_type": "code",
   "execution_count": 22,
   "id": "4ef714d7-4e2d-4a42-9f63-e3d3bac74206",
   "metadata": {},
   "outputs": [],
   "source": [
    "# save study history\n",
    "study.trials_dataframe().to_excel(fr'data/models/trials_dataframe_n=' +str(n)+'_'+ str(list(my_doc_params.values()))+'.xlsx',index=False)"
   ]
  },
  {
   "cell_type": "code",
   "execution_count": 23,
   "id": "dc3ac22a-91b5-4aa5-9eca-d88ba3a88881",
   "metadata": {},
   "outputs": [
    {
     "data": {
      "text/html": [
       "<div>\n",
       "<style scoped>\n",
       "    .dataframe tbody tr th:only-of-type {\n",
       "        vertical-align: middle;\n",
       "    }\n",
       "\n",
       "    .dataframe tbody tr th {\n",
       "        vertical-align: top;\n",
       "    }\n",
       "\n",
       "    .dataframe thead th {\n",
       "        text-align: right;\n",
       "    }\n",
       "</style>\n",
       "<table border=\"1\" class=\"dataframe\">\n",
       "  <thead>\n",
       "    <tr style=\"text-align: right;\">\n",
       "      <th></th>\n",
       "      <th>fs</th>\n",
       "      <th>neurons</th>\n",
       "      <th>hidden_layers_num</th>\n",
       "      <th>lr</th>\n",
       "      <th>m</th>\n",
       "      <th>has_backward</th>\n",
       "      <th>method</th>\n",
       "      <th>decay_const</th>\n",
       "    </tr>\n",
       "  </thead>\n",
       "  <tbody>\n",
       "    <tr>\n",
       "      <th>0</th>\n",
       "      <td>5</td>\n",
       "      <td>48</td>\n",
       "      <td>4</td>\n",
       "      <td>0.01</td>\n",
       "      <td>6</td>\n",
       "      <td>False</td>\n",
       "      <td>E1</td>\n",
       "      <td>0.2</td>\n",
       "    </tr>\n",
       "  </tbody>\n",
       "</table>\n",
       "</div>"
      ],
      "text/plain": [
       "  fs neurons hidden_layers_num    lr  m has_backward method decay_const\n",
       "0  5      48                 4  0.01  6        False     E1         0.2"
      ]
     },
     "execution_count": 23,
     "metadata": {},
     "output_type": "execute_result"
    }
   ],
   "source": [
    "# save hyperparams\n",
    "my_doc_params['fs']=[my_doc_params['fs']]\n",
    "pd.DataFrame.from_dict(my_doc_params,dtype=str)"
   ]
  },
  {
   "cell_type": "code",
   "execution_count": 24,
   "id": "4bd4845c-0212-46e0-9b58-1b6fb5a6c594",
   "metadata": {},
   "outputs": [],
   "source": [
    "pd.DataFrame.from_dict(my_doc_params,dtype=str).to_excel(fr'data/models/best_params_n=' +str(n)+'_'+str(list(my_doc_params.values()))+'.xlsx',index=False)"
   ]
  },
  {
   "cell_type": "code",
   "execution_count": null,
   "id": "22509211-a310-4352-8a7a-41c38ddbfc26",
   "metadata": {},
   "outputs": [],
   "source": []
  },
  {
   "cell_type": "markdown",
   "id": "9bcd0010-a5c9-4f59-b18f-380203265401",
   "metadata": {},
   "source": [
    "##### 6. load_model"
   ]
  },
  {
   "cell_type": "code",
   "execution_count": 25,
   "id": "d37c96ab-c17e-46d8-be81-ac3123d748fb",
   "metadata": {},
   "outputs": [],
   "source": [
    "# neurons = 64\n",
    "# fs=7\n",
    "# epochs=100\n",
    "# m=4\n",
    "# l_wd=0#1e-3\n",
    "# seed=1\n",
    "#method='E1'\n",
    "\n",
    "# net = load_simulation_model(s_factor, t_factor, neurons, device)\n",
    "\n",
    "# net=torch.load('./models/model_thermal_n=' +str(n)+'_' + str(fs) + \"_\"+str(t_factor) +'L_' + str(neurons) + '_ep_' + str(epochs)  + '_' + \"elu\" + '_m' + str(m) + '_Lxc' +  str(s_factor) + \"_Ltc\" + str(t_factor) +  '_lwd' + str(l_wd) +fr'_WDact{method}_seed_'+ str(seed)  + '.pth')"
   ]
  },
  {
   "cell_type": "code",
   "execution_count": null,
   "id": "4ca5392d-f3c9-4922-831b-ff371b4490ad",
   "metadata": {},
   "outputs": [],
   "source": []
  },
  {
   "cell_type": "markdown",
   "id": "86627265-01fa-4b65-a7e2-fa76c8ccd9c2",
   "metadata": {},
   "source": [
    "##### 7. Simulation"
   ]
  },
  {
   "cell_type": "code",
   "execution_count": 26,
   "id": "33724ab0-d325-4cad-9dba-dbeb8494ed18",
   "metadata": {},
   "outputs": [
    {
     "name": "stdout",
     "output_type": "stream",
     "text": [
      "RK3\n"
     ]
    },
    {
     "name": "stderr",
     "output_type": "stream",
     "text": [
      "100%|███████████████████████████████████████████████████████████████| 384/384 [00:00<00:00, 387.91it/s]\n"
     ]
    }
   ],
   "source": [
    "NN_sim,T_sim,x_sim=mf.make_simulation(net,v_coarse,L,Lxc,dtc)"
   ]
  },
  {
   "cell_type": "markdown",
   "id": "050d2009-0192-4df7-8af6-b2e5db8b25dc",
   "metadata": {},
   "source": [
    "##### 8. view_results"
   ]
  },
  {
   "cell_type": "code",
   "execution_count": 27,
   "id": "3fa346b7-f7ad-4e0b-a484-58244f21ff0b",
   "metadata": {},
   "outputs": [
    {
     "data": {
      "image/png": "[encoded data removed]",
      "text/plain": [
       "<Figure size 432x288 with 1 Axes>"
      ]
     },
     "metadata": {
      "needs_background": "light"
     },
     "output_type": "display_data"
    }
   ],
   "source": [
    "mf.view_train_test_graph(x_sim,v_coarse_train,v_coarse_test)"
   ]
  },
  {
   "cell_type": "code",
   "execution_count": 28,
   "id": "0aaace8b-2b16-4f60-be15-405461957e25",
   "metadata": {},
   "outputs": [
    {
     "data": {
      "text/html": [
       "<div>\n",
       "<style scoped>\n",
       "    .dataframe tbody tr th:only-of-type {\n",
       "        vertical-align: middle;\n",
       "    }\n",
       "\n",
       "    .dataframe tbody tr th {\n",
       "        vertical-align: top;\n",
       "    }\n",
       "\n",
       "    .dataframe thead th {\n",
       "        text-align: right;\n",
       "    }\n",
       "</style>\n",
       "<table border=\"1\" class=\"dataframe\">\n",
       "  <thead>\n",
       "    <tr style=\"text-align: right;\">\n",
       "      <th></th>\n",
       "      <th>Parameter</th>\n",
       "      <th>Value</th>\n",
       "    </tr>\n",
       "  </thead>\n",
       "  <tbody>\n",
       "    <tr>\n",
       "      <th>0</th>\n",
       "      <td>fs</td>\n",
       "      <td>[5]</td>\n",
       "    </tr>\n",
       "    <tr>\n",
       "      <th>1</th>\n",
       "      <td>neurons</td>\n",
       "      <td>48</td>\n",
       "    </tr>\n",
       "    <tr>\n",
       "      <th>2</th>\n",
       "      <td>hidden_layers_num</td>\n",
       "      <td>4</td>\n",
       "    </tr>\n",
       "    <tr>\n",
       "      <th>3</th>\n",
       "      <td>act_func</td>\n",
       "      <td>ELU(alpha=1.0)</td>\n",
       "    </tr>\n",
       "    <tr>\n",
       "      <th>4</th>\n",
       "      <td>epoch</td>\n",
       "      <td>1000</td>\n",
       "    </tr>\n",
       "    <tr>\n",
       "      <th>5</th>\n",
       "      <td>lr</td>\n",
       "      <td>0.01</td>\n",
       "    </tr>\n",
       "    <tr>\n",
       "      <th>6</th>\n",
       "      <td>tau</td>\n",
       "      <td>0.000078</td>\n",
       "    </tr>\n",
       "    <tr>\n",
       "      <th>7</th>\n",
       "      <td>h</td>\n",
       "      <td>0.0125</td>\n",
       "    </tr>\n",
       "    <tr>\n",
       "      <th>8</th>\n",
       "      <td>n</td>\n",
       "      <td>81</td>\n",
       "    </tr>\n",
       "    <tr>\n",
       "      <th>9</th>\n",
       "      <td>decay_const</td>\n",
       "      <td>0.2</td>\n",
       "    </tr>\n",
       "    <tr>\n",
       "      <th>10</th>\n",
       "      <td>m</td>\n",
       "      <td>6</td>\n",
       "    </tr>\n",
       "    <tr>\n",
       "      <th>11</th>\n",
       "      <td>t_factor</td>\n",
       "      <td>10</td>\n",
       "    </tr>\n",
       "    <tr>\n",
       "      <th>12</th>\n",
       "      <td>s_factor</td>\n",
       "      <td>4</td>\n",
       "    </tr>\n",
       "    <tr>\n",
       "      <th>13</th>\n",
       "      <td>has_backward</td>\n",
       "      <td>False</td>\n",
       "    </tr>\n",
       "    <tr>\n",
       "      <th>14</th>\n",
       "      <td>train_size</td>\n",
       "      <td>0.5</td>\n",
       "    </tr>\n",
       "    <tr>\n",
       "      <th>15</th>\n",
       "      <td>method</td>\n",
       "      <td>E1</td>\n",
       "    </tr>\n",
       "    <tr>\n",
       "      <th>16</th>\n",
       "      <td>layers</td>\n",
       "      <td>[Linear(in_features=5, out_features=48, bias=True), Linear(in_features=48, out_features=48, bias=True), Linear(in_features=48, out_features=48, bias=True), Linear(in_features=48, out_features=48, bias=True), Linear(in_features=48, out_features=1, bias=True)]</td>\n",
       "    </tr>\n",
       "  </tbody>\n",
       "</table>\n",
       "</div>"
      ],
      "text/plain": [
       "            Parameter  \\\n",
       "0                  fs   \n",
       "1             neurons   \n",
       "2   hidden_layers_num   \n",
       "3            act_func   \n",
       "4               epoch   \n",
       "5                  lr   \n",
       "6                 tau   \n",
       "7                   h   \n",
       "8                   n   \n",
       "9         decay_const   \n",
       "10                  m   \n",
       "11           t_factor   \n",
       "12           s_factor   \n",
       "13       has_backward   \n",
       "14         train_size   \n",
       "15             method   \n",
       "16             layers   \n",
       "\n",
       "                                                                                                                                                                                                                                                                 Value  \n",
       "0                                                                                                                                                                                                                                                                  [5]  \n",
       "1                                                                                                                                                                                                                                                                   48  \n",
       "2                                                                                                                                                                                                                                                                    4  \n",
       "3                                                                                                                                                                                                                                                       ELU(alpha=1.0)  \n",
       "4                                                                                                                                                                                                                                                                 1000  \n",
       "5                                                                                                                                                                                                                                                                 0.01  \n",
       "6                                                                                                                                                                                                                                                             0.000078  \n",
       "7                                                                                                                                                                                                                                                               0.0125  \n",
       "8                                                                                                                                                                                                                                                                   81  \n",
       "9                                                                                                                                                                                                                                                                  0.2  \n",
       "10                                                                                                                                                                                                                                                                   6  \n",
       "11                                                                                                                                                                                                                                                                  10  \n",
       "12                                                                                                                                                                                                                                                                   4  \n",
       "13                                                                                                                                                                                                                                                               False  \n",
       "14                                                                                                                                                                                                                                                                 0.5  \n",
       "15                                                                                                                                                                                                                                                                  E1  \n",
       "16  [Linear(in_features=5, out_features=48, bias=True), Linear(in_features=48, out_features=48, bias=True), Linear(in_features=48, out_features=48, bias=True), Linear(in_features=48, out_features=48, bias=True), Linear(in_features=48, out_features=1, bias=True)]  "
      ]
     },
     "metadata": {},
     "output_type": "display_data"
    }
   ],
   "source": [
    "# todo\n",
    "my_doc_params.update({'epoch':high_epochs})\n",
    "display(mf.make_param_table(net,my_doc_params,tau,h,n,t_factor,s_factor))"
   ]
  },
  {
   "cell_type": "code",
   "execution_count": 29,
   "id": "9b59776e-2c56-4b13-b86b-4c9de27ab877",
   "metadata": {},
   "outputs": [
    {
     "data": {
      "image/png": "[encoded data removed]",
      "text/plain": [
       "<Figure size 432x288 with 1 Axes>"
      ]
     },
     "metadata": {
      "needs_background": "light"
     },
     "output_type": "display_data"
    },
    {
     "data": {
      "image/png": "[encoded data removed]",
      "text/plain": [
       "<Figure size 432x288 with 1 Axes>"
      ]
     },
     "metadata": {
      "needs_background": "light"
     },
     "output_type": "display_data"
    },
    {
     "data": {
      "image/png": "[encoded data removed]",
      "text/plain": [
       "<Figure size 432x288 with 1 Axes>"
      ]
     },
     "metadata": {
      "needs_background": "light"
     },
     "output_type": "display_data"
    },
    {
     "data": {
      "image/png": "[encoded data removed]",
      "text/plain": [
       "<Figure size 504x432 with 1 Axes>"
      ]
     },
     "metadata": {
      "needs_background": "light"
     },
     "output_type": "display_data"
    }
   ],
   "source": [
    "mf.view_results(T_sim,x_sim,NN_sim,v_coarse,T,dtc,n=3)\n",
    "\n",
    "# mf.view_result_imshow(NN_sim,v_coarse,T,dtc,L,dxc)\n",
    "\n",
    "mf.view_result_metric(NN_sim,v_coarse,T,dtc,L,dxc)"
   ]
  },
  {
   "cell_type": "code",
   "execution_count": 30,
   "id": "f1accc89-c5c0-4b0d-964c-6f89e8622da7",
   "metadata": {},
   "outputs": [
    {
     "data": {
      "image/png": "[encoded data removed]",
      "text/plain": [
       "<Figure size 432x288 with 1 Axes>"
      ]
     },
     "metadata": {
      "needs_background": "light"
     },
     "output_type": "display_data"
    },
    {
     "data": {
      "image/png": "[encoded data removed]",
      "text/plain": [
       "<Figure size 432x288 with 1 Axes>"
      ]
     },
     "metadata": {
      "needs_background": "light"
     },
     "output_type": "display_data"
    },
    {
     "data": {
      "image/png": "[encoded data removed]",
      "text/plain": [
       "<Figure size 432x288 with 1 Axes>"
      ]
     },
     "metadata": {
      "needs_background": "light"
     },
     "output_type": "display_data"
    },
    {
     "data": {
      "image/png": "[encoded data removed]",
      "text/plain": [
       "<Figure size 432x288 with 1 Axes>"
      ]
     },
     "metadata": {
      "needs_background": "light"
     },
     "output_type": "display_data"
    }
   ],
   "source": [
    "mf.plot_err_and_components_of_err(np.array(loss_lst))"
   ]
  },
  {
   "cell_type": "code",
   "execution_count": null,
   "id": "6dbcf39d-d18d-4057-a041-33475ffe4cba",
   "metadata": {},
   "outputs": [],
   "source": []
  },
  {
   "cell_type": "code",
   "execution_count": null,
   "id": "e6b9c198-068b-41df-99ba-6791217abf5a",
   "metadata": {},
   "outputs": [],
   "source": []
  },
  {
   "cell_type": "code",
   "execution_count": null,
   "id": "b0cb0869-1286-41a2-958d-2b44c991999e",
   "metadata": {},
   "outputs": [],
   "source": []
  }
 ],
 "metadata": {
  "kernelspec": {
   "display_name": "Python 3 (ipykernel)",
   "language": "python",
   "name": "python3"
  },
  "language_info": {
   "codemirror_mode": {
    "name": "ipython",
    "version": 3
   },
   "file_extension": ".py",
   "mimetype": "text/x-python",
   "name": "python",
   "nbconvert_exporter": "python",
   "pygments_lexer": "ipython3",
   "version": "3.9.12"
  }
 },
 "nbformat": 4,
 "nbformat_minor": 5
}
