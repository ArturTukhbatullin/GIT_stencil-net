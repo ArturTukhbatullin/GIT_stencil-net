{
 "cells": [
  {
   "cell_type": "markdown",
   "id": "43b10539-64e9-4ec6-8439-19e302ad34af",
   "metadata": {},
   "source": [
    "### Библиотеки"
   ]
  },
  {
   "cell_type": "code",
   "execution_count": 1,
   "id": "be960a2d-1afc-4db7-88ce-63a1a36e5ecd",
   "metadata": {},
   "outputs": [],
   "source": [
    "import pickle"
   ]
  },
  {
   "cell_type": "code",
   "execution_count": 2,
   "id": "0ff0bef2-9019-476a-941c-d011c93f52b4",
   "metadata": {},
   "outputs": [],
   "source": [
    "# from importlib import reload\n",
    "# import Experiment_6_part\n",
    "# Experiment_6_part = reload(Experiment_6_part)\n",
    "        \n",
    "from Experiment_6_part2 import *"
   ]
  },
  {
   "cell_type": "markdown",
   "id": "0d2f959c-e3ff-4085-9d96-4631c93b31dd",
   "metadata": {},
   "source": [
    "### Описание эксперимента:"
   ]
  },
  {
   "cell_type": "code",
   "execution_count": null,
   "id": "f240448e-a92e-475e-95c5-8cecc5e4167e",
   "metadata": {},
   "outputs": [],
   "source": []
  },
  {
   "cell_type": "markdown",
   "id": "88a1a160-4f89-4139-89d5-0bc7daa22a9d",
   "metadata": {},
   "source": [
    "### 0. Параметры для генерации данных"
   ]
  },
  {
   "cell_type": "code",
   "execution_count": 3,
   "id": "9954ad56-d414-426f-a2fc-9d20a4cc96a5",
   "metadata": {},
   "outputs": [],
   "source": [
    "generate_flg=True # True - генерация, False - чтение уже сгенерированных\n",
    "\n",
    "n=11 #число узлов\n",
    "# n=51\n",
    "L=1 # длина расчт области\n",
    "T=.3 #конечное время\n",
    "kurant=0.5\n",
    "\n",
    "h=L/(n-1)\n",
    "tau=kurant*(h**2)\n",
    "b=(n-1)*0.1*L #width % of L (длина участка с v=1, составляет 10% от расчт области)\n",
    "# IC\n",
    "v=[0 for i in range(0,n)]\n",
    "# v=np.abs(np.sin(np.linspace(0,np.pi,21)))\n",
    "# BC\n",
    "v[0]=0\n",
    "v[-1]=1"
   ]
  },
  {
   "cell_type": "code",
   "execution_count": null,
   "id": "fb792c45-1ed2-4d13-8ded-62c6d793fd53",
   "metadata": {},
   "outputs": [],
   "source": []
  },
  {
   "cell_type": "code",
   "execution_count": 4,
   "id": "bae264cc-1e17-4faf-a9f3-16202f05bf46",
   "metadata": {},
   "outputs": [],
   "source": [
    "epochs_lst=[10,100,1_000,5_000,10_000]\n",
    "# epochs_lst=[1,100,1_000]"
   ]
  },
  {
   "cell_type": "code",
   "execution_count": null,
   "id": "d296c734-56c3-4778-b41f-02e076f57d09",
   "metadata": {},
   "outputs": [],
   "source": []
  },
  {
   "cell_type": "markdown",
   "id": "12ffecb2-b8a7-4339-a8f2-c8407365524c",
   "metadata": {},
   "source": [
    "### 1. Генерация данных"
   ]
  },
  {
   "cell_type": "code",
   "execution_count": 5,
   "id": "6aa8c63a-1d95-4994-af4e-b4c4d02b105e",
   "metadata": {},
   "outputs": [
    {
     "name": "stdout",
     "output_type": "stream",
     "text": [
      "CUSTOM_TAU = 0.005000000000000001\n",
      "tau = 0.005000000000000001\n",
      "Генерация данных\n",
      "v_fact.shape = 11 61\n"
     ]
    }
   ],
   "source": [
    "CUSTOM_TAU=kurant*(h**2)\n",
    "print('CUSTOM_TAU =',CUSTOM_TAU)\n",
    "v_fact,x_lst,tau,time_lst=generate_data(generate_flg,v,T,L,0.5,h,n,CUSTOM_TAU=CUSTOM_TAU,save_flg=False)"
   ]
  },
  {
   "cell_type": "code",
   "execution_count": 6,
   "id": "82f540e4-300b-4476-a2e0-871c2dc19264",
   "metadata": {},
   "outputs": [
    {
     "data": {
      "text/plain": [
       "Text(0.5, 1.0, 'Фактические данные')"
      ]
     },
     "execution_count": 6,
     "metadata": {},
     "output_type": "execute_result"
    },
    {
     "data": {
      "image/png": "[encoded data removed]",
      "text/plain": [
       "<Figure size 432x288 with 1 Axes>"
      ]
     },
     "metadata": {
      "needs_background": "light"
     },
     "output_type": "display_data"
    }
   ],
   "source": [
    "#view\n",
    "plt.plot(v_fact[:,0],'o-')\n",
    "plt.plot(v_fact[:,-1],'.-')\n",
    "plt.grid()\n",
    "plt.title('Фактические данные')"
   ]
  },
  {
   "cell_type": "code",
   "execution_count": null,
   "id": "10598232-9650-4742-8cbe-cbf8e2b60fb7",
   "metadata": {},
   "outputs": [],
   "source": []
  },
  {
   "cell_type": "markdown",
   "id": "90608b94-8dc4-46dc-99b0-7247e0db0dc8",
   "metadata": {},
   "source": [
    "### 2. Сабсемплинг"
   ]
  },
  {
   "cell_type": "code",
   "execution_count": 7,
   "id": "e2f1270b-04eb-4ba0-851e-686856a7793d",
   "metadata": {},
   "outputs": [
    {
     "name": "stdout",
     "output_type": "stream",
     "text": [
      "full_sample (11, 61)\n",
      "train (11, 30)\n",
      "test (11, 31)\n"
     ]
    }
   ],
   "source": [
    "t_factor = 1  # time subsample factor \n",
    "s_factor = 1  # space subsample factor\n",
    "Tsim=len(v_fact[0])\n",
    "dxc,dtc,coarse_t,coarse_x,v_coarse,Lxc,\\\n",
    "Ltc,v_coarse_train,v_coarse_test=subsampling(s_factor,t_factor,h,tau,Tsim,n,v_fact,train_split=train_split)"
   ]
  },
  {
   "cell_type": "code",
   "execution_count": null,
   "id": "dccff044-42e9-4bc6-b198-209acd119896",
   "metadata": {},
   "outputs": [],
   "source": []
  },
  {
   "cell_type": "code",
   "execution_count": 8,
   "id": "fc65cae0-6664-4e68-903c-f60f01a4a0ba",
   "metadata": {},
   "outputs": [
    {
     "data": {
      "text/plain": [
       "Text(0.5, 1.0, 'Фактические данные после сабсемплинга')"
      ]
     },
     "execution_count": 8,
     "metadata": {},
     "output_type": "execute_result"
    },
    {
     "data": {
      "image/png": "[encoded data removed]",
      "text/plain": [
       "<Figure size 432x288 with 1 Axes>"
      ]
     },
     "metadata": {
      "needs_background": "light"
     },
     "output_type": "display_data"
    }
   ],
   "source": [
    "#view\n",
    "plt.plot(v_coarse[:,0],'o-')\n",
    "plt.plot(v_coarse[:,-1],'.-')\n",
    "plt.grid()\n",
    "plt.title('Фактические данные после сабсемплинга')"
   ]
  },
  {
   "cell_type": "code",
   "execution_count": null,
   "id": "deae0bbd-830c-4381-9246-0188d91b5154",
   "metadata": {},
   "outputs": [],
   "source": []
  },
  {
   "cell_type": "markdown",
   "id": "d50b82e9-b94d-4ed9-8cc8-147df589b3cc",
   "metadata": {},
   "source": [
    "### 3. Тренировка модели"
   ]
  },
  {
   "cell_type": "code",
   "execution_count": 9,
   "id": "274e3f48-d355-4021-87de-2c718620da41",
   "metadata": {},
   "outputs": [
    {
     "name": "stdout",
     "output_type": "stream",
     "text": [
      "input 3 output 1\n",
      "#parameters: 3\n"
     ]
    },
    {
     "name": "stderr",
     "output_type": "stream",
     "text": [
      "100%|███████████████████████████████████████████████████████████████████| 10/10 [00:00<00:00, 187.50it/s, loss=0.00128]\n"
     ]
    },
    {
     "name": "stdout",
     "output_type": "stream",
     "text": [
      "input 3 output 1\n",
      "#parameters: 3\n"
     ]
    },
    {
     "name": "stderr",
     "output_type": "stream",
     "text": [
      "100%|█████████████████████████████████████████████████████████████████| 100/100 [00:00<00:00, 259.50it/s, loss=0.00104]\n"
     ]
    },
    {
     "name": "stdout",
     "output_type": "stream",
     "text": [
      "input 3 output 1\n",
      "#parameters: 3\n"
     ]
    },
    {
     "name": "stderr",
     "output_type": "stream",
     "text": [
      "100%|██████████████████████████████████████████████████████████████| 1000/1000 [00:05<00:00, 194.41it/s, loss=0.000356]\n"
     ]
    },
    {
     "name": "stdout",
     "output_type": "stream",
     "text": [
      "input 3 output 1\n",
      "#parameters: 3\n"
     ]
    },
    {
     "name": "stderr",
     "output_type": "stream",
     "text": [
      "100%|█████████████████████████████████████████████████████████████████████| 5000/5000 [00:32<00:00, 152.13it/s, loss=0]\n"
     ]
    },
    {
     "name": "stdout",
     "output_type": "stream",
     "text": [
      "input 3 output 1\n",
      "#parameters: 3\n"
     ]
    },
    {
     "name": "stderr",
     "output_type": "stream",
     "text": [
      "100%|███████████████████████████████████████████████████████████████████| 10000/10000 [01:09<00:00, 144.67it/s, loss=0]\n"
     ]
    }
   ],
   "source": [
    "for epochs in epochs_lst:\n",
    "    \n",
    "    net, loss_lst,loss=train_net(MLPConv,v_coarse_train,epochs,dtc,\n",
    "              fs,\n",
    "              neurons,\n",
    "              hidden_layers_num,\n",
    "              lr,\n",
    "              m,\n",
    "              has_backward,\n",
    "              method,\n",
    "              decay_const\n",
    "             )\n",
    "    \n",
    "    pickle.dump(net, open(fr'Experiment_6_part2/models/net_epochs={epochs}', 'wb'))\n",
    "    "
   ]
  },
  {
   "cell_type": "code",
   "execution_count": 10,
   "id": "9a8a80f5-df9e-4738-85d3-22ee79264a67",
   "metadata": {},
   "outputs": [
    {
     "data": {
      "text/plain": [
       "Parameter containing:\n",
       "tensor([[ 100.0000, -200.0000,  100.0000]], requires_grad=True)"
      ]
     },
     "execution_count": 10,
     "metadata": {},
     "output_type": "execute_result"
    }
   ],
   "source": [
    "net.layer[0].weight"
   ]
  },
  {
   "cell_type": "code",
   "execution_count": null,
   "id": "8f7acec6-095b-4d22-b7ed-53b9906c7536",
   "metadata": {},
   "outputs": [],
   "source": []
  },
  {
   "cell_type": "markdown",
   "id": "716fcd04-dfd0-4a13-934e-9fa55e9e50ea",
   "metadata": {},
   "source": [
    "### 4. Симуляция прогноза моделью"
   ]
  },
  {
   "cell_type": "code",
   "execution_count": 11,
   "id": "c471e58f-b8f6-43c6-bcd7-790df83300d7",
   "metadata": {},
   "outputs": [
    {
     "name": "stderr",
     "output_type": "stream",
     "text": [
      "100%|████████████████████████████████████████████████████████████████████████████████| 60/60 [00:00<00:00, 1920.78it/s]\n",
      "100%|████████████████████████████████████████████████████████████████████████████████| 60/60 [00:00<00:00, 1588.90it/s]\n",
      "100%|████████████████████████████████████████████████████████████████████████████████| 60/60 [00:00<00:00, 3841.64it/s]\n",
      "100%|████████████████████████████████████████████████████████████████████████████████| 60/60 [00:00<00:00, 1920.35it/s]\n",
      "100%|████████████████████████████████████████████████████████████████████████████████| 60/60 [00:00<00:00, 3836.43it/s]\n"
     ]
    }
   ],
   "source": [
    "NN_sim_lst=[]\n",
    "\n",
    "weights=[]\n",
    "biases=[]\n",
    "\n",
    "for epochs in epochs_lst:\n",
    "    \n",
    "    net = pickle.load(open(fr'Experiment_6_part2/models/net_epochs={epochs}', 'rb'))\n",
    "    \n",
    "    NN_sim,T_sim,x_sim=make_simulation(net,v_coarse,L,Lxc,dtc,method='E1')\n",
    "    \n",
    "    NN_sim_lst.append(NN_sim)\n",
    "    \n",
    "    # print(fr'------Epochs = {epochs}------')\n",
    "    # print(net.layer[0].weight)\n",
    "    weights.append(net.layer[0].weight.data.numpy())\n",
    "    biases.append(None)"
   ]
  },
  {
   "cell_type": "code",
   "execution_count": null,
   "id": "14ffa65e-02a3-4d30-a170-f49f0478e193",
   "metadata": {},
   "outputs": [],
   "source": []
  },
  {
   "cell_type": "code",
   "execution_count": 12,
   "id": "bdc669c9-f970-42e4-a3b6-0e665467eda9",
   "metadata": {},
   "outputs": [
    {
     "data": {
      "text/html": [
       "<div>\n",
       "<style scoped>\n",
       "    .dataframe tbody tr th:only-of-type {\n",
       "        vertical-align: middle;\n",
       "    }\n",
       "\n",
       "    .dataframe tbody tr th {\n",
       "        vertical-align: top;\n",
       "    }\n",
       "\n",
       "    .dataframe thead th {\n",
       "        text-align: right;\n",
       "    }\n",
       "</style>\n",
       "<table border=\"1\" class=\"dataframe\">\n",
       "  <thead>\n",
       "    <tr style=\"text-align: right;\">\n",
       "      <th></th>\n",
       "      <th>epoch</th>\n",
       "      <th>coefs</th>\n",
       "      <th>bias</th>\n",
       "    </tr>\n",
       "  </thead>\n",
       "  <tbody>\n",
       "    <tr>\n",
       "      <th>0</th>\n",
       "      <td>10</td>\n",
       "      <td>[[4.1501346, -5.9358172, 7.5102544]]</td>\n",
       "      <td>None</td>\n",
       "    </tr>\n",
       "    <tr>\n",
       "      <th>1</th>\n",
       "      <td>100</td>\n",
       "      <td>[[-2.8203213, -13.027193, 16.02649]]</td>\n",
       "      <td>None</td>\n",
       "    </tr>\n",
       "    <tr>\n",
       "      <th>2</th>\n",
       "      <td>1000</td>\n",
       "      <td>[[0.20280817, -74.12207, 59.80763]]</td>\n",
       "      <td>None</td>\n",
       "    </tr>\n",
       "    <tr>\n",
       "      <th>3</th>\n",
       "      <td>5000</td>\n",
       "      <td>[[99.748024, -199.68323, 99.899376]]</td>\n",
       "      <td>None</td>\n",
       "    </tr>\n",
       "    <tr>\n",
       "      <th>4</th>\n",
       "      <td>10000</td>\n",
       "      <td>[[99.99999, -200.00002, 99.99999]]</td>\n",
       "      <td>None</td>\n",
       "    </tr>\n",
       "    <tr>\n",
       "      <th>5</th>\n",
       "      <td>[finite_diff_methods]</td>\n",
       "      <td>[99.99999999999999, -199.99999999999997, 99.99...</td>\n",
       "      <td>[None]</td>\n",
       "    </tr>\n",
       "  </tbody>\n",
       "</table>\n",
       "</div>"
      ],
      "text/plain": [
       "                   epoch                                              coefs  \\\n",
       "0                     10               [[4.1501346, -5.9358172, 7.5102544]]   \n",
       "1                    100               [[-2.8203213, -13.027193, 16.02649]]   \n",
       "2                   1000                [[0.20280817, -74.12207, 59.80763]]   \n",
       "3                   5000               [[99.748024, -199.68323, 99.899376]]   \n",
       "4                  10000                 [[99.99999, -200.00002, 99.99999]]   \n",
       "5  [finite_diff_methods]  [99.99999999999999, -199.99999999999997, 99.99...   \n",
       "\n",
       "     bias  \n",
       "0    None  \n",
       "1    None  \n",
       "2    None  \n",
       "3    None  \n",
       "4    None  \n",
       "5  [None]  "
      ]
     },
     "execution_count": 12,
     "metadata": {},
     "output_type": "execute_result"
    }
   ],
   "source": [
    "pd.DataFrame({'epoch':epochs_lst+[['finite_diff_methods']],\n",
    "              'coefs':weights+[[1/((dxc)**2),-2/(dxc**2),1/(dxc**2)]],\n",
    "              'bias':biases+[[None]]})"
   ]
  },
  {
   "cell_type": "code",
   "execution_count": null,
   "id": "9f6b1fa7-d756-4e6c-a900-621119a9d836",
   "metadata": {},
   "outputs": [],
   "source": []
  },
  {
   "cell_type": "code",
   "execution_count": null,
   "id": "562a8386-e544-4a91-b673-6a7e23d160ae",
   "metadata": {},
   "outputs": [],
   "source": []
  },
  {
   "cell_type": "code",
   "execution_count": null,
   "id": "0802ea0c-59b4-4802-be6f-6f887702a499",
   "metadata": {},
   "outputs": [],
   "source": []
  },
  {
   "cell_type": "markdown",
   "id": "01ae768c-4aeb-477d-b875-bb8fbe7766de",
   "metadata": {},
   "source": [
    "### 5. Результаты"
   ]
  },
  {
   "cell_type": "code",
   "execution_count": 13,
   "id": "24c7a55a-bd46-48df-9373-d5f5a1433bbe",
   "metadata": {},
   "outputs": [
    {
     "name": "stdout",
     "output_type": "stream",
     "text": [
      "---------------Epochs = 10-------------------\n"
     ]
    },
    {
     "data": {
      "image/png": "[encoded data removed]",
      "text/plain": [
       "<Figure size 504x432 with 1 Axes>"
      ]
     },
     "metadata": {
      "needs_background": "light"
     },
     "output_type": "display_data"
    },
    {
     "name": "stdout",
     "output_type": "stream",
     "text": [
      "\n",
      "\n",
      "---------------Epochs = 100-------------------\n"
     ]
    },
    {
     "data": {
      "image/png": "[encoded data removed]",
      "text/plain": [
       "<Figure size 504x432 with 1 Axes>"
      ]
     },
     "metadata": {
      "needs_background": "light"
     },
     "output_type": "display_data"
    },
    {
     "name": "stdout",
     "output_type": "stream",
     "text": [
      "\n",
      "\n",
      "---------------Epochs = 1000-------------------\n"
     ]
    },
    {
     "data": {
      "image/png": "[encoded data removed]",
      "text/plain": [
       "<Figure size 504x432 with 1 Axes>"
      ]
     },
     "metadata": {
      "needs_background": "light"
     },
     "output_type": "display_data"
    },
    {
     "name": "stdout",
     "output_type": "stream",
     "text": [
      "\n",
      "\n",
      "---------------Epochs = 5000-------------------\n"
     ]
    },
    {
     "data": {
      "image/png": "[encoded data removed]",
      "text/plain": [
       "<Figure size 504x432 with 1 Axes>"
      ]
     },
     "metadata": {
      "needs_background": "light"
     },
     "output_type": "display_data"
    },
    {
     "name": "stdout",
     "output_type": "stream",
     "text": [
      "\n",
      "\n",
      "---------------Epochs = 10000-------------------\n"
     ]
    },
    {
     "data": {
      "image/png": "[encoded data removed]",
      "text/plain": [
       "<Figure size 504x432 with 1 Axes>"
      ]
     },
     "metadata": {
      "needs_background": "light"
     },
     "output_type": "display_data"
    },
    {
     "name": "stdout",
     "output_type": "stream",
     "text": [
      "\n",
      "\n"
     ]
    }
   ],
   "source": [
    "# view_results(T_sim,x_sim,NN_sim,v_coarse,T,dtc,n=10,fix_axes=True)\n",
    "\n",
    "# view_result_imshow(NN_sim,v_coarse,T,dtc,L,dxc,figsize=(10,10))\n",
    "\n",
    "folder='Experiment_6_part2'\n",
    "\n",
    "for i in range(len(epochs_lst)):\n",
    "    \n",
    "    print(fr'---------------Epochs = {epochs_lst[i]}-------------------')\n",
    "    view_results(T_sim,x_sim,NN_sim_lst[i],v_coarse,T,dtc,n=10,fix_axes=True,\n",
    "                epochs=epochs_lst[i],\n",
    "                save_path = fr'{folder}/graphs/',\n",
    "                save_name = fr'Result_epoch={epochs_lst[i]}',\n",
    "                view_flag=False)\n",
    "    view_result_metric(NN_sim_lst[i],v_coarse,T,dtc,L,dxc,\n",
    "                       n_xticks=10,\n",
    "                       save_path = fr'{folder}/graphs/',\n",
    "                save_name = fr'Metric_epoch={epochs_lst[i]}')\n",
    "\n",
    "    make_gif(folder=fr'{folder}/graphs/',epochs=epochs_lst[i])\n",
    "\n",
    "    print('\\n')"
   ]
  },
  {
   "cell_type": "code",
   "execution_count": 14,
   "id": "b9483156-8e6e-4fce-b12a-62563d2d01f9",
   "metadata": {},
   "outputs": [
    {
     "data": {
      "text/plain": [
       "Parameter containing:\n",
       "tensor([[ 100.0000, -200.0000,  100.0000]], requires_grad=True)"
      ]
     },
     "execution_count": 14,
     "metadata": {},
     "output_type": "execute_result"
    }
   ],
   "source": [
    "net.layer[0].weight"
   ]
  },
  {
   "cell_type": "code",
   "execution_count": null,
   "id": "1df944c3-801a-4ba3-860a-d8a85522c93e",
   "metadata": {},
   "outputs": [],
   "source": []
  },
  {
   "cell_type": "code",
   "execution_count": null,
   "id": "5897d209-b95f-42aa-b37a-cea803934515",
   "metadata": {},
   "outputs": [],
   "source": []
  }
 ],
 "metadata": {
  "kernelspec": {
   "display_name": "Python 3 (ipykernel)",
   "language": "python",
   "name": "python3"
  },
  "language_info": {
   "codemirror_mode": {
    "name": "ipython",
    "version": 3
   },
   "file_extension": ".py",
   "mimetype": "text/x-python",
   "name": "python",
   "nbconvert_exporter": "python",
   "pygments_lexer": "ipython3",
   "version": "3.9.12"
  }
 },
 "nbformat": 4,
 "nbformat_minor": 5
}
