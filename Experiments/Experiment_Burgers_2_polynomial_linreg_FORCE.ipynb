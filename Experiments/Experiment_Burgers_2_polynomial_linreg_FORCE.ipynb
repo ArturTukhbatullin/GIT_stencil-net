{
 "cells": [
  {
   "cell_type": "markdown",
   "id": "43b10539-64e9-4ec6-8439-19e302ad34af",
   "metadata": {},
   "source": [
    "### Библиотеки"
   ]
  },
  {
   "cell_type": "code",
   "execution_count": 1,
   "id": "0ff0bef2-9019-476a-941c-d011c93f52b4",
   "metadata": {},
   "outputs": [],
   "source": [
    "import pickle\n",
    "from Experiment_Burgers_2_polynomial_linreg_FORCE import *"
   ]
  },
  {
   "cell_type": "code",
   "execution_count": 2,
   "id": "9ca8d57d",
   "metadata": {},
   "outputs": [],
   "source": [
    "import sys\n",
    "# sys.path.append(fr'/home/mex0/Documents/TukhbatullinAL/diplom_2/Git_stencil-net/Git_stencil-net/')\n",
    "sys.path.append('D:\\myProjects\\diplom_2\\GIT_stencil-net\\GIT_stencil-net')\n",
    "\n",
    "from utils import burgers_simulation,burgers_cd"
   ]
  },
  {
   "cell_type": "code",
   "execution_count": 3,
   "id": "8f8b2d4b",
   "metadata": {},
   "outputs": [],
   "source": [
    "BC_TYPE='dirichlet'; BC_VALUES=[0,0]"
   ]
  },
  {
   "cell_type": "code",
   "execution_count": 4,
   "id": "3e190d5a-8cd1-4d80-94c2-592215fc47b5",
   "metadata": {},
   "outputs": [],
   "source": [
    "# ALGORITHM='rmsprop'\n",
    "\n",
    "# ALGORITHM='adam_fromHighToLow'\n",
    "\n",
    "\n",
    "ALGORITHM=''"
   ]
  },
  {
   "cell_type": "markdown",
   "id": "0d2f959c-e3ff-4085-9d96-4631c93b31dd",
   "metadata": {},
   "source": [
    "### Описание эксперимента:"
   ]
  },
  {
   "cell_type": "markdown",
   "id": "d761589d-49a4-4142-a421-54fc2cbbf03e",
   "metadata": {},
   "source": [
    "- Поиск конечно - разностной аналогии"
   ]
  },
  {
   "cell_type": "markdown",
   "id": "88a1a160-4f89-4139-89d5-0bc7daa22a9d",
   "metadata": {},
   "source": [
    "### 0. Параметры для генерации данных"
   ]
  },
  {
   "cell_type": "code",
   "execution_count": 5,
   "id": "30c98b40",
   "metadata": {},
   "outputs": [],
   "source": [
    "# folder='Experiment_burgers_2_polynomial_linreg_FORCE'\n",
    "\n",
    "folder='Experiment_burgers_2_polynomial_linreg_6_FORCE'"
   ]
  },
  {
   "cell_type": "code",
   "execution_count": 6,
   "id": "3620733c-904a-4b7b-9b8e-80c79ffd9de8",
   "metadata": {},
   "outputs": [
    {
     "data": {
      "text/plain": [
       "device(type='cpu')"
      ]
     },
     "execution_count": 6,
     "metadata": {},
     "output_type": "execute_result"
    }
   ],
   "source": [
    "device"
   ]
  },
  {
   "cell_type": "code",
   "execution_count": 7,
   "id": "63ca00b0",
   "metadata": {},
   "outputs": [],
   "source": [
    "# epochs_lst=[10,100,1_000,5_000]\n",
    "# epochs_lst=[30_000]\n",
    "epochs_lst=[60_000]\n",
    "# epochs_lst=[150_000]\n",
    "\n",
    "new_epoch_lst=[None]\n",
    "# new_epoch_lst=[60_000]\n",
    "# new_epoch_lst=[150_000]"
   ]
  },
  {
   "cell_type": "code",
   "execution_count": 8,
   "id": "bf890af5",
   "metadata": {},
   "outputs": [],
   "source": [
    "# для сил\n",
    "np.random.seed(0)\n",
    "\n",
    "L = 2.0*np.pi; T_ = 40;  Al = -0.1; Ar = 0.1; wl = -0.4; wr = 0.4; N = 20\n",
    "A = np.zeros((N,)); w = np.zeros((N,)); phi = np.zeros((N,)); l = np.zeros((N,))\n",
    "\n",
    "for k in range(0, N):\n",
    "    A[k] = (Ar-Al)*np.random.rand(1) + Al\n",
    "    w[k] = (wr-wl)*np.random.rand(1) + wl\n",
    "    phi[k] = (2.0*np.pi)*np.random.rand(1)\n",
    "    l[k] = np.random.randint(2, 5)"
   ]
  },
  {
   "cell_type": "markdown",
   "id": "12ffecb2-b8a7-4339-a8f2-c8407365524c",
   "metadata": {},
   "source": [
    "### 1. Генерация данных"
   ]
  },
  {
   "cell_type": "code",
   "execution_count": 9,
   "id": "b6376c5d",
   "metadata": {},
   "outputs": [
    {
     "name": "stdout",
     "output_type": "stream",
     "text": [
      "CFL dt 0.04973345629170752 actual dt 0.01\n"
     ]
    }
   ],
   "source": [
    "# n = 256; Tsim = 80001;\n",
    "# tau = 0.002\n",
    "\n",
    "# n = 64; Tsim = 20001;\n",
    "# tau=0.008\n",
    "\n",
    "#GOOD\n",
    "# n = 128; Tsim = 40001;\n",
    "# tau=0.004\n",
    "\n",
    "#GOOD\n",
    "# n = 128; Tsim = 20001;\n",
    "# tau=0.008\n",
    "\n",
    "# n = 101; Tsim = 20001;\n",
    "# tau=0.008\n",
    "\n",
    "# Norm\n",
    "# n = 256; Tsim = 16000;\n",
    "# tau=0.01\n",
    "\n",
    "# n = 256; Tsim = 16001;\n",
    "# tau=0.01\n",
    "\n",
    "\n",
    "# n = 256; Tsim = 8001;\n",
    "# tau=0.01\n",
    "\n",
    "n = 64; Tsim = 16001; tau=0.01; D=0.1\n",
    "\n",
    "x_lst = np.linspace(0,L,n); h = x_lst[1] - x_lst[0]; #D = 0.02; \n",
    "\n",
    "CFL = (h*h)/(2.0*D)\n",
    "print(\"CFL dt\", CFL, \"actual dt\", tau)"
   ]
  },
  {
   "cell_type": "code",
   "execution_count": 10,
   "id": "14107531",
   "metadata": {},
   "outputs": [],
   "source": [
    "# ##generate (by WENO + RK3)\n",
    "# v_fact2, phase = burgers_simulation(Tsim, n, x_lst, D, tau, A, w, phi, l, N, L,bc_type=BC_TYPE,bc_values=BC_VALUES)\n",
    "\n",
    "# ##save\n",
    "# pickle.dump(v_fact, open(fr'{folder}/data/v_fact_n={n}_Tsim={Tsim}.pkl', 'wb'))\n",
    "# pickle.dump(phase, open(fr'{folder}/data/phase_n={n}_Tsim={Tsim}.pkl', 'wb'))\n",
    "\n",
    "##load\n",
    "# v_fact=pickle.load( open(fr'{folder}/data/v_fact_n={n}_Tsim={Tsim}.pkl', 'rb'))\n",
    "# phase=pickle.load( open(fr'{folder}/data/phase_n={n}_Tsim={Tsim}.pkl', 'rb'))"
   ]
  },
  {
   "cell_type": "code",
   "execution_count": 11,
   "id": "1be2b5e1",
   "metadata": {},
   "outputs": [],
   "source": [
    "# ##generate (by UPWIND)\n",
    "# v_fact = burgers_upwind(Tsim, n, x_lst, D, tau, A, w, phi, l, N, L,bc_type=BC_TYPE,bc_values=BC_VALUES)\n",
    "\n",
    "#save\n",
    "# pickle.dump(v_fact, open(fr'{folder}/data/v_fact_UPWIND_n={n}_Tsim={Tsim}.pkl', 'wb'))\n",
    "\n",
    "##load\n",
    "# v_fact=pickle.load( open(fr'{folder}/data/v_fact_UPWIND_n={n}_Tsim={Tsim}.pkl', 'rb'))"
   ]
  },
  {
   "cell_type": "code",
   "execution_count": 12,
   "id": "0101ce7e",
   "metadata": {},
   "outputs": [],
   "source": [
    "# ##generate (by CD)\n",
    "# v_fact2 = burgers_cd(Tsim, n, x_lst, D, tau, A, w, phi, l, N, L,bc_type=BC_TYPE,bc_values=BC_VALUES)\n",
    "\n",
    "#save\n",
    "# pickle.dump(v_fact2, open(fr'{folder}/data/v_fact_CD_n={n}_Tsim={Tsim}.pkl', 'wb'))\n",
    "\n",
    "##load\n",
    "# v_fact=pickle.load( open(fr'{folder}/data/v_fact_CD_n={256}_Tsim={80001}.pkl', 'rb'))\n",
    "\n",
    "v_fact=pickle.load( open(fr'{folder}/data/v_fact_CD_n={n}_Tsim={Tsim}_D={D}.pkl', 'rb'))"
   ]
  },
  {
   "cell_type": "code",
   "execution_count": 13,
   "id": "82f540e4-300b-4476-a2e0-871c2dc19264",
   "metadata": {},
   "outputs": [
    {
     "data": {
      "text/plain": [
       "Text(0.5, 1.0, 'Фактические данные')"
      ]
     },
     "execution_count": 13,
     "metadata": {},
     "output_type": "execute_result"
    },
    {
     "data": {
      "image/png": "[encoded data removed]",
      "text/plain": [
       "<Figure size 640x480 with 1 Axes>"
      ]
     },
     "metadata": {},
     "output_type": "display_data"
    }
   ],
   "source": [
    "#view\n",
    "plt.plot(v_fact[:,0],'o-')\n",
    "plt.plot(v_fact[:,-1],'.-')\n",
    "plt.grid()\n",
    "plt.title('Фактические данные')"
   ]
  },
  {
   "cell_type": "code",
   "execution_count": 14,
   "id": "f6ac745f",
   "metadata": {},
   "outputs": [],
   "source": [
    "# #view\n",
    "# for tn in [50,100,200,250,300,500,750,1000,2000,4000,6000,8000,-1]:\n",
    "#     # tn=500\n",
    "#     t1, t2=int(5*tn),int(1*tn)\n",
    "#     print(t1,t2)\n",
    "#     plt.figure()\n",
    "#     plt.plot([i*L/256 for i in range(256)],v_fact[:,t1],'o-')\n",
    "#     plt.plot([i*h for i in range(256)],v_fact2[:,t2],'.-')\n",
    "#     plt.grid()\n",
    "#     plt.title('Фактические данные')"
   ]
  },
  {
   "cell_type": "code",
   "execution_count": 15,
   "id": "9b1cd725",
   "metadata": {},
   "outputs": [
    {
     "name": "stdout",
     "output_type": "stream",
     "text": [
      "h 0.09973310011396169 0.009946691258341505\n",
      "tau 0.01\n"
     ]
    }
   ],
   "source": [
    "print('h',h,h**2)\n",
    "print('tau',tau)\n",
    "assert tau/h<=1,'не выполнено ограничение на число Куранта'"
   ]
  },
  {
   "cell_type": "markdown",
   "id": "90608b94-8dc4-46dc-99b0-7247e0db0dc8",
   "metadata": {},
   "source": [
    "### 2. Сабсемплинг"
   ]
  },
  {
   "cell_type": "code",
   "execution_count": 16,
   "id": "e2f1270b-04eb-4ba0-851e-686856a7793d",
   "metadata": {},
   "outputs": [
    {
     "name": "stdout",
     "output_type": "stream",
     "text": [
      "full_sample (64, 16001)\n",
      "train (64, 4000)\n",
      "test (64, 12001)\n"
     ]
    }
   ],
   "source": [
    "t_factor = 1  # time subsample factor \n",
    "s_factor = 1  # space subsample factor\n",
    "\n",
    "# t_factor = 20\n",
    "# s_factor = 4\n",
    "\n",
    "# t_factor = 20\n",
    "# s_factor = 5\n",
    "\n",
    "# t_factor = 5\n",
    "# s_factor = 5\n",
    "\n",
    "Tsim=len(v_fact[0])\n",
    "dxc,dtc,coarse_t,coarse_x,v_coarse,Lxc,\\\n",
    "Ltc,v_coarse_train,v_coarse_test=subsampling(s_factor,t_factor,h,tau,Tsim,n,v_fact,train_split=train_split)"
   ]
  },
  {
   "cell_type": "code",
   "execution_count": 17,
   "id": "ca14a74a",
   "metadata": {},
   "outputs": [
    {
     "data": {
      "text/plain": [
       "np.float64(0.10026761414789406)"
      ]
     },
     "execution_count": 17,
     "metadata": {},
     "output_type": "execute_result"
    }
   ],
   "source": [
    "tau/h"
   ]
  },
  {
   "cell_type": "code",
   "execution_count": 18,
   "id": "b11d08c7",
   "metadata": {},
   "outputs": [
    {
     "data": {
      "text/plain": [
       "np.float64(0.10026761414789406)"
      ]
     },
     "execution_count": 18,
     "metadata": {},
     "output_type": "execute_result"
    }
   ],
   "source": [
    "(t_factor*tau)/(s_factor*h)"
   ]
  },
  {
   "cell_type": "code",
   "execution_count": 19,
   "id": "fa6668b9",
   "metadata": {},
   "outputs": [
    {
     "data": {
      "text/plain": [
       "[<matplotlib.lines.Line2D at 0x1588460ecd0>]"
      ]
     },
     "execution_count": 19,
     "metadata": {},
     "output_type": "execute_result"
    },
    {
     "data": {
      "image/png": "[encoded data removed]",
      "text/plain": [
       "<Figure size 640x480 with 1 Axes>"
      ]
     },
     "metadata": {},
     "output_type": "display_data"
    },
    {
     "data": {
      "image/png": "[encoded data removed]",
      "text/plain": [
       "<Figure size 640x480 with 1 Axes>"
      ]
     },
     "metadata": {},
     "output_type": "display_data"
    },
    {
     "data": {
      "image/png": "[encoded data removed]",
      "text/plain": [
       "<Figure size 640x480 with 1 Axes>"
      ]
     },
     "metadata": {},
     "output_type": "display_data"
    }
   ],
   "source": [
    "##check right point\n",
    "plt.figure()\n",
    "plt.plot(v_fact[0,:])\n",
    "plt.plot(v_fact[-1,:],'--')\n",
    "\n",
    "plt.figure()\n",
    "plt.plot(v_coarse_train[0,:])\n",
    "plt.plot(v_coarse_train[-1,:],'--')\n",
    "\n",
    "plt.figure()\n",
    "plt.plot(v_coarse_test[0,:])\n",
    "plt.plot(v_coarse_test[-1,:],'--')"
   ]
  },
  {
   "cell_type": "code",
   "execution_count": 20,
   "id": "dccff044-42e9-4bc6-b198-209acd119896",
   "metadata": {},
   "outputs": [
    {
     "data": {
      "text/plain": [
       "(np.False_, np.float64(0.09973310011396169))"
      ]
     },
     "execution_count": 20,
     "metadata": {},
     "output_type": "execute_result"
    }
   ],
   "source": [
    "dxc==dtc, dxc"
   ]
  },
  {
   "cell_type": "code",
   "execution_count": 21,
   "id": "fc65cae0-6664-4e68-903c-f60f01a4a0ba",
   "metadata": {},
   "outputs": [
    {
     "data": {
      "text/plain": [
       "Text(0.5, 1.0, 'Фактические данные после сабсемплинга')"
      ]
     },
     "execution_count": 21,
     "metadata": {},
     "output_type": "execute_result"
    },
    {
     "data": {
      "image/png": "[encoded data removed]",
      "text/plain": [
       "<Figure size 640x480 with 1 Axes>"
      ]
     },
     "metadata": {},
     "output_type": "display_data"
    }
   ],
   "source": [
    "plt.figure()\n",
    "time=0 #first time\n",
    "plt.plot(x_lst[coarse_x],v_coarse[:,time],'*',color='red',label=str(s_factor) + 'x FACT')\n",
    "plt.plot(x_lst,v_fact[:,t_factor*time],'.',color='blue',label='FACT')\n",
    "time=v_coarse.shape[1]-1 #last time\n",
    "plt.plot(x_lst[coarse_x],v_coarse[:,time],'*',color='red',label=str(s_factor) + 'x FACT')\n",
    "plt.plot(x_lst,v_fact[:,t_factor*time],'.',color='blue',label='FACT')\n",
    "plt.legend()\n",
    "# plt.title(\" Time slice at t=0 and t = \" + str(time))\n",
    "# plt.show()\n",
    "plt.title('Фактические данные после сабсемплинга')"
   ]
  },
  {
   "cell_type": "code",
   "execution_count": 22,
   "id": "8d4fe270",
   "metadata": {},
   "outputs": [
    {
     "data": {
      "text/plain": [
       "(64, 4000)"
      ]
     },
     "execution_count": 22,
     "metadata": {},
     "output_type": "execute_result"
    }
   ],
   "source": [
    "v_coarse_train.shape"
   ]
  },
  {
   "cell_type": "code",
   "execution_count": 23,
   "id": "aac86116-a853-4320-b0b0-b595113ef05b",
   "metadata": {},
   "outputs": [
    {
     "data": {
      "text/plain": [
       "1.0"
      ]
     },
     "execution_count": 23,
     "metadata": {},
     "output_type": "execute_result"
    }
   ],
   "source": [
    "lr"
   ]
  },
  {
   "cell_type": "code",
   "execution_count": null,
   "id": "794ea641-230d-41a8-9c13-0a1c05e36124",
   "metadata": {},
   "outputs": [],
   "source": [
    "assert 1==2, 'stop point'"
   ]
  },
  {
   "cell_type": "markdown",
   "id": "d50b82e9-b94d-4ed9-8cc8-147df589b3cc",
   "metadata": {},
   "source": [
    "### 3. Тренировка модели"
   ]
  },
  {
   "cell_type": "code",
   "execution_count": 24,
   "id": "de9ac689",
   "metadata": {},
   "outputs": [],
   "source": [
    "from utils import forcing_terms\n",
    "\n",
    "Fc, Fc_0p5, Fc_p1, Fc_0m5, Fc_m1 = forcing_terms(A, w, phi, l, L, Lxc, T_, Ltc, N, dtc)\n",
    "\n",
    "# u_train = torch.tensor(v_coarse_train.T, requires_grad=True, dtype=torch.float, device=device)\n",
    "fc      = torch.tensor(Fc.T, requires_grad=True, dtype=torch.float, device=device)\n",
    "fc_0p5  = torch.tensor(Fc_0p5.T, requires_grad=True, dtype=torch.float, device=device)\n",
    "fc_p1   = torch.tensor(Fc_p1.T, requires_grad=True, dtype=torch.float, device=device)\n",
    "fc_0m5  = torch.tensor(Fc_0m5.T, requires_grad=True, dtype=torch.float, device=device)\n",
    "fc_m1   = torch.tensor(Fc_m1.T, requires_grad=True, dtype=torch.float, device=device)"
   ]
  },
  {
   "cell_type": "code",
   "execution_count": null,
   "id": "a006e42e-c9e3-4747-b82b-0a49b81235af",
   "metadata": {},
   "outputs": [],
   "source": [
    "# lr=10\n",
    "\n",
    "lr"
   ]
  },
  {
   "cell_type": "code",
   "execution_count": null,
   "id": "274e3f48-d355-4021-87de-2c718620da41",
   "metadata": {},
   "outputs": [],
   "source": [
    "\n",
    "for i in range(len(epochs_lst)):\n",
    "    epoch=epochs_lst[i]\n",
    "    if new_epoch_lst==[None]:\n",
    "        print('starting study')\n",
    "        net, loss_lst,loss=train_net(MLPConv,v_coarse_train,epoch,dtc,\n",
    "                    fs,\n",
    "                    neurons,\n",
    "                    hidden_layers_num,\n",
    "                    lr,\n",
    "                    m,\n",
    "                    has_backward,\n",
    "                    method,\n",
    "                    decay_const,\n",
    "                    force_terms=[fc,fc_0p5,fc_p1,fc_0m5,fc_m1],\n",
    "                    bc_type=BC_TYPE,bc_values=BC_VALUES,\n",
    "                    verbose=True,\n",
    "                    verbose_step=1000,\n",
    "                    continue_fitting=None)\n",
    "        pickle.dump(net, open(fr'{folder}/models/net_epochs={epoch}_device={device}', 'wb'))\n",
    "    else:\n",
    "        print('continue study')\n",
    "        new_epoch=new_epoch_lst[i]\n",
    "        net = pickle.load(open(fr'{folder}/models/net_epochs={epoch}_device={device}', 'rb'))\n",
    "        net, loss_lst,loss=train_net(MLPConv,v_coarse_train,new_epoch-epoch,dtc,\n",
    "                    fs,\n",
    "                    neurons,\n",
    "                    hidden_layers_num,\n",
    "                    lr,\n",
    "                    m,\n",
    "                    has_backward,\n",
    "                    method,\n",
    "                    decay_const,\n",
    "                    force_terms=[fc,fc_0p5,fc_p1,fc_0m5,fc_m1],\n",
    "                    bc_type=BC_TYPE,bc_values=BC_VALUES,\n",
    "                    verbose=True,\n",
    "                    verbose_step=1000,\n",
    "                    continue_fitting=[net,new_epoch])\n",
    "        \n",
    "        pickle.dump(net, open(fr'{folder}/models/cf_net_epochs={new_epoch}_device={device}', 'wb'))"
   ]
  },
  {
   "cell_type": "code",
   "execution_count": null,
   "id": "01e17328-b5a2-4124-8442-6ef84817e567",
   "metadata": {},
   "outputs": [],
   "source": [
    "if new_epoch_lst!=[None]:\n",
    "    epochs_lst=new_epoch_lst"
   ]
  },
  {
   "cell_type": "code",
   "execution_count": null,
   "id": "fb77f067",
   "metadata": {},
   "outputs": [],
   "source": [
    "net.layer[-1].weight"
   ]
  },
  {
   "cell_type": "code",
   "execution_count": null,
   "id": "171a5c7f",
   "metadata": {},
   "outputs": [],
   "source": [
    "h, tau, D"
   ]
  },
  {
   "cell_type": "code",
   "execution_count": null,
   "id": "9e6a378c",
   "metadata": {},
   "outputs": [],
   "source": [
    "assert 1==2, 'stop point'"
   ]
  },
  {
   "cell_type": "markdown",
   "id": "716fcd04-dfd0-4a13-934e-9fa55e9e50ea",
   "metadata": {},
   "source": [
    "### 4. Симуляция прогноза моделью"
   ]
  },
  {
   "cell_type": "code",
   "execution_count": null,
   "id": "c6a00385",
   "metadata": {},
   "outputs": [],
   "source": [
    "# my_pred=torch.tensor(v_coarse[:,0])+tau*net(torch.tensor(v_coarse[:,0],dtype=torch.float,device=device))\n",
    "\n",
    "# plt.plot(v_coarse[:,0],'-*')\n",
    "# plt.plot(v_coarse[:,1],'--')\n",
    "\n",
    "# plt.plot(my_pred.detach().numpy(),color='cyan')"
   ]
  },
  {
   "cell_type": "code",
   "execution_count": 25,
   "id": "26e4e06b",
   "metadata": {},
   "outputs": [
    {
     "data": {
      "text/plain": [
       "[60000]"
      ]
     },
     "execution_count": 25,
     "metadata": {},
     "output_type": "execute_result"
    }
   ],
   "source": [
    "epochs_lst"
   ]
  },
  {
   "cell_type": "code",
   "execution_count": null,
   "id": "c471e58f-b8f6-43c6-bcd7-790df83300d7",
   "metadata": {},
   "outputs": [
    {
     "name": "stdout",
     "output_type": "stream",
     "text": [
      "E1\n"
     ]
    },
    {
     "name": "stderr",
     "output_type": "stream",
     "text": [
      " 27%|██▋       | 4345/16000 [00:00<00:02, 5347.57it/s]"
     ]
    }
   ],
   "source": [
    "NN_sim_lst=[]\n",
    "\n",
    "weights=[]\n",
    "biases=[]\n",
    "\n",
    "for epochs in epochs_lst:\n",
    "    \n",
    "    net = pickle.load(open(fr'{folder}/models/net_epochs={epochs}_device={device}', 'rb'))\n",
    "    # NN_sim,T_sim,x_sim=make_simulation(net,v_coarse,L,Lxc,dtc,method=method,\n",
    "                                              # bc_type=BC_TYPE,bc_values=BC_VALUES)\n",
    "    NN_sim,T_sim,x_sim=make_simulation_forcing(net,v_coarse[:,:],L,Lxc,dtc,\\\n",
    "                                              A,phi,N,w,l,method=method,\n",
    "                                              bc_type=BC_TYPE,bc_values=BC_VALUES)\n",
    "    \n",
    "    NN_sim_lst.append(NN_sim)\n",
    "    \n",
    "    try:\n",
    "        weights.append(net.layer[0].weight.data.numpy())\n",
    "    except:\n",
    "        weights.append(net.layer[0].weight.cpu().data.numpy())\n",
    "        \n",
    "    biases.append(None)"
   ]
  },
  {
   "cell_type": "code",
   "execution_count": null,
   "id": "7d3fd20f",
   "metadata": {},
   "outputs": [],
   "source": [
    "pickle.dump(NN_sim,open(fr'{folder}/data/NN_sim_{epochs}_{n}_{Tsim}.pkl','wb'))"
   ]
  },
  {
   "cell_type": "code",
   "execution_count": null,
   "id": "bcb821ad-1a69-4772-a060-b566d9259c7d",
   "metadata": {},
   "outputs": [],
   "source": [
    "v_coarse.shape"
   ]
  },
  {
   "cell_type": "code",
   "execution_count": null,
   "id": "972bb99c",
   "metadata": {},
   "outputs": [],
   "source": [
    "if len(weights[0][0])==9:\n",
    "    coef_name=['u_l','u','u_r','u_l*u','u^2','u_r*u','u_l^2','u_r^2','u_r*r_l']\n",
    "    true_coeffs=[D/h/h/s_factor/s_factor,-2*D/h/h/s_factor/s_factor,\n",
    "                D/h/h/s_factor/s_factor,0.0,0.0,0.0,1/2/h/s_factor,-1/2/h/s_factor,0.0]\n",
    "    true_coeffs_df=pd.DataFrame({'coef_name':coef_name,'true_coef_value':true_coeffs})\n",
    "    for i in range(len(epochs_lst)):\n",
    "        true_coeffs_df[fr'epoch={epochs_lst[i]}']=weights[i][0]\n",
    "    display(true_coeffs_df)\n",
    "\n",
    "elif len(weights[0][0])==6:\n",
    "\n",
    "    coef_name=['u_l','u','u_r','u^2','u_l^2','u_r^2']\n",
    "    true_coeffs=[D/h/h/s_factor/s_factor,-2*D/h/h/s_factor/s_factor,\n",
    "                D/h/h/s_factor/s_factor,0,1/2/h/s_factor,-1/2/h/s_factor]\n",
    "    true_coeffs_df=pd.DataFrame({'coef_name':coef_name,'true_coef_value':true_coeffs})\n",
    "    for i in range(len(epochs_lst)):\n",
    "        true_coeffs_df[fr'epoch={epochs_lst[i]}']=weights[i][0]\n",
    "    display(true_coeffs_df)"
   ]
  },
  {
   "cell_type": "code",
   "execution_count": null,
   "id": "f2d23167",
   "metadata": {},
   "outputs": [],
   "source": [
    "print(np.round(true_coeffs_df['true_coef_value'],3).to_list())"
   ]
  },
  {
   "cell_type": "code",
   "execution_count": null,
   "id": "9aa7f58d",
   "metadata": {},
   "outputs": [],
   "source": [
    "print(np.round(true_coeffs_df['epoch=60000'],3).to_list())"
   ]
  },
  {
   "cell_type": "code",
   "execution_count": null,
   "id": "ddc92bea",
   "metadata": {},
   "outputs": [],
   "source": [
    "net.layer[0].weight[0]"
   ]
  },
  {
   "cell_type": "code",
   "execution_count": null,
   "id": "a23ac583",
   "metadata": {},
   "outputs": [],
   "source": [
    "# s_factor=5\n",
    "# t_factor=25\n",
    "# coef_name=['u_l','u','u_r','u_l*u','u^2','u_r*u','u_l^2','u_r^2','u_r*r_l']\n",
    "# true_coeffs=[D/h/h/s_factor/s_factor,-2*D/h/h/s_factor/s_factor,\n",
    "#              D/h/h/s_factor/s_factor,0.0,0.0,0.0,1/2/h/s_factor,-1/2/h/s_factor,0.0]\n",
    "# true_coeffs_df=pd.DataFrame({'coef_name':coef_name,'true_coef_value':true_coeffs})"
   ]
  },
  {
   "cell_type": "code",
   "execution_count": null,
   "id": "3ce2f3e0",
   "metadata": {},
   "outputs": [],
   "source": [
    "tau/h/h"
   ]
  },
  {
   "cell_type": "code",
   "execution_count": null,
   "id": "261427eb",
   "metadata": {},
   "outputs": [],
   "source": [
    "t_factor*tau/h/h/(s_factor*s_factor)"
   ]
  },
  {
   "cell_type": "code",
   "execution_count": null,
   "id": "05b79b69",
   "metadata": {},
   "outputs": [],
   "source": [
    "for i in true_coeffs:\n",
    "    print(i)"
   ]
  },
  {
   "cell_type": "code",
   "execution_count": null,
   "id": "bdc669c9-f970-42e4-a3b6-0e665467eda9",
   "metadata": {},
   "outputs": [],
   "source": [
    "# pd.DataFrame({'epoch':epochs_lst+[['finite_diff_methods']],\n",
    "#               'coefs':weights+[true_coeffs],\n",
    "#               'bias':biases+[[None]]})"
   ]
  },
  {
   "cell_type": "code",
   "execution_count": null,
   "id": "9f6b1fa7-d756-4e6c-a900-621119a9d836",
   "metadata": {},
   "outputs": [],
   "source": [
    "print(dxc)"
   ]
  },
  {
   "cell_type": "markdown",
   "id": "01ae768c-4aeb-477d-b875-bb8fbe7766de",
   "metadata": {},
   "source": [
    "### 5. Результаты"
   ]
  },
  {
   "cell_type": "code",
   "execution_count": null,
   "id": "bd13b4a1",
   "metadata": {},
   "outputs": [],
   "source": [
    "T=round(T_sim*dtc,3)\n",
    "T"
   ]
  },
  {
   "cell_type": "code",
   "execution_count": null,
   "id": "84415b6c",
   "metadata": {},
   "outputs": [],
   "source": [
    "# err=np.abs(v_coarse[:,:]-NN_sim)\n",
    "# mae_list=[err[:,i].mean() for i in range(err.shape[1])]\n",
    "# mae_df=pd.DataFrame({'method':method,'mae_list':mae_list}).to_csv(fr'{method}_mae.csv')"
   ]
  },
  {
   "cell_type": "code",
   "execution_count": null,
   "id": "c3ab7518",
   "metadata": {},
   "outputs": [],
   "source": [
    "net.layer[0].weight"
   ]
  },
  {
   "cell_type": "code",
   "execution_count": null,
   "id": "24c7a55a-bd46-48df-9373-d5f5a1433bbe",
   "metadata": {},
   "outputs": [],
   "source": [
    "\n",
    "for i in range(len(epochs_lst)):\n",
    "    \n",
    "    print(fr'---------------Epochs = {epochs_lst[i]}-------------------')\n",
    "    # view_results(T_sim,x_sim,NN_sim_lst[i],v_coarse[:,:],T,dtc,n=11,fix_axes=True,\n",
    "    #             epochs=epochs_lst[i],\n",
    "    #             save_path = fr'{folder}/graphs/',\n",
    "    #             save_name = fr'Result_epoch={epochs_lst[i]}',\n",
    "    #             view_flag=False)\n",
    "    view_result_metric(NN_sim_lst[i],v_coarse[:,:],T,dtc,L,dxc,\n",
    "                       n_xticks=2000,\n",
    "                       save_path = fr'{folder}/graphs/',\n",
    "                save_name = fr'Metric_epoch={epochs_lst[i]}')\n",
    "\n",
    "    view_result_imshow(NN_sim_lst[i],v_coarse[:,:],T,dtc,L,dxc,\n",
    "                       figsize=(10,5),aspect=100,n_xticks=2001,n_yticks=10,\n",
    "                       save_path = fr'{folder}/graphs/',\n",
    "                       save_name = fr'Imshow_epoch={epochs_lst[i]}',\n",
    "                       fix_colorbar_axes=False,\n",
    "                       colorbar_min_max=[-0.1,1.1],cmap='seismic'\n",
    "                       )\n",
    "    \n",
    "    # make_gif(folder=fr'{folder}/graphs/',epochs=epochs_lst[i])\n",
    "\n",
    "    # make_gif(folder=fr'{folder}/graphs/',epochs=epochs_lst[i],format='mp4')\n",
    "\n",
    "    make_subplot_graphs(NN_sim_lst[i], v_coarse, x_sim, T_sim, T, dtc,16,nx=4,ny=4,\n",
    "                        figsize=(20,20),\n",
    "                        save_flg=True,\n",
    "                        save_path = fr'{folder}/graphs/',\n",
    "                        save_name=fr'SUBPLOT_{epochs_lst[i]}')\n",
    "\n",
    "    print('\\n')\n",
    "print('done')"
   ]
  },
  {
   "cell_type": "code",
   "execution_count": null,
   "id": "c71d520a-6794-4250-86ea-3b9daa729202",
   "metadata": {},
   "outputs": [],
   "source": [
    "has_backward"
   ]
  },
  {
   "cell_type": "code",
   "execution_count": null,
   "id": "7ccf3bca",
   "metadata": {},
   "outputs": [],
   "source": [
    "make_subplot_graphs(NN_sim_lst[i], v_coarse, x_sim, T_sim, T, dtc,100,nx=10,ny=10,\n",
    "                        figsize=(30,30),\n",
    "                        save_flg=False,\n",
    "                        save_path = fr'{folder}/graphs_{ALGORITHM}/',\n",
    "                        save_name=fr'SUBPLOT_{epochs_lst[i]}')"
   ]
  },
  {
   "cell_type": "code",
   "execution_count": null,
   "id": "38fc60cd",
   "metadata": {},
   "outputs": [],
   "source": [
    "for j in range(T_sim):\n",
    "    temp=NN_sim_lst[0][:,j]-v_coarse[:,j]\n",
    "\n",
    "    if max(temp)>0.3:\n",
    "        print(j)"
   ]
  },
  {
   "cell_type": "code",
   "execution_count": null,
   "id": "4074aa07",
   "metadata": {},
   "outputs": [],
   "source": [
    "plt.plot(NN_sim_lst[0][:,104],label='net')\n",
    "plt.plot(v_coarse[:,104],label='fact')\n",
    "plt.legend()\n",
    "plt.title(104)\n",
    "plt.grid()"
   ]
  },
  {
   "cell_type": "code",
   "execution_count": null,
   "id": "bcc1b831",
   "metadata": {},
   "outputs": [],
   "source": [
    "v_coarse.shape"
   ]
  },
  {
   "cell_type": "markdown",
   "id": "8ead6d90",
   "metadata": {},
   "source": [
    "### RK3_mae vs E1_mae"
   ]
  },
  {
   "cell_type": "code",
   "execution_count": null,
   "id": "660b9a64",
   "metadata": {},
   "outputs": [],
   "source": [
    "# rk3_mae=pd.read_csv(fr'RK3_mae.csv')\n",
    "# e1_mae=pd.read_csv(fr'E1_mae.csv')\n",
    "# plt.plot(rk3_mae['mae_list'],label='RK3')\n",
    "# plt.plot(e1_mae['mae_list'],label='E1')\n",
    "# plt.grid()\n",
    "# plt.legend()"
   ]
  },
  {
   "cell_type": "code",
   "execution_count": null,
   "id": "525cbb34",
   "metadata": {},
   "outputs": [],
   "source": []
  }
 ],
 "metadata": {
  "kernelspec": {
   "display_name": "Python 3",
   "language": "python",
   "name": "python3"
  },
  "language_info": {
   "codemirror_mode": {
    "name": "ipython",
    "version": 3
   },
   "file_extension": ".py",
   "mimetype": "text/x-python",
   "name": "python",
   "nbconvert_exporter": "python",
   "pygments_lexer": "ipython3",
   "version": "3.11.9"
  }
 },
 "nbformat": 4,
 "nbformat_minor": 5
}
