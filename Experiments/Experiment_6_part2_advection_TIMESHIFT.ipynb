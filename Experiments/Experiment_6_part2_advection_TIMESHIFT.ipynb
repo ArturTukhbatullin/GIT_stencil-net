{
 "cells": [
  {
   "cell_type": "markdown",
   "id": "43b10539-64e9-4ec6-8439-19e302ad34af",
   "metadata": {},
   "source": [
    "### Библиотеки"
   ]
  },
  {
   "cell_type": "code",
   "execution_count": 1,
   "id": "be960a2d-1afc-4db7-88ce-63a1a36e5ecd",
   "metadata": {},
   "outputs": [],
   "source": [
    "import pickle"
   ]
  },
  {
   "cell_type": "code",
   "execution_count": 2,
   "id": "0ff0bef2-9019-476a-941c-d011c93f52b4",
   "metadata": {},
   "outputs": [],
   "source": [
    "from Experiment_6_part2_advection import *"
   ]
  },
  {
   "cell_type": "markdown",
   "id": "0d2f959c-e3ff-4085-9d96-4631c93b31dd",
   "metadata": {},
   "source": [
    "### Описание эксперимента:"
   ]
  },
  {
   "cell_type": "markdown",
   "id": "d761589d-49a4-4142-a421-54fc2cbbf03e",
   "metadata": {},
   "source": [
    "######  - Разбираюсь со сдвигом по врмени"
   ]
  },
  {
   "cell_type": "code",
   "execution_count": 3,
   "id": "5415893a-e26c-42a1-ab55-3fec2e8c504e",
   "metadata": {},
   "outputs": [],
   "source": [
    "def count_ones(v_coarse,verbose=False):\n",
    "    \n",
    "    all_sums=[]\n",
    "    for j in range(0,len(v_coarse[0,:]),1):\n",
    "        all_sums.append(v_coarse[:,j].sum())\n",
    "    \n",
    "    if verbose:\n",
    "        print(all_sums)\n",
    "    assert np.sum(all_sums)%v_coarse.shape[1]==0, 'Неправильно подобран n'\n",
    "    return all_sums[0]\n",
    "\n",
    "def check_ones_continuous(v_coarse_orig,ones,verbose=False,plt_flg=False):\n",
    "    \n",
    "    v_coarse=copy.copy(v_coarse_orig)\n",
    "    v_coarse_shifted=v_coarse.T[1:]\n",
    "    v_coarse=v_coarse.T[:-1]\n",
    "    diff=v_coarse_shifted-v_coarse\n",
    "    \n",
    "    ones=int(ones)\n",
    "    \n",
    "    def my_plot(k):\n",
    "        plt.figure(figsize=(10,6))\n",
    "        plt.plot(v_coarse[k],'-*',color='red',label='t')\n",
    "        plt.plot(v_coarse_shifted[k],'--*',color='green',label='t+1')\n",
    "        plt.title(k)\n",
    "        plt.legend()\n",
    "        plt.grid()\n",
    "        plt.show()\n",
    "    \n",
    "    for k in range(len(v_coarse)):\n",
    "        \n",
    "        start=np.where(diff[k]==-1)[0]\n",
    "        end=np.where(diff[k]==1)[-1]\n",
    "        \n",
    "        if len(start)==1 or len(end)==1:\n",
    "            \n",
    "            start=start[0]\n",
    "            end=end[0] \n",
    "            diff_mask=diff[k][start:end+1]\n",
    "            \n",
    "            if plt_flg:\n",
    "                my_plot(k)\n",
    "                \n",
    "            if verbose==True:\n",
    "                print(start,end)\n",
    "                print('mask',diff_mask)\n",
    "            \n",
    "\n",
    "            if len(diff_mask)!=len(np.array([-1]+[0]*(ones-1)+[1])):\n",
    "                assert 1==2, 'Не выполняется условие непрерывности (длина)'\n",
    "            elif (diff_mask!=np.array([-1]+[0]*(ones-1)+[1])).all():\n",
    "                if verbose:\n",
    "                    display(diff_mask)\n",
    "                assert 1==2, 'Не выполняется условие непрерывности (значения)'\n",
    "        \n",
    "        elif len(start)>1:\n",
    "            if plt_flg:\n",
    "                my_plot(k)\n",
    "            if verbose==True:\n",
    "                print(start,end)\n",
    "            assert 1==2,'stop point 1_start'\n",
    "            \n",
    "        elif len(start)<1:\n",
    "            if plt_flg:\n",
    "                my_plot(k)\n",
    "            if verbose==True:\n",
    "                print(start,end)\n",
    "            assert 1==2,'stop point 2_start'\n",
    "                \n",
    "        elif len(end)>1:\n",
    "            print()\n",
    "            if plt_flg:\n",
    "                my_plot(k)\n",
    "            if verbose==True:\n",
    "                print(start,end)\n",
    "            assert 1==2,'stop point 2_end'\n",
    "                \n",
    "        # elif len(end)<1:\n",
    "        #     print('2_end')\n",
    "        #     if plt_flg:\n",
    "        #         my_plot(k)\n",
    "        \n",
    "        # else:\n",
    "            # break"
   ]
  },
  {
   "cell_type": "markdown",
   "id": "88a1a160-4f89-4139-89d5-0bc7daa22a9d",
   "metadata": {},
   "source": [
    "### 0. Параметры для генерации данных"
   ]
  },
  {
   "cell_type": "code",
   "execution_count": 4,
   "id": "9954ad56-d414-426f-a2fc-9d20a4cc96a5",
   "metadata": {},
   "outputs": [
    {
     "name": "stdout",
     "output_type": "stream",
     "text": [
      "Доля единиц: 9.524\n"
     ]
    }
   ],
   "source": [
    "generate_flg=True # True - генерация, False - чтение уже сгенерированных\n",
    "# generate_flg=False\n",
    "\n",
    "n=21 #число узлов\n",
    "# n=41 #число узлов\n",
    "# n=81 #число узлов\n",
    "# n=161\n",
    "# n=321\n",
    "\n",
    "L=1 # длина расчт области\n",
    "# T=.85 #конечное время\n",
    "T=0.8#+L/(n-1)\n",
    "kurant=1\n",
    "\n",
    "h=L/(n-1)\n",
    "b=(n-1)*0.1*L #width % of L (длина участка с v=1, составляет 10% от расчт области)\n",
    "# b=4\n",
    "v=[1 if i in range(int(b/2),int(b)+int(b/2)) else 0 for i in range(0,n) ]\n",
    "print('Доля единиц:',np.round(100*v.count(1)/len(v),3))"
   ]
  },
  {
   "cell_type": "code",
   "execution_count": 5,
   "id": "bae264cc-1e17-4faf-a9f3-16202f05bf46",
   "metadata": {},
   "outputs": [],
   "source": [
    "epochs_lst=[10_000]"
   ]
  },
  {
   "cell_type": "markdown",
   "id": "12ffecb2-b8a7-4339-a8f2-c8407365524c",
   "metadata": {},
   "source": [
    "### 1. Генерация данных"
   ]
  },
  {
   "cell_type": "code",
   "execution_count": 6,
   "id": "6aa8c63a-1d95-4994-af4e-b4c4d02b105e",
   "metadata": {},
   "outputs": [
    {
     "name": "stdout",
     "output_type": "stream",
     "text": [
      "Генерация данных\n",
      "17 21\n",
      "21 17\n"
     ]
    }
   ],
   "source": [
    "v_fact,x_lst,tau,time_lst=generate_data_fixe(generate_flg,v,T,L,1,h,n,CUSTOM_TAU=h,save_flg=False)"
   ]
  },
  {
   "cell_type": "code",
   "execution_count": 7,
   "id": "02d43570",
   "metadata": {},
   "outputs": [
    {
     "name": "stdout",
     "output_type": "stream",
     "text": [
      "17 17\n"
     ]
    }
   ],
   "source": [
    "print(v_fact.shape[1],len(time_lst))\n",
    "assert v_fact.shape[1]==len(time_lst),'Размерности'"
   ]
  },
  {
   "cell_type": "code",
   "execution_count": 8,
   "id": "82f540e4-300b-4476-a2e0-871c2dc19264",
   "metadata": {},
   "outputs": [
    {
     "data": {
      "text/plain": [
       "Text(0.5, 1.0, 'Фактические данные')"
      ]
     },
     "execution_count": 8,
     "metadata": {},
     "output_type": "execute_result"
    },
    {
     "data": {
      "image/png": "[encoded data removed]",
      "text/plain": [
       "<Figure size 640x480 with 1 Axes>"
      ]
     },
     "metadata": {},
     "output_type": "display_data"
    }
   ],
   "source": [
    "#view\n",
    "plt.plot(v_fact[:,0],'o-')\n",
    "plt.plot(v_fact[:,-1],'.-')\n",
    "plt.grid()\n",
    "plt.title('Фактические данные')"
   ]
  },
  {
   "cell_type": "markdown",
   "id": "90608b94-8dc4-46dc-99b0-7247e0db0dc8",
   "metadata": {},
   "source": [
    "### 2. Сабсемплинг"
   ]
  },
  {
   "cell_type": "code",
   "execution_count": 9,
   "id": "e2f1270b-04eb-4ba0-851e-686856a7793d",
   "metadata": {},
   "outputs": [
    {
     "name": "stdout",
     "output_type": "stream",
     "text": [
      "full_sample (21, 17)\n",
      "train (21, 8)\n",
      "test (21, 9)\n"
     ]
    }
   ],
   "source": [
    "t_factor = 1  # time subsample factor \n",
    "s_factor = 1  # space subsample factor\n",
    "Tsim=len(v_fact[0])\n",
    "dxc,dtc,coarse_t,coarse_x,v_coarse,Lxc,\\\n",
    "Ltc,v_coarse_train,v_coarse_test=subsampling(s_factor,t_factor,h,tau,Tsim,n,v_fact,train_split=train_split)"
   ]
  },
  {
   "cell_type": "code",
   "execution_count": 10,
   "id": "dccff044-42e9-4bc6-b198-209acd119896",
   "metadata": {},
   "outputs": [
    {
     "data": {
      "text/plain": [
       "(True, 0.05)"
      ]
     },
     "execution_count": 10,
     "metadata": {},
     "output_type": "execute_result"
    }
   ],
   "source": [
    "dxc==dtc, dxc"
   ]
  },
  {
   "cell_type": "code",
   "execution_count": 11,
   "id": "fc65cae0-6664-4e68-903c-f60f01a4a0ba",
   "metadata": {},
   "outputs": [
    {
     "data": {
      "text/plain": [
       "Text(0.5, 1.0, 'Фактические данные после сабсемплинга')"
      ]
     },
     "execution_count": 11,
     "metadata": {},
     "output_type": "execute_result"
    },
    {
     "data": {
      "image/png": "[encoded data removed]",
      "text/plain": [
       "<Figure size 640x480 with 1 Axes>"
      ]
     },
     "metadata": {},
     "output_type": "display_data"
    }
   ],
   "source": [
    "#view\n",
    "plt.plot(v_coarse[:,0],'o-')\n",
    "plt.plot(v_coarse[:,-1],'.-')\n",
    "plt.grid()\n",
    "plt.title('Фактические данные после сабсемплинга')"
   ]
  },
  {
   "cell_type": "code",
   "execution_count": 12,
   "id": "5f113af1-baf8-4737-bb08-f786486d3654",
   "metadata": {},
   "outputs": [
    {
     "name": "stdout",
     "output_type": "stream",
     "text": [
      "[np.float64(2.0), np.float64(2.0), np.float64(2.0), np.float64(2.0), np.float64(2.0), np.float64(2.0), np.float64(2.0), np.float64(2.0), np.float64(2.0), np.float64(2.0), np.float64(2.0), np.float64(2.0), np.float64(2.0), np.float64(2.0), np.float64(2.0), np.float64(2.0), np.float64(2.0)]\n"
     ]
    }
   ],
   "source": [
    "ones=count_ones(v_coarse,verbose=True)\n",
    "count_ones(v_fact,verbose=False)\n",
    "check_ones_continuous(v_coarse,ones,verbose=False,plt_flg=False)\n",
    "check_ones_continuous(v_fact,ones,verbose=False,plt_flg=False)"
   ]
  },
  {
   "cell_type": "markdown",
   "id": "03da49a1-2e27-464e-ab60-bde528ab50bb",
   "metadata": {},
   "source": [
    "##### CHECK : проверяю что после сабсемплинга нет сдвига"
   ]
  },
  {
   "cell_type": "code",
   "execution_count": 13,
   "id": "bf8fb6a3-88dd-4c39-b4bf-a6dd4d253187",
   "metadata": {},
   "outputs": [],
   "source": [
    "for i in v_coarse-v_fact:\n",
    "    if max(i)!=0:\n",
    "        print(i)"
   ]
  },
  {
   "cell_type": "markdown",
   "id": "d50b82e9-b94d-4ed9-8cc8-147df589b3cc",
   "metadata": {},
   "source": [
    "### 3. Тренировка модели"
   ]
  },
  {
   "cell_type": "code",
   "execution_count": 14,
   "id": "274e3f48-d355-4021-87de-2c718620da41",
   "metadata": {},
   "outputs": [
    {
     "name": "stdout",
     "output_type": "stream",
     "text": [
      "input 3 output 1\n",
      "#parameters: 3\n"
     ]
    },
    {
     "name": "stderr",
     "output_type": "stream",
     "text": [
      "  0%|          | 16/10000 [00:00<01:05, 151.43it/s, loss=0.066] "
     ]
    },
    {
     "name": "stdout",
     "output_type": "stream",
     "text": [
      "Веса после 0 эпохи:\n",
      "tensor([[ 0.6122],\n",
      "        [-0.5965],\n",
      "        [ 0.7246]], grad_fn=<AsStridedBackward0>)\n"
     ]
    },
    {
     "name": "stderr",
     "output_type": "stream",
     "text": [
      "  1%|▏         | 136/10000 [00:00<00:35, 278.00it/s, loss=0.0111]"
     ]
    },
    {
     "name": "stdout",
     "output_type": "stream",
     "text": [
      "Веса после 100 эпохи:\n",
      "tensor([[ 9.4833],\n",
      "        [-8.6264],\n",
      "        [-5.5701]], grad_fn=<AsStridedBackward0>)\n"
     ]
    },
    {
     "name": "stderr",
     "output_type": "stream",
     "text": [
      "  2%|▏         | 217/10000 [00:01<00:49, 198.84it/s, loss=0.00443]"
     ]
    },
    {
     "name": "stdout",
     "output_type": "stream",
     "text": [
      "Веса после 200 эпохи:\n",
      "tensor([[ 14.7974],\n",
      "        [-13.4465],\n",
      "        [ -4.1478]], grad_fn=<AsStridedBackward0>)\n"
     ]
    },
    {
     "name": "stderr",
     "output_type": "stream",
     "text": [
      "  3%|▎         | 317/10000 [00:01<00:54, 179.22it/s, loss=0.000766]"
     ]
    },
    {
     "name": "stdout",
     "output_type": "stream",
     "text": [
      "Веса после 300 эпохи:\n",
      "tensor([[ 17.5890],\n",
      "        [-16.8475],\n",
      "        [ -2.0343]], grad_fn=<AsStridedBackward0>)\n"
     ]
    },
    {
     "name": "stderr",
     "output_type": "stream",
     "text": [
      "  4%|▍         | 419/10000 [00:02<00:54, 176.89it/s, loss=0.000129]"
     ]
    },
    {
     "name": "stdout",
     "output_type": "stream",
     "text": [
      "Веса после 400 эпохи:\n",
      "tensor([[ 19.0288],\n",
      "        [-18.7265],\n",
      "        [ -0.8224]], grad_fn=<AsStridedBackward0>)\n"
     ]
    },
    {
     "name": "stderr",
     "output_type": "stream",
     "text": [
      "  5%|▌         | 529/10000 [00:02<00:53, 177.98it/s, loss=1.19e-5] "
     ]
    },
    {
     "name": "stdout",
     "output_type": "stream",
     "text": [
      "Веса после 500 эпохи:\n",
      "tensor([[ 19.6678],\n",
      "        [-19.5643],\n",
      "        [ -0.2813]], grad_fn=<AsStridedBackward0>)\n"
     ]
    },
    {
     "name": "stderr",
     "output_type": "stream",
     "text": [
      "  6%|▌         | 620/10000 [00:03<00:54, 171.06it/s, loss=9e-7]   "
     ]
    },
    {
     "name": "stdout",
     "output_type": "stream",
     "text": [
      "Веса после 600 эпохи:\n",
      "tensor([[ 19.9038],\n",
      "        [-19.8739],\n",
      "        [ -0.0814]], grad_fn=<AsStridedBackward0>)\n"
     ]
    },
    {
     "name": "stderr",
     "output_type": "stream",
     "text": [
      "  7%|▋         | 724/10000 [00:03<00:57, 161.78it/s, loss=1e-7]"
     ]
    },
    {
     "name": "stdout",
     "output_type": "stream",
     "text": [
      "Веса после 700 эпохи:\n",
      "tensor([[ 1.9977e+01],\n",
      "        [-1.9969e+01],\n",
      "        [-1.9868e-02]], grad_fn=<AsStridedBackward0>)\n"
     ]
    },
    {
     "name": "stderr",
     "output_type": "stream",
     "text": [
      "  8%|▊         | 814/10000 [00:04<00:54, 168.14it/s, loss=0]   "
     ]
    },
    {
     "name": "stdout",
     "output_type": "stream",
     "text": [
      "Веса после 800 эпохи:\n",
      "tensor([[ 1.9995e+01],\n",
      "        [-1.9994e+01],\n",
      "        [-4.0577e-03]], grad_fn=<AsStridedBackward0>)\n"
     ]
    },
    {
     "name": "stderr",
     "output_type": "stream",
     "text": [
      "  9%|▉         | 921/10000 [00:05<00:53, 170.82it/s, loss=0]"
     ]
    },
    {
     "name": "stdout",
     "output_type": "stream",
     "text": [
      "Веса после 900 эпохи:\n",
      "tensor([[ 1.9999e+01],\n",
      "        [-1.9999e+01],\n",
      "        [-6.8696e-04]], grad_fn=<AsStridedBackward0>)\n"
     ]
    },
    {
     "name": "stderr",
     "output_type": "stream",
     "text": [
      " 10%|█         | 1010/10000 [00:05<01:00, 149.54it/s, loss=0]"
     ]
    },
    {
     "name": "stdout",
     "output_type": "stream",
     "text": [
      "Веса после 1000 эпохи:\n",
      "tensor([[ 2.0000e+01],\n",
      "        [-2.0000e+01],\n",
      "        [-9.5805e-05]], grad_fn=<AsStridedBackward0>)\n"
     ]
    },
    {
     "name": "stderr",
     "output_type": "stream",
     "text": [
      " 11%|█         | 1124/10000 [00:06<00:56, 158.17it/s, loss=0]"
     ]
    },
    {
     "name": "stdout",
     "output_type": "stream",
     "text": [
      "Веса после 1100 эпохи:\n",
      "tensor([[ 2.0000e+01],\n",
      "        [-2.0000e+01],\n",
      "        [-2.1283e-05]], grad_fn=<AsStridedBackward0>)\n"
     ]
    },
    {
     "name": "stderr",
     "output_type": "stream",
     "text": [
      " 12%|█▏        | 1224/10000 [00:07<00:55, 157.35it/s, loss=0]"
     ]
    },
    {
     "name": "stdout",
     "output_type": "stream",
     "text": [
      "Веса после 1200 эпохи:\n",
      "tensor([[ 2.0000e+01],\n",
      "        [-2.0000e+01],\n",
      "        [-2.1947e-05]], grad_fn=<AsStridedBackward0>)\n"
     ]
    },
    {
     "name": "stderr",
     "output_type": "stream",
     "text": [
      " 13%|█▎        | 1320/10000 [00:07<00:56, 154.77it/s, loss=0]"
     ]
    },
    {
     "name": "stdout",
     "output_type": "stream",
     "text": [
      "Веса после 1300 эпохи:\n",
      "tensor([[ 2.0000e+01],\n",
      "        [-2.0000e+01],\n",
      "        [-2.0225e-05]], grad_fn=<AsStridedBackward0>)\n"
     ]
    },
    {
     "name": "stderr",
     "output_type": "stream",
     "text": [
      " 14%|█▍        | 1416/10000 [00:08<00:56, 151.43it/s, loss=0]"
     ]
    },
    {
     "name": "stdout",
     "output_type": "stream",
     "text": [
      "Веса после 1400 эпохи:\n",
      "tensor([[ 2.0000e+01],\n",
      "        [-2.0000e+01],\n",
      "        [-1.9672e-05]], grad_fn=<AsStridedBackward0>)\n"
     ]
    },
    {
     "name": "stderr",
     "output_type": "stream",
     "text": [
      " 15%|█▌        | 1535/10000 [00:08<00:36, 232.34it/s, loss=0]"
     ]
    },
    {
     "name": "stdout",
     "output_type": "stream",
     "text": [
      "Веса после 1500 эпохи:\n",
      "tensor([[ 2.0000e+01],\n",
      "        [-2.0000e+01],\n",
      "        [-1.8501e-05]], grad_fn=<AsStridedBackward0>)\n"
     ]
    },
    {
     "name": "stderr",
     "output_type": "stream",
     "text": [
      " 16%|█▋        | 1640/10000 [00:09<00:35, 232.36it/s, loss=0]"
     ]
    },
    {
     "name": "stdout",
     "output_type": "stream",
     "text": [
      "Веса после 1600 эпохи:\n",
      "tensor([[ 2.0000e+01],\n",
      "        [-2.0000e+01],\n",
      "        [-1.6662e-05]], grad_fn=<AsStridedBackward0>)\n"
     ]
    },
    {
     "name": "stderr",
     "output_type": "stream",
     "text": [
      " 17%|█▋        | 1721/10000 [00:09<00:35, 234.63it/s, loss=0]"
     ]
    },
    {
     "name": "stdout",
     "output_type": "stream",
     "text": [
      "Веса после 1700 эпохи:\n",
      "tensor([[ 2.0000e+01],\n",
      "        [-2.0000e+01],\n",
      "        [-1.5790e-05]], grad_fn=<AsStridedBackward0>)\n"
     ]
    },
    {
     "name": "stderr",
     "output_type": "stream",
     "text": [
      " 18%|█▊        | 1833/10000 [00:10<00:30, 268.97it/s, loss=0]"
     ]
    },
    {
     "name": "stdout",
     "output_type": "stream",
     "text": [
      "Веса после 1800 эпохи:\n",
      "tensor([[ 2.0000e+01],\n",
      "        [-2.0000e+01],\n",
      "        [-1.4346e-05]], grad_fn=<AsStridedBackward0>)\n"
     ]
    },
    {
     "name": "stderr",
     "output_type": "stream",
     "text": [
      " 19%|█▉        | 1947/10000 [00:10<00:29, 273.91it/s, loss=0]"
     ]
    },
    {
     "name": "stdout",
     "output_type": "stream",
     "text": [
      "Веса после 1900 эпохи:\n",
      "tensor([[ 2.0000e+01],\n",
      "        [-2.0000e+01],\n",
      "        [-1.3084e-05]], grad_fn=<AsStridedBackward0>)\n"
     ]
    },
    {
     "name": "stderr",
     "output_type": "stream",
     "text": [
      " 20%|██        | 2029/10000 [00:10<00:30, 259.18it/s, loss=0]"
     ]
    },
    {
     "name": "stdout",
     "output_type": "stream",
     "text": [
      "Веса после 2000 эпохи:\n",
      "tensor([[ 2.0000e+01],\n",
      "        [-2.0000e+01],\n",
      "        [-1.2332e-05]], grad_fn=<AsStridedBackward0>)\n"
     ]
    },
    {
     "name": "stderr",
     "output_type": "stream",
     "text": [
      " 21%|██▏       | 2145/10000 [00:11<00:27, 282.01it/s, loss=0]"
     ]
    },
    {
     "name": "stdout",
     "output_type": "stream",
     "text": [
      "Веса после 2100 эпохи:\n",
      "tensor([[ 2.0000e+01],\n",
      "        [-2.0000e+01],\n",
      "        [-1.0692e-05]], grad_fn=<AsStridedBackward0>)\n"
     ]
    },
    {
     "name": "stderr",
     "output_type": "stream",
     "text": [
      " 22%|██▏       | 2230/10000 [00:11<00:28, 268.38it/s, loss=0]"
     ]
    },
    {
     "name": "stdout",
     "output_type": "stream",
     "text": [
      "Веса после 2200 эпохи:\n",
      "tensor([[ 2.0000e+01],\n",
      "        [-2.0000e+01],\n",
      "        [-1.0729e-05]], grad_fn=<AsStridedBackward0>)\n"
     ]
    },
    {
     "name": "stderr",
     "output_type": "stream",
     "text": [
      " 23%|██▎       | 2342/10000 [00:11<00:27, 274.06it/s, loss=0]"
     ]
    },
    {
     "name": "stdout",
     "output_type": "stream",
     "text": [
      "Веса после 2300 эпохи:\n",
      "tensor([[ 2.0000e+01],\n",
      "        [-2.0000e+01],\n",
      "        [-1.0490e-05]], grad_fn=<AsStridedBackward0>)\n"
     ]
    },
    {
     "name": "stderr",
     "output_type": "stream",
     "text": [
      " 24%|██▍       | 2428/10000 [00:12<00:27, 278.33it/s, loss=0]"
     ]
    },
    {
     "name": "stdout",
     "output_type": "stream",
     "text": [
      "Веса после 2400 эпохи:\n",
      "tensor([[ 2.0000e+01],\n",
      "        [-2.0000e+01],\n",
      "        [-9.4193e-06]], grad_fn=<AsStridedBackward0>)\n"
     ]
    },
    {
     "name": "stderr",
     "output_type": "stream",
     "text": [
      " 25%|██▌       | 2543/10000 [00:12<00:27, 266.92it/s, loss=0]"
     ]
    },
    {
     "name": "stdout",
     "output_type": "stream",
     "text": [
      "Веса после 2500 эпохи:\n",
      "tensor([[ 2.0000e+01],\n",
      "        [-2.0000e+01],\n",
      "        [-9.5369e-06]], grad_fn=<AsStridedBackward0>)\n"
     ]
    },
    {
     "name": "stderr",
     "output_type": "stream",
     "text": [
      " 26%|██▋       | 2630/10000 [00:13<00:26, 280.41it/s, loss=0]"
     ]
    },
    {
     "name": "stdout",
     "output_type": "stream",
     "text": [
      "Веса после 2600 эпохи:\n",
      "tensor([[ 2.0000e+01],\n",
      "        [-2.0000e+01],\n",
      "        [-9.5367e-06]], grad_fn=<AsStridedBackward0>)\n"
     ]
    },
    {
     "name": "stderr",
     "output_type": "stream",
     "text": [
      " 28%|██▊       | 2750/10000 [00:13<00:24, 292.29it/s, loss=0]"
     ]
    },
    {
     "name": "stdout",
     "output_type": "stream",
     "text": [
      "Веса после 2700 эпохи:\n",
      "tensor([[ 2.0000e+01],\n",
      "        [-2.0000e+01],\n",
      "        [-8.5911e-06]], grad_fn=<AsStridedBackward0>)\n"
     ]
    },
    {
     "name": "stderr",
     "output_type": "stream",
     "text": [
      " 28%|██▊       | 2835/10000 [00:13<00:28, 251.77it/s, loss=0]"
     ]
    },
    {
     "name": "stdout",
     "output_type": "stream",
     "text": [
      "Веса после 2800 эпохи:\n",
      "tensor([[ 2.0000e+01],\n",
      "        [-2.0000e+01],\n",
      "        [-8.4587e-06]], grad_fn=<AsStridedBackward0>)\n"
     ]
    },
    {
     "name": "stderr",
     "output_type": "stream",
     "text": [
      " 29%|██▉       | 2941/10000 [00:14<00:27, 255.21it/s, loss=0]"
     ]
    },
    {
     "name": "stdout",
     "output_type": "stream",
     "text": [
      "Веса после 2900 эпохи:\n",
      "tensor([[ 2.0000e+01],\n",
      "        [-2.0000e+01],\n",
      "        [-7.1458e-06]], grad_fn=<AsStridedBackward0>)\n"
     ]
    },
    {
     "name": "stderr",
     "output_type": "stream",
     "text": [
      " 30%|███       | 3019/10000 [00:14<00:29, 238.78it/s, loss=0]"
     ]
    },
    {
     "name": "stdout",
     "output_type": "stream",
     "text": [
      "Веса после 3000 эпохи:\n",
      "tensor([[ 2.0000e+01],\n",
      "        [-2.0000e+01],\n",
      "        [-7.1526e-06]], grad_fn=<AsStridedBackward0>)\n"
     ]
    },
    {
     "name": "stderr",
     "output_type": "stream",
     "text": [
      " 31%|███▏      | 3130/10000 [00:15<00:26, 263.49it/s, loss=0]"
     ]
    },
    {
     "name": "stdout",
     "output_type": "stream",
     "text": [
      "Веса после 3100 эпохи:\n",
      "tensor([[ 2.0000e+01],\n",
      "        [-2.0000e+01],\n",
      "        [-7.1526e-06]], grad_fn=<AsStridedBackward0>)\n"
     ]
    },
    {
     "name": "stderr",
     "output_type": "stream",
     "text": [
      " 32%|███▏      | 3241/10000 [00:15<00:25, 265.45it/s, loss=0]"
     ]
    },
    {
     "name": "stdout",
     "output_type": "stream",
     "text": [
      "Веса после 3200 эпохи:\n",
      "tensor([[ 2.0000e+01],\n",
      "        [-2.0000e+01],\n",
      "        [-6.6186e-06]], grad_fn=<AsStridedBackward0>)\n"
     ]
    },
    {
     "name": "stderr",
     "output_type": "stream",
     "text": [
      " 33%|███▎      | 3321/10000 [00:15<00:26, 256.68it/s, loss=0]"
     ]
    },
    {
     "name": "stdout",
     "output_type": "stream",
     "text": [
      "Веса после 3300 эпохи:\n",
      "tensor([[ 2.0000e+01],\n",
      "        [-2.0000e+01],\n",
      "        [-5.9602e-06]], grad_fn=<AsStridedBackward0>)\n"
     ]
    },
    {
     "name": "stderr",
     "output_type": "stream",
     "text": [
      " 34%|███▍      | 3429/10000 [00:16<00:24, 264.97it/s, loss=0]"
     ]
    },
    {
     "name": "stdout",
     "output_type": "stream",
     "text": [
      "Веса после 3400 эпохи:\n",
      "tensor([[ 2.0000e+01],\n",
      "        [-2.0000e+01],\n",
      "        [-4.6350e-06]], grad_fn=<AsStridedBackward0>)\n"
     ]
    },
    {
     "name": "stderr",
     "output_type": "stream",
     "text": [
      " 35%|███▌      | 3536/10000 [00:16<00:26, 243.77it/s, loss=0]"
     ]
    },
    {
     "name": "stdout",
     "output_type": "stream",
     "text": [
      "Веса после 3500 эпохи:\n",
      "tensor([[ 2.0000e+01],\n",
      "        [-2.0000e+01],\n",
      "        [-4.7530e-06]], grad_fn=<AsStridedBackward0>)\n"
     ]
    },
    {
     "name": "stderr",
     "output_type": "stream",
     "text": [
      " 37%|███▋      | 3651/10000 [00:16<00:23, 274.73it/s, loss=0]"
     ]
    },
    {
     "name": "stdout",
     "output_type": "stream",
     "text": [
      "Веса после 3600 эпохи:\n",
      "tensor([[ 2.0000e+01],\n",
      "        [-2.0000e+01],\n",
      "        [-4.7951e-06]], grad_fn=<AsStridedBackward0>)\n"
     ]
    },
    {
     "name": "stderr",
     "output_type": "stream",
     "text": [
      " 37%|███▋      | 3733/10000 [00:17<00:24, 257.97it/s, loss=0]"
     ]
    },
    {
     "name": "stdout",
     "output_type": "stream",
     "text": [
      "Веса после 3700 эпохи:\n",
      "tensor([[ 2.0000e+01],\n",
      "        [-2.0000e+01],\n",
      "        [-3.5639e-06]], grad_fn=<AsStridedBackward0>)\n"
     ]
    },
    {
     "name": "stderr",
     "output_type": "stream",
     "text": [
      " 38%|███▊      | 3842/10000 [00:17<00:23, 261.08it/s, loss=0]"
     ]
    },
    {
     "name": "stdout",
     "output_type": "stream",
     "text": [
      "Веса после 3800 эпохи:\n",
      "tensor([[ 2.0000e+01],\n",
      "        [-2.0000e+01],\n",
      "        [-3.5762e-06]], grad_fn=<AsStridedBackward0>)\n"
     ]
    },
    {
     "name": "stderr",
     "output_type": "stream",
     "text": [
      " 39%|███▉      | 3924/10000 [00:18<00:23, 256.59it/s, loss=0]"
     ]
    },
    {
     "name": "stdout",
     "output_type": "stream",
     "text": [
      "Веса после 3900 эпохи:\n",
      "tensor([[ 2.0000e+01],\n",
      "        [-2.0000e+01],\n",
      "        [-3.5763e-06]], grad_fn=<AsStridedBackward0>)\n"
     ]
    },
    {
     "name": "stderr",
     "output_type": "stream",
     "text": [
      " 40%|████      | 4026/10000 [00:18<00:25, 231.32it/s, loss=0]"
     ]
    },
    {
     "name": "stdout",
     "output_type": "stream",
     "text": [
      "Веса после 4000 эпохи:\n",
      "tensor([[ 2.0000e+01],\n",
      "        [-2.0000e+01],\n",
      "        [-3.5763e-06]], grad_fn=<AsStridedBackward0>)\n"
     ]
    },
    {
     "name": "stderr",
     "output_type": "stream",
     "text": [
      " 41%|████▏     | 4140/10000 [00:18<00:22, 261.73it/s, loss=0]"
     ]
    },
    {
     "name": "stdout",
     "output_type": "stream",
     "text": [
      "Веса после 4100 эпохи:\n",
      "tensor([[ 2.0000e+01],\n",
      "        [-2.0000e+01],\n",
      "        [-2.8284e-06]], grad_fn=<AsStridedBackward0>)\n"
     ]
    },
    {
     "name": "stderr",
     "output_type": "stream",
     "text": [
      " 42%|████▏     | 4222/10000 [00:19<00:21, 263.34it/s, loss=0]"
     ]
    },
    {
     "name": "stdout",
     "output_type": "stream",
     "text": [
      "Веса после 4200 эпохи:\n",
      "tensor([[ 2.0000e+01],\n",
      "        [-2.0000e+01],\n",
      "        [-2.7537e-06]], grad_fn=<AsStridedBackward0>)\n"
     ]
    },
    {
     "name": "stderr",
     "output_type": "stream",
     "text": [
      " 43%|████▎     | 4334/10000 [00:19<00:20, 270.06it/s, loss=0]"
     ]
    },
    {
     "name": "stdout",
     "output_type": "stream",
     "text": [
      "Веса после 4300 эпохи:\n",
      "tensor([[ 2.0000e+01],\n",
      "        [-2.0000e+01],\n",
      "        [-2.9018e-06]], grad_fn=<AsStridedBackward0>)\n"
     ]
    },
    {
     "name": "stderr",
     "output_type": "stream",
     "text": [
      " 44%|████▍     | 4450/10000 [00:20<00:19, 278.04it/s, loss=0]"
     ]
    },
    {
     "name": "stdout",
     "output_type": "stream",
     "text": [
      "Веса после 4400 эпохи:\n",
      "tensor([[ 2.0000e+01],\n",
      "        [-2.0000e+01],\n",
      "        [-1.1502e-06]], grad_fn=<AsStridedBackward0>)\n"
     ]
    },
    {
     "name": "stderr",
     "output_type": "stream",
     "text": [
      " 45%|████▌     | 4533/10000 [00:20<00:21, 255.79it/s, loss=0]"
     ]
    },
    {
     "name": "stdout",
     "output_type": "stream",
     "text": [
      "Веса после 4500 эпохи:\n",
      "tensor([[ 2.0000e+01],\n",
      "        [-2.0000e+01],\n",
      "        [-1.1923e-06]], grad_fn=<AsStridedBackward0>)\n"
     ]
    },
    {
     "name": "stderr",
     "output_type": "stream",
     "text": [
      " 46%|████▋     | 4644/10000 [00:20<00:19, 272.45it/s, loss=0]"
     ]
    },
    {
     "name": "stdout",
     "output_type": "stream",
     "text": [
      "Веса после 4600 эпохи:\n",
      "tensor([[ 2.0000e+01],\n",
      "        [-2.0000e+01],\n",
      "        [-1.1921e-06]], grad_fn=<AsStridedBackward0>)\n"
     ]
    },
    {
     "name": "stderr",
     "output_type": "stream",
     "text": [
      " 47%|████▋     | 4730/10000 [00:21<00:19, 272.57it/s, loss=0]"
     ]
    },
    {
     "name": "stdout",
     "output_type": "stream",
     "text": [
      "Веса после 4700 эпохи:\n",
      "tensor([[ 2.0000e+01],\n",
      "        [-2.0000e+01],\n",
      "        [-1.1921e-06]], grad_fn=<AsStridedBackward0>)\n"
     ]
    },
    {
     "name": "stderr",
     "output_type": "stream",
     "text": [
      " 48%|████▊     | 4848/10000 [00:21<00:18, 279.97it/s, loss=0]"
     ]
    },
    {
     "name": "stdout",
     "output_type": "stream",
     "text": [
      "Веса после 4800 эпохи:\n",
      "tensor([[ 2.0000e+01],\n",
      "        [-2.0000e+01],\n",
      "        [-1.1921e-06]], grad_fn=<AsStridedBackward0>)\n"
     ]
    },
    {
     "name": "stderr",
     "output_type": "stream",
     "text": [
      " 49%|████▉     | 4938/10000 [00:21<00:17, 284.73it/s, loss=0]"
     ]
    },
    {
     "name": "stdout",
     "output_type": "stream",
     "text": [
      "Веса после 4900 эпохи:\n",
      "tensor([[ 2.0000e+01],\n",
      "        [-2.0000e+01],\n",
      "        [-1.1921e-06]], grad_fn=<AsStridedBackward0>)\n"
     ]
    },
    {
     "name": "stderr",
     "output_type": "stream",
     "text": [
      " 50%|█████     | 5023/10000 [00:22<00:18, 266.41it/s, loss=0]"
     ]
    },
    {
     "name": "stdout",
     "output_type": "stream",
     "text": [
      "Веса после 5000 эпохи:\n",
      "tensor([[ 2.0000e+01],\n",
      "        [-2.0000e+01],\n",
      "        [-1.1921e-06]], grad_fn=<AsStridedBackward0>)\n"
     ]
    },
    {
     "name": "stderr",
     "output_type": "stream",
     "text": [
      " 51%|█████▏    | 5132/10000 [00:22<00:18, 262.59it/s, loss=0]"
     ]
    },
    {
     "name": "stdout",
     "output_type": "stream",
     "text": [
      "Веса после 5100 эпохи:\n",
      "tensor([[ 2.0000e+01],\n",
      "        [-2.0000e+01],\n",
      "        [-1.1921e-06]], grad_fn=<AsStridedBackward0>)\n"
     ]
    },
    {
     "name": "stderr",
     "output_type": "stream",
     "text": [
      " 52%|█████▏    | 5242/10000 [00:23<00:17, 264.84it/s, loss=0]"
     ]
    },
    {
     "name": "stdout",
     "output_type": "stream",
     "text": [
      "Веса после 5200 эпохи:\n",
      "tensor([[ 2.0000e+01],\n",
      "        [-2.0000e+01],\n",
      "        [-1.1921e-06]], grad_fn=<AsStridedBackward0>)\n"
     ]
    },
    {
     "name": "stderr",
     "output_type": "stream",
     "text": [
      " 53%|█████▎    | 5326/10000 [00:23<00:17, 268.16it/s, loss=0]"
     ]
    },
    {
     "name": "stdout",
     "output_type": "stream",
     "text": [
      "Веса после 5300 эпохи:\n",
      "tensor([[ 2.0000e+01],\n",
      "        [-2.0000e+01],\n",
      "        [-1.1921e-06]], grad_fn=<AsStridedBackward0>)\n"
     ]
    },
    {
     "name": "stderr",
     "output_type": "stream",
     "text": [
      " 55%|█████▍    | 5454/10000 [00:23<00:14, 307.27it/s, loss=0]"
     ]
    },
    {
     "name": "stdout",
     "output_type": "stream",
     "text": [
      "Веса после 5400 эпохи:\n",
      "tensor([[ 2.0000e+01],\n",
      "        [-2.0000e+01],\n",
      "        [-9.5575e-07]], grad_fn=<AsStridedBackward0>)\n"
     ]
    },
    {
     "name": "stderr",
     "output_type": "stream",
     "text": [
      " 55%|█████▌    | 5526/10000 [00:24<00:13, 327.98it/s, loss=0]"
     ]
    },
    {
     "name": "stdout",
     "output_type": "stream",
     "text": [
      "Веса после 5500 эпохи:\n",
      "tensor([[ 2.0000e+01],\n",
      "        [-2.0000e+01],\n",
      "        [-9.6517e-07]], grad_fn=<AsStridedBackward0>)\n"
     ]
    },
    {
     "name": "stderr",
     "output_type": "stream",
     "text": [
      " 56%|█████▋    | 5629/10000 [00:24<00:13, 324.08it/s, loss=0]"
     ]
    },
    {
     "name": "stdout",
     "output_type": "stream",
     "text": [
      "Веса после 5600 эпохи:\n",
      "tensor([[ 2.0000e+01],\n",
      "        [-2.0000e+01],\n",
      "        [-9.3224e-07]], grad_fn=<AsStridedBackward0>)\n"
     ]
    },
    {
     "name": "stderr",
     "output_type": "stream",
     "text": [
      " 57%|█████▋    | 5736/10000 [00:24<00:12, 339.21it/s, loss=0]"
     ]
    },
    {
     "name": "stdout",
     "output_type": "stream",
     "text": [
      "Веса после 5700 эпохи:\n",
      "tensor([[ 2.0000e+01],\n",
      "        [-2.0000e+01],\n",
      "        [-8.8938e-07]], grad_fn=<AsStridedBackward0>)\n"
     ]
    },
    {
     "name": "stderr",
     "output_type": "stream",
     "text": [
      " 58%|█████▊    | 5838/10000 [00:24<00:12, 328.65it/s, loss=0]"
     ]
    },
    {
     "name": "stdout",
     "output_type": "stream",
     "text": [
      "Веса после 5800 эпохи:\n",
      "tensor([[ 2.0000e+01],\n",
      "        [-2.0000e+01],\n",
      "        [-9.0324e-07]], grad_fn=<AsStridedBackward0>)\n"
     ]
    },
    {
     "name": "stderr",
     "output_type": "stream",
     "text": [
      " 59%|█████▉    | 5945/10000 [00:25<00:12, 333.14it/s, loss=0]"
     ]
    },
    {
     "name": "stdout",
     "output_type": "stream",
     "text": [
      "Веса после 5900 эпохи:\n",
      "tensor([[ 2.0000e+01],\n",
      "        [-2.0000e+01],\n",
      "        [-9.9564e-07]], grad_fn=<AsStridedBackward0>)\n"
     ]
    },
    {
     "name": "stderr",
     "output_type": "stream",
     "text": [
      " 60%|██████    | 6045/10000 [00:25<00:12, 313.66it/s, loss=0]"
     ]
    },
    {
     "name": "stdout",
     "output_type": "stream",
     "text": [
      "Веса после 6000 эпохи:\n",
      "tensor([[ 2.0000e+01],\n",
      "        [-2.0000e+01],\n",
      "        [-9.4233e-07]], grad_fn=<AsStridedBackward0>)\n"
     ]
    },
    {
     "name": "stderr",
     "output_type": "stream",
     "text": [
      " 61%|██████▏   | 6137/10000 [00:25<00:14, 272.38it/s, loss=0]"
     ]
    },
    {
     "name": "stdout",
     "output_type": "stream",
     "text": [
      "Веса после 6100 эпохи:\n",
      "tensor([[ 2.0000e+01],\n",
      "        [-2.0000e+01],\n",
      "        [-8.4754e-07]], grad_fn=<AsStridedBackward0>)\n"
     ]
    },
    {
     "name": "stderr",
     "output_type": "stream",
     "text": [
      " 62%|██████▏   | 6243/10000 [00:26<00:15, 248.33it/s, loss=0]"
     ]
    },
    {
     "name": "stdout",
     "output_type": "stream",
     "text": [
      "Веса после 6200 эпохи:\n",
      "tensor([[ 2.0000e+01],\n",
      "        [-2.0000e+01],\n",
      "        [-8.1590e-07]], grad_fn=<AsStridedBackward0>)\n"
     ]
    },
    {
     "name": "stderr",
     "output_type": "stream",
     "text": [
      " 63%|██████▎   | 6324/10000 [00:26<00:14, 257.97it/s, loss=0]"
     ]
    },
    {
     "name": "stdout",
     "output_type": "stream",
     "text": [
      "Веса после 6300 эпохи:\n",
      "tensor([[ 2.0000e+01],\n",
      "        [-2.0000e+01],\n",
      "        [-8.8781e-07]], grad_fn=<AsStridedBackward0>)\n"
     ]
    },
    {
     "name": "stderr",
     "output_type": "stream",
     "text": [
      " 64%|██████▍   | 6434/10000 [00:27<00:13, 262.19it/s, loss=0]"
     ]
    },
    {
     "name": "stdout",
     "output_type": "stream",
     "text": [
      "Веса после 6400 эпохи:\n",
      "tensor([[ 2.0000e+01],\n",
      "        [-2.0000e+01],\n",
      "        [-9.1962e-07]], grad_fn=<AsStridedBackward0>)\n"
     ]
    },
    {
     "name": "stderr",
     "output_type": "stream",
     "text": [
      " 65%|██████▌   | 6540/10000 [00:27<00:13, 247.29it/s, loss=0]"
     ]
    },
    {
     "name": "stdout",
     "output_type": "stream",
     "text": [
      "Веса после 6500 эпохи:\n",
      "tensor([[ 2.0000e+01],\n",
      "        [-2.0000e+01],\n",
      "        [-8.4542e-07]], grad_fn=<AsStridedBackward0>)\n"
     ]
    },
    {
     "name": "stderr",
     "output_type": "stream",
     "text": [
      " 66%|██████▌   | 6616/10000 [00:27<00:14, 231.38it/s, loss=0]"
     ]
    },
    {
     "name": "stdout",
     "output_type": "stream",
     "text": [
      "Веса после 6600 эпохи:\n",
      "tensor([[ 2.0000e+01],\n",
      "        [-2.0000e+01],\n",
      "        [-9.2192e-07]], grad_fn=<AsStridedBackward0>)\n"
     ]
    },
    {
     "name": "stderr",
     "output_type": "stream",
     "text": [
      " 67%|██████▋   | 6721/10000 [00:28<00:13, 251.36it/s, loss=0]"
     ]
    },
    {
     "name": "stdout",
     "output_type": "stream",
     "text": [
      "Веса после 6700 эпохи:\n",
      "tensor([[ 2.0000e+01],\n",
      "        [-2.0000e+01],\n",
      "        [-8.3942e-07]], grad_fn=<AsStridedBackward0>)\n"
     ]
    },
    {
     "name": "stderr",
     "output_type": "stream",
     "text": [
      " 68%|██████▊   | 6828/10000 [00:28<00:12, 258.60it/s, loss=0]"
     ]
    },
    {
     "name": "stdout",
     "output_type": "stream",
     "text": [
      "Веса после 6800 эпохи:\n",
      "tensor([[ 2.0000e+01],\n",
      "        [-2.0000e+01],\n",
      "        [-9.2583e-07]], grad_fn=<AsStridedBackward0>)\n"
     ]
    },
    {
     "name": "stderr",
     "output_type": "stream",
     "text": [
      " 69%|██████▉   | 6933/10000 [00:29<00:12, 249.93it/s, loss=0]"
     ]
    },
    {
     "name": "stdout",
     "output_type": "stream",
     "text": [
      "Веса после 6900 эпохи:\n",
      "tensor([[ 2.0000e+01],\n",
      "        [-2.0000e+01],\n",
      "        [-8.3245e-07]], grad_fn=<AsStridedBackward0>)\n"
     ]
    },
    {
     "name": "stderr",
     "output_type": "stream",
     "text": [
      " 70%|███████   | 7040/10000 [00:29<00:11, 251.47it/s, loss=0]"
     ]
    },
    {
     "name": "stdout",
     "output_type": "stream",
     "text": [
      "Веса после 7000 эпохи:\n",
      "tensor([[ 2.0000e+01],\n",
      "        [-2.0000e+01],\n",
      "        [-9.3042e-07]], grad_fn=<AsStridedBackward0>)\n"
     ]
    },
    {
     "name": "stderr",
     "output_type": "stream",
     "text": [
      " 71%|███████   | 7118/10000 [00:29<00:12, 225.78it/s, loss=0]"
     ]
    },
    {
     "name": "stdout",
     "output_type": "stream",
     "text": [
      "Веса после 7100 эпохи:\n",
      "tensor([[ 2.0000e+01],\n",
      "        [-2.0000e+01],\n",
      "        [-8.2441e-07]], grad_fn=<AsStridedBackward0>)\n"
     ]
    },
    {
     "name": "stderr",
     "output_type": "stream",
     "text": [
      " 72%|███████▏  | 7222/10000 [00:30<00:11, 240.23it/s, loss=0]"
     ]
    },
    {
     "name": "stdout",
     "output_type": "stream",
     "text": [
      "Веса после 7200 эпохи:\n",
      "tensor([[ 2.0000e+01],\n",
      "        [-2.0000e+01],\n",
      "        [-9.3584e-07]], grad_fn=<AsStridedBackward0>)\n"
     ]
    },
    {
     "name": "stderr",
     "output_type": "stream",
     "text": [
      " 73%|███████▎  | 7326/10000 [00:30<00:10, 248.14it/s, loss=0]"
     ]
    },
    {
     "name": "stdout",
     "output_type": "stream",
     "text": [
      "Веса после 7300 эпохи:\n",
      "tensor([[ 2.0000e+01],\n",
      "        [-2.0000e+01],\n",
      "        [-8.1508e-07]], grad_fn=<AsStridedBackward0>)\n"
     ]
    },
    {
     "name": "stderr",
     "output_type": "stream",
     "text": [
      " 74%|███████▍  | 7431/10000 [00:31<00:10, 250.13it/s, loss=0]"
     ]
    },
    {
     "name": "stdout",
     "output_type": "stream",
     "text": [
      "Веса после 7400 эпохи:\n",
      "tensor([[ 2.0000e+01],\n",
      "        [-2.0000e+01],\n",
      "        [-9.4229e-07]], grad_fn=<AsStridedBackward0>)\n"
     ]
    },
    {
     "name": "stderr",
     "output_type": "stream",
     "text": [
      " 75%|███████▌  | 7536/10000 [00:31<00:09, 252.27it/s, loss=0]"
     ]
    },
    {
     "name": "stdout",
     "output_type": "stream",
     "text": [
      "Веса после 7500 эпохи:\n",
      "tensor([[ 2.0000e+01],\n",
      "        [-2.0000e+01],\n",
      "        [-8.0419e-07]], grad_fn=<AsStridedBackward0>)\n"
     ]
    },
    {
     "name": "stderr",
     "output_type": "stream",
     "text": [
      " 76%|███████▋  | 7637/10000 [00:32<00:10, 235.12it/s, loss=0]"
     ]
    },
    {
     "name": "stdout",
     "output_type": "stream",
     "text": [
      "Веса после 7600 эпохи:\n",
      "tensor([[ 2.0000e+01],\n",
      "        [-2.0000e+01],\n",
      "        [ 1.7527e-07]], grad_fn=<AsStridedBackward0>)\n"
     ]
    },
    {
     "name": "stderr",
     "output_type": "stream",
     "text": [
      " 77%|███████▋  | 7741/10000 [00:32<00:09, 246.54it/s, loss=0]"
     ]
    },
    {
     "name": "stdout",
     "output_type": "stream",
     "text": [
      "Веса после 7700 эпохи:\n",
      "tensor([[ 2.0000e+01],\n",
      "        [-2.0000e+01],\n",
      "        [ 2.1659e-09]], grad_fn=<AsStridedBackward0>)\n"
     ]
    },
    {
     "name": "stderr",
     "output_type": "stream",
     "text": [
      " 78%|███████▊  | 7823/10000 [00:32<00:08, 260.29it/s, loss=0]"
     ]
    },
    {
     "name": "stdout",
     "output_type": "stream",
     "text": [
      "Веса после 7800 эпохи:\n",
      "tensor([[ 2.0000e+01],\n",
      "        [-2.0000e+01],\n",
      "        [ 1.0907e-11]], grad_fn=<AsStridedBackward0>)\n"
     ]
    },
    {
     "name": "stderr",
     "output_type": "stream",
     "text": [
      " 79%|███████▉  | 7929/10000 [00:33<00:08, 242.97it/s, loss=0]"
     ]
    },
    {
     "name": "stdout",
     "output_type": "stream",
     "text": [
      "Веса после 7900 эпохи:\n",
      "tensor([[ 2.0000e+01],\n",
      "        [-2.0000e+01],\n",
      "        [ 5.5047e-15]], grad_fn=<AsStridedBackward0>)\n"
     ]
    },
    {
     "name": "stderr",
     "output_type": "stream",
     "text": [
      " 80%|████████  | 8032/10000 [00:33<00:08, 242.05it/s, loss=0]"
     ]
    },
    {
     "name": "stdout",
     "output_type": "stream",
     "text": [
      "Веса после 8000 эпохи:\n",
      "tensor([[ 2.0000e+01],\n",
      "        [-2.0000e+01],\n",
      "        [-2.9081e-16]], grad_fn=<AsStridedBackward0>)\n"
     ]
    },
    {
     "name": "stderr",
     "output_type": "stream",
     "text": [
      " 81%|████████▏ | 8130/10000 [00:34<00:08, 220.28it/s, loss=0]"
     ]
    },
    {
     "name": "stdout",
     "output_type": "stream",
     "text": [
      "Веса после 8100 эпохи:\n",
      "tensor([[ 2.0000e+01],\n",
      "        [-2.0000e+01],\n",
      "        [ 1.5182e-18]], grad_fn=<AsStridedBackward0>)\n"
     ]
    },
    {
     "name": "stderr",
     "output_type": "stream",
     "text": [
      " 82%|████████▏ | 8236/10000 [00:34<00:07, 248.47it/s, loss=0]"
     ]
    },
    {
     "name": "stdout",
     "output_type": "stream",
     "text": [
      "Веса после 8200 эпохи:\n",
      "tensor([[ 2.0000e+01],\n",
      "        [-2.0000e+01],\n",
      "        [-5.5000e-22]], grad_fn=<AsStridedBackward0>)\n"
     ]
    },
    {
     "name": "stderr",
     "output_type": "stream",
     "text": [
      " 83%|████████▎ | 8340/10000 [00:34<00:06, 250.51it/s, loss=0]"
     ]
    },
    {
     "name": "stdout",
     "output_type": "stream",
     "text": [
      "Веса после 8300 эпохи:\n",
      "tensor([[ 2.0000e+01],\n",
      "        [-2.0000e+01],\n",
      "        [-3.9558e-23]], grad_fn=<AsStridedBackward0>)\n"
     ]
    },
    {
     "name": "stderr",
     "output_type": "stream",
     "text": [
      " 84%|████████▍ | 8449/10000 [00:35<00:05, 263.05it/s, loss=0]"
     ]
    },
    {
     "name": "stdout",
     "output_type": "stream",
     "text": [
      "Веса после 8400 эпохи:\n",
      "tensor([[ 2.0000e+01],\n",
      "        [-2.0000e+01],\n",
      "        [-1.8745e-25]], grad_fn=<AsStridedBackward0>)\n"
     ]
    },
    {
     "name": "stderr",
     "output_type": "stream",
     "text": [
      " 85%|████████▌ | 8529/10000 [00:35<00:05, 255.26it/s, loss=0]"
     ]
    },
    {
     "name": "stdout",
     "output_type": "stream",
     "text": [
      "Веса после 8500 эпохи:\n",
      "tensor([[ 2.0000e+01],\n",
      "        [-2.0000e+01],\n",
      "        [ 4.7713e-28]], grad_fn=<AsStridedBackward0>)\n"
     ]
    },
    {
     "name": "stderr",
     "output_type": "stream",
     "text": [
      " 86%|████████▋ | 8631/10000 [00:36<00:05, 234.32it/s, loss=0]"
     ]
    },
    {
     "name": "stdout",
     "output_type": "stream",
     "text": [
      "Веса после 8600 эпохи:\n",
      "tensor([[ 2.0000e+01],\n",
      "        [-2.0000e+01],\n",
      "        [ 1.7535e-30]], grad_fn=<AsStridedBackward0>)\n"
     ]
    },
    {
     "name": "stderr",
     "output_type": "stream",
     "text": [
      " 87%|████████▋ | 8745/10000 [00:36<00:04, 267.53it/s, loss=0]"
     ]
    },
    {
     "name": "stdout",
     "output_type": "stream",
     "text": [
      "Веса после 8700 эпохи:\n",
      "tensor([[ 2.0000e+01],\n",
      "        [-2.0000e+01],\n",
      "        [ 9.2790e-33]], grad_fn=<AsStridedBackward0>)\n"
     ]
    },
    {
     "name": "stderr",
     "output_type": "stream",
     "text": [
      " 88%|████████▊ | 8830/10000 [00:36<00:04, 269.73it/s, loss=0]"
     ]
    },
    {
     "name": "stdout",
     "output_type": "stream",
     "text": [
      "Веса после 8800 эпохи:\n",
      "tensor([[ 2.0000e+01],\n",
      "        [-2.0000e+01],\n",
      "        [-1.5589e-34]], grad_fn=<AsStridedBackward0>)\n"
     ]
    },
    {
     "name": "stderr",
     "output_type": "stream",
     "text": [
      " 89%|████████▉ | 8938/10000 [00:37<00:04, 246.43it/s, loss=0]"
     ]
    },
    {
     "name": "stdout",
     "output_type": "stream",
     "text": [
      "Веса после 8900 эпохи:\n",
      "tensor([[ 2.0000e+01],\n",
      "        [-2.0000e+01],\n",
      "        [-8.4240e-37]], grad_fn=<AsStridedBackward0>)\n"
     ]
    },
    {
     "name": "stderr",
     "output_type": "stream",
     "text": [
      " 90%|█████████ | 9040/10000 [00:37<00:03, 241.98it/s, loss=0]"
     ]
    },
    {
     "name": "stdout",
     "output_type": "stream",
     "text": [
      "Веса после 9000 эпохи:\n",
      "tensor([[ 2.0000e+01],\n",
      "        [-2.0000e+01],\n",
      "        [ 8.2585e-40]], grad_fn=<AsStridedBackward0>)\n"
     ]
    },
    {
     "name": "stderr",
     "output_type": "stream",
     "text": [
      " 91%|█████████▏| 9136/10000 [00:38<00:03, 223.40it/s, loss=0]"
     ]
    },
    {
     "name": "stdout",
     "output_type": "stream",
     "text": [
      "Веса после 9100 эпохи:\n",
      "tensor([[ 2.0000e+01],\n",
      "        [-2.0000e+01],\n",
      "        [-8.8329e-41]], grad_fn=<AsStridedBackward0>)\n"
     ]
    },
    {
     "name": "stderr",
     "output_type": "stream",
     "text": [
      " 92%|█████████▏| 9239/10000 [00:38<00:03, 245.48it/s, loss=0]"
     ]
    },
    {
     "name": "stdout",
     "output_type": "stream",
     "text": [
      "Веса после 9200 эпохи:\n",
      "tensor([[ 2.0000e+01],\n",
      "        [-2.0000e+01],\n",
      "        [ 7.4440e-41]], grad_fn=<AsStridedBackward0>)\n"
     ]
    },
    {
     "name": "stderr",
     "output_type": "stream",
     "text": [
      " 93%|█████████▎| 9342/10000 [00:39<00:02, 247.32it/s, loss=0]"
     ]
    },
    {
     "name": "stdout",
     "output_type": "stream",
     "text": [
      "Веса после 9300 эпохи:\n",
      "tensor([[ 2.0000e+01],\n",
      "        [-2.0000e+01],\n",
      "        [ 7.8632e-41]], grad_fn=<AsStridedBackward0>)\n"
     ]
    },
    {
     "name": "stderr",
     "output_type": "stream",
     "text": [
      " 94%|█████████▍| 9424/10000 [00:39<00:02, 257.04it/s, loss=0]"
     ]
    },
    {
     "name": "stdout",
     "output_type": "stream",
     "text": [
      "Веса после 9400 эпохи:\n",
      "tensor([[ 2.0000e+01],\n",
      "        [-2.0000e+01],\n",
      "        [ 8.3034e-41]], grad_fn=<AsStridedBackward0>)\n"
     ]
    },
    {
     "name": "stderr",
     "output_type": "stream",
     "text": [
      " 95%|█████████▌| 9533/10000 [00:39<00:01, 237.79it/s, loss=0]"
     ]
    },
    {
     "name": "stdout",
     "output_type": "stream",
     "text": [
      "Веса после 9500 эпохи:\n",
      "tensor([[ 2.0000e+01],\n",
      "        [-2.0000e+01],\n",
      "        [-1.0663e-40]], grad_fn=<AsStridedBackward0>)\n"
     ]
    },
    {
     "name": "stderr",
     "output_type": "stream",
     "text": [
      " 96%|█████████▋| 9632/10000 [00:40<00:01, 234.86it/s, loss=0]"
     ]
    },
    {
     "name": "stdout",
     "output_type": "stream",
     "text": [
      "Веса после 9600 эпохи:\n",
      "tensor([[ 2.0000e+01],\n",
      "        [-2.0000e+01],\n",
      "        [-1.1298e-40]], grad_fn=<AsStridedBackward0>)\n"
     ]
    },
    {
     "name": "stderr",
     "output_type": "stream",
     "text": [
      " 97%|█████████▋| 9728/10000 [00:40<00:01, 225.87it/s, loss=0]"
     ]
    },
    {
     "name": "stdout",
     "output_type": "stream",
     "text": [
      "Веса после 9700 эпохи:\n",
      "tensor([[ 2.0000e+01],\n",
      "        [-2.0000e+01],\n",
      "        [ 9.4827e-41]], grad_fn=<AsStridedBackward0>)\n"
     ]
    },
    {
     "name": "stderr",
     "output_type": "stream",
     "text": [
      " 98%|█████████▊| 9830/10000 [00:41<00:00, 242.45it/s, loss=0]"
     ]
    },
    {
     "name": "stdout",
     "output_type": "stream",
     "text": [
      "Веса после 9800 эпохи:\n",
      "tensor([[ 2.0000e+01],\n",
      "        [-2.0000e+01],\n",
      "        [ 9.9220e-41]], grad_fn=<AsStridedBackward0>)\n"
     ]
    },
    {
     "name": "stderr",
     "output_type": "stream",
     "text": [
      " 99%|█████████▉| 9937/10000 [00:41<00:00, 258.52it/s, loss=0]"
     ]
    },
    {
     "name": "stdout",
     "output_type": "stream",
     "text": [
      "Веса после 9900 эпохи:\n",
      "tensor([[ 2.0000e+01],\n",
      "        [-2.0000e+01],\n",
      "        [ 1.0384e-40]], grad_fn=<AsStridedBackward0>)\n"
     ]
    },
    {
     "name": "stderr",
     "output_type": "stream",
     "text": [
      "100%|██████████| 10000/10000 [00:41<00:00, 239.69it/s, loss=0]\n"
     ]
    }
   ],
   "source": [
    "for epochs in epochs_lst:\n",
    "    \n",
    "    net, loss_lst,loss=train_net(MLPConv,v_coarse_train,epochs,dtc,\n",
    "              fs,\n",
    "              neurons,\n",
    "              hidden_layers_num,\n",
    "              lr,\n",
    "              m,\n",
    "              has_backward,\n",
    "              method,\n",
    "              decay_const,\n",
    "              verbose=True,\n",
    "              verbose_step=100,\n",
    "              continue_fitting=None\n",
    "             )\n",
    "    \n",
    "    pickle.dump(net, open(fr'Experiment_6_part2_advection/models_n={n}/net_epochs={epochs}', 'wb'))\n",
    "    "
   ]
  },
  {
   "cell_type": "code",
   "execution_count": null,
   "id": "716fcd04-dfd0-4a13-934e-9fa55e9e50ea",
   "metadata": {},
   "outputs": [],
   "source": []
  },
  {
   "cell_type": "markdown",
   "id": "098b327d",
   "metadata": {},
   "source": [
    "### 4. Симуляция прогноза моделью"
   ]
  },
  {
   "cell_type": "code",
   "execution_count": 15,
   "id": "c471e58f-b8f6-43c6-bcd7-790df83300d7",
   "metadata": {},
   "outputs": [
    {
     "name": "stderr",
     "output_type": "stream",
     "text": [
      "100%|██████████| 16/16 [00:00<00:00, 1613.00it/s]\n"
     ]
    }
   ],
   "source": [
    "NN_sim_lst=[]\n",
    "\n",
    "weights=[]\n",
    "biases=[]\n",
    "\n",
    "for epochs in epochs_lst:\n",
    "    \n",
    "    net = pickle.load(open(fr'Experiment_6_part2_advection/models_n={n}/net_epochs={epochs}', 'rb'))\n",
    "    \n",
    "    NN_sim,T_sim,x_sim=make_simulation(net,v_coarse,L,Lxc,dtc,method='E1')\n",
    "    \n",
    "    NN_sim_lst.append(NN_sim)\n",
    "    \n",
    "    weights.append(net.layer[0].weight.data.numpy())\n",
    "    biases.append(None)"
   ]
  },
  {
   "cell_type": "code",
   "execution_count": 16,
   "id": "d56d6a0a",
   "metadata": {},
   "outputs": [],
   "source": [
    "pickle.dump(NN_sim,open(fr'Experiment_6_part2_advection/NN_sim_n={n}_ep_{epochs}.pkl','wb'))\n",
    "pickle.dump(v_fact,open(fr'Experiment_6_part2_advection/v_fact_n={n}_ep_{epochs}.pkl','wb'))"
   ]
  },
  {
   "cell_type": "code",
   "execution_count": 17,
   "id": "bdc669c9-f970-42e4-a3b6-0e665467eda9",
   "metadata": {},
   "outputs": [
    {
     "data": {
      "text/html": [
       "<div>\n",
       "<style scoped>\n",
       "    .dataframe tbody tr th:only-of-type {\n",
       "        vertical-align: middle;\n",
       "    }\n",
       "\n",
       "    .dataframe tbody tr th {\n",
       "        vertical-align: top;\n",
       "    }\n",
       "\n",
       "    .dataframe thead th {\n",
       "        text-align: right;\n",
       "    }\n",
       "</style>\n",
       "<table border=\"1\" class=\"dataframe\">\n",
       "  <thead>\n",
       "    <tr style=\"text-align: right;\">\n",
       "      <th></th>\n",
       "      <th>epoch</th>\n",
       "      <th>coefs</th>\n",
       "      <th>bias</th>\n",
       "    </tr>\n",
       "  </thead>\n",
       "  <tbody>\n",
       "    <tr>\n",
       "      <th>0</th>\n",
       "      <td>10000</td>\n",
       "      <td>[[20.0, -20.0, 1.09895e-40]]</td>\n",
       "      <td>None</td>\n",
       "    </tr>\n",
       "    <tr>\n",
       "      <th>1</th>\n",
       "      <td>[finite_diff_methods]</td>\n",
       "      <td>[20.0, -20.0, 0]</td>\n",
       "      <td>[None]</td>\n",
       "    </tr>\n",
       "  </tbody>\n",
       "</table>\n",
       "</div>"
      ],
      "text/plain": [
       "                   epoch                         coefs    bias\n",
       "0                  10000  [[20.0, -20.0, 1.09895e-40]]    None\n",
       "1  [finite_diff_methods]              [20.0, -20.0, 0]  [None]"
      ]
     },
     "execution_count": 17,
     "metadata": {},
     "output_type": "execute_result"
    }
   ],
   "source": [
    "pd.DataFrame({'epoch':epochs_lst+[['finite_diff_methods']],\n",
    "              'coefs':weights+[[1/((dxc)),-1/(dxc),0]],\n",
    "              'bias':biases+[[None]]})"
   ]
  },
  {
   "cell_type": "code",
   "execution_count": 18,
   "id": "9f6b1fa7-d756-4e6c-a900-621119a9d836",
   "metadata": {},
   "outputs": [
    {
     "name": "stdout",
     "output_type": "stream",
     "text": [
      "0.05\n"
     ]
    }
   ],
   "source": [
    "print(dxc)"
   ]
  },
  {
   "cell_type": "markdown",
   "id": "01ae768c-4aeb-477d-b875-bb8fbe7766de",
   "metadata": {},
   "source": [
    "### 5. Результаты"
   ]
  },
  {
   "cell_type": "code",
   "execution_count": 19,
   "id": "0cc452db",
   "metadata": {},
   "outputs": [
    {
     "data": {
      "text/plain": [
       "(21, 17)"
      ]
     },
     "execution_count": 19,
     "metadata": {},
     "output_type": "execute_result"
    }
   ],
   "source": [
    "v_coarse.shape"
   ]
  },
  {
   "cell_type": "code",
   "execution_count": 20,
   "id": "d0654827",
   "metadata": {},
   "outputs": [
    {
     "data": {
      "text/plain": [
       "array([0.  , 0.05, 0.1 , 0.15, 0.2 , 0.25, 0.3 , 0.35, 0.4 , 0.45, 0.5 ,\n",
       "       0.55, 0.6 , 0.65, 0.7 , 0.75, 0.8 ])"
      ]
     },
     "execution_count": 20,
     "metadata": {},
     "output_type": "execute_result"
    }
   ],
   "source": [
    "np.round(np.arange(0,T+dtc,dtc),3)"
   ]
  },
  {
   "cell_type": "code",
   "execution_count": 21,
   "id": "7858c179",
   "metadata": {},
   "outputs": [
    {
     "data": {
      "text/plain": [
       "17"
      ]
     },
     "execution_count": 21,
     "metadata": {},
     "output_type": "execute_result"
    }
   ],
   "source": [
    "len(np.round(np.arange(0,T+dtc,dtc),3))"
   ]
  },
  {
   "cell_type": "code",
   "execution_count": 22,
   "id": "24c7a55a-bd46-48df-9373-d5f5a1433bbe",
   "metadata": {},
   "outputs": [
    {
     "name": "stdout",
     "output_type": "stream",
     "text": [
      "---------------Epochs = 10000-------------------\n"
     ]
    },
    {
     "data": {
      "image/png": "[encoded data removed]",
      "text/plain": [
       "<Figure size 700x600 with 1 Axes>"
      ]
     },
     "metadata": {},
     "output_type": "display_data"
    },
    {
     "data": {
      "image/png": "[encoded data removed]",
      "text/plain": [
       "<Figure size 1000x1000 with 2 Axes>"
      ]
     },
     "metadata": {},
     "output_type": "display_data"
    },
    {
     "data": {
      "image/png": "[encoded data removed]",
      "text/plain": [
       "<Figure size 1000x1000 with 2 Axes>"
      ]
     },
     "metadata": {},
     "output_type": "display_data"
    },
    {
     "data": {
      "image/png": "[encoded data removed]",
      "text/plain": [
       "<Figure size 1000x1000 with 2 Axes>"
      ]
     },
     "metadata": {},
     "output_type": "display_data"
    },
    {
     "data": {
      "image/png": "[encoded data removed]",
      "text/plain": [
       "<Figure size 1200x800 with 4 Axes>"
      ]
     },
     "metadata": {},
     "output_type": "display_data"
    },
    {
     "name": "stdout",
     "output_type": "stream",
     "text": [
      "\n",
      "\n",
      "done\n"
     ]
    }
   ],
   "source": [
    "# view_results(T_sim,x_sim,NN_sim,v_coarse,T,dtc,n=10,fix_axes=True)\n",
    "\n",
    "# view_result_imshow(NN_sim,v_coarse,T,dtc,L,dxc,figsize=(10,10))\n",
    "\n",
    "folder='Experiment_6_part2_advection'\n",
    "\n",
    "for i in range(len(epochs_lst)):\n",
    "    \n",
    "    print(fr'---------------Epochs = {epochs_lst[i]}-------------------')\n",
    "    # view_results(T_sim,x_sim,NN_sim_lst[i],v_coarse,T,dtc,n=10,fix_axes=True,\n",
    "    #             epochs=epochs_lst[i],\n",
    "    #             save_path = fr'{folder}/graphs_n={n}/',\n",
    "    #             save_name = fr'Result_epoch={epochs_lst[i]}',\n",
    "    #             view_flag=False)\n",
    "\n",
    "    view_result_metric(NN_sim_lst[i],v_coarse,T,dtc,L,dxc,\n",
    "                       n_xticks=11,\n",
    "                       save_path = fr'{folder}/graphs_n={n}/',\n",
    "                save_name = fr'Metric_epoch={epochs_lst[i]}')\n",
    "    \n",
    "    view_result_imshow(NN_sim_lst[i],v_coarse,T,dtc,L,dxc,\n",
    "                       v_min_diff=-1e-04,v_max_diff=1e-04,\n",
    "                       n_tticks=11,\n",
    "                       n_xticks=11,\n",
    "                       aspect=0.5,\n",
    "                       shrink=0.5,\n",
    "                       save_path= fr'{folder}/graphs_n={n}/',\n",
    "                       save_name='imshow_',\n",
    "                       figsize=(10,10))\n",
    "\n",
    "    make_subplot_graphs(NN_sim, v_coarse, x_sim, T_sim, T, dtc, n, nx=2, ny=2,\n",
    "                        figsize=(12,8),\n",
    "                        save_flg=True,\n",
    "                        save_path=fr'{folder}/graphs_n={n}/',\n",
    "                        save_name=fr'SUBPLOT={epochs_lst[i]}')\n",
    "    \n",
    "    \n",
    "\n",
    "    print('\\n')\n",
    "print('done')"
   ]
  },
  {
   "cell_type": "code",
   "execution_count": 23,
   "id": "b9483156-8e6e-4fce-b12a-62563d2d01f9",
   "metadata": {},
   "outputs": [
    {
     "data": {
      "text/plain": [
       "Parameter containing:\n",
       "tensor([[ 2.0000e+01, -2.0000e+01,  1.0990e-40]], requires_grad=True)"
      ]
     },
     "execution_count": 23,
     "metadata": {},
     "output_type": "execute_result"
    }
   ],
   "source": [
    "net.layer[0].weight"
   ]
  },
  {
   "cell_type": "code",
   "execution_count": 24,
   "id": "9066741f-f5a3-4a19-b0ce-f6130f648f85",
   "metadata": {},
   "outputs": [],
   "source": [
    "# diff=NN_sim_lst[0]-v_coarse\n",
    "\n",
    "# for j in range(len(diff[0,:])): \n",
    "#     if max(diff[:,j])!=0:\n",
    "#         plt.figure()\n",
    "#         plt.plot(diff[:,j],'-*')\n",
    "#         plt.title(str(j)+' / '+str(len(diff[0,:])))\n",
    "#         plt.grid()\n",
    "        \n",
    "#         plt.figure()\n",
    "#         plt.plot(NN_sim_lst[0][:,j],'-*',label='NN_sim')\n",
    "#         plt.plot(v_coarse[:,j],'-*',label='v_coarse')\n",
    "#         plt.legend()\n",
    "#         plt.grid()\n",
    "        \n",
    "#         break"
   ]
  },
  {
   "cell_type": "code",
   "execution_count": null,
   "id": "197f5aa1-e2bc-4b17-b439-144505b23ef8",
   "metadata": {},
   "outputs": [],
   "source": []
  },
  {
   "cell_type": "code",
   "execution_count": 25,
   "id": "27ddad3f-7106-487c-b7ac-d082f82a0893",
   "metadata": {},
   "outputs": [
    {
     "data": {
      "image/png": "[encoded data removed]",
      "text/plain": [
       "<Figure size 640x480 with 1 Axes>"
      ]
     },
     "metadata": {},
     "output_type": "display_data"
    }
   ],
   "source": [
    "for j in range(5,7):\n",
    "        plt.plot(NN_sim_lst[0][:,j],'-*',color='red',label=fr'NN_sim_{j}')\n",
    "        # plt.plot(v_coarse[:,j],'--*',color='blue',label=fr'v_coarse_{j}')\n",
    "        plt.plot(v_fact[:,j],'--*',color='green',label=fr'v_coarse_{j}')\n",
    "        plt.legend()\n",
    "        plt.grid()"
   ]
  },
  {
   "cell_type": "code",
   "execution_count": null,
   "id": "d4e2d60c-b815-426c-b89d-1f3414def7af",
   "metadata": {},
   "outputs": [],
   "source": []
  },
  {
   "cell_type": "code",
   "execution_count": null,
   "id": "9c920a3e-5a55-420e-a4de-16cd8bad144b",
   "metadata": {},
   "outputs": [],
   "source": []
  },
  {
   "cell_type": "code",
   "execution_count": null,
   "id": "c71d520a-6794-4250-86ea-3b9daa729202",
   "metadata": {},
   "outputs": [],
   "source": []
  }
 ],
 "metadata": {
  "kernelspec": {
   "display_name": "Python 3",
   "language": "python",
   "name": "python3"
  },
  "language_info": {
   "codemirror_mode": {
    "name": "ipython",
    "version": 3
   },
   "file_extension": ".py",
   "mimetype": "text/x-python",
   "name": "python",
   "nbconvert_exporter": "python",
   "pygments_lexer": "ipython3",
   "version": "3.11.9"
  }
 },
 "nbformat": 4,
 "nbformat_minor": 5
}
