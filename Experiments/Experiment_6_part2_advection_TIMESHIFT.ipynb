{
 "cells": [
  {
   "cell_type": "markdown",
   "id": "43b10539-64e9-4ec6-8439-19e302ad34af",
   "metadata": {},
   "source": [
    "### Библиотеки"
   ]
  },
  {
   "cell_type": "code",
   "execution_count": 1,
   "id": "be960a2d-1afc-4db7-88ce-63a1a36e5ecd",
   "metadata": {},
   "outputs": [],
   "source": [
    "import pickle"
   ]
  },
  {
   "cell_type": "code",
   "execution_count": 2,
   "id": "0ff0bef2-9019-476a-941c-d011c93f52b4",
   "metadata": {},
   "outputs": [],
   "source": [
    "from Experiment_6_part2_advection import *"
   ]
  },
  {
   "cell_type": "markdown",
   "id": "0d2f959c-e3ff-4085-9d96-4631c93b31dd",
   "metadata": {},
   "source": [
    "### Описание эксперимента:"
   ]
  },
  {
   "cell_type": "markdown",
   "id": "d761589d-49a4-4142-a421-54fc2cbbf03e",
   "metadata": {},
   "source": [
    "######  - Разбираюсь со сдвигом по врмени"
   ]
  },
  {
   "cell_type": "code",
   "execution_count": 3,
   "id": "5415893a-e26c-42a1-ab55-3fec2e8c504e",
   "metadata": {},
   "outputs": [],
   "source": [
    "def count_ones(v_coarse,verbose=False):\n",
    "    \n",
    "    all_sums=[]\n",
    "    for j in range(0,len(v_coarse[0,:]),1):\n",
    "        all_sums.append(v_coarse[:,j].sum())\n",
    "    \n",
    "    if verbose:\n",
    "        print(all_sums)\n",
    "    assert np.sum(all_sums)%v_coarse.shape[1]==0, 'Неправильно подобран n'\n",
    "    return all_sums[0]\n",
    "\n",
    "def check_ones_continuous(v_coarse_orig,ones,verbose=False,plt_flg=False):\n",
    "    \n",
    "    v_coarse=copy.copy(v_coarse_orig)\n",
    "    v_coarse_shifted=v_coarse.T[1:]\n",
    "    v_coarse=v_coarse.T[:-1]\n",
    "    diff=v_coarse_shifted-v_coarse\n",
    "    \n",
    "    ones=int(ones)\n",
    "    \n",
    "    def my_plot(k):\n",
    "        plt.figure(figsize=(10,6))\n",
    "        plt.plot(v_coarse[k],'-*',color='red',label='t')\n",
    "        plt.plot(v_coarse_shifted[k],'--*',color='green',label='t+1')\n",
    "        plt.title(k)\n",
    "        plt.legend()\n",
    "        plt.grid()\n",
    "        plt.show()\n",
    "    \n",
    "    for k in range(len(v_coarse)):\n",
    "        \n",
    "        start=np.where(diff[k]==-1)[0]\n",
    "        end=np.where(diff[k]==1)[-1]\n",
    "        \n",
    "        if len(start)==1 or len(end)==1:\n",
    "            \n",
    "            start=start[0]\n",
    "            end=end[0] \n",
    "            diff_mask=diff[k][start:end+1]\n",
    "            \n",
    "            if plt_flg:\n",
    "                my_plot(k)\n",
    "                \n",
    "            if verbose==True:\n",
    "                print(start,end)\n",
    "                print('mask',diff_mask)\n",
    "            \n",
    "\n",
    "            if len(diff_mask)!=len(np.array([-1]+[0]*(ones-1)+[1])):\n",
    "                assert 1==2, 'Не выполняется условие непрерывности (длина)'\n",
    "            elif (diff_mask!=np.array([-1]+[0]*(ones-1)+[1])).all():\n",
    "                if verbose:\n",
    "                    display(diff_mask)\n",
    "                assert 1==2, 'Не выполняется условие непрерывности (значения)'\n",
    "        \n",
    "        elif len(start)>1:\n",
    "            if plt_flg:\n",
    "                my_plot(k)\n",
    "            if verbose==True:\n",
    "                print(start,end)\n",
    "            assert 1==2,'stop point 1_start'\n",
    "            \n",
    "        elif len(start)<1:\n",
    "            if plt_flg:\n",
    "                my_plot(k)\n",
    "            if verbose==True:\n",
    "                print(start,end)\n",
    "            assert 1==2,'stop point 2_start'\n",
    "                \n",
    "        elif len(end)>1:\n",
    "            print()\n",
    "            if plt_flg:\n",
    "                my_plot(k)\n",
    "            if verbose==True:\n",
    "                print(start,end)\n",
    "            assert 1==2,'stop point 2_end'\n",
    "                \n",
    "        # elif len(end)<1:\n",
    "        #     print('2_end')\n",
    "        #     if plt_flg:\n",
    "        #         my_plot(k)\n",
    "        \n",
    "        # else:\n",
    "            # break"
   ]
  },
  {
   "cell_type": "markdown",
   "id": "88a1a160-4f89-4139-89d5-0bc7daa22a9d",
   "metadata": {},
   "source": [
    "### 0. Параметры для генерации данных"
   ]
  },
  {
   "cell_type": "code",
   "execution_count": 4,
   "id": "9954ad56-d414-426f-a2fc-9d20a4cc96a5",
   "metadata": {},
   "outputs": [
    {
     "name": "stdout",
     "output_type": "stream",
     "text": [
      "Доля единиц: 9.524\n"
     ]
    }
   ],
   "source": [
    "generate_flg=True # True - генерация, False - чтение уже сгенерированных\n",
    "# generate_flg=False\n",
    "\n",
    "n=21 #число узлов\n",
    "L=1 # длина расчт области\n",
    "T=.85 #конечное время\n",
    "kurant=1\n",
    "\n",
    "h=L/(n-1)\n",
    "b=(n-1)*0.1*L #width % of L (длина участка с v=1, составляет 10% от расчт области)\n",
    "# b=4\n",
    "v=[1 if i in range(1,int(b)+1) else 0 for i in range(0,n) ]\n",
    "print('Доля единиц:',np.round(100*v.count(1)/len(v),3))"
   ]
  },
  {
   "cell_type": "code",
   "execution_count": 5,
   "id": "bae264cc-1e17-4faf-a9f3-16202f05bf46",
   "metadata": {},
   "outputs": [],
   "source": [
    "# epochs_lst=[1,10,100,1_000,5_000,10_000]\n",
    "epochs_lst=[1]"
   ]
  },
  {
   "cell_type": "markdown",
   "id": "12ffecb2-b8a7-4339-a8f2-c8407365524c",
   "metadata": {},
   "source": [
    "### 1. Генерация данных"
   ]
  },
  {
   "cell_type": "code",
   "execution_count": 6,
   "id": "6aa8c63a-1d95-4994-af4e-b4c4d02b105e",
   "metadata": {},
   "outputs": [
    {
     "name": "stdout",
     "output_type": "stream",
     "text": [
      "Генерация данных\n",
      "17 21\n",
      "21 17\n"
     ]
    }
   ],
   "source": [
    "v_fact,x_lst,tau,time_lst=generate_data_fixe(generate_flg,v,T,L,1,h,n,CUSTOM_TAU=h,save_flg=False)"
   ]
  },
  {
   "cell_type": "code",
   "execution_count": 7,
   "id": "82f540e4-300b-4476-a2e0-871c2dc19264",
   "metadata": {},
   "outputs": [
    {
     "data": {
      "text/plain": [
       "Text(0.5, 1.0, 'Фактические данные')"
      ]
     },
     "execution_count": 7,
     "metadata": {},
     "output_type": "execute_result"
    },
    {
     "data": {
      "image/png": "[encoded data removed]",
      "text/plain": [
       "<Figure size 640x480 with 1 Axes>"
      ]
     },
     "metadata": {},
     "output_type": "display_data"
    }
   ],
   "source": [
    "#view\n",
    "plt.plot(v_fact[:,0],'o-')\n",
    "plt.plot(v_fact[:,-1],'.-')\n",
    "plt.grid()\n",
    "plt.title('Фактические данные')"
   ]
  },
  {
   "cell_type": "markdown",
   "id": "90608b94-8dc4-46dc-99b0-7247e0db0dc8",
   "metadata": {},
   "source": [
    "### 2. Сабсемплинг"
   ]
  },
  {
   "cell_type": "code",
   "execution_count": 9,
   "id": "e2f1270b-04eb-4ba0-851e-686856a7793d",
   "metadata": {},
   "outputs": [
    {
     "name": "stdout",
     "output_type": "stream",
     "text": [
      "full_sample (21, 17)\n",
      "train (21, 8)\n",
      "test (21, 9)\n"
     ]
    }
   ],
   "source": [
    "t_factor = 1  # time subsample factor \n",
    "s_factor = 1  # space subsample factor\n",
    "Tsim=len(v_fact[0])\n",
    "dxc,dtc,coarse_t,coarse_x,v_coarse,Lxc,\\\n",
    "Ltc,v_coarse_train,v_coarse_test=subsampling(s_factor,t_factor,h,tau,Tsim,n,v_fact,train_split=train_split)"
   ]
  },
  {
   "cell_type": "code",
   "execution_count": 10,
   "id": "dccff044-42e9-4bc6-b198-209acd119896",
   "metadata": {},
   "outputs": [
    {
     "data": {
      "text/plain": [
       "(True, 0.05)"
      ]
     },
     "execution_count": 10,
     "metadata": {},
     "output_type": "execute_result"
    }
   ],
   "source": [
    "dxc==dtc, dxc"
   ]
  },
  {
   "cell_type": "code",
   "execution_count": 11,
   "id": "fc65cae0-6664-4e68-903c-f60f01a4a0ba",
   "metadata": {},
   "outputs": [
    {
     "data": {
      "text/plain": [
       "Text(0.5, 1.0, 'Фактические данные после сабсемплинга')"
      ]
     },
     "execution_count": 11,
     "metadata": {},
     "output_type": "execute_result"
    },
    {
     "data": {
      "image/png": "[encoded data removed]",
      "text/plain": [
       "<Figure size 640x480 with 1 Axes>"
      ]
     },
     "metadata": {},
     "output_type": "display_data"
    }
   ],
   "source": [
    "#view\n",
    "plt.plot(v_coarse[:,0],'o-')\n",
    "plt.plot(v_coarse[:,-1],'.-')\n",
    "plt.grid()\n",
    "plt.title('Фактические данные после сабсемплинга')"
   ]
  },
  {
   "cell_type": "code",
   "execution_count": 12,
   "id": "5f113af1-baf8-4737-bb08-f786486d3654",
   "metadata": {},
   "outputs": [
    {
     "name": "stdout",
     "output_type": "stream",
     "text": [
      "[np.float64(2.0), np.float64(2.0), np.float64(2.0), np.float64(2.0), np.float64(2.0), np.float64(2.0), np.float64(2.0), np.float64(2.0), np.float64(2.0), np.float64(2.0), np.float64(2.0), np.float64(2.0), np.float64(2.0), np.float64(2.0), np.float64(2.0), np.float64(2.0), np.float64(2.0)]\n"
     ]
    }
   ],
   "source": [
    "ones=count_ones(v_coarse,verbose=True)\n",
    "count_ones(v_fact,verbose=False)\n",
    "check_ones_continuous(v_coarse,ones,verbose=False,plt_flg=False)\n",
    "check_ones_continuous(v_fact,ones,verbose=False,plt_flg=False)"
   ]
  },
  {
   "cell_type": "markdown",
   "id": "03da49a1-2e27-464e-ab60-bde528ab50bb",
   "metadata": {},
   "source": [
    "##### CHECK : проверяю что после сабсемплинга нет сдвига"
   ]
  },
  {
   "cell_type": "code",
   "execution_count": 13,
   "id": "bf8fb6a3-88dd-4c39-b4bf-a6dd4d253187",
   "metadata": {},
   "outputs": [],
   "source": [
    "for i in v_coarse-v_fact:\n",
    "    if max(i)!=0:\n",
    "        print(i)"
   ]
  },
  {
   "cell_type": "code",
   "execution_count": 14,
   "id": "8051e05d-5905-41e1-aae9-f235b5492156",
   "metadata": {},
   "outputs": [
    {
     "data": {
      "text/plain": [
       "0.05"
      ]
     },
     "execution_count": 14,
     "metadata": {},
     "output_type": "execute_result"
    }
   ],
   "source": [
    "dxc"
   ]
  },
  {
   "cell_type": "markdown",
   "id": "d50b82e9-b94d-4ed9-8cc8-147df589b3cc",
   "metadata": {},
   "source": [
    "### 3. Тренировка модели"
   ]
  },
  {
   "cell_type": "code",
   "execution_count": 15,
   "id": "274e3f48-d355-4021-87de-2c718620da41",
   "metadata": {},
   "outputs": [
    {
     "name": "stdout",
     "output_type": "stream",
     "text": [
      "input 3 output 1\n",
      "#parameters: 3\n"
     ]
    },
    {
     "name": "stderr",
     "output_type": "stream",
     "text": [
      "100%|██████████| 1/1 [00:00<00:00, 42.79it/s, loss=0]\n"
     ]
    }
   ],
   "source": [
    "for epochs in epochs_lst:\n",
    "    \n",
    "    net, loss_lst,loss=train_net(MLPConv,v_coarse_train,epochs,dtc,\n",
    "              fs,\n",
    "              neurons,\n",
    "              hidden_layers_num,\n",
    "              lr,\n",
    "              m,\n",
    "              has_backward,\n",
    "              method,\n",
    "              decay_const\n",
    "             )\n",
    "    \n",
    "    pickle.dump(net, open(fr'Experiment_6_part2_advection/models/net_epochs={epochs}', 'wb'))\n",
    "    "
   ]
  },
  {
   "cell_type": "code",
   "execution_count": 16,
   "id": "8f7acec6-095b-4d22-b7ed-53b9906c7536",
   "metadata": {},
   "outputs": [
    {
     "data": {
      "text/plain": [
       "0.05"
      ]
     },
     "execution_count": 16,
     "metadata": {},
     "output_type": "execute_result"
    }
   ],
   "source": [
    "dxc"
   ]
  },
  {
   "cell_type": "markdown",
   "id": "716fcd04-dfd0-4a13-934e-9fa55e9e50ea",
   "metadata": {},
   "source": [
    "### 4. Симуляция прогноза моделью"
   ]
  },
  {
   "cell_type": "code",
   "execution_count": 17,
   "id": "c471e58f-b8f6-43c6-bcd7-790df83300d7",
   "metadata": {},
   "outputs": [
    {
     "name": "stderr",
     "output_type": "stream",
     "text": [
      "100%|██████████| 16/16 [00:00<?, ?it/s]\n"
     ]
    }
   ],
   "source": [
    "NN_sim_lst=[]\n",
    "\n",
    "weights=[]\n",
    "biases=[]\n",
    "\n",
    "for epochs in epochs_lst:\n",
    "    \n",
    "    net = pickle.load(open(fr'Experiment_6_part2_advection/models/net_epochs={epochs}', 'rb'))\n",
    "    \n",
    "    NN_sim,T_sim,x_sim=make_simulation(net,v_coarse,L,Lxc,dtc,method='E1')\n",
    "    \n",
    "    NN_sim_lst.append(NN_sim)\n",
    "    \n",
    "    weights.append(net.layer[0].weight.data.numpy())\n",
    "    biases.append(None)"
   ]
  },
  {
   "cell_type": "code",
   "execution_count": 18,
   "id": "bdc669c9-f970-42e4-a3b6-0e665467eda9",
   "metadata": {},
   "outputs": [
    {
     "data": {
      "text/html": [
       "<div>\n",
       "<style scoped>\n",
       "    .dataframe tbody tr th:only-of-type {\n",
       "        vertical-align: middle;\n",
       "    }\n",
       "\n",
       "    .dataframe tbody tr th {\n",
       "        vertical-align: top;\n",
       "    }\n",
       "\n",
       "    .dataframe thead th {\n",
       "        text-align: right;\n",
       "    }\n",
       "</style>\n",
       "<table border=\"1\" class=\"dataframe\">\n",
       "  <thead>\n",
       "    <tr style=\"text-align: right;\">\n",
       "      <th></th>\n",
       "      <th>epoch</th>\n",
       "      <th>coefs</th>\n",
       "      <th>bias</th>\n",
       "    </tr>\n",
       "  </thead>\n",
       "  <tbody>\n",
       "    <tr>\n",
       "      <th>0</th>\n",
       "      <td>1</td>\n",
       "      <td>[[20.0, -20.0, 0.0]]</td>\n",
       "      <td>None</td>\n",
       "    </tr>\n",
       "    <tr>\n",
       "      <th>1</th>\n",
       "      <td>[finite_diff_methods]</td>\n",
       "      <td>[20.0, -20.0, 0]</td>\n",
       "      <td>[None]</td>\n",
       "    </tr>\n",
       "  </tbody>\n",
       "</table>\n",
       "</div>"
      ],
      "text/plain": [
       "                   epoch                 coefs    bias\n",
       "0                      1  [[20.0, -20.0, 0.0]]    None\n",
       "1  [finite_diff_methods]      [20.0, -20.0, 0]  [None]"
      ]
     },
     "execution_count": 18,
     "metadata": {},
     "output_type": "execute_result"
    }
   ],
   "source": [
    "pd.DataFrame({'epoch':epochs_lst+[['finite_diff_methods']],\n",
    "              'coefs':weights+[[1/((dxc)),-1/(dxc),0]],\n",
    "              'bias':biases+[[None]]})"
   ]
  },
  {
   "cell_type": "code",
   "execution_count": 19,
   "id": "9f6b1fa7-d756-4e6c-a900-621119a9d836",
   "metadata": {},
   "outputs": [
    {
     "name": "stdout",
     "output_type": "stream",
     "text": [
      "0.05\n"
     ]
    }
   ],
   "source": [
    "print(dxc)"
   ]
  },
  {
   "cell_type": "markdown",
   "id": "01ae768c-4aeb-477d-b875-bb8fbe7766de",
   "metadata": {},
   "source": [
    "### 5. Результаты"
   ]
  },
  {
   "cell_type": "code",
   "execution_count": 20,
   "id": "24c7a55a-bd46-48df-9373-d5f5a1433bbe",
   "metadata": {},
   "outputs": [
    {
     "name": "stdout",
     "output_type": "stream",
     "text": [
      "---------------Epochs = 1-------------------\n"
     ]
    },
    {
     "data": {
      "image/png": "[encoded data removed]",
      "text/plain": [
       "<Figure size 700x600 with 1 Axes>"
      ]
     },
     "metadata": {},
     "output_type": "display_data"
    },
    {
     "name": "stdout",
     "output_type": "stream",
     "text": [
      "\n",
      "\n",
      "done\n"
     ]
    }
   ],
   "source": [
    "# view_results(T_sim,x_sim,NN_sim,v_coarse,T,dtc,n=10,fix_axes=True)\n",
    "\n",
    "# view_result_imshow(NN_sim,v_coarse,T,dtc,L,dxc,figsize=(10,10))\n",
    "\n",
    "folder='Experiment_6_part2_advection'\n",
    "\n",
    "for i in range(len(epochs_lst)):\n",
    "    \n",
    "    print(fr'---------------Epochs = {epochs_lst[i]}-------------------')\n",
    "    view_results(T_sim,x_sim,NN_sim_lst[i],v_coarse,T,dtc,n=10,fix_axes=True,\n",
    "                epochs=epochs_lst[i],\n",
    "                save_path = fr'{folder}/graphs2/',\n",
    "                save_name = fr'Result_epoch={epochs_lst[i]}',\n",
    "                view_flag=False)\n",
    "    view_result_metric(NN_sim_lst[i],v_coarse,T,dtc,L,dxc,\n",
    "                       n_xticks=10,\n",
    "                       save_path = fr'{folder}/graphs2/',\n",
    "                save_name = fr'Metric_epoch={epochs_lst[i]}')\n",
    "\n",
    "    make_gif(folder=fr'{folder}/graphs2/',epochs=epochs_lst[i])\n",
    "\n",
    "    print('\\n')\n",
    "print('done')"
   ]
  },
  {
   "cell_type": "code",
   "execution_count": 21,
   "id": "b9483156-8e6e-4fce-b12a-62563d2d01f9",
   "metadata": {},
   "outputs": [
    {
     "data": {
      "text/plain": [
       "Parameter containing:\n",
       "tensor([[ 20., -20.,   0.]], requires_grad=True)"
      ]
     },
     "execution_count": 21,
     "metadata": {},
     "output_type": "execute_result"
    }
   ],
   "source": [
    "net.layer[0].weight"
   ]
  },
  {
   "cell_type": "code",
   "execution_count": 22,
   "id": "9066741f-f5a3-4a19-b0ce-f6130f648f85",
   "metadata": {},
   "outputs": [],
   "source": [
    "diff=NN_sim_lst[0]-v_coarse\n",
    "\n",
    "for j in range(len(diff[0,:])): \n",
    "    if max(diff[:,j])!=0:\n",
    "        plt.figure()\n",
    "        plt.plot(diff[:,j],'-*')\n",
    "        plt.title(str(j)+' / '+str(len(diff[0,:])))\n",
    "        plt.grid()\n",
    "        \n",
    "        plt.figure()\n",
    "        plt.plot(NN_sim_lst[0][:,j],'-*',label='NN_sim')\n",
    "        plt.plot(v_coarse[:,j],'-*',label='v_coarse')\n",
    "        plt.legend()\n",
    "        plt.grid()\n",
    "        \n",
    "        break"
   ]
  },
  {
   "cell_type": "code",
   "execution_count": null,
   "id": "197f5aa1-e2bc-4b17-b439-144505b23ef8",
   "metadata": {},
   "outputs": [],
   "source": []
  },
  {
   "cell_type": "code",
   "execution_count": 23,
   "id": "27ddad3f-7106-487c-b7ac-d082f82a0893",
   "metadata": {},
   "outputs": [
    {
     "data": {
      "image/png": "[encoded data removed]",
      "text/plain": [
       "<Figure size 640x480 with 1 Axes>"
      ]
     },
     "metadata": {},
     "output_type": "display_data"
    }
   ],
   "source": [
    "for j in range(5,7):\n",
    "        plt.plot(NN_sim_lst[0][:,j],'-*',color='red',label=fr'NN_sim_{j}')\n",
    "        # plt.plot(v_coarse[:,j],'--*',color='blue',label=fr'v_coarse_{j}')\n",
    "        plt.plot(v_fact[:,j],'--*',color='green',label=fr'v_coarse_{j}')\n",
    "        plt.legend()\n",
    "        plt.grid()"
   ]
  },
  {
   "cell_type": "code",
   "execution_count": null,
   "id": "d4e2d60c-b815-426c-b89d-1f3414def7af",
   "metadata": {},
   "outputs": [],
   "source": []
  },
  {
   "cell_type": "code",
   "execution_count": null,
   "id": "9c920a3e-5a55-420e-a4de-16cd8bad144b",
   "metadata": {},
   "outputs": [],
   "source": []
  },
  {
   "cell_type": "code",
   "execution_count": null,
   "id": "c71d520a-6794-4250-86ea-3b9daa729202",
   "metadata": {},
   "outputs": [],
   "source": []
  }
 ],
 "metadata": {
  "kernelspec": {
   "display_name": "Python 3",
   "language": "python",
   "name": "python3"
  },
  "language_info": {
   "codemirror_mode": {
    "name": "ipython",
    "version": 3
   },
   "file_extension": ".py",
   "mimetype": "text/x-python",
   "name": "python",
   "nbconvert_exporter": "python",
   "pygments_lexer": "ipython3",
   "version": "3.11.9"
  }
 },
 "nbformat": 4,
 "nbformat_minor": 5
}
