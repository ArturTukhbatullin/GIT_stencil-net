{
 "cells": [
  {
   "cell_type": "markdown",
   "id": "43b10539-64e9-4ec6-8439-19e302ad34af",
   "metadata": {},
   "source": [
    "### Библиотеки"
   ]
  },
  {
   "cell_type": "code",
   "execution_count": null,
   "id": "d85f0a0f-ecb0-4e45-a356-626c1fe89697",
   "metadata": {},
   "outputs": [],
   "source": [
    "# %load_ext autoreload\n",
    "# %autoreload 2"
   ]
  },
  {
   "cell_type": "code",
   "execution_count": null,
   "id": "0ff0bef2-9019-476a-941c-d011c93f52b4",
   "metadata": {},
   "outputs": [],
   "source": [
    "import pickle\n",
    "from Experiment_2d_thermal import *"
   ]
  },
  {
   "cell_type": "code",
   "execution_count": null,
   "id": "9ca8d57d",
   "metadata": {},
   "outputs": [],
   "source": [
    "import sys\n",
    "# sys.path.append(fr'/home/mex0/Documents/TukhbatullinAL/diplom_2/Git_stencil-net/Git_stencil-net/')\n",
    "sys.path.append('D:\\myProjects\\diplom_2\\GIT_stencil-net\\GIT_stencil-net')\n",
    "sys.path.append('D:\\myProjects\\diplom_2\\GIT_stencil-net\\GIT_stencil-net/5_2d_thermal_conductivity/')\n",
    "\n",
    "import funcs_2d_thermal as f2dt"
   ]
  },
  {
   "cell_type": "code",
   "execution_count": null,
   "id": "8f8b2d4b",
   "metadata": {},
   "outputs": [],
   "source": [
    "BC_TYPE='dirichlet'; BC_VALUES=[0,1]"
   ]
  },
  {
   "cell_type": "markdown",
   "id": "0d2f959c-e3ff-4085-9d96-4631c93b31dd",
   "metadata": {},
   "source": [
    "### Описание эксперимента:"
   ]
  },
  {
   "cell_type": "code",
   "execution_count": null,
   "id": "c245a15a-f59f-43cb-9273-7087ff6dbb27",
   "metadata": {},
   "outputs": [],
   "source": [
    "\"\"\"\n",
    "2д решение задачи теплопроводности\n",
    "\"\"\""
   ]
  },
  {
   "cell_type": "markdown",
   "id": "88a1a160-4f89-4139-89d5-0bc7daa22a9d",
   "metadata": {},
   "source": [
    "### 0. Параметры для генерации данных"
   ]
  },
  {
   "cell_type": "code",
   "execution_count": null,
   "id": "30c98b40",
   "metadata": {},
   "outputs": [],
   "source": [
    "folder='Experiment_2d_thermal_conductivity'"
   ]
  },
  {
   "cell_type": "code",
   "execution_count": null,
   "id": "bae264cc-1e17-4faf-a9f3-16202f05bf46",
   "metadata": {},
   "outputs": [],
   "source": [
    "# epochs_lst=[1,100,1_000,5_000,10_000]\n",
    "# epochs_lst=[30_000]\n",
    "epochs_lst=[100]"
   ]
  },
  {
   "cell_type": "markdown",
   "id": "12ffecb2-b8a7-4339-a8f2-c8407365524c",
   "metadata": {},
   "source": [
    "### 1. Генерация данных"
   ]
  },
  {
   "cell_type": "code",
   "execution_count": null,
   "id": "a4b5f202-566a-472b-b3cb-73f170145e49",
   "metadata": {},
   "outputs": [],
   "source": [
    "n=11\n",
    "L=1\n",
    "T=0.1\n",
    "h=L/(n-1)\n",
    "\n",
    "kurant=0.25\n",
    "tau=np.round(kurant*(h**2),6)\n",
    "\n",
    "x_lst=[i*h for i in range(n)]\n",
    "\n",
    "v=np.zeros((n,n))\n",
    "for i in range(0,n):\n",
    "    for j in range(0,n):\n",
    "        if i==n-1 or j==n-1:\n",
    "            v[i][j]=BC_VALUES[-1]\n",
    "\n",
    "# Конечн-разн схема\n",
    "v_fact=np.array(f2dt.generate_data(True,v,T,L,kurant,h,n,CUSTOM_TAU=tau,save_flg=False)[0])\n",
    "\n",
    "cmap='coolwarm'\n",
    "\n",
    "plt.figure()\n",
    "plt.imshow(v_fact[:,:,0],cmap=cmap)\n",
    "plt.colorbar()\n",
    "\n",
    "plt.figure()\n",
    "plt.imshow(v_fact[:,:,-1],cmap=cmap)\n",
    "plt.colorbar()"
   ]
  },
  {
   "cell_type": "code",
   "execution_count": null,
   "id": "52311221",
   "metadata": {},
   "outputs": [],
   "source": [
    "1/h/h,4/h/h"
   ]
  },
  {
   "cell_type": "code",
   "execution_count": null,
   "id": "9b1cd725",
   "metadata": {},
   "outputs": [],
   "source": [
    "print('h',h,h**2)\n",
    "print('tau',tau)\n",
    "assert tau/h<=1,'не выполнено ограничение на число Куранта'"
   ]
  },
  {
   "cell_type": "code",
   "execution_count": null,
   "id": "7c081305",
   "metadata": {},
   "outputs": [],
   "source": [
    "v_fact.shape"
   ]
  },
  {
   "cell_type": "code",
   "execution_count": null,
   "id": "03422e1d",
   "metadata": {},
   "outputs": [],
   "source": []
  },
  {
   "cell_type": "markdown",
   "id": "b5ff33f4",
   "metadata": {},
   "source": [
    "### Чтение данных"
   ]
  },
  {
   "cell_type": "code",
   "execution_count": null,
   "id": "7f9f5f82",
   "metadata": {},
   "outputs": [],
   "source": [
    "# path=fr'D:\\myProjects\\diplom_2\\GIT_stencil-net\\GIT_stencil-net\\5_2d_thermal_conductivity'\n",
    "# v_fact=pickle.load(open(fr'{path}/2d_advection_fact_2var.pkl','rb'))"
   ]
  },
  {
   "cell_type": "code",
   "execution_count": null,
   "id": "a39e6d5c",
   "metadata": {},
   "outputs": [],
   "source": [
    "v_fact.shape"
   ]
  },
  {
   "cell_type": "markdown",
   "id": "2264d6a0",
   "metadata": {},
   "source": [
    "### Линеаризация"
   ]
  },
  {
   "cell_type": "code",
   "execution_count": null,
   "id": "d9c25c3f",
   "metadata": {},
   "outputs": [],
   "source": [
    "def linearization(v_fact):\n",
    "\n",
    "    n=len(v_fact)\n",
    "    A=np.zeros((n*n))\n",
    "\n",
    "    for i in range(n):\n",
    "        for j in range(n):\n",
    "            A[i+n*j]=v_fact[i,j]\n",
    "\n",
    "    return A\n",
    "\n",
    "def get_value(A,i,j):\n",
    "\n",
    "    n=int(np.sqrt(len(A)))\n",
    "    \n",
    "    if i>=n and j>=n:\n",
    "        value = A[i-n+n*j-n]\n",
    "    elif i>=n:\n",
    "        value = A[i-n+n*j]\n",
    "    elif j>=n:\n",
    "        value = A[i+(n*j)-n]\n",
    "    else:\n",
    "        value = A[i+n*j]\n",
    "\n",
    "    return value\n",
    "\n",
    "def linearization_inverse(v_fact):\n",
    "\n",
    "    n=int(np.sqrt(len(v_fact)))\n",
    "    v_fact_mat=np.zeros((n,n))\n",
    "\n",
    "    for i in range(n):\n",
    "        for j in range(n):\n",
    "            v_fact_mat[i,j]=get_value(v_fact,i,j)\n",
    "\n",
    "\n",
    "    return v_fact_mat"
   ]
  },
  {
   "cell_type": "code",
   "execution_count": null,
   "id": "c031b2cb",
   "metadata": {},
   "outputs": [],
   "source": [
    "v_fact.shape"
   ]
  },
  {
   "cell_type": "code",
   "execution_count": null,
   "id": "088b34ac",
   "metadata": {},
   "outputs": [],
   "source": [
    "v_fact_linearizated=np.zeros((n*n,v_fact.shape[2]))\n",
    "for j in range(v_fact.shape[2]):\n",
    "    v_fact_linearizated[:,j]=linearization(v_fact[:,:,j])\n",
    "v_fact_linearizated.shape"
   ]
  },
  {
   "cell_type": "markdown",
   "id": "90608b94-8dc4-46dc-99b0-7247e0db0dc8",
   "metadata": {},
   "source": [
    "### 2. Сабсемплинг"
   ]
  },
  {
   "cell_type": "code",
   "execution_count": null,
   "id": "e2f1270b-04eb-4ba0-851e-686856a7793d",
   "metadata": {},
   "outputs": [],
   "source": [
    "t_factor = 1  # time subsample factor \n",
    "s_factor = 1  # space subsample factor\n",
    "\n",
    "# Tsim=len(v_fact[0])\n",
    "# dxc,dtc,coarse_t,coarse_x,v_coarse,Lxc,\\\n",
    "# Ltc,v_coarse_train,v_coarse_test=subsampling(s_factor,t_factor,h,tau,Tsim,n,v_fact,train_split=train_split)\n",
    "\n",
    "dxc=h\n",
    "dtc=tau\n",
    "# coarse_t,coarse_x = ...\n",
    "v_coarse=np.copy(v_fact_linearizated)\n",
    "Lxc = n*n\n",
    "# Ltc=...\n",
    "v_coarse_train = v_coarse[:,:int(v_coarse.shape[1]*train_split)]\n",
    "v_coarse_test = v_coarse[:,int(v_coarse.shape[1]*train_split):]"
   ]
  },
  {
   "cell_type": "code",
   "execution_count": null,
   "id": "8d4fe270",
   "metadata": {},
   "outputs": [],
   "source": [
    "v_coarse_train.shape"
   ]
  },
  {
   "cell_type": "code",
   "execution_count": null,
   "id": "6fb198f4",
   "metadata": {},
   "outputs": [],
   "source": [
    "v_coarse_test.shape"
   ]
  },
  {
   "cell_type": "code",
   "execution_count": null,
   "id": "a9e7f951-6c83-4f0f-bccc-1bc470308472",
   "metadata": {},
   "outputs": [],
   "source": [
    "v_coarse.shape"
   ]
  },
  {
   "cell_type": "code",
   "execution_count": null,
   "id": "2bd26c1e",
   "metadata": {},
   "outputs": [],
   "source": [
    "pickle.dump(v_fact,open(folder+'/v_fact.pkl','wb'))"
   ]
  },
  {
   "cell_type": "markdown",
   "id": "d50b82e9-b94d-4ed9-8cc8-147df589b3cc",
   "metadata": {},
   "source": [
    "### 3. Тренировка модели"
   ]
  },
  {
   "cell_type": "code",
   "execution_count": null,
   "id": "454a9b6d",
   "metadata": {},
   "outputs": [],
   "source": [
    "epochs_lst"
   ]
  },
  {
   "cell_type": "code",
   "execution_count": null,
   "id": "274e3f48-d355-4021-87de-2c718620da41",
   "metadata": {},
   "outputs": [],
   "source": [
    "for epochs in epochs_lst:\n",
    "    \n",
    "    net, loss_lst,loss=train_net(MLPConv,v_coarse_train,epochs,dtc,\n",
    "              fs,\n",
    "              neurons,\n",
    "              hidden_layers_num,\n",
    "              lr,\n",
    "              m,\n",
    "              has_backward,\n",
    "              method,\n",
    "              decay_const,\n",
    "              bc_type=BC_TYPE,bc_values=BC_VALUES,\n",
    "              verbose=True,\n",
    "              verbose_step=10)\n",
    "    \n",
    "    pickle.dump(net, open(fr'{folder}/models/net_epochs={epochs}_device={device}', 'wb'))\n",
    "    "
   ]
  },
  {
   "cell_type": "code",
   "execution_count": null,
   "id": "6f30df64",
   "metadata": {},
   "outputs": [],
   "source": [
    "lr"
   ]
  },
  {
   "cell_type": "code",
   "execution_count": null,
   "id": "ba634cea",
   "metadata": {},
   "outputs": [],
   "source": [
    "has_backward"
   ]
  },
  {
   "cell_type": "code",
   "execution_count": null,
   "id": "f738f8af",
   "metadata": {},
   "outputs": [],
   "source": [
    "net.layer[0].weight"
   ]
  },
  {
   "cell_type": "code",
   "execution_count": null,
   "id": "99389b0e",
   "metadata": {},
   "outputs": [],
   "source": [
    "assert 1==2, 'stop point'"
   ]
  },
  {
   "cell_type": "markdown",
   "id": "716fcd04-dfd0-4a13-934e-9fa55e9e50ea",
   "metadata": {},
   "source": [
    "### 4. Симуляция прогноза моделью"
   ]
  },
  {
   "cell_type": "code",
   "execution_count": null,
   "id": "c471e58f-b8f6-43c6-bcd7-790df83300d7",
   "metadata": {},
   "outputs": [],
   "source": [
    "NN_sim_lst=[]\n",
    "\n",
    "weights=[]\n",
    "biases=[]\n",
    "\n",
    "for epochs in epochs_lst:\n",
    "    \n",
    "    net = pickle.load(open(fr'{folder}/models/net_epochs={epochs}_device={device}', 'rb'))\n",
    "    NN_sim,T_sim,x_sim=make_simulation(net,v_coarse,L,Lxc,dtc,method=method,\n",
    "                                              bc_type=BC_TYPE,bc_values=BC_VALUES)\n",
    "    \n",
    "    NN_sim_lst.append(NN_sim)\n",
    "\n",
    "    try:\n",
    "        weights.append(net.layer[0].weight.data.numpy())\n",
    "    except:\n",
    "        weights.append(net.layer[0].weight.cpu().data.numpy())\n",
    "    biases.append(None)"
   ]
  },
  {
   "cell_type": "code",
   "execution_count": null,
   "id": "893f2942",
   "metadata": {},
   "outputs": [],
   "source": [
    "net.layer[0].weight"
   ]
  },
  {
   "cell_type": "code",
   "execution_count": null,
   "id": "bdc669c9-f970-42e4-a3b6-0e665467eda9",
   "metadata": {},
   "outputs": [],
   "source": [
    "pd.DataFrame({'epoch':epochs_lst,#+[['finite_diff_methods']],\n",
    "              'coefs':weights,#+[[1/((dxc)),-1/(dxc),0]],\n",
    "              'bias':biases})#+[[None]]})"
   ]
  },
  {
   "cell_type": "code",
   "execution_count": null,
   "id": "f92d179d",
   "metadata": {},
   "outputs": [],
   "source": []
  },
  {
   "cell_type": "markdown",
   "id": "01ae768c-4aeb-477d-b875-bb8fbe7766de",
   "metadata": {},
   "source": [
    "### 5. Результаты"
   ]
  },
  {
   "cell_type": "code",
   "execution_count": null,
   "id": "84415b6c",
   "metadata": {},
   "outputs": [],
   "source": [
    "# err=np.abs(v_coarse-NN_sim)\n",
    "# mae_list=[err[:,i].mean() for i in range(err.shape[1])]\n",
    "# mae_df=pd.DataFrame({'method':method,'mae_list':mae_list})#.to_csv(fr'{method}_mae.csv')"
   ]
  },
  {
   "cell_type": "code",
   "execution_count": null,
   "id": "24c7a55a-bd46-48df-9373-d5f5a1433bbe",
   "metadata": {},
   "outputs": [],
   "source": [
    "\n",
    "for i in range(len(epochs_lst)):\n",
    "    \n",
    "    print(fr'---------------Epochs = {epochs_lst[i]}-------------------')\n",
    "\n",
    "    make_subplot_graphs_2d(NN_sim, v_coarse, x_sim, T_sim, T, dtc, 11,\n",
    "                       figsize=[9,2],\n",
    "                       vmin_diff=-1,\n",
    "                       vmax_diff=1,\n",
    "                       save_flg=True,\n",
    "                       save_path=folder+'/graphs/',\n",
    "                       save_name=fr'SUBPLOT_by_time_{epochs_lst[i]}'\n",
    "                       )\n",
    "    \n",
    "    err=metric_by_time(NN_sim,v_coarse,T,dtc,ymax=None,\n",
    "                save_flg=True,\n",
    "                save_path=folder+'/graphs/',\n",
    "                save_name=fr'MAE_by_time_{epochs_lst[i]}'\n",
    "                )\n",
    "\n",
    "    print('\\n')\n",
    "print('done')"
   ]
  },
  {
   "cell_type": "code",
   "execution_count": null,
   "id": "2a6d0a5a",
   "metadata": {},
   "outputs": [],
   "source": []
  },
  {
   "cell_type": "code",
   "execution_count": null,
   "id": "1efc5ea2",
   "metadata": {},
   "outputs": [],
   "source": [
    "assert 1==2,'stop point'"
   ]
  },
  {
   "cell_type": "markdown",
   "id": "1780e135-bab2-4739-8bf2-20d565e019ac",
   "metadata": {},
   "source": [
    "### cpu_vs_cuda"
   ]
  },
  {
   "cell_type": "code",
   "execution_count": null,
   "id": "790b1db5-821a-42c2-a192-ff67e474989f",
   "metadata": {},
   "outputs": [],
   "source": [
    "model_cpu=pickle.load(open(fr'{folder}/models/net_epochs={epochs}_device=cpu', 'rb'))\n",
    "model_cuda=pickle.load(open(fr'{folder}/models/net_epochs={epochs}_device=cuda', 'rb'))"
   ]
  },
  {
   "cell_type": "code",
   "execution_count": null,
   "id": "0d08e426-d0ca-4a1d-b7a5-e5bb0be38b6c",
   "metadata": {},
   "outputs": [],
   "source": [
    "model_cpu.layer[0].weight.data.numpy()"
   ]
  },
  {
   "cell_type": "code",
   "execution_count": null,
   "id": "0778ea3c-1411-449b-b575-3ce5bdad94d0",
   "metadata": {},
   "outputs": [],
   "source": [
    "model_cuda.layer[0].weight.cpu().data.numpy()"
   ]
  },
  {
   "cell_type": "code",
   "execution_count": null,
   "id": "bcc1b831",
   "metadata": {},
   "outputs": [],
   "source": []
  },
  {
   "cell_type": "markdown",
   "id": "8ead6d90",
   "metadata": {},
   "source": [
    "### RK3_mae vs E1_mae"
   ]
  },
  {
   "cell_type": "code",
   "execution_count": null,
   "id": "660b9a64",
   "metadata": {},
   "outputs": [],
   "source": [
    "rk3_mae=pd.read_csv(fr'RK3_mae.csv')\n",
    "e1_mae=pd.read_csv(fr'E1_mae.csv')\n",
    "plt.plot(rk3_mae['mae_list'],label='RK3')\n",
    "plt.plot(e1_mae['mae_list'],label='E1')\n",
    "plt.grid()\n",
    "plt.legend()"
   ]
  },
  {
   "cell_type": "code",
   "execution_count": null,
   "id": "525cbb34",
   "metadata": {},
   "outputs": [],
   "source": []
  }
 ],
 "metadata": {
  "kernelspec": {
   "display_name": "Python 3",
   "language": "python",
   "name": "python3"
  },
  "language_info": {
   "codemirror_mode": {
    "name": "ipython",
    "version": 3
   },
   "file_extension": ".py",
   "mimetype": "text/x-python",
   "name": "python",
   "nbconvert_exporter": "python",
   "pygments_lexer": "ipython3",
   "version": "3.11.9"
  }
 },
 "nbformat": 4,
 "nbformat_minor": 5
}
