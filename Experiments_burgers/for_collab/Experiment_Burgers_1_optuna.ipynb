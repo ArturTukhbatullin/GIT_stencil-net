{
 "cells": [
  {
   "cell_type": "markdown",
   "id": "43b10539-64e9-4ec6-8439-19e302ad34af",
   "metadata": {},
   "source": [
    "### Библиотеки"
   ]
  },
  {
   "cell_type": "code",
   "execution_count": null,
   "id": "0ff0bef2-9019-476a-941c-d011c93f52b4",
   "metadata": {},
   "outputs": [],
   "source": [
    "import pickle\n",
    "from Experiment_Burgers_1 import *"
   ]
  },
  {
   "cell_type": "code",
   "execution_count": null,
   "id": "9ca8d57d",
   "metadata": {},
   "outputs": [],
   "source": [
    "import sys\n",
    "sys.path.append('D:\\myProjects\\diplom_2\\GIT_stencil-net\\GIT_stencil-net')\n",
    "from utils import burgers_simulation,burgers_upwind"
   ]
  },
  {
   "cell_type": "code",
   "execution_count": null,
   "id": "993e82d7",
   "metadata": {},
   "outputs": [],
   "source": [
    "BC_TYPE='dirichlet'; BC_VALUES=[0,0]"
   ]
  },
  {
   "cell_type": "markdown",
   "id": "0d2f959c-e3ff-4085-9d96-4631c93b31dd",
   "metadata": {},
   "source": [
    "### Описание эксперимента:"
   ]
  },
  {
   "cell_type": "markdown",
   "id": "d761589d-49a4-4142-a421-54fc2cbbf03e",
   "metadata": {},
   "source": [
    "- Полностью с параметрами автора"
   ]
  },
  {
   "cell_type": "markdown",
   "id": "88a1a160-4f89-4139-89d5-0bc7daa22a9d",
   "metadata": {},
   "source": [
    "### 0. Параметры для генерации данных"
   ]
  },
  {
   "cell_type": "code",
   "execution_count": null,
   "id": "30c98b40",
   "metadata": {},
   "outputs": [],
   "source": [
    "folder='Experiment_burgers_1_optuna'"
   ]
  },
  {
   "cell_type": "code",
   "execution_count": null,
   "id": "bf890af5",
   "metadata": {},
   "outputs": [],
   "source": [
    "# для сил\n",
    "np.random.seed(0)\n",
    "\n",
    "L = 2.0*np.pi; T_ = 40;  Al = -0.1; Ar = 0.1; wl = -0.4; wr = 0.4; N = 20\n",
    "A = np.zeros((N,)); w = np.zeros((N,)); phi = np.zeros((N,)); l = np.zeros((N,))\n",
    "\n",
    "for k in range(0, N):\n",
    "    A[k] = (Ar-Al)*np.random.rand(1) + Al\n",
    "    w[k] = (wr-wl)*np.random.rand(1) + wl\n",
    "    phi[k] = (2.0*np.pi)*np.random.rand(1)\n",
    "    l[k] = np.random.randint(2, 5)"
   ]
  },
  {
   "cell_type": "code",
   "execution_count": null,
   "id": "bae264cc-1e17-4faf-a9f3-16202f05bf46",
   "metadata": {},
   "outputs": [],
   "source": [
    "# epochs_lst=[1,10,100,1_000,5_000,10_000]\n",
    "epochs_lst=[100]"
   ]
  },
  {
   "cell_type": "code",
   "execution_count": null,
   "id": "9920908b",
   "metadata": {},
   "outputs": [],
   "source": [
    "display(main_params)"
   ]
  },
  {
   "cell_type": "markdown",
   "id": "12ffecb2-b8a7-4339-a8f2-c8407365524c",
   "metadata": {},
   "source": [
    "### 1. Генерация данных"
   ]
  },
  {
   "cell_type": "code",
   "execution_count": null,
   "id": "5cc46055",
   "metadata": {},
   "outputs": [],
   "source": [
    "# n = 256; Tsim = 80001; tau = 0.01\n",
    "# n = 256; Tsim = 16001; tau=0.01\n",
    "\n",
    "\n",
    "x_lst = np.linspace(0,L,n); h = x_lst[1] - x_lst[0]; #D = 0.02; \n",
    "\n",
    "CFL = (h*h)/(2.0*D)\n",
    "print(\"CFL dt\", CFL, \"actual dt\", tau)"
   ]
  },
  {
   "cell_type": "code",
   "execution_count": null,
   "id": "b6376c5d",
   "metadata": {},
   "outputs": [],
   "source": [
    "# ##generate (by WENO + RK3)\n",
    "# v_fact, phase = burgers_simulation(Tsim, n, x_lst, D, tau, A, w, phi, l, N, L,bc_type=BC_TYPE,bc_values=BC_VALUES)\n",
    "\n",
    "# ##save\n",
    "# pickle.dump(v_fact, open(fr'{folder}/data/v_fact_n={n}_Tsim={Tsim}.pkl', 'wb'))\n",
    "# pickle.dump(phase, open(fr'{folder}/data/phase_n={n}_Tsim={Tsim}.pkl', 'wb'))\n",
    "\n",
    "##load\n",
    "# v_fact=pickle.load( open(fr'{folder}/data/v_fact_n={n}_Tsim={Tsim}.pkl', 'rb'))\n",
    "# phase=pickle.load( open(fr'{folder}/data/phase_n={n}_Tsim={Tsim}.pkl', 'rb'))"
   ]
  },
  {
   "cell_type": "code",
   "execution_count": null,
   "id": "a341ee6b",
   "metadata": {},
   "outputs": [],
   "source": [
    "# ##generate (by UPWIND)\n",
    "# v_fact = burgers_upwind(Tsim, n, x_lst, D, tau, A, w, phi, l, N, L,bc_type=BC_TYPE,bc_values=BC_VALUES)\n",
    "\n",
    "#save\n",
    "# pickle.dump(v_fact, open(fr'{folder}/data/v_fact_UPWIND_n={n}_Tsim={Tsim}.pkl', 'wb'))\n",
    "\n",
    "##load\n",
    "# v_fact=pickle.load( open(fr'{folder}/data/v_fact_UPWIND_n={n}_Tsim={Tsim}.pkl', 'rb'))"
   ]
  },
  {
   "cell_type": "code",
   "execution_count": null,
   "id": "e7daf15a",
   "metadata": {},
   "outputs": [],
   "source": [
    "v_fact = pickle.load( open(fr'{folder}/data/v_fact_CD_n={n}_Tsim={Tsim}.pkl', 'rb')).to_device('cpu')"
   ]
  },
  {
   "cell_type": "code",
   "execution_count": null,
   "id": "36f42b2e",
   "metadata": {},
   "outputs": [],
   "source": [
    "v_fact.shape"
   ]
  },
  {
   "cell_type": "code",
   "execution_count": null,
   "id": "82f540e4-300b-4476-a2e0-871c2dc19264",
   "metadata": {},
   "outputs": [],
   "source": [
    "#view\n",
    "plt.plot(v_fact[:,0],'o-')\n",
    "plt.plot(v_fact[:,-1],'.-')\n",
    "plt.grid()\n",
    "plt.title('Фактические данные')"
   ]
  },
  {
   "cell_type": "code",
   "execution_count": null,
   "id": "9b1cd725",
   "metadata": {},
   "outputs": [],
   "source": [
    "print('h',h,h**2)\n",
    "print('tau',tau)\n",
    "assert tau/h<=1,'не выполнено ограничение на число Куранта'"
   ]
  },
  {
   "cell_type": "markdown",
   "id": "90608b94-8dc4-46dc-99b0-7247e0db0dc8",
   "metadata": {},
   "source": [
    "### 2. Сабсемплинг"
   ]
  },
  {
   "cell_type": "code",
   "execution_count": null,
   "id": "e2f1270b-04eb-4ba0-851e-686856a7793d",
   "metadata": {},
   "outputs": [],
   "source": [
    "t_factor = 1  # time subsample factor \n",
    "s_factor = 1  # space subsample factor\n",
    "\n",
    "# t_factor = 20\n",
    "# s_factor = 4\n",
    "\n",
    "# t_factor = 20\n",
    "# s_factor = 5\n",
    "\n",
    "Tsim=len(v_fact[0])\n",
    "dxc,dtc,coarse_t,coarse_x,v_coarse,Lxc,\\\n",
    "Ltc,v_coarse_train,v_coarse_test=subsampling(s_factor,t_factor,h,tau,Tsim,n,v_fact,train_split=train_split)"
   ]
  },
  {
   "cell_type": "code",
   "execution_count": null,
   "id": "dccff044-42e9-4bc6-b198-209acd119896",
   "metadata": {},
   "outputs": [],
   "source": [
    "dxc==dtc, dxc"
   ]
  },
  {
   "cell_type": "code",
   "execution_count": null,
   "id": "70f70c7e",
   "metadata": {},
   "outputs": [],
   "source": [
    "##check right point\n",
    "plt.figure()\n",
    "plt.plot(v_coarse_train[0,:])\n",
    "plt.plot(v_coarse_train[-1,:],'--')\n",
    "\n",
    "plt.figure()\n",
    "plt.plot(v_coarse_test[0,:])\n",
    "plt.plot(v_coarse_test[-1,:],'--')"
   ]
  },
  {
   "cell_type": "code",
   "execution_count": null,
   "id": "fc65cae0-6664-4e68-903c-f60f01a4a0ba",
   "metadata": {},
   "outputs": [],
   "source": [
    "plt.figure()\n",
    "time=0 #first time\n",
    "plt.plot(x_lst[coarse_x],v_coarse[:,time],'*',color='red',label=str(s_factor) + 'x FACT')\n",
    "plt.plot(x_lst,v_fact[:,t_factor*time],'.',color='blue',label='FACT')\n",
    "time=v_coarse.shape[1]-1 #last time\n",
    "plt.plot(x_lst[coarse_x],v_coarse[:,time],'*',color='red',label=str(s_factor) + 'x FACT')\n",
    "plt.plot(x_lst,v_fact[:,t_factor*time],'.',color='blue',label='FACT')\n",
    "plt.legend()\n",
    "# plt.title(\" Time slice at t=0 and t = \" + str(time))\n",
    "# plt.show()\n",
    "plt.title('Фактические данные после сабсемплинга')"
   ]
  },
  {
   "cell_type": "markdown",
   "id": "265efcd3",
   "metadata": {},
   "source": [
    "### 3.1 Optuna"
   ]
  },
  {
   "cell_type": "code",
   "execution_count": null,
   "id": "b98c3efa",
   "metadata": {},
   "outputs": [],
   "source": [
    "import optuna\n",
    "from sklearn.metrics import root_mean_squared_error"
   ]
  },
  {
   "cell_type": "code",
   "execution_count": null,
   "id": "ad8c2267",
   "metadata": {},
   "outputs": [],
   "source": [
    "N_TRIALS"
   ]
  },
  {
   "cell_type": "code",
   "execution_count": null,
   "id": "91cad0e0",
   "metadata": {},
   "outputs": [],
   "source": [
    "from utils import forcing_terms\n",
    "\n",
    "Fc, Fc_0p5, Fc_p1, Fc_0m5, Fc_m1 = forcing_terms(A, w, phi, l, L, Lxc, T_, Ltc, N, dtc)\n",
    "\n",
    "# u_train = torch.tensor(v_coarse_train.T, requires_grad=True, dtype=torch.float, device=device)\n",
    "fc      = torch.tensor(Fc.T, requires_grad=True, dtype=torch.float, device=device)\n",
    "fc_0p5  = torch.tensor(Fc_0p5.T, requires_grad=True, dtype=torch.float, device=device)\n",
    "fc_p1   = torch.tensor(Fc_p1.T, requires_grad=True, dtype=torch.float, device=device)\n",
    "fc_0m5  = torch.tensor(Fc_0m5.T, requires_grad=True, dtype=torch.float, device=device)\n",
    "fc_m1   = torch.tensor(Fc_m1.T, requires_grad=True, dtype=torch.float, device=device)"
   ]
  },
  {
   "cell_type": "code",
   "execution_count": null,
   "id": "c607efd4",
   "metadata": {},
   "outputs": [],
   "source": [
    "v_coarse_test.shape"
   ]
  },
  {
   "cell_type": "code",
   "execution_count": null,
   "id": "d0ee3b78",
   "metadata": {},
   "outputs": [],
   "source": [
    "v_coarse_test_1=v_coarse_test[:,:1000]\n",
    "v_coarse_test_1.shape"
   ]
  },
  {
   "cell_type": "code",
   "execution_count": null,
   "id": "a324dca6",
   "metadata": {},
   "outputs": [],
   "source": [
    "def objective_mplconv(trial):\n",
    "    # my_doc_params={\n",
    "    # 'fs' : trial.suggest_categorical('fs',[1,2,3,4,5,6,7]),\n",
    "    # 'neurons' : trial.suggest_categorical('neurons',[8,16,24,32,40,48,64]) ,\n",
    "    # 'hidden_layers_num': trial.suggest_categorical('hidden_layers_num',[0,1,2,3,4]),\n",
    "    # 'lr': trial.suggest_categorical('lr',[1e-02,1e-03]),\n",
    "    # 'm' : trial.suggest_categorical('m',[2,4,6]) ,  \n",
    "    # 'has_backward' : trial.suggest_categorical('has_backward',[True]),  \n",
    "    # 'method' : trial.suggest_categorical('method',['RK3','E1']),\n",
    "    # 'decay_const': trial.suggest_categorical('decay_const',[0.2,0.5,0.9])\n",
    "    # }\n",
    "    my_doc_params={\n",
    "    'fs' : trial.suggest_categorical('fs',[3,5]),\n",
    "    'neurons' : trial.suggest_categorical('neurons',[8,16,32]) ,\n",
    "    'hidden_layers_num': trial.suggest_categorical('hidden_layers_num',[0,1,2,3]),\n",
    "    'lr': trial.suggest_categorical('lr',[1e-01,1e-02]),\n",
    "    'm' : trial.suggest_categorical('m',[1,2,4]) ,  \n",
    "    'has_backward' : trial.suggest_categorical('has_backward',[True,False]),  \n",
    "    'method' : trial.suggest_categorical('method',['E1','RK3']),\n",
    "    'decay_const': trial.suggest_categorical('decay_const',[0.9])\n",
    "    }\n",
    "    \n",
    "    ## loss на последней эпохе\n",
    "    # metric=mf.train_net(mf.MLPConv,v_coarse_train,mf.epochs,dtc,\n",
    "                        # **my_doc_params)[2]\n",
    "    \n",
    "    ## was\n",
    "    # ## средние лосс с 10 последних итераций\n",
    "    # metric_lst=train_net(MLPConv,v_coarse_train,epochs,dtc,\n",
    "    #                     **my_doc_params,\n",
    "    #                     force_terms=[fc, fc_0p5,fc_p1,fc_0m5,fc_m1],\n",
    "    #                     bc_type=BC_TYPE,bc_values=BC_VALUES)[1]\n",
    "    \n",
    "    # metric_lst=np.array(metric_lst)[:,3][-10:]\n",
    "    # metric=np.mean(metric_lst)\n",
    "    \n",
    "\n",
    "    ## new\n",
    "    # train\n",
    "    temp_net,_,_=train_net(MLPConv,v_coarse_train,epochs,dtc,\n",
    "                        **my_doc_params,\n",
    "                        force_terms=[fc, fc_0p5,fc_p1,fc_0m5,fc_m1],\n",
    "                        bc_type=BC_TYPE,bc_values=BC_VALUES)\n",
    "    # \n",
    "    NN_sim,T_sim,x_sim=make_simulation_forcing(temp_net,v_coarse_test_1,L,Lxc,dtc,\\\n",
    "                                              A,phi,N,w,l,method=method,\n",
    "                                              bc_type=BC_TYPE,bc_values=BC_VALUES)\n",
    "\n",
    "\n",
    "    print('Проверка на пропуски :',np.isnan(np.min(NN_sim)))\n",
    "\n",
    "    if np.isnan(np.min(NN_sim))==False:\n",
    "\n",
    "        metric = root_mean_squared_error(v_coarse_test_1,NN_sim)\n",
    "        print(metric)\n",
    "    else:\n",
    "        metric = np.inf\n",
    "\n",
    "    return metric"
   ]
  },
  {
   "cell_type": "code",
   "execution_count": null,
   "id": "a9dd1232",
   "metadata": {},
   "outputs": [],
   "source": [
    "v_coarse_test_1.shape,v_coarse_test.shape"
   ]
  },
  {
   "cell_type": "code",
   "execution_count": null,
   "id": "5e3a5c62",
   "metadata": {},
   "outputs": [],
   "source": [
    "study = optuna.create_study(direction='minimize')\n",
    "study.optimize(objective_mplconv, n_trials=N_TRIALS)"
   ]
  },
  {
   "cell_type": "code",
   "execution_count": null,
   "id": "4af517df",
   "metadata": {},
   "outputs": [],
   "source": [
    "study.trials_dataframe()\n",
    "print('Best hyperparameters:', study.best_params)\n",
    "print('Best RMSE:', study.best_value)"
   ]
  },
  {
   "cell_type": "code",
   "execution_count": null,
   "id": "4ccd432e",
   "metadata": {},
   "outputs": [],
   "source": [
    "my_doc_params=study.best_params"
   ]
  },
  {
   "cell_type": "code",
   "execution_count": null,
   "id": "9e994686",
   "metadata": {},
   "outputs": [],
   "source": []
  },
  {
   "cell_type": "markdown",
   "id": "d50b82e9-b94d-4ed9-8cc8-147df589b3cc",
   "metadata": {},
   "source": [
    "### 3.2 Тренировка модели"
   ]
  },
  {
   "cell_type": "code",
   "execution_count": null,
   "id": "de9ac689",
   "metadata": {},
   "outputs": [],
   "source": [
    "from utils import forcing_terms\n",
    "\n",
    "Fc, Fc_0p5, Fc_p1, Fc_0m5, Fc_m1 = forcing_terms(A, w, phi, l, L, Lxc, T_, Ltc, N, dtc)\n",
    "\n",
    "# u_train = torch.tensor(v_coarse_train.T, requires_grad=True, dtype=torch.float, device=device)\n",
    "fc      = torch.tensor(Fc.T, requires_grad=True, dtype=torch.float, device=device)\n",
    "fc_0p5  = torch.tensor(Fc_0p5.T, requires_grad=True, dtype=torch.float, device=device)\n",
    "fc_p1   = torch.tensor(Fc_p1.T, requires_grad=True, dtype=torch.float, device=device)\n",
    "fc_0m5  = torch.tensor(Fc_0m5.T, requires_grad=True, dtype=torch.float, device=device)\n",
    "fc_m1   = torch.tensor(Fc_m1.T, requires_grad=True, dtype=torch.float, device=device)"
   ]
  },
  {
   "cell_type": "code",
   "execution_count": null,
   "id": "274e3f48-d355-4021-87de-2c718620da41",
   "metadata": {},
   "outputs": [],
   "source": [
    "for epochs in epochs_lst:\n",
    "    \n",
    "    net, loss_lst,loss=train_net(MLPConv,v_coarse_train,epochs,dtc,\n",
    "              **my_doc_params,\n",
    "              force_terms=[fc,fc_0p5,fc_p1,fc_0m5,fc_m1],\n",
    "              bc_type=BC_TYPE,bc_values=BC_VALUES)\n",
    "    \n",
    "    pickle.dump(net, open(fr'{folder}/models/net_epochs={epochs}', 'wb'))\n",
    "    "
   ]
  },
  {
   "cell_type": "code",
   "execution_count": null,
   "id": "c237a464",
   "metadata": {},
   "outputs": [],
   "source": [
    "high_epochs=1_000\n",
    "my_doc_params=study.best_params\n",
    "my_doc_params.update({'epoch':high_epochs})\n",
    "display(make_param_table(net,my_doc_params,tau,h,n,t_factor,s_factor))"
   ]
  },
  {
   "cell_type": "code",
   "execution_count": null,
   "id": "95a539a8",
   "metadata": {},
   "outputs": [],
   "source": [
    "# save study history\n",
    "study.trials_dataframe().to_excel(fr'{folder}/models/trials_dataframe_n=' +str(n)+'_'+ str(list(my_doc_params.values()))+'.xlsx',index=False)\n",
    "\n",
    "# save all hyperparams\n",
    "make_param_table(net,my_doc_params,tau,h,n,t_factor,s_factor).to_excel(fr'{folder}/models/all_best_params_n='+str(n)+'_'+str(list(my_doc_params.values()))+'.xlsx',index=False)\n",
    "\n",
    "\n",
    "# save hyperparams\n",
    "my_doc_params['fs']=[my_doc_params['fs']]\n",
    "pd.DataFrame.from_dict(my_doc_params,dtype=str)\n",
    "pd.DataFrame.from_dict(my_doc_params,dtype=str).to_excel(fr'{folder}/models/best_params_n=' +str(n)+'_'+str(list(my_doc_params.values()))+'.xlsx',index=False)"
   ]
  },
  {
   "cell_type": "code",
   "execution_count": null,
   "id": "a12af8f1",
   "metadata": {},
   "outputs": [],
   "source": [
    "del my_doc_params['epoch']\n",
    "my_doc_params['fs']=my_doc_params['fs'][0]\n",
    "net,loss_lst,loss=train_net(MLPConv,v_coarse_train,high_epochs,dtc,**my_doc_params,\n",
    "                            force_terms=[fc, fc_0p5,fc_p1,fc_0m5,fc_m1],\n",
    "                            bc_type=BC_TYPE,bc_values=BC_VALUES)\n",
    "\n",
    "pickle.dump(net, open(fr'{folder}/models/net_epochs={high_epochs}_device={device}', 'wb'))"
   ]
  },
  {
   "cell_type": "code",
   "execution_count": null,
   "id": "fb38d86c",
   "metadata": {},
   "outputs": [],
   "source": [
    "epochs_lst=[high_epochs]"
   ]
  },
  {
   "cell_type": "markdown",
   "id": "716fcd04-dfd0-4a13-934e-9fa55e9e50ea",
   "metadata": {},
   "source": [
    "### 4. Симуляция прогноза моделью"
   ]
  },
  {
   "cell_type": "code",
   "execution_count": null,
   "id": "c471e58f-b8f6-43c6-bcd7-790df83300d7",
   "metadata": {},
   "outputs": [],
   "source": [
    "NN_sim_lst=[]\n",
    "\n",
    "weights=[]\n",
    "biases=[]\n",
    "\n",
    "for epochs in epochs_lst:\n",
    "    \n",
    "    net = pickle.load(open(fr'{folder}/models/net_epochs={epochs}_device={device}', 'rb'))\n",
    "    \n",
    "    # NN_sim,T_sim,x_sim=make_simulation(net,v_coarse,L,Lxc,dtc,method=method)\n",
    "    NN_sim,T_sim,x_sim=make_simulation_forcing(net,v_coarse,L,Lxc,dtc,\\\n",
    "                                              A,phi,N,w,l,method=method,\n",
    "                                              bc_type=BC_TYPE,bc_values=BC_VALUES)\n",
    "    \n",
    "    NN_sim_lst.append(NN_sim)\n",
    "    \n",
    "    weights.append(net.layer[0].weight.data.numpy())\n",
    "    biases.append(None)"
   ]
  },
  {
   "cell_type": "code",
   "execution_count": null,
   "id": "3cfdc74e",
   "metadata": {},
   "outputs": [],
   "source": [
    "method"
   ]
  },
  {
   "cell_type": "code",
   "execution_count": null,
   "id": "bdc669c9-f970-42e4-a3b6-0e665467eda9",
   "metadata": {},
   "outputs": [],
   "source": [
    "pd.DataFrame({'epoch':epochs_lst,#+[['finite_diff_methods']],\n",
    "              'coefs':weights,#+[[1/((dxc)),-1/(dxc),0]],\n",
    "              'bias':biases})#+[[None]]})"
   ]
  },
  {
   "cell_type": "code",
   "execution_count": null,
   "id": "9f6b1fa7-d756-4e6c-a900-621119a9d836",
   "metadata": {},
   "outputs": [],
   "source": [
    "print(dxc)"
   ]
  },
  {
   "cell_type": "markdown",
   "id": "01ae768c-4aeb-477d-b875-bb8fbe7766de",
   "metadata": {},
   "source": [
    "### 5. Результаты"
   ]
  },
  {
   "cell_type": "code",
   "execution_count": null,
   "id": "bd13b4a1",
   "metadata": {},
   "outputs": [],
   "source": [
    "T=round(T_sim*dtc,3)\n",
    "T"
   ]
  },
  {
   "cell_type": "code",
   "execution_count": null,
   "id": "84415b6c",
   "metadata": {},
   "outputs": [],
   "source": [
    "err=np.abs(v_coarse-NN_sim)\n",
    "mae_list=[err[:,i].mean() for i in range(err.shape[1])]\n",
    "mae_df=pd.DataFrame({'method':method,'mae_list':mae_list}).to_csv(fr'{method}_mae.csv')"
   ]
  },
  {
   "cell_type": "code",
   "execution_count": null,
   "id": "c3ab7518",
   "metadata": {},
   "outputs": [],
   "source": [
    "method"
   ]
  },
  {
   "cell_type": "code",
   "execution_count": null,
   "id": "99b17d89",
   "metadata": {},
   "outputs": [],
   "source": [
    "display(main_params)"
   ]
  },
  {
   "cell_type": "code",
   "execution_count": null,
   "id": "24c7a55a-bd46-48df-9373-d5f5a1433bbe",
   "metadata": {},
   "outputs": [],
   "source": [
    "\n",
    "for i in range(len(epochs_lst)):\n",
    "    \n",
    "    print(fr'---------------Epochs = {epochs_lst[i]}-------------------')\n",
    "    view_results(T_sim,x_sim,NN_sim_lst[i],v_coarse,T,dtc,n=11,fix_axes=False,\n",
    "                epochs=epochs_lst[i],\n",
    "                save_path = fr'{folder}/graphs/',\n",
    "                save_name = fr'Result_epoch={epochs_lst[i]}',\n",
    "                view_flag=False)\n",
    "    view_result_metric(NN_sim_lst[i],v_coarse,T,dtc,L,dxc,\n",
    "                       n_xticks=100,\n",
    "                       save_path = fr'{folder}/graphs/',\n",
    "                save_name = fr'Metric_epoch={epochs_lst[i]}')\n",
    "\n",
    "    view_result_imshow(NN_sim_lst[i],v_coarse,T,dtc,L,dxc,\n",
    "                       figsize=(10,5),aspect=10,n_xticks=30,n_yticks=20,\n",
    "                       save_path = fr'{folder}/graphs/',\n",
    "                       save_name = fr'Imshow_epoch={epochs_lst[i]}',\n",
    "                       fix_colorbar_axes=False,\n",
    "                       colorbar_min_max=[-0.1,1.1],cmap='seismic'\n",
    "                       )\n",
    "    \n",
    "    make_gif(folder=fr'{folder}/graphs/',epochs=epochs_lst[i])\n",
    "\n",
    "    # make_gif(folder=fr'{folder}/graphs/',epochs=epochs_lst[i],format='mp4')\n",
    "\n",
    "    make_subplot_graphs(NN_sim_lst[0], v_coarse, x_sim, T_sim, T, dtc,8,nx=4,ny=2,\n",
    "                        save_flg=True,\n",
    "                        save_path = fr'{folder}/graphs/')\n",
    "\n",
    "    print('\\n')\n",
    "print('done')"
   ]
  },
  {
   "cell_type": "code",
   "execution_count": null,
   "id": "9066741f-f5a3-4a19-b0ce-f6130f648f85",
   "metadata": {},
   "outputs": [],
   "source": [
    "# diff=NN_sim_lst[0]-v_coarse\n",
    "\n",
    "# for j in range(len(diff[0,:])): \n",
    "#     if max(diff[:,j])!=0:\n",
    "#         plt.figure()\n",
    "#         plt.plot(diff[:,j],'-*')\n",
    "#         plt.title(str(j)+' / '+str(len(diff[0,:])))\n",
    "#         plt.grid()\n",
    "        \n",
    "#         plt.figure()\n",
    "#         plt.plot(NN_sim_lst[0][:,j],'-*',label='NN_sim')\n",
    "#         plt.plot(v_coarse[:,j],'-*',label='v_coarse')\n",
    "#         plt.legend()\n",
    "#         plt.grid()\n",
    "        \n",
    "#         break"
   ]
  },
  {
   "cell_type": "code",
   "execution_count": null,
   "id": "27ddad3f-7106-487c-b7ac-d082f82a0893",
   "metadata": {},
   "outputs": [],
   "source": [
    "# for j in range(5,7):\n",
    "#         # plt.plot(NN_sim_lst[0][:,j],'-*',color='red',label=fr'NN_sim_{j}')\n",
    "#         # plt.plot(v_coarse[:,j],'--*',color='blue',label=fr'v_coarse_{j}')\n",
    "#         plt.plot(v_fact[:,j],'--*',color='green',label=fr'v_coarse_{j}')\n",
    "#         plt.legend()\n",
    "#         plt.grid()"
   ]
  },
  {
   "cell_type": "code",
   "execution_count": null,
   "id": "c71d520a-6794-4250-86ea-3b9daa729202",
   "metadata": {},
   "outputs": [],
   "source": []
  },
  {
   "cell_type": "code",
   "execution_count": null,
   "id": "1efc5ea2",
   "metadata": {},
   "outputs": [],
   "source": []
  },
  {
   "cell_type": "code",
   "execution_count": null,
   "id": "bcc1b831",
   "metadata": {},
   "outputs": [],
   "source": []
  },
  {
   "cell_type": "markdown",
   "id": "8ead6d90",
   "metadata": {},
   "source": [
    "### RK3_mae vs E1_mae"
   ]
  },
  {
   "cell_type": "code",
   "execution_count": null,
   "id": "660b9a64",
   "metadata": {},
   "outputs": [],
   "source": [
    "rk3_mae=pd.read_csv(fr'RK3_mae.csv')\n",
    "e1_mae=pd.read_csv(fr'E1_mae.csv')\n",
    "plt.plot(rk3_mae['mae_list'],label='RK3')\n",
    "plt.plot(e1_mae['mae_list'],label='E1')\n",
    "plt.grid()\n",
    "plt.legend()"
   ]
  },
  {
   "cell_type": "code",
   "execution_count": null,
   "id": "525cbb34",
   "metadata": {},
   "outputs": [],
   "source": []
  }
 ],
 "metadata": {
  "kernelspec": {
   "display_name": "Python 3",
   "language": "python",
   "name": "python3"
  },
  "language_info": {
   "codemirror_mode": {
    "name": "ipython",
    "version": 3
   },
   "file_extension": ".py",
   "mimetype": "text/x-python",
   "name": "python",
   "nbconvert_exporter": "python",
   "pygments_lexer": "ipython3",
   "version": "3.11.9"
  }
 },
 "nbformat": 4,
 "nbformat_minor": 5
}
