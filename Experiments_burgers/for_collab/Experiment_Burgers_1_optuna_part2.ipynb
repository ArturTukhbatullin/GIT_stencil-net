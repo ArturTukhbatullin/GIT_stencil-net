{
 "cells": [
  {
   "cell_type": "code",
   "execution_count": 1,
   "id": "ca3a3102",
   "metadata": {},
   "outputs": [
    {
     "data": {
      "text/html": [
       "<div>\n",
       "<style scoped>\n",
       "    .dataframe tbody tr th:only-of-type {\n",
       "        vertical-align: middle;\n",
       "    }\n",
       "\n",
       "    .dataframe tbody tr th {\n",
       "        vertical-align: top;\n",
       "    }\n",
       "\n",
       "    .dataframe thead th {\n",
       "        text-align: right;\n",
       "    }\n",
       "</style>\n",
       "<table border=\"1\" class=\"dataframe\">\n",
       "  <thead>\n",
       "    <tr style=\"text-align: right;\">\n",
       "      <th></th>\n",
       "      <th>value</th>\n",
       "    </tr>\n",
       "    <tr>\n",
       "      <th>param</th>\n",
       "      <th></th>\n",
       "    </tr>\n",
       "  </thead>\n",
       "  <tbody>\n",
       "    <tr>\n",
       "      <th>seed</th>\n",
       "      <td>1</td>\n",
       "    </tr>\n",
       "    <tr>\n",
       "      <th>method</th>\n",
       "      <td>RK3</td>\n",
       "    </tr>\n",
       "    <tr>\n",
       "      <th>decay_const</th>\n",
       "      <td>9.000e-01</td>\n",
       "    </tr>\n",
       "    <tr>\n",
       "      <th>train_split</th>\n",
       "      <td>2.500e-01</td>\n",
       "    </tr>\n",
       "    <tr>\n",
       "      <th>m</th>\n",
       "      <td>4</td>\n",
       "    </tr>\n",
       "    <tr>\n",
       "      <th>epochs</th>\n",
       "      <td>30000</td>\n",
       "    </tr>\n",
       "    <tr>\n",
       "      <th>l_wd</th>\n",
       "      <td>1.000e-07</td>\n",
       "    </tr>\n",
       "    <tr>\n",
       "      <th>fs</th>\n",
       "      <td>7</td>\n",
       "    </tr>\n",
       "    <tr>\n",
       "      <th>neurons</th>\n",
       "      <td>32</td>\n",
       "    </tr>\n",
       "    <tr>\n",
       "      <th>lr</th>\n",
       "      <td>1.000e-03</td>\n",
       "    </tr>\n",
       "    <tr>\n",
       "      <th>has_backward</th>\n",
       "      <td>True</td>\n",
       "    </tr>\n",
       "    <tr>\n",
       "      <th>hidden_layers_num</th>\n",
       "      <td>3</td>\n",
       "    </tr>\n",
       "    <tr>\n",
       "      <th>N_TRIALS</th>\n",
       "      <td>50</td>\n",
       "    </tr>\n",
       "  </tbody>\n",
       "</table>\n",
       "</div>"
      ],
      "text/plain": [
       "                      value\n",
       "param                      \n",
       "seed                      1\n",
       "method                  RK3\n",
       "decay_const       9.000e-01\n",
       "train_split       2.500e-01\n",
       "m                         4\n",
       "epochs                30000\n",
       "l_wd              1.000e-07\n",
       "fs                        7\n",
       "neurons                  32\n",
       "lr                1.000e-03\n",
       "has_backward           True\n",
       "hidden_layers_num         3\n",
       "N_TRIALS                 50"
      ]
     },
     "metadata": {},
     "output_type": "display_data"
    }
   ],
   "source": [
    "import pickle\n",
    "from Experiment_Burgers_1 import *"
   ]
  },
  {
   "cell_type": "code",
   "execution_count": 2,
   "id": "b053576e",
   "metadata": {},
   "outputs": [],
   "source": [
    "import sys\n",
    "# sys.path.append(fr'/home/mex0/Documents/TukhbatullinAL/diplom_2/Git_stencil-net/Git_stencil-net/')\n",
    "\n",
    "sys.path.append('D:\\myProjects\\diplom_2\\GIT_stencil-net\\GIT_stencil-net')\n",
    "\n",
    "from utils import forcing_terms"
   ]
  },
  {
   "cell_type": "code",
   "execution_count": 3,
   "id": "b9a2e45e",
   "metadata": {},
   "outputs": [],
   "source": [
    "BC_TYPE='dirichlet'; BC_VALUES=[0,0]"
   ]
  },
  {
   "cell_type": "markdown",
   "id": "54e1a02e",
   "metadata": {},
   "source": [
    "### Описание:\n",
    "\n",
    "Зная гипперпараметры, обучаю на большом числе эпох"
   ]
  },
  {
   "cell_type": "markdown",
   "id": "d829890e",
   "metadata": {},
   "source": [
    "### 0. Параметры для генерации данных"
   ]
  },
  {
   "cell_type": "code",
   "execution_count": null,
   "id": "45c458e5",
   "metadata": {},
   "outputs": [],
   "source": [
    "# folder='Experiment_burgers_1_optuna'\n",
    "\n",
    "# optimal_params_filename=fr\"best_params_n=256_[[5], 16, 3, 0.01, 1, False, 'E1', 0.9, 1000].xlsx\""
   ]
  },
  {
   "cell_type": "code",
   "execution_count": 9,
   "id": "3c46fc24",
   "metadata": {},
   "outputs": [],
   "source": [
    "# folder='Experiment_burgers_1_optuna_2'\n",
    "# folder='Experiment_burgers_1_optuna_3'\n",
    "# folder='Experiment_burgers_1_optuna_4'\n",
    "# folder='Experiment_burgers_1_optuna_5'\n",
    "# folder='Experiment_burgers_1_optuna_6'\n",
    "# folder='Experiment_burgers_1_optuna_7'\n",
    "\n",
    "folder='Experiment_burgers_1_optuna'\n",
    "folder_read='Experiment_burgers_1'"
   ]
  },
  {
   "cell_type": "code",
   "execution_count": 5,
   "id": "4e64186f",
   "metadata": {},
   "outputs": [],
   "source": [
    "# для сил\n",
    "np.random.seed(0)\n",
    "\n",
    "L = 2.0*np.pi; T_ = 40;  Al = -0.1; Ar = 0.1; wl = -0.4; wr = 0.4; N = 20\n",
    "A = np.zeros((N,)); w = np.zeros((N,)); phi = np.zeros((N,)); l = np.zeros((N,))\n",
    "\n",
    "for k in range(0, N):\n",
    "    A[k] = (Ar-Al)*np.random.rand(1) + Al\n",
    "    w[k] = (wr-wl)*np.random.rand(1) + wl\n",
    "    phi[k] = (2.0*np.pi)*np.random.rand(1)\n",
    "    l[k] = np.random.randint(2, 5)"
   ]
  },
  {
   "cell_type": "code",
   "execution_count": 34,
   "id": "3572fb19",
   "metadata": {},
   "outputs": [],
   "source": [
    "epochs_lst=[1000]\n",
    "\n",
    "# new_epoch_lst=[20_000]\n",
    "new_epoch_lst=[None]"
   ]
  },
  {
   "cell_type": "code",
   "execution_count": 7,
   "id": "32c769a2",
   "metadata": {},
   "outputs": [
    {
     "data": {
      "text/html": [
       "<div>\n",
       "<style scoped>\n",
       "    .dataframe tbody tr th:only-of-type {\n",
       "        vertical-align: middle;\n",
       "    }\n",
       "\n",
       "    .dataframe tbody tr th {\n",
       "        vertical-align: top;\n",
       "    }\n",
       "\n",
       "    .dataframe thead th {\n",
       "        text-align: right;\n",
       "    }\n",
       "</style>\n",
       "<table border=\"1\" class=\"dataframe\">\n",
       "  <thead>\n",
       "    <tr style=\"text-align: right;\">\n",
       "      <th></th>\n",
       "      <th>value</th>\n",
       "    </tr>\n",
       "    <tr>\n",
       "      <th>param</th>\n",
       "      <th></th>\n",
       "    </tr>\n",
       "  </thead>\n",
       "  <tbody>\n",
       "    <tr>\n",
       "      <th>seed</th>\n",
       "      <td>1</td>\n",
       "    </tr>\n",
       "    <tr>\n",
       "      <th>method</th>\n",
       "      <td>RK3</td>\n",
       "    </tr>\n",
       "    <tr>\n",
       "      <th>decay_const</th>\n",
       "      <td>9.000e-01</td>\n",
       "    </tr>\n",
       "    <tr>\n",
       "      <th>train_split</th>\n",
       "      <td>2.500e-01</td>\n",
       "    </tr>\n",
       "    <tr>\n",
       "      <th>m</th>\n",
       "      <td>4</td>\n",
       "    </tr>\n",
       "    <tr>\n",
       "      <th>epochs</th>\n",
       "      <td>30000</td>\n",
       "    </tr>\n",
       "    <tr>\n",
       "      <th>l_wd</th>\n",
       "      <td>1.000e-07</td>\n",
       "    </tr>\n",
       "    <tr>\n",
       "      <th>fs</th>\n",
       "      <td>7</td>\n",
       "    </tr>\n",
       "    <tr>\n",
       "      <th>neurons</th>\n",
       "      <td>32</td>\n",
       "    </tr>\n",
       "    <tr>\n",
       "      <th>lr</th>\n",
       "      <td>1.000e-03</td>\n",
       "    </tr>\n",
       "    <tr>\n",
       "      <th>has_backward</th>\n",
       "      <td>True</td>\n",
       "    </tr>\n",
       "    <tr>\n",
       "      <th>hidden_layers_num</th>\n",
       "      <td>3</td>\n",
       "    </tr>\n",
       "    <tr>\n",
       "      <th>N_TRIALS</th>\n",
       "      <td>50</td>\n",
       "    </tr>\n",
       "  </tbody>\n",
       "</table>\n",
       "</div>"
      ],
      "text/plain": [
       "                      value\n",
       "param                      \n",
       "seed                      1\n",
       "method                  RK3\n",
       "decay_const       9.000e-01\n",
       "train_split       2.500e-01\n",
       "m                         4\n",
       "epochs                30000\n",
       "l_wd              1.000e-07\n",
       "fs                        7\n",
       "neurons                  32\n",
       "lr                1.000e-03\n",
       "has_backward           True\n",
       "hidden_layers_num         3\n",
       "N_TRIALS                 50"
      ]
     },
     "metadata": {},
     "output_type": "display_data"
    }
   ],
   "source": [
    "display(main_params)"
   ]
  },
  {
   "cell_type": "markdown",
   "id": "d828cfde",
   "metadata": {},
   "source": [
    "### Читаю данные и нужные гипперпараметры"
   ]
  },
  {
   "cell_type": "code",
   "execution_count": 11,
   "id": "a452b6ee",
   "metadata": {},
   "outputs": [
    {
     "name": "stdout",
     "output_type": "stream",
     "text": [
      "CFL dt 0.04973345629170752 actual dt 0.01\n"
     ]
    }
   ],
   "source": [
    "# n = 256; Tsim = 80001;\n",
    "# Lx = 101; Tsim = 10001;\n",
    "# n = 64; Tsim = 2001;\n",
    "\n",
    "# n = 256; Tsim = 16001; tau=0.01\n",
    "\n",
    "n = 64; Tsim = 8001;tau = 0.01; D=0.1\n",
    "\n",
    "x_lst = np.linspace(0,L,n); h = x_lst[1] - x_lst[0]; #D = 0.02;\n",
    "\n",
    "CFL = (h*h)/(2.0*D)\n",
    "print(\"CFL dt\", CFL, \"actual dt\", tau)\n",
    "\n",
    "v_fact = pickle.load( open(fr'{folder_read}/data/v_fact_CD_n={n}_Tsim={Tsim}_D={D}.pkl', 'rb')).to_device('cpu')"
   ]
  },
  {
   "cell_type": "code",
   "execution_count": 24,
   "id": "809b92b6",
   "metadata": {},
   "outputs": [
    {
     "data": {
      "text/html": [
       "<div>\n",
       "<style scoped>\n",
       "    .dataframe tbody tr th:only-of-type {\n",
       "        vertical-align: middle;\n",
       "    }\n",
       "\n",
       "    .dataframe tbody tr th {\n",
       "        vertical-align: top;\n",
       "    }\n",
       "\n",
       "    .dataframe thead th {\n",
       "        text-align: right;\n",
       "    }\n",
       "</style>\n",
       "<table border=\"1\" class=\"dataframe\">\n",
       "  <thead>\n",
       "    <tr style=\"text-align: right;\">\n",
       "      <th></th>\n",
       "      <th>Value</th>\n",
       "    </tr>\n",
       "    <tr>\n",
       "      <th>Parameter</th>\n",
       "      <th></th>\n",
       "    </tr>\n",
       "  </thead>\n",
       "  <tbody>\n",
       "    <tr>\n",
       "      <th>fs</th>\n",
       "      <td>7</td>\n",
       "    </tr>\n",
       "    <tr>\n",
       "      <th>neurons</th>\n",
       "      <td>32</td>\n",
       "    </tr>\n",
       "    <tr>\n",
       "      <th>hidden_layers_num</th>\n",
       "      <td>2</td>\n",
       "    </tr>\n",
       "    <tr>\n",
       "      <th>act_func</th>\n",
       "      <td>ELU(alpha=1.0)</td>\n",
       "    </tr>\n",
       "    <tr>\n",
       "      <th>epoch</th>\n",
       "      <td>1000</td>\n",
       "    </tr>\n",
       "    <tr>\n",
       "      <th>lr</th>\n",
       "      <td>1.000e-03</td>\n",
       "    </tr>\n",
       "    <tr>\n",
       "      <th>tau</th>\n",
       "      <td>1.000e-02</td>\n",
       "    </tr>\n",
       "    <tr>\n",
       "      <th>h</th>\n",
       "      <td>9.973e-02</td>\n",
       "    </tr>\n",
       "    <tr>\n",
       "      <th>n</th>\n",
       "      <td>64</td>\n",
       "    </tr>\n",
       "    <tr>\n",
       "      <th>decay_const</th>\n",
       "      <td>9.000e-01</td>\n",
       "    </tr>\n",
       "    <tr>\n",
       "      <th>m</th>\n",
       "      <td>4</td>\n",
       "    </tr>\n",
       "    <tr>\n",
       "      <th>t_factor</th>\n",
       "      <td>1</td>\n",
       "    </tr>\n",
       "    <tr>\n",
       "      <th>s_factor</th>\n",
       "      <td>1</td>\n",
       "    </tr>\n",
       "    <tr>\n",
       "      <th>has_backward</th>\n",
       "      <td>1</td>\n",
       "    </tr>\n",
       "    <tr>\n",
       "      <th>train_size</th>\n",
       "      <td>5.000e-01</td>\n",
       "    </tr>\n",
       "    <tr>\n",
       "      <th>method</th>\n",
       "      <td>E1</td>\n",
       "    </tr>\n",
       "    <tr>\n",
       "      <th>layers</th>\n",
       "      <td>[Linear(in_features=7, out_features=32, bias=T...</td>\n",
       "    </tr>\n",
       "  </tbody>\n",
       "</table>\n",
       "</div>"
      ],
      "text/plain": [
       "                                                               Value\n",
       "Parameter                                                           \n",
       "fs                                                                 7\n",
       "neurons                                                           32\n",
       "hidden_layers_num                                                  2\n",
       "act_func                                              ELU(alpha=1.0)\n",
       "epoch                                                           1000\n",
       "lr                                                         1.000e-03\n",
       "tau                                                        1.000e-02\n",
       "h                                                          9.973e-02\n",
       "n                                                                 64\n",
       "decay_const                                                9.000e-01\n",
       "m                                                                  4\n",
       "t_factor                                                           1\n",
       "s_factor                                                           1\n",
       "has_backward                                                       1\n",
       "train_size                                                 5.000e-01\n",
       "method                                                            E1\n",
       "layers             [Linear(in_features=7, out_features=32, bias=T..."
      ]
     },
     "execution_count": 24,
     "metadata": {},
     "output_type": "execute_result"
    }
   ],
   "source": [
    "optimal_params_filename=\"collab_output/all_best_params_n=64_[7, 32, 2, 4, 'E1', 1000].xlsx\"\n",
    "optimal_params=pd.read_excel(fr'{optimal_params_filename}')\n",
    "optimal_params.set_index('Parameter',inplace=True)\n",
    "optimal_params\n"
   ]
  },
  {
   "cell_type": "markdown",
   "id": "3f3e0a69",
   "metadata": {},
   "source": [
    "### Замена исходных параметров на оптимальные"
   ]
  },
  {
   "cell_type": "code",
   "execution_count": 26,
   "id": "4008fb36",
   "metadata": {},
   "outputs": [],
   "source": [
    "neurons=optimal_params.loc['neurons'][0]\n",
    "fs=optimal_params.loc['fs'][0]\n",
    "hidden_layers_num=optimal_params.loc['hidden_layers_num'][0]\n",
    "lr=optimal_params.loc['lr'][0]\n",
    "method=optimal_params.loc['method'][0]\n",
    "decay_const\t= optimal_params.loc['decay_const'][0]\n",
    "m\t= optimal_params.loc['m'][0]\n",
    "has_backward=bool(optimal_params.loc['has_backward'][0])"
   ]
  },
  {
   "cell_type": "code",
   "execution_count": null,
   "id": "cc2aefb2",
   "metadata": {},
   "outputs": [],
   "source": []
  },
  {
   "cell_type": "markdown",
   "id": "0fc3d933",
   "metadata": {},
   "source": [
    "### Сабсемплинг"
   ]
  },
  {
   "cell_type": "code",
   "execution_count": 27,
   "id": "fef8b699",
   "metadata": {},
   "outputs": [
    {
     "name": "stdout",
     "output_type": "stream",
     "text": [
      "full_sample (64, 8001)\n",
      "train (64, 2000)\n",
      "test (64, 6001)\n"
     ]
    }
   ],
   "source": [
    "t_factor = 1  # time subsample factor \n",
    "s_factor = 1  # space subsample factor\n",
    "\n",
    "\n",
    "Tsim=len(v_fact[0])\n",
    "dxc,dtc,coarse_t,coarse_x,v_coarse,Lxc,\\\n",
    "Ltc,v_coarse_train,v_coarse_test=subsampling(s_factor,t_factor,h,tau,Tsim,n,v_fact,train_split=train_split)"
   ]
  },
  {
   "cell_type": "code",
   "execution_count": null,
   "id": "1008e044",
   "metadata": {},
   "outputs": [],
   "source": []
  },
  {
   "cell_type": "markdown",
   "id": "d198ea58",
   "metadata": {},
   "source": [
    "### Обучение"
   ]
  },
  {
   "cell_type": "code",
   "execution_count": 28,
   "id": "86f97132",
   "metadata": {},
   "outputs": [],
   "source": [
    "\n",
    "Fc, Fc_0p5, Fc_p1, Fc_0m5, Fc_m1 = forcing_terms(A, w, phi, l, L, Lxc, T_, Ltc, N, dtc)\n",
    "\n",
    "# u_train = torch.tensor(v_coarse_train.T, requires_grad=True, dtype=torch.float, device=device)\n",
    "fc      = torch.tensor(Fc.T, requires_grad=True, dtype=torch.float, device=device)\n",
    "fc_0p5  = torch.tensor(Fc_0p5.T, requires_grad=True, dtype=torch.float, device=device)\n",
    "fc_p1   = torch.tensor(Fc_p1.T, requires_grad=True, dtype=torch.float, device=device)\n",
    "fc_0m5  = torch.tensor(Fc_0m5.T, requires_grad=True, dtype=torch.float, device=device)\n",
    "fc_m1   = torch.tensor(Fc_m1.T, requires_grad=True, dtype=torch.float, device=device)"
   ]
  },
  {
   "cell_type": "code",
   "execution_count": null,
   "id": "c56d75a1",
   "metadata": {},
   "outputs": [],
   "source": [
    "# for epochs in epochs_lst:\n",
    "    \n",
    "#     net, loss_lst,loss=train_net(MLPConv,v_coarse_train,epochs,dtc,\n",
    "#               fs,\n",
    "#                     neurons,\n",
    "#                     hidden_layers_num,\n",
    "#                     lr,\n",
    "#                     m,\n",
    "#                     has_backward,\n",
    "#                     method,\n",
    "#                     decay_const,\n",
    "#               force_terms=[fc,fc_0p5,fc_p1,fc_0m5,fc_m1],\n",
    "#               bc_type=BC_TYPE,bc_values=BC_VALUES)\n",
    "    \n",
    "#     pickle.dump(net, open(fr'{folder}/models/net_epochs={epochs}', 'wb'))\n",
    "    "
   ]
  },
  {
   "cell_type": "code",
   "execution_count": null,
   "id": "6786abc7",
   "metadata": {},
   "outputs": [],
   "source": [
    "# for i in range(len(epochs_lst)):\n",
    "#     epoch=epochs_lst[i]\n",
    "#     if new_epoch_lst==[None]:\n",
    "#         print('starting study')\n",
    "#         net, loss_lst,loss=train_net(MLPConv,v_coarse_train,epoch,dtc,\n",
    "#                     fs,\n",
    "#                     neurons,\n",
    "#                     hidden_layers_num,\n",
    "#                     lr,\n",
    "#                     m,\n",
    "#                     has_backward,\n",
    "#                     method,\n",
    "#                     decay_const,\n",
    "#                     force_terms=[fc,fc_0p5,fc_p1,fc_0m5,fc_m1],\n",
    "#                     bc_type=BC_TYPE,bc_values=BC_VALUES,\n",
    "#                     verbose=True,\n",
    "#                     verbose_step=1000,\n",
    "#                     continue_fitting=None)\n",
    "#         pickle.dump(net, open(fr'{folder}/models/net_epochs={epoch}', 'wb'))\n",
    "#     else:\n",
    "#         print('continue study')\n",
    "#         new_epoch=new_epoch_lst[i]\n",
    "#         net = pickle.load(open(fr'{folder}/models/net_epochs={epoch}', 'rb'))\n",
    "#         net, loss_lst,loss=train_net(MLPConv,v_coarse_train,new_epoch-epoch,dtc,\n",
    "#                     fs,\n",
    "#                     neurons,\n",
    "#                     hidden_layers_num,\n",
    "#                     lr,\n",
    "#                     m,\n",
    "#                     has_backward,\n",
    "#                     method,\n",
    "#                     decay_const,\n",
    "#                     force_terms=[fc,fc_0p5,fc_p1,fc_0m5,fc_m1],\n",
    "#                     bc_type=BC_TYPE,bc_values=BC_VALUES,\n",
    "#                     verbose=True,\n",
    "#                     verbose_step=1000,\n",
    "#                     continue_fitting=[net,new_epoch])\n",
    "        \n",
    "#         pickle.dump(net, open(fr'{folder}/models/cf_net_epochs={new_epoch}', 'wb'))"
   ]
  },
  {
   "cell_type": "code",
   "execution_count": null,
   "id": "e1e2d7ca",
   "metadata": {},
   "outputs": [],
   "source": [
    "# epochs_lst=new_epoch_lst"
   ]
  },
  {
   "cell_type": "markdown",
   "id": "6fdf98c3",
   "metadata": {},
   "source": [
    "### Предикт"
   ]
  },
  {
   "cell_type": "code",
   "execution_count": 50,
   "id": "777f43bf",
   "metadata": {},
   "outputs": [
    {
     "ename": "RuntimeError",
     "evalue": "Attempting to deserialize object on a CUDA device but torch.cuda.is_available() is False. If you are running on a CPU-only machine, please use torch.load with map_location=torch.device('cpu') to map your storages to the CPU.",
     "output_type": "error",
     "traceback": [
      "\u001b[1;31m---------------------------------------------------------------------------\u001b[0m",
      "\u001b[1;31mRuntimeError\u001b[0m                              Traceback (most recent call last)",
      "Cell \u001b[1;32mIn[50], line 15\u001b[0m\n\u001b[0;32m      4\u001b[0m biases\u001b[38;5;241m=\u001b[39m[]\n\u001b[0;32m      6\u001b[0m \u001b[38;5;28;01mfor\u001b[39;00m epochs \u001b[38;5;129;01min\u001b[39;00m epochs_lst:\n\u001b[0;32m      7\u001b[0m     \n\u001b[0;32m      8\u001b[0m     \u001b[38;5;66;03m# net = pickle.load(open(fr'{folder}/models/net_epochs={epochs}', 'rb'))\u001b[39;00m\n\u001b[1;32m   (...)\u001b[0m\n\u001b[0;32m     12\u001b[0m     \u001b[38;5;66;03m#                map_location='cpu'\u001b[39;00m\n\u001b[0;32m     13\u001b[0m     \u001b[38;5;66;03m#                )\u001b[39;00m\n\u001b[1;32m---> 15\u001b[0m     net\u001b[38;5;241m=\u001b[39m\u001b[43mpickle\u001b[49m\u001b[38;5;241;43m.\u001b[39;49m\u001b[43mload\u001b[49m\u001b[43m(\u001b[49m\u001b[38;5;28;43mopen\u001b[39;49m\u001b[43m(\u001b[49m\u001b[38;5;124;43mfr\u001b[39;49m\u001b[38;5;124;43m'\u001b[39;49m\u001b[38;5;132;43;01m{\u001b[39;49;00m\u001b[43mfolder\u001b[49m\u001b[38;5;132;43;01m}\u001b[39;49;00m\u001b[38;5;124;43m/models/net_epochs=\u001b[39;49m\u001b[38;5;132;43;01m{\u001b[39;49;00m\u001b[43mepochs\u001b[49m\u001b[38;5;132;43;01m}\u001b[39;49;00m\u001b[38;5;124;43m'\u001b[39;49m\u001b[43m,\u001b[49m\u001b[43m \u001b[49m\u001b[38;5;124;43m'\u001b[39;49m\u001b[38;5;124;43mrb\u001b[39;49m\u001b[38;5;124;43m'\u001b[39;49m\u001b[43m)\u001b[49m\n\u001b[0;32m     16\u001b[0m \u001b[43m                    \u001b[49m\u001b[43m)\u001b[49m\n\u001b[0;32m     18\u001b[0m     \u001b[38;5;66;03m# NN_sim,T_sim,x_sim=make_simulation(net,v_coarse,L,Lxc,dtc,method=method)\u001b[39;00m\n\u001b[0;32m     19\u001b[0m     NN_sim,T_sim,x_sim\u001b[38;5;241m=\u001b[39mmake_simulation_forcing(net,v_coarse,L,Lxc,dtc,\\\n\u001b[0;32m     20\u001b[0m                                               A,phi,N,w,l,method\u001b[38;5;241m=\u001b[39mmethod,\n\u001b[0;32m     21\u001b[0m                                               bc_type\u001b[38;5;241m=\u001b[39mBC_TYPE,bc_values\u001b[38;5;241m=\u001b[39mBC_VALUES)\n",
      "File \u001b[1;32m~\\AppData\\Local\\Packages\\PythonSoftwareFoundation.Python.3.11_qbz5n2kfra8p0\\LocalCache\\local-packages\\Python311\\site-packages\\torch\\storage.py:533\u001b[0m, in \u001b[0;36m_load_from_bytes\u001b[1;34m(b)\u001b[0m\n\u001b[0;32m    532\u001b[0m \u001b[38;5;28;01mdef\u001b[39;00m\u001b[38;5;250m \u001b[39m\u001b[38;5;21m_load_from_bytes\u001b[39m(b):\n\u001b[1;32m--> 533\u001b[0m     \u001b[38;5;28;01mreturn\u001b[39;00m \u001b[43mtorch\u001b[49m\u001b[38;5;241;43m.\u001b[39;49m\u001b[43mload\u001b[49m\u001b[43m(\u001b[49m\u001b[43mio\u001b[49m\u001b[38;5;241;43m.\u001b[39;49m\u001b[43mBytesIO\u001b[49m\u001b[43m(\u001b[49m\u001b[43mb\u001b[49m\u001b[43m)\u001b[49m\u001b[43m,\u001b[49m\u001b[43m \u001b[49m\u001b[43mweights_only\u001b[49m\u001b[38;5;241;43m=\u001b[39;49m\u001b[38;5;28;43;01mFalse\u001b[39;49;00m\u001b[43m)\u001b[49m\n",
      "File \u001b[1;32m~\\AppData\\Local\\Packages\\PythonSoftwareFoundation.Python.3.11_qbz5n2kfra8p0\\LocalCache\\local-packages\\Python311\\site-packages\\torch\\serialization.py:1495\u001b[0m, in \u001b[0;36mload\u001b[1;34m(f, map_location, pickle_module, weights_only, mmap, **pickle_load_args)\u001b[0m\n\u001b[0;32m   1493\u001b[0m     \u001b[38;5;28;01mexcept\u001b[39;00m pickle\u001b[38;5;241m.\u001b[39mUnpicklingError \u001b[38;5;28;01mas\u001b[39;00m e:\n\u001b[0;32m   1494\u001b[0m         \u001b[38;5;28;01mraise\u001b[39;00m pickle\u001b[38;5;241m.\u001b[39mUnpicklingError(_get_wo_message(\u001b[38;5;28mstr\u001b[39m(e))) \u001b[38;5;28;01mfrom\u001b[39;00m\u001b[38;5;250m \u001b[39m\u001b[38;5;28;01mNone\u001b[39;00m\n\u001b[1;32m-> 1495\u001b[0m \u001b[38;5;28;01mreturn\u001b[39;00m \u001b[43m_legacy_load\u001b[49m\u001b[43m(\u001b[49m\n\u001b[0;32m   1496\u001b[0m \u001b[43m    \u001b[49m\u001b[43mopened_file\u001b[49m\u001b[43m,\u001b[49m\u001b[43m \u001b[49m\u001b[43mmap_location\u001b[49m\u001b[43m,\u001b[49m\u001b[43m \u001b[49m\u001b[43mpickle_module\u001b[49m\u001b[43m,\u001b[49m\u001b[43m \u001b[49m\u001b[38;5;241;43m*\u001b[39;49m\u001b[38;5;241;43m*\u001b[39;49m\u001b[43mpickle_load_args\u001b[49m\n\u001b[0;32m   1497\u001b[0m \u001b[43m\u001b[49m\u001b[43m)\u001b[49m\n",
      "File \u001b[1;32m~\\AppData\\Local\\Packages\\PythonSoftwareFoundation.Python.3.11_qbz5n2kfra8p0\\LocalCache\\local-packages\\Python311\\site-packages\\torch\\serialization.py:1754\u001b[0m, in \u001b[0;36m_legacy_load\u001b[1;34m(f, map_location, pickle_module, **pickle_load_args)\u001b[0m\n\u001b[0;32m   1752\u001b[0m unpickler \u001b[38;5;241m=\u001b[39m UnpicklerWrapper(f, \u001b[38;5;241m*\u001b[39m\u001b[38;5;241m*\u001b[39mpickle_load_args)\n\u001b[0;32m   1753\u001b[0m unpickler\u001b[38;5;241m.\u001b[39mpersistent_load \u001b[38;5;241m=\u001b[39m persistent_load\n\u001b[1;32m-> 1754\u001b[0m result \u001b[38;5;241m=\u001b[39m \u001b[43munpickler\u001b[49m\u001b[38;5;241;43m.\u001b[39;49m\u001b[43mload\u001b[49m\u001b[43m(\u001b[49m\u001b[43m)\u001b[49m\n\u001b[0;32m   1756\u001b[0m deserialized_storage_keys \u001b[38;5;241m=\u001b[39m pickle_module\u001b[38;5;241m.\u001b[39mload(f, \u001b[38;5;241m*\u001b[39m\u001b[38;5;241m*\u001b[39mpickle_load_args)\n\u001b[0;32m   1758\u001b[0m \u001b[38;5;28;01mif\u001b[39;00m torch\u001b[38;5;241m.\u001b[39m_guards\u001b[38;5;241m.\u001b[39mactive_fake_mode() \u001b[38;5;129;01mis\u001b[39;00m \u001b[38;5;28;01mNone\u001b[39;00m:\n",
      "File \u001b[1;32m~\\AppData\\Local\\Packages\\PythonSoftwareFoundation.Python.3.11_qbz5n2kfra8p0\\LocalCache\\local-packages\\Python311\\site-packages\\torch\\serialization.py:1682\u001b[0m, in \u001b[0;36m_legacy_load.<locals>.persistent_load\u001b[1;34m(saved_id)\u001b[0m\n\u001b[0;32m   1680\u001b[0m     obj \u001b[38;5;241m=\u001b[39m cast(Storage, torch\u001b[38;5;241m.\u001b[39mUntypedStorage(nbytes))\n\u001b[0;32m   1681\u001b[0m     obj\u001b[38;5;241m.\u001b[39m_torch_load_uninitialized \u001b[38;5;241m=\u001b[39m \u001b[38;5;28;01mTrue\u001b[39;00m\n\u001b[1;32m-> 1682\u001b[0m     obj \u001b[38;5;241m=\u001b[39m \u001b[43mrestore_location\u001b[49m\u001b[43m(\u001b[49m\u001b[43mobj\u001b[49m\u001b[43m,\u001b[49m\u001b[43m \u001b[49m\u001b[43mlocation\u001b[49m\u001b[43m)\u001b[49m\n\u001b[0;32m   1683\u001b[0m \u001b[38;5;66;03m# TODO: Once we decide to break serialization FC, we can\u001b[39;00m\n\u001b[0;32m   1684\u001b[0m \u001b[38;5;66;03m# stop wrapping with TypedStorage\u001b[39;00m\n\u001b[0;32m   1685\u001b[0m typed_storage \u001b[38;5;241m=\u001b[39m torch\u001b[38;5;241m.\u001b[39mstorage\u001b[38;5;241m.\u001b[39mTypedStorage(\n\u001b[0;32m   1686\u001b[0m     wrap_storage\u001b[38;5;241m=\u001b[39mobj, dtype\u001b[38;5;241m=\u001b[39mdtype, _internal\u001b[38;5;241m=\u001b[39m\u001b[38;5;28;01mTrue\u001b[39;00m\n\u001b[0;32m   1687\u001b[0m )\n",
      "File \u001b[1;32m~\\AppData\\Local\\Packages\\PythonSoftwareFoundation.Python.3.11_qbz5n2kfra8p0\\LocalCache\\local-packages\\Python311\\site-packages\\torch\\serialization.py:693\u001b[0m, in \u001b[0;36mdefault_restore_location\u001b[1;34m(storage, location)\u001b[0m\n\u001b[0;32m    673\u001b[0m \u001b[38;5;250m\u001b[39m\u001b[38;5;124;03m\"\"\"\u001b[39;00m\n\u001b[0;32m    674\u001b[0m \u001b[38;5;124;03mRestores `storage` using a deserializer function registered for the `location`.\u001b[39;00m\n\u001b[0;32m    675\u001b[0m \n\u001b[1;32m   (...)\u001b[0m\n\u001b[0;32m    690\u001b[0m \u001b[38;5;124;03m       all matching ones return `None`.\u001b[39;00m\n\u001b[0;32m    691\u001b[0m \u001b[38;5;124;03m\"\"\"\u001b[39;00m\n\u001b[0;32m    692\u001b[0m \u001b[38;5;28;01mfor\u001b[39;00m _, _, fn \u001b[38;5;129;01min\u001b[39;00m _package_registry:\n\u001b[1;32m--> 693\u001b[0m     result \u001b[38;5;241m=\u001b[39m \u001b[43mfn\u001b[49m\u001b[43m(\u001b[49m\u001b[43mstorage\u001b[49m\u001b[43m,\u001b[49m\u001b[43m \u001b[49m\u001b[43mlocation\u001b[49m\u001b[43m)\u001b[49m\n\u001b[0;32m    694\u001b[0m     \u001b[38;5;28;01mif\u001b[39;00m result \u001b[38;5;129;01mis\u001b[39;00m \u001b[38;5;129;01mnot\u001b[39;00m \u001b[38;5;28;01mNone\u001b[39;00m:\n\u001b[0;32m    695\u001b[0m         \u001b[38;5;28;01mreturn\u001b[39;00m result\n",
      "File \u001b[1;32m~\\AppData\\Local\\Packages\\PythonSoftwareFoundation.Python.3.11_qbz5n2kfra8p0\\LocalCache\\local-packages\\Python311\\site-packages\\torch\\serialization.py:631\u001b[0m, in \u001b[0;36m_deserialize\u001b[1;34m(backend_name, obj, location)\u001b[0m\n\u001b[0;32m    629\u001b[0m     backend_name \u001b[38;5;241m=\u001b[39m torch\u001b[38;5;241m.\u001b[39m_C\u001b[38;5;241m.\u001b[39m_get_privateuse1_backend_name()\n\u001b[0;32m    630\u001b[0m \u001b[38;5;28;01mif\u001b[39;00m location\u001b[38;5;241m.\u001b[39mstartswith(backend_name):\n\u001b[1;32m--> 631\u001b[0m     device \u001b[38;5;241m=\u001b[39m \u001b[43m_validate_device\u001b[49m\u001b[43m(\u001b[49m\u001b[43mlocation\u001b[49m\u001b[43m,\u001b[49m\u001b[43m \u001b[49m\u001b[43mbackend_name\u001b[49m\u001b[43m)\u001b[49m\n\u001b[0;32m    632\u001b[0m     \u001b[38;5;28;01mreturn\u001b[39;00m obj\u001b[38;5;241m.\u001b[39mto(device\u001b[38;5;241m=\u001b[39mdevice)\n",
      "File \u001b[1;32m~\\AppData\\Local\\Packages\\PythonSoftwareFoundation.Python.3.11_qbz5n2kfra8p0\\LocalCache\\local-packages\\Python311\\site-packages\\torch\\serialization.py:600\u001b[0m, in \u001b[0;36m_validate_device\u001b[1;34m(location, backend_name)\u001b[0m\n\u001b[0;32m    598\u001b[0m     device_index \u001b[38;5;241m=\u001b[39m device\u001b[38;5;241m.\u001b[39mindex \u001b[38;5;28;01mif\u001b[39;00m device\u001b[38;5;241m.\u001b[39mindex \u001b[38;5;28;01melse\u001b[39;00m \u001b[38;5;241m0\u001b[39m\n\u001b[0;32m    599\u001b[0m \u001b[38;5;28;01mif\u001b[39;00m \u001b[38;5;28mhasattr\u001b[39m(device_module, \u001b[38;5;124m\"\u001b[39m\u001b[38;5;124mis_available\u001b[39m\u001b[38;5;124m\"\u001b[39m) \u001b[38;5;129;01mand\u001b[39;00m \u001b[38;5;129;01mnot\u001b[39;00m device_module\u001b[38;5;241m.\u001b[39mis_available():\n\u001b[1;32m--> 600\u001b[0m     \u001b[38;5;28;01mraise\u001b[39;00m \u001b[38;5;167;01mRuntimeError\u001b[39;00m(\n\u001b[0;32m    601\u001b[0m         \u001b[38;5;124mf\u001b[39m\u001b[38;5;124m\"\u001b[39m\u001b[38;5;124mAttempting to deserialize object on a \u001b[39m\u001b[38;5;132;01m{\u001b[39;00mbackend_name\u001b[38;5;241m.\u001b[39mupper()\u001b[38;5;132;01m}\u001b[39;00m\u001b[38;5;124m \u001b[39m\u001b[38;5;124m\"\u001b[39m\n\u001b[0;32m    602\u001b[0m         \u001b[38;5;124mf\u001b[39m\u001b[38;5;124m\"\u001b[39m\u001b[38;5;124mdevice but torch.\u001b[39m\u001b[38;5;132;01m{\u001b[39;00mbackend_name\u001b[38;5;132;01m}\u001b[39;00m\u001b[38;5;124m.is_available() is False. \u001b[39m\u001b[38;5;124m\"\u001b[39m\n\u001b[0;32m    603\u001b[0m         \u001b[38;5;124m\"\u001b[39m\u001b[38;5;124mIf you are running on a CPU-only machine, \u001b[39m\u001b[38;5;124m\"\u001b[39m\n\u001b[0;32m    604\u001b[0m         \u001b[38;5;124m\"\u001b[39m\u001b[38;5;124mplease use torch.load with map_location=torch.device(\u001b[39m\u001b[38;5;124m'\u001b[39m\u001b[38;5;124mcpu\u001b[39m\u001b[38;5;124m'\u001b[39m\u001b[38;5;124m) \u001b[39m\u001b[38;5;124m\"\u001b[39m\n\u001b[0;32m    605\u001b[0m         \u001b[38;5;124m\"\u001b[39m\u001b[38;5;124mto map your storages to the CPU.\u001b[39m\u001b[38;5;124m\"\u001b[39m\n\u001b[0;32m    606\u001b[0m     )\n\u001b[0;32m    607\u001b[0m \u001b[38;5;28;01mif\u001b[39;00m \u001b[38;5;28mhasattr\u001b[39m(device_module, \u001b[38;5;124m\"\u001b[39m\u001b[38;5;124mdevice_count\u001b[39m\u001b[38;5;124m\"\u001b[39m):\n\u001b[0;32m    608\u001b[0m     device_count \u001b[38;5;241m=\u001b[39m device_module\u001b[38;5;241m.\u001b[39mdevice_count()\n",
      "\u001b[1;31mRuntimeError\u001b[0m: Attempting to deserialize object on a CUDA device but torch.cuda.is_available() is False. If you are running on a CPU-only machine, please use torch.load with map_location=torch.device('cpu') to map your storages to the CPU."
     ]
    }
   ],
   "source": [
    "NN_sim_lst=[]\n",
    "\n",
    "weights=[]\n",
    "biases=[]\n",
    "\n",
    "for epochs in epochs_lst:\n",
    "    \n",
    "    # net = pickle.load(open(fr'{folder}/models/net_epochs={epochs}', 'rb'))\n",
    "\n",
    "    # net=torch.load(open(fr'{folder}/models/net_epochs={epochs}', 'rb'),\n",
    "    #                weights_only=False,\n",
    "    #                map_location='cpu'\n",
    "    #                )\n",
    "\n",
    "    net=pickle.load(open(fr'{folder}/models/net_epochs={epochs}', 'rb')\n",
    "                    )\n",
    "    \n",
    "    # NN_sim,T_sim,x_sim=make_simulation(net,v_coarse,L,Lxc,dtc,method=method)\n",
    "    NN_sim,T_sim,x_sim=make_simulation_forcing(net,v_coarse,L,Lxc,dtc,\\\n",
    "                                              A,phi,N,w,l,method=method,\n",
    "                                              bc_type=BC_TYPE,bc_values=BC_VALUES)\n",
    "    \n",
    "    NN_sim_lst.append(NN_sim)\n",
    "    \n",
    "    weights.append(net.layer[0].weight.data.numpy())\n",
    "    biases.append(None)"
   ]
  },
  {
   "cell_type": "code",
   "execution_count": 44,
   "id": "006cc114",
   "metadata": {},
   "outputs": [
    {
     "data": {
      "text/plain": [
       "device(type='cpu')"
      ]
     },
     "execution_count": 44,
     "metadata": {},
     "output_type": "execute_result"
    }
   ],
   "source": [
    "device"
   ]
  },
  {
   "cell_type": "markdown",
   "id": "87d31293",
   "metadata": {},
   "source": [
    "### Графики"
   ]
  },
  {
   "cell_type": "code",
   "execution_count": null,
   "id": "22813365",
   "metadata": {},
   "outputs": [],
   "source": [
    "T=round(T_sim*dtc,3)\n",
    "T"
   ]
  },
  {
   "cell_type": "code",
   "execution_count": null,
   "id": "8991a9e5",
   "metadata": {},
   "outputs": [],
   "source": [
    "\n",
    "for i in range(len(epochs_lst)):\n",
    "    \n",
    "    print(fr'---------------Epochs = {epochs_lst[i]}-------------------')\n",
    "    # view_results(T_sim,x_sim,NN_sim_lst[i],v_coarse,T,dtc,n=11,fix_axes=True,\n",
    "    #             epochs=epochs_lst[i],\n",
    "    #             save_path = fr'{folder}/graphs/',\n",
    "    #             save_name = fr'Result_epoch={epochs_lst[i]}',\n",
    "    #             view_flag=False)\n",
    "    view_result_metric(NN_sim_lst[i],v_coarse,T,dtc,L,dxc,\n",
    "                       n_xticks=2000,\n",
    "                       save_path = fr'{folder}/graphs/',\n",
    "                save_name = fr'Metric_epoch={epochs_lst[i]}')\n",
    "\n",
    "    view_result_imshow(NN_sim_lst[i],v_coarse,T,dtc,L,dxc,\n",
    "                       figsize=(10,5),aspect=10,n_xticks=1001,n_yticks=40,\n",
    "                       save_path = fr'{folder}/graphs/',\n",
    "                       save_name = fr'Imshow_epoch={epochs_lst[i]}',\n",
    "                       fix_colorbar_axes=False,\n",
    "                       colorbar_min_max=[-0.1,1.1],cmap='seismic'\n",
    "                       )\n",
    "    \n",
    "    # make_gif(folder=fr'{folder}/graphs/',epochs=epochs_lst[i])\n",
    "\n",
    "    # make_gif(folder=fr'{folder}/graphs/',epochs=epochs_lst[i],format='mp4')\n",
    "\n",
    "    make_subplot_graphs(NN_sim_lst[0], v_coarse, x_sim, T_sim, T, dtc,16,nx=4,ny=4,\n",
    "                        figsize=(30,30),\n",
    "                        save_flg=True,\n",
    "                        save_path = fr'{folder}/graphs/',\n",
    "                        save_name=fr'SUBPLOT_epoch={epochs_lst[i]}')\n",
    "\n",
    "    print('\\n')\n",
    "print('done')"
   ]
  },
  {
   "cell_type": "code",
   "execution_count": null,
   "id": "45227a43",
   "metadata": {},
   "outputs": [],
   "source": []
  }
 ],
 "metadata": {
  "kernelspec": {
   "display_name": "Python 3",
   "language": "python",
   "name": "python3"
  },
  "language_info": {
   "codemirror_mode": {
    "name": "ipython",
    "version": 3
   },
   "file_extension": ".py",
   "mimetype": "text/x-python",
   "name": "python",
   "nbconvert_exporter": "python",
   "pygments_lexer": "ipython3",
   "version": "3.11.9"
  }
 },
 "nbformat": 4,
 "nbformat_minor": 5
}
